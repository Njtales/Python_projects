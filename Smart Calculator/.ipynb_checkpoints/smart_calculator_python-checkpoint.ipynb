{
 "cells": [
  {
   "cell_type": "markdown",
   "id": "c90abf3f",
   "metadata": {},
   "source": [
    "## Smart calculator python"
   ]
  },
  {
   "cell_type": "code",
   "execution_count": 1,
   "id": "24e33f47",
   "metadata": {
    "ExecuteTime": {
     "end_time": "2022-06-07T17:49:08.870569Z",
     "start_time": "2022-06-07T17:47:57.313782Z"
    },
    "scrolled": false
   },
   "outputs": [
    {
     "name": "stdout",
     "output_type": "stream",
     "text": [
      "Welcome to smart calculator\n",
      "Please enter your queries with math operation keywords like add, lcm. \n",
      "\n",
      "Enter your query : find lcm of 19 and 17\n",
      "323.0\n",
      "Do you want to try again? yes/no > yeah\n",
      "Please enter a valid choice! yes/no > yes\n",
      "\n",
      "Enter your query : mul 6 and 9\n",
      "\n",
      "Sorry, this is beyond my ability. I will be updated soon. \n",
      "But you you want to try again?\n",
      "Do you want to try again? yes/no > multiply 6 and 971\n",
      "Please enter a valid choice! yes/no > yes\n",
      "\n",
      "Enter your query : multiply 6 and 971\n",
      "5826.0\n",
      "Do you want to try again? yes/no > thanks\n",
      "Please enter a valid choice! yes/no > no\n"
     ]
    }
   ],
   "source": [
    "# main python proghram\n",
    "response=['Welcome to smart calculator','Please enter your queries with math operation keywords like add, lcm. ',\n",
    "          'Thanks for using me!',\n",
    "          '\\nSorry, this is beyond my ability. I will be updated soon. \\nBut you you want to try again?', \n",
    "          '\\nMy name is Nik.']\n",
    "\n",
    "# fetching tokens from the text command\n",
    "def extract_from_text(text):\n",
    "    l=[]\n",
    "    for t in text.split(' '):\n",
    "        try:\n",
    "            l.append(float(t))\n",
    "        except ValueError:\n",
    "            pass\n",
    "    return l\n",
    "\n",
    "# calculating LCM\n",
    "def lcm(a,b):\n",
    "    L=a if a>b else b\n",
    "    while L<=a*b:\n",
    "        if L%a==0 and L%b==0:\n",
    "            return L\n",
    "        L+=1\n",
    "\n",
    "# calculating HCF\n",
    "def hcf(a,b):\n",
    "    H=a if a<b else b\n",
    "    while H>=1:\n",
    "        if a%H==0 and b%H==0:\n",
    "            return H\n",
    "        H-=1\n",
    "\n",
    "# Addition\n",
    "def add(a,b):\n",
    "    return a+b\n",
    "\n",
    "# Subtraction\n",
    "def sub(a,b):\n",
    "    return a-b\n",
    "\n",
    "# Multiplication\n",
    "def mul(a,b):\n",
    "    return a*b\n",
    "\n",
    "# Division\n",
    "def div(a,b):\n",
    "    return a/b\n",
    "\n",
    "# Remainder\n",
    "def mod(a,b):\n",
    "    return a%b\n",
    "\n",
    "# Response to command\n",
    "# printing - \"Thanks for enjoy with me\" on exit\n",
    "def end():\n",
    "    print(response[2])\n",
    "    input('press enter key to exit')\n",
    "    exit()\n",
    "\n",
    "def myname():\n",
    "    print(response[-1])\n",
    "    \n",
    "def sorry():\n",
    "    print(response[3])\n",
    "\n",
    "# Operations - performed on the basis of text tokens\n",
    "operations={'ADD':add,'PLUS':add,'SUM':add,'ADDITION':add,\n",
    "            'SUB':sub,'SUBTRACT':sub, 'MINUS':sub,'DIFFERENCE':sub,\n",
    "            'LCM':lcm,'HCF':hcf,'GCD':hcf,\n",
    "            'PRODUCT':mul, 'MULTIPLY':mul,'MULTIPLICATION':mul,\n",
    "            'DIVISION':div,\n",
    "            'MOD':mod,'REMAINDER':mod,'MODULAS':mod}\n",
    "\n",
    "# commands\n",
    "commands={'NAME':myname,'EXIT':end,'END':end,'CLOSE':end}\n",
    "\n",
    "print(response[0])\n",
    "print(response[1])\n",
    "\n",
    "while True:\n",
    "\n",
    "    text = input('\\nEnter your query : ')\n",
    "    if text == '':\n",
    "        print(\"\\nYou entered nothing, please enter your query.\")\n",
    "    else:    \n",
    "        for word in text.split(' '):\n",
    "            if word.upper() in operations.keys():\n",
    "                try:\n",
    "                    l = extract_from_text(text)\n",
    "                    r = operations[word.upper()] (l[0],l[1])\n",
    "                    print(r)\n",
    "                except:\n",
    "                    print('Something went wrong going plz enter again !')\n",
    "                finally:\n",
    "                    break\n",
    "            elif word.upper() in commands.keys():\n",
    "                commands[word.upper()]()\n",
    "                break\n",
    "        else:\n",
    "            sorry()\n",
    "\n",
    "    cont = input(\"Do you want to try again? yes/no > \")\n",
    "    while cont.lower() not in (\"yes\",\"no\"):\n",
    "        cont = input(\"Please enter a valid choice! yes/no > \")\n",
    "    if cont == \"no\":\n",
    "        break"
   ]
  }
 ],
 "metadata": {
  "kernelspec": {
   "display_name": "Python 3 (ipykernel)",
   "language": "python",
   "name": "python3"
  },
  "language_info": {
   "codemirror_mode": {
    "name": "ipython",
    "version": 3
   },
   "file_extension": ".py",
   "mimetype": "text/x-python",
   "name": "python",
   "nbconvert_exporter": "python",
   "pygments_lexer": "ipython3",
   "version": "3.8.8"
  },
  "toc": {
   "base_numbering": 1,
   "nav_menu": {},
   "number_sections": false,
   "sideBar": true,
   "skip_h1_title": false,
   "title_cell": "Table of Contents",
   "title_sidebar": "Contents",
   "toc_cell": false,
   "toc_position": {},
   "toc_section_display": true,
   "toc_window_display": false
  },
  "varInspector": {
   "cols": {
    "lenName": 16,
    "lenType": 16,
    "lenVar": 40
   },
   "kernels_config": {
    "python": {
     "delete_cmd_postfix": "",
     "delete_cmd_prefix": "del ",
     "library": "var_list.py",
     "varRefreshCmd": "print(var_dic_list())"
    },
    "r": {
     "delete_cmd_postfix": ") ",
     "delete_cmd_prefix": "rm(",
     "library": "var_list.r",
     "varRefreshCmd": "cat(var_dic_list()) "
    }
   },
   "types_to_exclude": [
    "module",
    "function",
    "builtin_function_or_method",
    "instance",
    "_Feature"
   ],
   "window_display": false
  }
 },
 "nbformat": 4,
 "nbformat_minor": 5
}
