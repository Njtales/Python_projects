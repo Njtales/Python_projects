{
 "cells": [
  {
   "cell_type": "markdown",
   "id": "d81b4577",
   "metadata": {
    "ExecuteTime": {
     "end_time": "2022-06-07T00:35:03.233864Z",
     "start_time": "2022-06-07T00:35:03.220224Z"
    }
   },
   "source": [
    "## Rolling dice simulator python"
   ]
  },
  {
   "cell_type": "code",
   "execution_count": 1,
   "id": "6a2ca08d",
   "metadata": {
    "ExecuteTime": {
     "end_time": "2022-06-07T01:17:26.706521Z",
     "start_time": "2022-06-07T01:17:26.694553Z"
    }
   },
   "outputs": [],
   "source": [
    "import random\n",
    "\n",
    "def roll_dice(num_dices):\n",
    "    roll_results = []\n",
    "    for i in range(1,num_dices+1):\n",
    "        roll_results.append(random.randint(1,6))\n",
    "    return roll_results\n"
   ]
  },
  {
   "cell_type": "code",
   "execution_count": 2,
   "id": "2852aab3",
   "metadata": {
    "ExecuteTime": {
     "end_time": "2022-06-07T01:17:26.957876Z",
     "start_time": "2022-06-07T01:17:26.937927Z"
    }
   },
   "outputs": [],
   "source": [
    "dice_art = {\n",
    "    1: (\n",
    "        \"┌─────────┐\",\n",
    "        \"│         │\",\n",
    "        \"│    ●    │\",\n",
    "        \"│         │\",\n",
    "        \"└─────────┘\",\n",
    "    ),\n",
    "    2: (\n",
    "        \"┌─────────┐\",\n",
    "        \"│  ●      │\",\n",
    "        \"│         │\",\n",
    "        \"│      ●  │\",\n",
    "        \"└─────────┘\",\n",
    "    ),\n",
    "    3: (\n",
    "        \"┌─────────┐\",\n",
    "        \"│  ●      │\",\n",
    "        \"│    ●    │\",\n",
    "        \"│      ●  │\",\n",
    "        \"└─────────┘\",\n",
    "    ),\n",
    "    4: (\n",
    "        \"┌─────────┐\",\n",
    "        \"│  ●   ●  │\",\n",
    "        \"│         │\",\n",
    "        \"│  ●   ●  │\",\n",
    "        \"└─────────┘\",\n",
    "    ),\n",
    "    5: (\n",
    "        \"┌─────────┐\",\n",
    "        \"│  ●   ●  │\",\n",
    "        \"│    ●    │\",\n",
    "        \"│  ●   ●  │\",\n",
    "        \"└─────────┘\",\n",
    "    ),\n",
    "    6: (\n",
    "        \"┌─────────┐\",\n",
    "        \"│  ●   ●  │\",\n",
    "        \"│  ●   ●  │\",\n",
    "        \"│  ●   ●  │\",\n",
    "        \"└─────────┘\",\n",
    "    ),\n",
    "}\n",
    "die_height = len(dice_art[1])\n",
    "die_width = len(dice_art[1][0])\n",
    "die_face_separator = \" \"\n"
   ]
  },
  {
   "cell_type": "code",
   "execution_count": 3,
   "id": "d14745af",
   "metadata": {
    "ExecuteTime": {
     "end_time": "2022-06-07T01:17:27.128842Z",
     "start_time": "2022-06-07T01:17:27.122858Z"
    }
   },
   "outputs": [],
   "source": [
    "def generate_dice_faces_diagram(dice_values):\n",
    "\n",
    "    # Generate a list of dice faces from dice_art\n",
    "    dice_faces = []\n",
    "    for value in dice_values:\n",
    "        dice_faces.append(dice_art[value])\n",
    "\n",
    "    # Generate a list containing the dice faces rows\n",
    "    dice_faces_rows = []\n",
    "    for row_idx in range(die_height):\n",
    "        row_components = []\n",
    "        for die in dice_faces:\n",
    "            row_components.append(die[row_idx])\n",
    "        row_string = die_face_separator.join(row_components)\n",
    "        dice_faces_rows.append(row_string)\n",
    "\n",
    "    # Generate header with the word \"RESULTS\" centered\n",
    "    width = len(dice_faces_rows[0])\n",
    "    diagram_header = \" RESULTS \".center(width, \"~\")\n",
    "\n",
    "    dice_faces_diagram = \"\\n\".join([diagram_header] + dice_faces_rows)\n",
    "    return dice_faces_diagram\n"
   ]
  },
  {
   "cell_type": "code",
   "execution_count": 4,
   "id": "f0d0c92f",
   "metadata": {
    "ExecuteTime": {
     "end_time": "2022-06-07T01:17:30.313165Z",
     "start_time": "2022-06-07T01:17:27.857152Z"
    },
    "scrolled": true
   },
   "outputs": [
    {
     "name": "stdout",
     "output_type": "stream",
     "text": [
      "Enter the number of dice you want to roll [1-10]: 10\n",
      "\n",
      "~~~~~~~~~~~~~~~~~~~~~~~~~~~~~~~~~~~~~~~~~~~~~~~~~~~~~~~ RESULTS ~~~~~~~~~~~~~~~~~~~~~~~~~~~~~~~~~~~~~~~~~~~~~~~~~~~~~~~\n",
      "┌─────────┐ ┌─────────┐ ┌─────────┐ ┌─────────┐ ┌─────────┐ ┌─────────┐ ┌─────────┐ ┌─────────┐ ┌─────────┐ ┌─────────┐\n",
      "│  ●   ●  │ │  ●   ●  │ │  ●      │ │  ●      │ │  ●   ●  │ │  ●   ●  │ │  ●   ●  │ │  ●   ●  │ │  ●   ●  │ │  ●   ●  │\n",
      "│         │ │  ●   ●  │ │         │ │         │ │  ●   ●  │ │    ●    │ │         │ │    ●    │ │         │ │  ●   ●  │\n",
      "│  ●   ●  │ │  ●   ●  │ │      ●  │ │      ●  │ │  ●   ●  │ │  ●   ●  │ │  ●   ●  │ │  ●   ●  │ │  ●   ●  │ │  ●   ●  │\n",
      "└─────────┘ └─────────┘ └─────────┘ └─────────┘ └─────────┘ └─────────┘ └─────────┘ └─────────┘ └─────────┘ └─────────┘\n"
     ]
    }
   ],
   "source": [
    "num_dices = int(input(\"Enter the number of dice you want to roll [1-10]: \"))\n",
    "while num_dices not in range(1,11):\n",
    "    print(\"Please choose number of dices within range 1-10 : \")\n",
    "    num_dices = (int(input()))\n",
    "\n",
    "\n",
    "roll_results = roll_dice(num_dices)\n",
    "\n",
    "dice_face_diagram = generate_dice_faces_diagram(roll_results)\n",
    "print(f\"\\n{dice_face_diagram}\")"
   ]
  }
 ],
 "metadata": {
  "kernelspec": {
   "display_name": "Python 3 (ipykernel)",
   "language": "python",
   "name": "python3"
  },
  "language_info": {
   "codemirror_mode": {
    "name": "ipython",
    "version": 3
   },
   "file_extension": ".py",
   "mimetype": "text/x-python",
   "name": "python",
   "nbconvert_exporter": "python",
   "pygments_lexer": "ipython3",
   "version": "3.8.8"
  }
 },
 "nbformat": 4,
 "nbformat_minor": 5
}
