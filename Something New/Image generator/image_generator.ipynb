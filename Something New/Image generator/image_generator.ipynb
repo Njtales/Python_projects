{
 "cells": [
  {
   "cell_type": "markdown",
   "id": "b31794bc",
   "metadata": {},
   "source": [
    "# Random_image_generator"
   ]
  },
  {
   "cell_type": "code",
   "execution_count": 28,
   "id": "76014268",
   "metadata": {},
   "outputs": [],
   "source": [
    "import randimage as ri\n",
    "import matplotlib as plt"
   ]
  },
  {
   "cell_type": "code",
   "execution_count": 29,
   "id": "7d0a46bb",
   "metadata": {},
   "outputs": [],
   "source": [
    "img_size = (200,200)\n",
    "image = ri.get_random_image(img_size)"
   ]
  },
  {
   "cell_type": "code",
   "execution_count": 30,
   "id": "7ca3158e",
   "metadata": {},
   "outputs": [],
   "source": [
    "plt.image.imsave(\"test_imp.jpg\", image)"
   ]
  }
 ],
 "metadata": {
  "kernelspec": {
   "display_name": "Python 3 (ipykernel)",
   "language": "python",
   "name": "python3"
  },
  "language_info": {
   "codemirror_mode": {
    "name": "ipython",
    "version": 3
   },
   "file_extension": ".py",
   "mimetype": "text/x-python",
   "name": "python",
   "nbconvert_exporter": "python",
   "pygments_lexer": "ipython3",
   "version": "3.8.8"
  }
 },
 "nbformat": 4,
 "nbformat_minor": 5
}
