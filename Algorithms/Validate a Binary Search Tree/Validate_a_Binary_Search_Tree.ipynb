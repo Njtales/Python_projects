{
 "cells": [
  {
   "cell_type": "markdown",
   "id": "ae422d51",
   "metadata": {},
   "source": [
    "# Validate_a_Binary_Search_Tree"
   ]
  },
  {
   "cell_type": "code",
   "execution_count": 3,
   "id": "9ffe5165",
   "metadata": {
    "ExecuteTime": {
     "end_time": "2022-06-21T19:17:38.127404Z",
     "start_time": "2022-06-21T19:17:38.113447Z"
    }
   },
   "outputs": [],
   "source": [
    "import sys"
   ]
  },
  {
   "cell_type": "code",
   "execution_count": 4,
   "id": "2a076121",
   "metadata": {
    "ExecuteTime": {
     "end_time": "2022-06-21T19:18:49.059922Z",
     "start_time": "2022-06-21T19:18:49.041486Z"
    }
   },
   "outputs": [],
   "source": [
    "class Binarytree:\n",
    "    def __init__(self, val):\n",
    "        self.val = val\n",
    "        self.leftnode = leftnode\n",
    "        self.rightnode = rightnode\n"
   ]
  },
  {
   "cell_type": "code",
   "execution_count": 5,
   "id": "60ae07f3",
   "metadata": {
    "ExecuteTime": {
     "end_time": "2022-06-21T19:18:49.869130Z",
     "start_time": "2022-06-21T19:18:49.849148Z"
    }
   },
   "outputs": [],
   "source": [
    "class BinarySearchTree:\n",
    "    def validate_BST(self, root: binarytree) -> bool:\n",
    "        return self.valid(root, sys.maxsize, -sys.maxsize)\n",
    "    def valid(self, root, max_, min_):\n",
    "        if root == None:\n",
    "            return True\n",
    "        else:\n",
    "            return False\n",
    "        return self.valid(root.leftnode, root.val, min_) and self.valid(root.rightnode, max_, root.val)"
   ]
  }
 ],
 "metadata": {
  "kernelspec": {
   "display_name": "Python 3 (ipykernel)",
   "language": "python",
   "name": "python3"
  },
  "language_info": {
   "codemirror_mode": {
    "name": "ipython",
    "version": 3
   },
   "file_extension": ".py",
   "mimetype": "text/x-python",
   "name": "python",
   "nbconvert_exporter": "python",
   "pygments_lexer": "ipython3",
   "version": "3.8.8"
  },
  "toc": {
   "base_numbering": 1,
   "nav_menu": {},
   "number_sections": true,
   "sideBar": true,
   "skip_h1_title": false,
   "title_cell": "Table of Contents",
   "title_sidebar": "Contents",
   "toc_cell": false,
   "toc_position": {},
   "toc_section_display": true,
   "toc_window_display": false
  },
  "varInspector": {
   "cols": {
    "lenName": 16,
    "lenType": 16,
    "lenVar": 40
   },
   "kernels_config": {
    "python": {
     "delete_cmd_postfix": "",
     "delete_cmd_prefix": "del ",
     "library": "var_list.py",
     "varRefreshCmd": "print(var_dic_list())"
    },
    "r": {
     "delete_cmd_postfix": ") ",
     "delete_cmd_prefix": "rm(",
     "library": "var_list.r",
     "varRefreshCmd": "cat(var_dic_list()) "
    }
   },
   "types_to_exclude": [
    "module",
    "function",
    "builtin_function_or_method",
    "instance",
    "_Feature"
   ],
   "window_display": false
  }
 },
 "nbformat": 4,
 "nbformat_minor": 5
}
