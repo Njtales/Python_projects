{
 "cells": [
  {
   "cell_type": "markdown",
   "id": "54dacd49",
   "metadata": {},
   "source": [
    "# merge_sort"
   ]
  },
  {
   "cell_type": "code",
   "execution_count": 1,
   "id": "4250f537",
   "metadata": {
    "ExecuteTime": {
     "end_time": "2022-06-21T18:01:47.270038Z",
     "start_time": "2022-06-21T18:01:47.259067Z"
    }
   },
   "outputs": [],
   "source": [
    "def merge(listA, listB):\n",
    "    newlist = list()\n",
    "    a = 0\n",
    "    b = 0\n",
    "    while a < len(listA) and b < len(listB):\n",
    "        if listA[a] < listB[b]:\n",
    "            newlist.append(listA[a])\n",
    "            a += 1\n",
    "        else:\n",
    "            newlist.append(listB[b])\n",
    "            b += 1\n",
    "    while a < len(listA):\n",
    "        newlist.append(listA[a])\n",
    "        a += 1\n",
    "    while b < len(listB):\n",
    "        newlist.append(listB[b])\n",
    "        b += 1\n",
    "    return newlist"
   ]
  },
  {
   "cell_type": "code",
   "execution_count": 2,
   "id": "7081c8b2",
   "metadata": {
    "ExecuteTime": {
     "end_time": "2022-06-21T18:01:52.509675Z",
     "start_time": "2022-06-21T18:01:52.498670Z"
    }
   },
   "outputs": [],
   "source": [
    "def merge_sort(input_list):\n",
    "    if len(input_list) <= 1:\n",
    "        return input_list\n",
    "    else:\n",
    "        mid = len(input_list) // 2\n",
    "        left = merge_sort(input_list[:mid])\n",
    "        right = merge_sort(input_list[mid:])\n",
    "        newlist = merge(left, right)\n",
    "        return newlist"
   ]
  },
  {
   "cell_type": "code",
   "execution_count": 3,
   "id": "9f96ed35",
   "metadata": {
    "ExecuteTime": {
     "end_time": "2022-06-21T18:02:34.237466Z",
     "start_time": "2022-06-21T18:02:34.218604Z"
    }
   },
   "outputs": [
    {
     "name": "stdout",
     "output_type": "stream",
     "text": [
      "[19, 20, 23, 32, 33, 43, 45, 49, 56, 58, 67, 67, 86, 89, 90, 90]\n"
     ]
    }
   ],
   "source": [
    "a = [56, 89, 45, 33, 49, 23, 19, 58, 90, 67, 90, 32, 20, 67, 86, 43]\n",
    "print(merge_sort(a))"
   ]
  }
 ],
 "metadata": {
  "kernelspec": {
   "display_name": "Python 3 (ipykernel)",
   "language": "python",
   "name": "python3"
  },
  "language_info": {
   "codemirror_mode": {
    "name": "ipython",
    "version": 3
   },
   "file_extension": ".py",
   "mimetype": "text/x-python",
   "name": "python",
   "nbconvert_exporter": "python",
   "pygments_lexer": "ipython3",
   "version": "3.8.8"
  },
  "toc": {
   "base_numbering": 1,
   "nav_menu": {},
   "number_sections": true,
   "sideBar": true,
   "skip_h1_title": false,
   "title_cell": "Table of Contents",
   "title_sidebar": "Contents",
   "toc_cell": false,
   "toc_position": {},
   "toc_section_display": true,
   "toc_window_display": false
  },
  "varInspector": {
   "cols": {
    "lenName": 16,
    "lenType": 16,
    "lenVar": 40
   },
   "kernels_config": {
    "python": {
     "delete_cmd_postfix": "",
     "delete_cmd_prefix": "del ",
     "library": "var_list.py",
     "varRefreshCmd": "print(var_dic_list())"
    },
    "r": {
     "delete_cmd_postfix": ") ",
     "delete_cmd_prefix": "rm(",
     "library": "var_list.r",
     "varRefreshCmd": "cat(var_dic_list()) "
    }
   },
   "types_to_exclude": [
    "module",
    "function",
    "builtin_function_or_method",
    "instance",
    "_Feature"
   ],
   "window_display": false
  }
 },
 "nbformat": 4,
 "nbformat_minor": 5
}
