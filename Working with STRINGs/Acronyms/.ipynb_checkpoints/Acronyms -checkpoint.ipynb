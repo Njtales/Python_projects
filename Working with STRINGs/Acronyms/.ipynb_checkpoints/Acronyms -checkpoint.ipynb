{
 "cells": [
  {
   "cell_type": "markdown",
   "id": "c6f8f6c2",
   "metadata": {},
   "source": [
    "# Acronyms "
   ]
  },
  {
   "cell_type": "code",
   "execution_count": 1,
   "id": "d4d25630",
   "metadata": {
    "ExecuteTime": {
     "end_time": "2022-06-21T19:36:00.163034Z",
     "start_time": "2022-06-21T19:35:49.019670Z"
    }
   },
   "outputs": [
    {
     "name": "stdout",
     "output_type": "stream",
     "text": [
      "Enter a Phrase: Big Data Science\n",
      " BDS\n"
     ]
    }
   ],
   "source": [
    "user_input = str(input(\"Enter a Phrase: \"))\n",
    "text = user_input.split()\n",
    "a = \" \"\n",
    "for i in text:\n",
    "    a = a+str(i[0]).upper()\n",
    "print(a)"
   ]
  }
 ],
 "metadata": {
  "kernelspec": {
   "display_name": "Python 3 (ipykernel)",
   "language": "python",
   "name": "python3"
  },
  "language_info": {
   "codemirror_mode": {
    "name": "ipython",
    "version": 3
   },
   "file_extension": ".py",
   "mimetype": "text/x-python",
   "name": "python",
   "nbconvert_exporter": "python",
   "pygments_lexer": "ipython3",
   "version": "3.8.8"
  },
  "toc": {
   "base_numbering": 1,
   "nav_menu": {},
   "number_sections": true,
   "sideBar": true,
   "skip_h1_title": false,
   "title_cell": "Table of Contents",
   "title_sidebar": "Contents",
   "toc_cell": false,
   "toc_position": {},
   "toc_section_display": true,
   "toc_window_display": false
  },
  "varInspector": {
   "cols": {
    "lenName": 16,
    "lenType": 16,
    "lenVar": 40
   },
   "kernels_config": {
    "python": {
     "delete_cmd_postfix": "",
     "delete_cmd_prefix": "del ",
     "library": "var_list.py",
     "varRefreshCmd": "print(var_dic_list())"
    },
    "r": {
     "delete_cmd_postfix": ") ",
     "delete_cmd_prefix": "rm(",
     "library": "var_list.r",
     "varRefreshCmd": "cat(var_dic_list()) "
    }
   },
   "types_to_exclude": [
    "module",
    "function",
    "builtin_function_or_method",
    "instance",
    "_Feature"
   ],
   "window_display": false
  }
 },
 "nbformat": 4,
 "nbformat_minor": 5
}
