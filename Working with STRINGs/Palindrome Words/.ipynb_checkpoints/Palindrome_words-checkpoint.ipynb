{
 "cells": [
  {
   "cell_type": "markdown",
   "id": "999c2ece",
   "metadata": {
    "ExecuteTime": {
     "end_time": "2022-06-21T19:09:06.853589Z",
     "start_time": "2022-06-21T19:09:06.840591Z"
    }
   },
   "source": [
    "# Palindrome_words"
   ]
  },
  {
   "cell_type": "code",
   "execution_count": 2,
   "id": "46c7879f",
   "metadata": {
    "ExecuteTime": {
     "end_time": "2022-06-21T19:09:20.698746Z",
     "start_time": "2022-06-21T19:09:20.680827Z"
    }
   },
   "outputs": [],
   "source": [
    "def palindrome(sentence):\n",
    "    for i in (\",.'?/><}{{}}'\"):\n",
    "        sentence = sentence.replace(i, \"\")\n",
    "    palindrome = []\n",
    "    words = sentence.split(' ')\n",
    "    for word in words:\n",
    "        word = word.lower()\n",
    "        if word == word[::-1]:\n",
    "            palindrome.append(word)\n",
    "    return palindrome"
   ]
  },
  {
   "cell_type": "code",
   "execution_count": 3,
   "id": "2bd5e317",
   "metadata": {
    "ExecuteTime": {
     "end_time": "2022-06-21T19:10:25.788502Z",
     "start_time": "2022-06-21T19:09:32.920530Z"
    }
   },
   "outputs": [
    {
     "name": "stdout",
     "output_type": "stream",
     "text": [
      "Enter a sentence : Trying to make world a better place. Mom will be happy!\n",
      "['a', 'mom']\n"
     ]
    }
   ],
   "source": [
    "sentence = input(\"Enter a sentence : \")\n",
    "print(palindrome(sentence))"
   ]
  }
 ],
 "metadata": {
  "kernelspec": {
   "display_name": "Python 3 (ipykernel)",
   "language": "python",
   "name": "python3"
  },
  "language_info": {
   "codemirror_mode": {
    "name": "ipython",
    "version": 3
   },
   "file_extension": ".py",
   "mimetype": "text/x-python",
   "name": "python",
   "nbconvert_exporter": "python",
   "pygments_lexer": "ipython3",
   "version": "3.8.8"
  },
  "toc": {
   "base_numbering": 1,
   "nav_menu": {},
   "number_sections": true,
   "sideBar": true,
   "skip_h1_title": false,
   "title_cell": "Table of Contents",
   "title_sidebar": "Contents",
   "toc_cell": false,
   "toc_position": {},
   "toc_section_display": true,
   "toc_window_display": false
  },
  "varInspector": {
   "cols": {
    "lenName": 16,
    "lenType": 16,
    "lenVar": 40
   },
   "kernels_config": {
    "python": {
     "delete_cmd_postfix": "",
     "delete_cmd_prefix": "del ",
     "library": "var_list.py",
     "varRefreshCmd": "print(var_dic_list())"
    },
    "r": {
     "delete_cmd_postfix": ") ",
     "delete_cmd_prefix": "rm(",
     "library": "var_list.r",
     "varRefreshCmd": "cat(var_dic_list()) "
    }
   },
   "types_to_exclude": [
    "module",
    "function",
    "builtin_function_or_method",
    "instance",
    "_Feature"
   ],
   "window_display": false
  }
 },
 "nbformat": 4,
 "nbformat_minor": 5
}
