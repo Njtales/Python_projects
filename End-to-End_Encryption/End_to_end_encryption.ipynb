{
 "cells": [
  {
   "cell_type": "markdown",
   "id": "0e23cd4c",
   "metadata": {},
   "source": [
    "# End_to_end_encryption"
   ]
  },
  {
   "cell_type": "code",
   "execution_count": 11,
   "id": "5d2a0310",
   "metadata": {
    "ExecuteTime": {
     "end_time": "2022-06-23T16:44:17.845001Z",
     "start_time": "2022-06-23T16:44:14.128856Z"
    },
    "collapsed": true
   },
   "outputs": [
    {
     "name": "stdout",
     "output_type": "stream",
     "text": [
      "Requirement already satisfied: streamlit in d:\\users\\nyk-pc\\anaconda3\\lib\\site-packages (1.10.0)\n",
      "Requirement already satisfied: python-dateutil in d:\\users\\nyk-pc\\anaconda3\\lib\\site-packages (from streamlit) (2.8.2)\n",
      "Requirement already satisfied: importlib-metadata>=1.4 in d:\\users\\nyk-pc\\anaconda3\\lib\\site-packages (from streamlit) (4.11.3)\n",
      "Requirement already satisfied: semver in d:\\users\\nyk-pc\\anaconda3\\lib\\site-packages (from streamlit) (2.13.0)\n",
      "Requirement already satisfied: validators in d:\\users\\nyk-pc\\anaconda3\\lib\\site-packages (from streamlit) (0.20.0)\n",
      "Requirement already satisfied: tzlocal in d:\\users\\nyk-pc\\anaconda3\\lib\\site-packages (from streamlit) (4.2)\n",
      "Requirement already satisfied: rich in d:\\users\\nyk-pc\\anaconda3\\lib\\site-packages (from streamlit) (12.4.4)\n",
      "Requirement already satisfied: gitpython!=3.1.19 in d:\\users\\nyk-pc\\anaconda3\\lib\\site-packages (from streamlit) (3.1.27)\n",
      "Requirement already satisfied: watchdog in d:\\users\\nyk-pc\\anaconda3\\lib\\site-packages (from streamlit) (1.0.2)\n",
      "Requirement already satisfied: requests in d:\\users\\nyk-pc\\anaconda3\\lib\\site-packages (from streamlit) (2.27.1)\n",
      "Requirement already satisfied: toml in d:\\users\\nyk-pc\\anaconda3\\lib\\site-packages (from streamlit) (0.10.2)\n",
      "Requirement already satisfied: attrs in d:\\users\\nyk-pc\\anaconda3\\lib\\site-packages (from streamlit) (21.4.0)\n",
      "Requirement already satisfied: pympler>=0.9 in d:\\users\\nyk-pc\\anaconda3\\lib\\site-packages (from streamlit) (1.0.1)\n",
      "Requirement already satisfied: pillow>=6.2.0 in d:\\users\\nyk-pc\\anaconda3\\lib\\site-packages (from streamlit) (9.1.0)\n",
      "Requirement already satisfied: pyarrow in d:\\users\\nyk-pc\\anaconda3\\lib\\site-packages (from streamlit) (8.0.0)\n",
      "Requirement already satisfied: pandas>=0.21.0 in d:\\users\\nyk-pc\\anaconda3\\lib\\site-packages (from streamlit) (1.4.2)\n",
      "Requirement already satisfied: tornado>=5.0 in d:\\users\\nyk-pc\\anaconda3\\lib\\site-packages (from streamlit) (6.1)\n",
      "Requirement already satisfied: numpy in d:\\users\\nyk-pc\\anaconda3\\lib\\site-packages (from streamlit) (1.21.5)\n",
      "Requirement already satisfied: protobuf<4,>=3.12 in d:\\users\\nyk-pc\\anaconda3\\lib\\site-packages (from streamlit) (3.19.4)\n",
      "Requirement already satisfied: pydeck>=0.1.dev5 in d:\\users\\nyk-pc\\anaconda3\\lib\\site-packages (from streamlit) (0.7.1)\n",
      "Requirement already satisfied: packaging in d:\\users\\nyk-pc\\anaconda3\\lib\\site-packages (from streamlit) (21.3)\n",
      "Requirement already satisfied: click>=7.0 in d:\\users\\nyk-pc\\anaconda3\\lib\\site-packages (from streamlit) (8.0.4)\n",
      "Requirement already satisfied: typing-extensions in d:\\users\\nyk-pc\\anaconda3\\lib\\site-packages (from streamlit) (4.1.1)\n",
      "Requirement already satisfied: altair>=3.2.0 in d:\\users\\nyk-pc\\anaconda3\\lib\\site-packages (from streamlit) (4.2.0)\n",
      "Requirement already satisfied: blinker in d:\\users\\nyk-pc\\anaconda3\\lib\\site-packages (from streamlit) (1.4)\n",
      "Requirement already satisfied: cachetools>=4.0 in d:\\users\\nyk-pc\\anaconda3\\lib\\site-packages (from streamlit) (5.0.0)\n",
      "Requirement already satisfied: entrypoints in d:\\users\\nyk-pc\\anaconda3\\lib\\site-packages (from altair>=3.2.0->streamlit) (0.4)\n",
      "Requirement already satisfied: jinja2 in d:\\users\\nyk-pc\\anaconda3\\lib\\site-packages (from altair>=3.2.0->streamlit) (3.1.1)\n",
      "Requirement already satisfied: toolz in d:\\users\\nyk-pc\\anaconda3\\lib\\site-packages (from altair>=3.2.0->streamlit) (0.11.2)\n",
      "Requirement already satisfied: jsonschema>=3.0 in d:\\users\\nyk-pc\\anaconda3\\lib\\site-packages (from altair>=3.2.0->streamlit) (4.4.0)\n",
      "Requirement already satisfied: colorama in d:\\users\\nyk-pc\\anaconda3\\lib\\site-packages (from click>=7.0->streamlit) (0.4.4)\n",
      "Requirement already satisfied: gitdb<5,>=4.0.1 in d:\\users\\nyk-pc\\anaconda3\\lib\\site-packages (from gitpython!=3.1.19->streamlit) (4.0.9)\n",
      "Requirement already satisfied: zipp>=0.5 in d:\\users\\nyk-pc\\anaconda3\\lib\\site-packages (from importlib-metadata>=1.4->streamlit) (3.8.0)\n",
      "Requirement already satisfied: pytz>=2020.1 in d:\\users\\nyk-pc\\anaconda3\\lib\\site-packages (from pandas>=0.21.0->streamlit) (2022.1)\n",
      "Requirement already satisfied: ipykernel>=5.1.2 in d:\\users\\nyk-pc\\anaconda3\\lib\\site-packages (from pydeck>=0.1.dev5->streamlit) (6.12.1)\n",
      "Requirement already satisfied: ipywidgets>=7.0.0 in d:\\users\\nyk-pc\\anaconda3\\lib\\site-packages (from pydeck>=0.1.dev5->streamlit) (7.7.0)\n",
      "Requirement already satisfied: traitlets>=4.3.2 in d:\\users\\nyk-pc\\anaconda3\\lib\\site-packages (from pydeck>=0.1.dev5->streamlit) (5.1.1)\n",
      "Requirement already satisfied: six>=1.5 in d:\\users\\nyk-pc\\anaconda3\\lib\\site-packages (from python-dateutil->streamlit) (1.16.0)\n",
      "Requirement already satisfied: pyparsing!=3.0.5,>=2.0.2 in d:\\users\\nyk-pc\\anaconda3\\lib\\site-packages (from packaging->streamlit) (3.0.7)\n",
      "Requirement already satisfied: certifi>=2017.4.17 in d:\\users\\nyk-pc\\anaconda3\\lib\\site-packages (from requests->streamlit) (2021.10.8)\n",
      "Requirement already satisfied: urllib3<1.27,>=1.21.1 in d:\\users\\nyk-pc\\anaconda3\\lib\\site-packages (from requests->streamlit) (1.26.9)\n",
      "Requirement already satisfied: idna<4,>=2.5 in d:\\users\\nyk-pc\\anaconda3\\lib\\site-packages (from requests->streamlit) (3.3)\n",
      "Requirement already satisfied: charset-normalizer~=2.0.0 in d:\\users\\nyk-pc\\anaconda3\\lib\\site-packages (from requests->streamlit) (2.0.12)\n",
      "Requirement already satisfied: pygments<3.0.0,>=2.6.0 in d:\\users\\nyk-pc\\anaconda3\\lib\\site-packages (from rich->streamlit) (2.11.2)\n",
      "Requirement already satisfied: commonmark<0.10.0,>=0.9.0 in d:\\users\\nyk-pc\\anaconda3\\lib\\site-packages (from rich->streamlit) (0.9.1)\n",
      "Requirement already satisfied: backports.zoneinfo in d:\\users\\nyk-pc\\anaconda3\\lib\\site-packages (from tzlocal->streamlit) (0.2.1)\n",
      "Requirement already satisfied: pytz-deprecation-shim in d:\\users\\nyk-pc\\anaconda3\\lib\\site-packages (from tzlocal->streamlit) (0.1.0.post0)\n",
      "Requirement already satisfied: tzdata in d:\\users\\nyk-pc\\anaconda3\\lib\\site-packages (from tzlocal->streamlit) (2022.1)\n",
      "Requirement already satisfied: decorator>=3.4.0 in d:\\users\\nyk-pc\\anaconda3\\lib\\site-packages (from validators->streamlit) (4.4.2)\n",
      "Requirement already satisfied: smmap<6,>=3.0.1 in d:\\users\\nyk-pc\\anaconda3\\lib\\site-packages (from gitdb<5,>=4.0.1->gitpython!=3.1.19->streamlit) (5.0.0)\n",
      "Requirement already satisfied: matplotlib-inline>=0.1 in d:\\users\\nyk-pc\\anaconda3\\lib\\site-packages (from ipykernel>=5.1.2->pydeck>=0.1.dev5->streamlit) (0.1.3)\n",
      "Requirement already satisfied: debugpy>=1.0 in d:\\users\\nyk-pc\\anaconda3\\lib\\site-packages (from ipykernel>=5.1.2->pydeck>=0.1.dev5->streamlit) (1.5.1)\n",
      "Requirement already satisfied: psutil in d:\\users\\nyk-pc\\anaconda3\\lib\\site-packages (from ipykernel>=5.1.2->pydeck>=0.1.dev5->streamlit) (5.9.0)\n",
      "Requirement already satisfied: ipython>=7.23.1 in d:\\users\\nyk-pc\\anaconda3\\lib\\site-packages (from ipykernel>=5.1.2->pydeck>=0.1.dev5->streamlit) (8.2.0)\n",
      "Requirement already satisfied: nest-asyncio in d:\\users\\nyk-pc\\anaconda3\\lib\\site-packages (from ipykernel>=5.1.2->pydeck>=0.1.dev5->streamlit) (1.5.5)\n",
      "Requirement already satisfied: jupyter-client>=6.1.12 in d:\\users\\nyk-pc\\anaconda3\\lib\\site-packages (from ipykernel>=5.1.2->pydeck>=0.1.dev5->streamlit) (7.2.1)\n",
      "Requirement already satisfied: widgetsnbextension~=3.6.0 in d:\\users\\nyk-pc\\anaconda3\\lib\\site-packages (from ipywidgets>=7.0.0->pydeck>=0.1.dev5->streamlit) (3.6.0)\n",
      "Requirement already satisfied: jupyterlab-widgets>=1.0.0 in d:\\users\\nyk-pc\\anaconda3\\lib\\site-packages (from ipywidgets>=7.0.0->pydeck>=0.1.dev5->streamlit) (1.1.0)\n",
      "Requirement already satisfied: nbformat>=4.2.0 in d:\\users\\nyk-pc\\anaconda3\\lib\\site-packages (from ipywidgets>=7.0.0->pydeck>=0.1.dev5->streamlit) (5.2.0)\n",
      "Requirement already satisfied: ipython-genutils~=0.2.0 in d:\\users\\nyk-pc\\anaconda3\\lib\\site-packages (from ipywidgets>=7.0.0->pydeck>=0.1.dev5->streamlit) (0.2.0)\n",
      "Requirement already satisfied: MarkupSafe>=2.0 in d:\\users\\nyk-pc\\anaconda3\\lib\\site-packages (from jinja2->altair>=3.2.0->streamlit) (2.1.1)\n",
      "Requirement already satisfied: pyrsistent!=0.17.0,!=0.17.1,!=0.17.2,>=0.14.0 in d:\\users\\nyk-pc\\anaconda3\\lib\\site-packages (from jsonschema>=3.0->altair>=3.2.0->streamlit) (0.18.1)\n",
      "Requirement already satisfied: importlib-resources>=1.4.0 in d:\\users\\nyk-pc\\anaconda3\\lib\\site-packages (from jsonschema>=3.0->altair>=3.2.0->streamlit) (5.6.0)\n",
      "Requirement already satisfied: pickleshare in d:\\users\\nyk-pc\\anaconda3\\lib\\site-packages (from ipython>=7.23.1->ipykernel>=5.1.2->pydeck>=0.1.dev5->streamlit) (0.7.5)\n",
      "Requirement already satisfied: stack-data in d:\\users\\nyk-pc\\anaconda3\\lib\\site-packages (from ipython>=7.23.1->ipykernel>=5.1.2->pydeck>=0.1.dev5->streamlit) (0.2.0)\n",
      "Requirement already satisfied: setuptools>=18.5 in d:\\users\\nyk-pc\\anaconda3\\lib\\site-packages (from ipython>=7.23.1->ipykernel>=5.1.2->pydeck>=0.1.dev5->streamlit) (61.3.1)\n",
      "Requirement already satisfied: jedi>=0.16 in d:\\users\\nyk-pc\\anaconda3\\lib\\site-packages (from ipython>=7.23.1->ipykernel>=5.1.2->pydeck>=0.1.dev5->streamlit) (0.17.2)\n",
      "Requirement already satisfied: prompt-toolkit!=3.0.0,!=3.0.1,<3.1.0,>=2.0.0 in d:\\users\\nyk-pc\\anaconda3\\lib\\site-packages (from ipython>=7.23.1->ipykernel>=5.1.2->pydeck>=0.1.dev5->streamlit) (3.0.27)\n",
      "Requirement already satisfied: backcall in d:\\users\\nyk-pc\\anaconda3\\lib\\site-packages (from ipython>=7.23.1->ipykernel>=5.1.2->pydeck>=0.1.dev5->streamlit) (0.2.0)\n",
      "Requirement already satisfied: jupyter-core>=4.9.2 in d:\\users\\nyk-pc\\anaconda3\\lib\\site-packages (from jupyter-client>=6.1.12->ipykernel>=5.1.2->pydeck>=0.1.dev5->streamlit) (4.9.2)\n",
      "Requirement already satisfied: pyzmq>=22.3 in d:\\users\\nyk-pc\\anaconda3\\lib\\site-packages (from jupyter-client>=6.1.12->ipykernel>=5.1.2->pydeck>=0.1.dev5->streamlit) (22.3.0)\n",
      "Requirement already satisfied: notebook>=4.4.1 in d:\\users\\nyk-pc\\anaconda3\\lib\\site-packages (from widgetsnbextension~=3.6.0->ipywidgets>=7.0.0->pydeck>=0.1.dev5->streamlit) (6.4.3)\n",
      "Requirement already satisfied: parso<0.8.0,>=0.7.0 in d:\\users\\nyk-pc\\anaconda3\\lib\\site-packages (from jedi>=0.16->ipython>=7.23.1->ipykernel>=5.1.2->pydeck>=0.1.dev5->streamlit) (0.7.0)\n",
      "Requirement already satisfied: pywin32>=1.0 in d:\\users\\nyk-pc\\anaconda3\\lib\\site-packages (from jupyter-core>=4.9.2->jupyter-client>=6.1.12->ipykernel>=5.1.2->pydeck>=0.1.dev5->streamlit) (303)\n",
      "Requirement already satisfied: terminado>=0.8.3 in d:\\users\\nyk-pc\\anaconda3\\lib\\site-packages (from notebook>=4.4.1->widgetsnbextension~=3.6.0->ipywidgets>=7.0.0->pydeck>=0.1.dev5->streamlit) (0.13.3)\n",
      "Requirement already satisfied: argon2-cffi in d:\\users\\nyk-pc\\anaconda3\\lib\\site-packages (from notebook>=4.4.1->widgetsnbextension~=3.6.0->ipywidgets>=7.0.0->pydeck>=0.1.dev5->streamlit) (21.3.0)\n",
      "Requirement already satisfied: Send2Trash>=1.5.0 in d:\\users\\nyk-pc\\anaconda3\\lib\\site-packages (from notebook>=4.4.1->widgetsnbextension~=3.6.0->ipywidgets>=7.0.0->pydeck>=0.1.dev5->streamlit) (1.8.0)\n",
      "Requirement already satisfied: prometheus-client in d:\\users\\nyk-pc\\anaconda3\\lib\\site-packages (from notebook>=4.4.1->widgetsnbextension~=3.6.0->ipywidgets>=7.0.0->pydeck>=0.1.dev5->streamlit) (0.13.1)\n",
      "Requirement already satisfied: nbconvert in d:\\users\\nyk-pc\\anaconda3\\lib\\site-packages (from notebook>=4.4.1->widgetsnbextension~=3.6.0->ipywidgets>=7.0.0->pydeck>=0.1.dev5->streamlit) (6.4.5)\n",
      "Requirement already satisfied: wcwidth in d:\\users\\nyk-pc\\anaconda3\\lib\\site-packages (from prompt-toolkit!=3.0.0,!=3.0.1,<3.1.0,>=2.0.0->ipython>=7.23.1->ipykernel>=5.1.2->pydeck>=0.1.dev5->streamlit) (0.2.5)\n",
      "Requirement already satisfied: executing in d:\\users\\nyk-pc\\anaconda3\\lib\\site-packages (from stack-data->ipython>=7.23.1->ipykernel>=5.1.2->pydeck>=0.1.dev5->streamlit) (0.8.3)\n",
      "Requirement already satisfied: pure-eval in d:\\users\\nyk-pc\\anaconda3\\lib\\site-packages (from stack-data->ipython>=7.23.1->ipykernel>=5.1.2->pydeck>=0.1.dev5->streamlit) (0.2.2)\n",
      "Requirement already satisfied: asttokens in d:\\users\\nyk-pc\\anaconda3\\lib\\site-packages (from stack-data->ipython>=7.23.1->ipykernel>=5.1.2->pydeck>=0.1.dev5->streamlit) (2.0.5)\n",
      "Requirement already satisfied: pywinpty>=1.1.0 in d:\\users\\nyk-pc\\anaconda3\\lib\\site-packages (from terminado>=0.8.3->notebook>=4.4.1->widgetsnbextension~=3.6.0->ipywidgets>=7.0.0->pydeck>=0.1.dev5->streamlit) (2.0.5)\n",
      "Requirement already satisfied: argon2-cffi-bindings in d:\\users\\nyk-pc\\anaconda3\\lib\\site-packages (from argon2-cffi->notebook>=4.4.1->widgetsnbextension~=3.6.0->ipywidgets>=7.0.0->pydeck>=0.1.dev5->streamlit) (21.2.0)\n",
      "Requirement already satisfied: nbclient<0.6.0,>=0.5.0 in d:\\users\\nyk-pc\\anaconda3\\lib\\site-packages (from nbconvert->notebook>=4.4.1->widgetsnbextension~=3.6.0->ipywidgets>=7.0.0->pydeck>=0.1.dev5->streamlit) (0.5.13)\n",
      "Requirement already satisfied: pandocfilters>=1.4.1 in d:\\users\\nyk-pc\\anaconda3\\lib\\site-packages (from nbconvert->notebook>=4.4.1->widgetsnbextension~=3.6.0->ipywidgets>=7.0.0->pydeck>=0.1.dev5->streamlit) (1.5.0)\n",
      "Requirement already satisfied: bleach in d:\\users\\nyk-pc\\anaconda3\\lib\\site-packages (from nbconvert->notebook>=4.4.1->widgetsnbextension~=3.6.0->ipywidgets>=7.0.0->pydeck>=0.1.dev5->streamlit) (4.1.0)\n",
      "Requirement already satisfied: beautifulsoup4 in d:\\users\\nyk-pc\\anaconda3\\lib\\site-packages (from nbconvert->notebook>=4.4.1->widgetsnbextension~=3.6.0->ipywidgets>=7.0.0->pydeck>=0.1.dev5->streamlit) (4.10.0)\n",
      "Requirement already satisfied: testpath in d:\\users\\nyk-pc\\anaconda3\\lib\\site-packages (from nbconvert->notebook>=4.4.1->widgetsnbextension~=3.6.0->ipywidgets>=7.0.0->pydeck>=0.1.dev5->streamlit) (0.6.0)\n",
      "Requirement already satisfied: jupyterlab-pygments in d:\\users\\nyk-pc\\anaconda3\\lib\\site-packages (from nbconvert->notebook>=4.4.1->widgetsnbextension~=3.6.0->ipywidgets>=7.0.0->pydeck>=0.1.dev5->streamlit) (0.1.2)\n",
      "Requirement already satisfied: mistune<2,>=0.8.1 in d:\\users\\nyk-pc\\anaconda3\\lib\\site-packages (from nbconvert->notebook>=4.4.1->widgetsnbextension~=3.6.0->ipywidgets>=7.0.0->pydeck>=0.1.dev5->streamlit) (0.8.4)\n",
      "Requirement already satisfied: defusedxml in d:\\users\\nyk-pc\\anaconda3\\lib\\site-packages (from nbconvert->notebook>=4.4.1->widgetsnbextension~=3.6.0->ipywidgets>=7.0.0->pydeck>=0.1.dev5->streamlit) (0.7.1)\n",
      "Requirement already satisfied: cffi>=1.0.1 in d:\\users\\nyk-pc\\anaconda3\\lib\\site-packages (from argon2-cffi-bindings->argon2-cffi->notebook>=4.4.1->widgetsnbextension~=3.6.0->ipywidgets>=7.0.0->pydeck>=0.1.dev5->streamlit) (1.15.0)\n",
      "Requirement already satisfied: soupsieve>1.2 in d:\\users\\nyk-pc\\anaconda3\\lib\\site-packages (from beautifulsoup4->nbconvert->notebook>=4.4.1->widgetsnbextension~=3.6.0->ipywidgets>=7.0.0->pydeck>=0.1.dev5->streamlit) (2.3.1)\n",
      "Requirement already satisfied: webencodings in d:\\users\\nyk-pc\\anaconda3\\lib\\site-packages (from bleach->nbconvert->notebook>=4.4.1->widgetsnbextension~=3.6.0->ipywidgets>=7.0.0->pydeck>=0.1.dev5->streamlit) (0.5.1)\n",
      "Requirement already satisfied: pycparser in d:\\users\\nyk-pc\\anaconda3\\lib\\site-packages (from cffi>=1.0.1->argon2-cffi-bindings->argon2-cffi->notebook>=4.4.1->widgetsnbextension~=3.6.0->ipywidgets>=7.0.0->pydeck>=0.1.dev5->streamlit) (2.21)\n"
     ]
    }
   ],
   "source": [
    "!pip install streamlit"
   ]
  },
  {
   "cell_type": "code",
   "execution_count": 12,
   "id": "67a29d99",
   "metadata": {
    "ExecuteTime": {
     "end_time": "2022-06-23T16:44:17.892507Z",
     "start_time": "2022-06-23T16:44:17.878572Z"
    }
   },
   "outputs": [],
   "source": [
    "def is_even(number):\n",
    "    return number % 2 == 0\n",
    "\n",
    "def get_even_letters(message):\n",
    "    even_letters = []\n",
    "    for counter in range(0, len(message)):\n",
    "        if is_even(counter):\n",
    "            even_letters.append(message[counter])\n",
    "    return even_letters\n",
    "\n",
    "def get_odd_letters(message):\n",
    "    odd_letters = []\n",
    "    for counter in range(0, len(message)):\n",
    "        if not is_even(counter):\n",
    "            odd_letters.append(message[counter])\n",
    "    return odd_letters"
   ]
  },
  {
   "cell_type": "code",
   "execution_count": 13,
   "id": "c392ee3a",
   "metadata": {
    "ExecuteTime": {
     "end_time": "2022-06-23T16:44:17.939846Z",
     "start_time": "2022-06-23T16:44:17.924866Z"
    }
   },
   "outputs": [],
   "source": [
    "def swap_letters(message):\n",
    "    letter_list = []\n",
    "    if not is_even(len(message)):\n",
    "        message = message + 'x'\n",
    "    even_letters = get_even_letters(message)\n",
    "    odd_letters = get_odd_letters(message)\n",
    "    for counter in range(0, int(len(message)/2)):\n",
    "        letter_list.append(odd_letters[counter])\n",
    "        letter_list.append(even_letters[counter])\n",
    "    new_message = ''.join(letter_list)\n",
    "    return new_message"
   ]
  },
  {
   "cell_type": "code",
   "execution_count": 14,
   "id": "277f707e",
   "metadata": {
    "ExecuteTime": {
     "end_time": "2022-06-23T16:44:17.987009Z",
     "start_time": "2022-06-23T16:44:17.974079Z"
    }
   },
   "outputs": [],
   "source": [
    "import streamlit as st\n",
    "\n",
    "st.title(\"End-to-End Encryption\")\n",
    "user = st.text_input(\"Enter a Message\")\n",
    "st.write(swap_letters(user))"
   ]
  }
 ],
 "metadata": {
  "kernelspec": {
   "display_name": "Python 3 (ipykernel)",
   "language": "python",
   "name": "python3"
  },
  "language_info": {
   "codemirror_mode": {
    "name": "ipython",
    "version": 3
   },
   "file_extension": ".py",
   "mimetype": "text/x-python",
   "name": "python",
   "nbconvert_exporter": "python",
   "pygments_lexer": "ipython3",
   "version": "3.8.8"
  },
  "toc": {
   "base_numbering": 1,
   "nav_menu": {},
   "number_sections": true,
   "sideBar": true,
   "skip_h1_title": false,
   "title_cell": "Table of Contents",
   "title_sidebar": "Contents",
   "toc_cell": false,
   "toc_position": {},
   "toc_section_display": true,
   "toc_window_display": false
  },
  "varInspector": {
   "cols": {
    "lenName": 16,
    "lenType": 16,
    "lenVar": 40
   },
   "kernels_config": {
    "python": {
     "delete_cmd_postfix": "",
     "delete_cmd_prefix": "del ",
     "library": "var_list.py",
     "varRefreshCmd": "print(var_dic_list())"
    },
    "r": {
     "delete_cmd_postfix": ") ",
     "delete_cmd_prefix": "rm(",
     "library": "var_list.r",
     "varRefreshCmd": "cat(var_dic_list()) "
    }
   },
   "types_to_exclude": [
    "module",
    "function",
    "builtin_function_or_method",
    "instance",
    "_Feature"
   ],
   "window_display": false
  }
 },
 "nbformat": 4,
 "nbformat_minor": 5
}
