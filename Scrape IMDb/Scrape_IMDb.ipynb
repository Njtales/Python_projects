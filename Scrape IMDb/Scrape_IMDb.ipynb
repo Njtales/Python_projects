{
 "cells": [
  {
   "cell_type": "markdown",
   "id": "e6ceb870",
   "metadata": {},
   "source": [
    "# Scrape IMDb"
   ]
  },
  {
   "cell_type": "code",
   "execution_count": 4,
   "id": "0ed3f843",
   "metadata": {
    "ExecuteTime": {
     "end_time": "2022-06-22T15:16:21.822106Z",
     "start_time": "2022-06-22T15:16:15.464537Z"
    }
   },
   "outputs": [
    {
     "name": "stdout",
     "output_type": "stream",
     "text": [
      "Collecting imdbpy\n",
      "  Downloading IMDbPY-2021.4.18-py3-none-any.whl (298 kB)\n",
      "     -------------------------------------- 298.5/298.5 KB 4.6 MB/s eta 0:00:00\n",
      "Requirement already satisfied: SQLAlchemy in d:\\users\\nyk-pc\\anaconda3\\lib\\site-packages (from imdbpy) (1.4.32)\n",
      "Requirement already satisfied: lxml in d:\\users\\nyk-pc\\anaconda3\\lib\\site-packages (from imdbpy) (4.7.1)\n",
      "Requirement already satisfied: greenlet!=0.4.17 in d:\\users\\nyk-pc\\anaconda3\\lib\\site-packages (from SQLAlchemy->imdbpy) (1.1.2)\n",
      "Installing collected packages: imdbpy\n",
      "Successfully installed imdbpy-2021.4.18\n"
     ]
    }
   ],
   "source": [
    "!pip install imdbpy"
   ]
  },
  {
   "cell_type": "code",
   "execution_count": 5,
   "id": "39c14c2c",
   "metadata": {
    "ExecuteTime": {
     "end_time": "2022-06-22T15:16:47.005446Z",
     "start_time": "2022-06-22T15:16:44.456600Z"
    }
   },
   "outputs": [
    {
     "name": "stdout",
     "output_type": "stream",
     "text": [
      "The Kentuckians\n"
     ]
    }
   ],
   "source": [
    "from imdb import IMDb\n",
    "movie = IMDb().get_movie('012346')\n",
    "print(movie)"
   ]
  },
  {
   "cell_type": "code",
   "execution_count": 6,
   "id": "aae9384b",
   "metadata": {
    "ExecuteTime": {
     "end_time": "2022-06-22T15:16:54.408700Z",
     "start_time": "2022-06-22T15:16:54.396665Z"
    }
   },
   "outputs": [
    {
     "name": "stdout",
     "output_type": "stream",
     "text": [
      "Charles Maigne\n"
     ]
    }
   ],
   "source": [
    "for i in movie[\"directors\"]:\n",
    "    print(i)"
   ]
  },
  {
   "cell_type": "code",
   "execution_count": 8,
   "id": "00acead6",
   "metadata": {
    "ExecuteTime": {
     "end_time": "2022-06-22T15:18:01.975349Z",
     "start_time": "2022-06-22T15:18:00.787952Z"
    },
    "scrolled": false
   },
   "outputs": [
    {
     "name": "stdout",
     "output_type": "stream",
     "text": [
      "The Shawshank Redemption\n",
      "The Godfather\n",
      "The Dark Knight\n",
      "The Godfather Part II\n",
      "12 Angry Men\n",
      "Schindler's List\n",
      "The Lord of the Rings: The Return of the King\n",
      "Pulp Fiction\n",
      "The Lord of the Rings: The Fellowship of the Ring\n",
      "The Good, the Bad and the Ugly\n",
      "Forrest Gump\n",
      "Fight Club\n",
      "Inception\n",
      "The Lord of the Rings: The Two Towers\n",
      "Star Wars: Episode V - The Empire Strikes Back\n",
      "The Matrix\n",
      "Goodfellas\n",
      "One Flew Over the Cuckoo's Nest\n",
      "Se7en\n",
      "Seven Samurai\n",
      "It's a Wonderful Life\n",
      "The Silence of the Lambs\n",
      "City of God\n",
      "Saving Private Ryan\n",
      "Life Is Beautiful\n",
      "The Green Mile\n",
      "Interstellar\n",
      "Star Wars\n",
      "Terminator 2: Judgment Day\n",
      "Back to the Future\n",
      "Spirited Away\n",
      "Psycho\n",
      "The Pianist\n",
      "Léon: The Professional\n",
      "Parasite\n",
      "The Lion King\n",
      "Gladiator\n",
      "American History X\n",
      "The Usual Suspects\n",
      "The Departed\n",
      "The Prestige\n",
      "Casablanca\n",
      "Top Gun: Maverick\n",
      "Whiplash\n",
      "The Intouchables\n",
      "Modern Times\n",
      "Hara-Kiri\n",
      "Once Upon a Time in the West\n",
      "Grave of the Fireflies\n",
      "Rear Window\n",
      "Alien\n",
      "City Lights\n",
      "Cinema Paradiso\n",
      "Memento\n",
      "Apocalypse Now\n",
      "Indiana Jones and the Raiders of the Lost Ark\n",
      "Django Unchained\n",
      "WALL·E\n",
      "The Lives of Others\n",
      "Sunset Blvd.\n",
      "Paths of Glory\n",
      "The Shining\n",
      "The Great Dictator\n",
      "Witness for the Prosecution\n",
      "Avengers: Infinity War\n",
      "Aliens\n",
      "American Beauty\n",
      "Dr. Strangelove or: How I Learned to Stop Worrying and Love the Bomb\n",
      "Spider-Man: Into the Spider-Verse\n",
      "The Dark Knight Rises\n",
      "Oldboy\n",
      "Joker\n",
      "Amadeus\n",
      "Braveheart\n",
      "Toy Story\n",
      "Coco\n",
      "The Boat\n",
      "Inglourious Basterds\n",
      "Princess Mononoke\n",
      "Avengers: Endgame\n",
      "Once Upon a Time in America\n",
      "Good Will Hunting\n",
      "Requiem for a Dream\n",
      "Toy Story 3\n",
      "Your Name.\n",
      "Singin' in the Rain\n",
      "3 Idiots\n",
      "Star Wars: Episode VI - Return of the Jedi\n",
      "2001: A Space Odyssey\n",
      "Eternal Sunshine of the Spotless Mind\n",
      "Reservoir Dogs\n",
      "High and Low\n",
      "Capernaum\n",
      "Citizen Kane\n",
      "Lawrence of Arabia\n",
      "The Hunt\n",
      "North by Northwest\n",
      "M\n",
      "Vertigo\n",
      "Amélie\n",
      "A Clockwork Orange\n",
      "Come and See\n",
      "Full Metal Jacket\n",
      "Double Indemnity\n",
      "The Apartment\n",
      "Scarface\n",
      "Ikiru\n",
      "The Sting\n",
      "To Kill a Mockingbird\n",
      "Taxi Driver\n",
      "L.A. Confidential\n",
      "Up\n",
      "Heat\n",
      "Hamilton\n",
      "Metropolis\n",
      "A Separation\n",
      "Snatch\n",
      "Die Hard\n",
      "Incendies\n",
      "Indiana Jones and the Last Crusade\n",
      "Bicycle Thieves\n",
      "Spider-Man: No Way Home\n",
      "1917\n",
      "Like Stars on Earth\n",
      "Downfall\n",
      "For a Few Dollars More\n",
      "Batman Begins\n",
      "Dangal\n",
      "The Kid\n",
      "Some Like It Hot\n",
      "The Father\n",
      "All About Eve\n",
      "Green Book\n",
      "Everything Everywhere All at Once\n",
      "The Wolf of Wall Street\n",
      "Judgment at Nuremberg\n",
      "Unforgiven\n",
      "Casino\n",
      "Ran\n",
      "Pan's Labyrinth\n",
      "There Will Be Blood\n",
      "The Sixth Sense\n",
      "A Beautiful Mind\n",
      "Monty Python and the Holy Grail\n",
      "The Truman Show\n",
      "Yojimbo\n",
      "The Treasure of the Sierra Madre\n",
      "Rashomon\n",
      "Shutter Island\n",
      "The Great Escape\n",
      "Jurassic Park\n",
      "Kill Bill: Vol. 1\n",
      "No Country for Old Men\n",
      "Finding Nemo\n",
      "The Elephant Man\n",
      "Raging Bull\n",
      "Chinatown\n",
      "Gone with the Wind\n",
      "V for Vendetta\n",
      "The Thing\n",
      "Inside Out\n",
      "Lock, Stock and Two Smoking Barrels\n",
      "Dial M for Murder\n",
      "The Secret in Their Eyes\n",
      "The Bridge on the River Kwai\n",
      "Howl's Moving Castle\n",
      "Three Billboards Outside Ebbing, Missouri\n",
      "Trainspotting\n",
      "Gran Torino\n",
      "Warrior\n",
      "Fargo\n",
      "My Neighbor Totoro\n",
      "Prisoners\n",
      "Million Dollar Baby\n",
      "The Gold Rush\n",
      "Blade Runner\n",
      "Catch Me If You Can\n",
      "On the Waterfront\n",
      "The Third Man\n",
      "Children of Heaven\n",
      "Ben-Hur\n",
      "12 Years a Slave\n",
      "The General\n",
      "Wild Strawberries\n",
      "Gone Girl\n",
      "Before Sunrise\n",
      "Harry Potter and the Deathly Hallows: Part 2\n",
      "The Deer Hunter\n",
      "In the Name of the Father\n",
      "The Grand Budapest Hotel\n",
      "Mr. Smith Goes to Washington\n",
      "The Wages of Fear\n",
      "Barry Lyndon\n",
      "Sherlock Jr.\n",
      "Memories of Murder\n",
      "Room\n",
      "Hacksaw Ridge\n",
      "Klaus\n",
      "The Seventh Seal\n",
      "Wild Tales\n",
      "The Big Lebowski\n",
      "Mad Max: Fury Road\n",
      "How to Train Your Dragon\n",
      "Mary and Max\n",
      "Monsters, Inc.\n",
      "Jaws\n",
      "The Passion of Joan of Arc\n",
      "Hotel Rwanda\n",
      "Tokyo Story\n",
      "Dead Poets Society\n",
      "Pather Panchali\n",
      "Rocky\n",
      "Platoon\n",
      "Ford v Ferrari\n",
      "Stand by Me\n",
      "The Terminator\n",
      "Spotlight\n",
      "Rush\n",
      "Into the Wild\n",
      "Network\n",
      "The Wizard of Oz\n",
      "Logan\n",
      "Groundhog Day\n",
      "Ratatouille\n",
      "Before Sunset\n",
      "The Exorcist\n",
      "The Best Years of Our Lives\n",
      "The Incredibles\n",
      "To Be or Not to Be\n",
      "Rebecca\n",
      "The Grapes of Wrath\n",
      "The Battle of Algiers\n",
      "Hachi: A Dog's Tale\n",
      "Cool Hand Luke\n",
      "Amores perros\n",
      "Pirates of the Caribbean: The Curse of the Black Pearl\n",
      "La Haine\n",
      "The 400 Blows\n",
      "Persona\n",
      "Life of Brian\n",
      "My Father and My Son\n",
      "Dersu Uzala\n",
      "The Sound of Music\n",
      "It Happened One Night\n",
      "The Handmaiden\n",
      "Jai Bhim\n",
      "Aladdin\n",
      "Gandhi\n",
      "The Help\n",
      "Beauty and the Beast\n"
     ]
    }
   ],
   "source": [
    "movies = IMDb().get_top250_movies()\n",
    "for i in movies:\n",
    "    print(i)"
   ]
  }
 ],
 "metadata": {
  "kernelspec": {
   "display_name": "Python 3 (ipykernel)",
   "language": "python",
   "name": "python3"
  },
  "language_info": {
   "codemirror_mode": {
    "name": "ipython",
    "version": 3
   },
   "file_extension": ".py",
   "mimetype": "text/x-python",
   "name": "python",
   "nbconvert_exporter": "python",
   "pygments_lexer": "ipython3",
   "version": "3.8.8"
  },
  "varInspector": {
   "cols": {
    "lenName": 16,
    "lenType": 16,
    "lenVar": 40
   },
   "kernels_config": {
    "python": {
     "delete_cmd_postfix": "",
     "delete_cmd_prefix": "del ",
     "library": "var_list.py",
     "varRefreshCmd": "print(var_dic_list())"
    },
    "r": {
     "delete_cmd_postfix": ") ",
     "delete_cmd_prefix": "rm(",
     "library": "var_list.r",
     "varRefreshCmd": "cat(var_dic_list()) "
    }
   },
   "types_to_exclude": [
    "module",
    "function",
    "builtin_function_or_method",
    "instance",
    "_Feature"
   ],
   "window_display": false
  }
 },
 "nbformat": 4,
 "nbformat_minor": 5
}
