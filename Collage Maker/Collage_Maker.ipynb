{
 "cells": [
  {
   "cell_type": "markdown",
   "id": "6aeda64d",
   "metadata": {},
   "source": [
    "## Collage_Maker"
   ]
  },
  {
   "cell_type": "code",
   "execution_count": null,
   "id": "b75f4c67",
   "metadata": {
    "ExecuteTime": {
     "end_time": "2022-06-20T20:29:31.913458Z",
     "start_time": "2022-06-20T20:29:31.865509Z"
    }
   },
   "outputs": [],
   "source": [
    "from PIL import Image\n",
    "import numpy as np\n",
    "def collage_maker(image1, image2, name):\n",
    "    i1 = np.array(image1)\n",
    "    i2 = np.array(image2)\n",
    "    collage = np.vstack([i1, i2])\n",
    "    image = Image.fromarray(collage)\n",
    "    image.save(name)\n",
    "\n",
    "# To Run The Above Function\n",
    "collage_maker(\"temp01.jpg\", \"temp03.jpg\", \"collage_image.jpg\")"
   ]
  }
 ],
 "metadata": {
  "kernelspec": {
   "display_name": "Python 3 (ipykernel)",
   "language": "python",
   "name": "python3"
  },
  "language_info": {
   "codemirror_mode": {
    "name": "ipython",
    "version": 3
   },
   "file_extension": ".py",
   "mimetype": "text/x-python",
   "name": "python",
   "nbconvert_exporter": "python",
   "pygments_lexer": "ipython3",
   "version": "3.8.8"
  },
  "toc": {
   "base_numbering": 1,
   "nav_menu": {},
   "number_sections": true,
   "sideBar": true,
   "skip_h1_title": false,
   "title_cell": "Table of Contents",
   "title_sidebar": "Contents",
   "toc_cell": false,
   "toc_position": {},
   "toc_section_display": true,
   "toc_window_display": false
  },
  "varInspector": {
   "cols": {
    "lenName": 16,
    "lenType": 16,
    "lenVar": 40
   },
   "kernels_config": {
    "python": {
     "delete_cmd_postfix": "",
     "delete_cmd_prefix": "del ",
     "library": "var_list.py",
     "varRefreshCmd": "print(var_dic_list())"
    },
    "r": {
     "delete_cmd_postfix": ") ",
     "delete_cmd_prefix": "rm(",
     "library": "var_list.r",
     "varRefreshCmd": "cat(var_dic_list()) "
    }
   },
   "types_to_exclude": [
    "module",
    "function",
    "builtin_function_or_method",
    "instance",
    "_Feature"
   ],
   "window_display": false
  }
 },
 "nbformat": 4,
 "nbformat_minor": 5
}
