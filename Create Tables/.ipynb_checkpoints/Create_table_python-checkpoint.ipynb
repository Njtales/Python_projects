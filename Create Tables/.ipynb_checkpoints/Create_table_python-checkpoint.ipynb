{
 "cells": [
  {
   "cell_type": "markdown",
   "id": "83a2d0b3",
   "metadata": {},
   "source": [
    "# Create_table_python"
   ]
  },
  {
   "cell_type": "code",
   "execution_count": 5,
   "id": "b9443165",
   "metadata": {
    "ExecuteTime": {
     "end_time": "2022-06-21T17:44:10.558368Z",
     "start_time": "2022-06-21T17:44:10.543333Z"
    }
   },
   "outputs": [
    {
     "name": "stdout",
     "output_type": "stream",
     "text": [
      "------  ---------  ------\n",
      "Name    Place      Gender\n",
      "Nik     New Delhi  Male\n",
      "Ritika  Mumbai     Female\n",
      "Ritesh  Channai    Male\n",
      "------  ---------  ------\n"
     ]
    }
   ],
   "source": [
    "from tabulate import tabulate\n",
    "data = [[\"Name\", \"Place\", \"Gender\"], [\"Nik\", \"New Delhi\", \"Male\"], [\"Ritika\", \"Mumbai\", \"Female\"], [\"Ritesh\", \"Channai\", \"Male\"]]\n",
    "print(tabulate(data))"
   ]
  },
  {
   "cell_type": "code",
   "execution_count": 6,
   "id": "36205e60",
   "metadata": {
    "ExecuteTime": {
     "end_time": "2022-06-21T17:44:11.958533Z",
     "start_time": "2022-06-21T17:44:11.932042Z"
    }
   },
   "outputs": [
    {
     "name": "stdout",
     "output_type": "stream",
     "text": [
      "Name    Place      Gender\n",
      "------  ---------  --------\n",
      "Nik     New Delhi  Male\n",
      "Ritika  Mumbai     Female\n",
      "Ritesh  Channai    Male\n"
     ]
    }
   ],
   "source": [
    "print(tabulate(data, headers='firstrow'))"
   ]
  },
  {
   "cell_type": "code",
   "execution_count": 7,
   "id": "5498e7cd",
   "metadata": {
    "ExecuteTime": {
     "end_time": "2022-06-21T17:44:15.381525Z",
     "start_time": "2022-06-21T17:44:15.357468Z"
    }
   },
   "outputs": [
    {
     "name": "stdout",
     "output_type": "stream",
     "text": [
      "+--------+-----------+----------+\n",
      "| Name   | Place     | Gender   |\n",
      "+========+===========+==========+\n",
      "| Nik    | New Delhi | Male     |\n",
      "+--------+-----------+----------+\n",
      "| Ritika | Mumbai    | Female   |\n",
      "+--------+-----------+----------+\n",
      "| Ritesh | Channai   | Male     |\n",
      "+--------+-----------+----------+\n"
     ]
    }
   ],
   "source": [
    "print(tabulate(data, headers='firstrow', tablefmt='grid'))"
   ]
  },
  {
   "cell_type": "code",
   "execution_count": 8,
   "id": "8d046702",
   "metadata": {
    "ExecuteTime": {
     "end_time": "2022-06-21T17:44:16.117719Z",
     "start_time": "2022-06-21T17:44:16.098067Z"
    }
   },
   "outputs": [
    {
     "name": "stdout",
     "output_type": "stream",
     "text": [
      "╒════════╤═══════════╤══════════╕\n",
      "│ Name   │ Place     │ Gender   │\n",
      "╞════════╪═══════════╪══════════╡\n",
      "│ Nik    │ New Delhi │ Male     │\n",
      "├────────┼───────────┼──────────┤\n",
      "│ Ritika │ Mumbai    │ Female   │\n",
      "├────────┼───────────┼──────────┤\n",
      "│ Ritesh │ Channai   │ Male     │\n",
      "╘════════╧═══════════╧══════════╛\n"
     ]
    }
   ],
   "source": [
    "print(tabulate(data, headers='firstrow', tablefmt='fancy_grid'))"
   ]
  }
 ],
 "metadata": {
  "kernelspec": {
   "display_name": "Python 3 (ipykernel)",
   "language": "python",
   "name": "python3"
  },
  "language_info": {
   "codemirror_mode": {
    "name": "ipython",
    "version": 3
   },
   "file_extension": ".py",
   "mimetype": "text/x-python",
   "name": "python",
   "nbconvert_exporter": "python",
   "pygments_lexer": "ipython3",
   "version": "3.8.8"
  },
  "toc": {
   "base_numbering": 1,
   "nav_menu": {},
   "number_sections": true,
   "sideBar": true,
   "skip_h1_title": false,
   "title_cell": "Table of Contents",
   "title_sidebar": "Contents",
   "toc_cell": false,
   "toc_position": {},
   "toc_section_display": true,
   "toc_window_display": false
  },
  "varInspector": {
   "cols": {
    "lenName": 16,
    "lenType": 16,
    "lenVar": 40
   },
   "kernels_config": {
    "python": {
     "delete_cmd_postfix": "",
     "delete_cmd_prefix": "del ",
     "library": "var_list.py",
     "varRefreshCmd": "print(var_dic_list())"
    },
    "r": {
     "delete_cmd_postfix": ") ",
     "delete_cmd_prefix": "rm(",
     "library": "var_list.r",
     "varRefreshCmd": "cat(var_dic_list()) "
    }
   },
   "types_to_exclude": [
    "module",
    "function",
    "builtin_function_or_method",
    "instance",
    "_Feature"
   ],
   "window_display": false
  }
 },
 "nbformat": 4,
 "nbformat_minor": 5
}
