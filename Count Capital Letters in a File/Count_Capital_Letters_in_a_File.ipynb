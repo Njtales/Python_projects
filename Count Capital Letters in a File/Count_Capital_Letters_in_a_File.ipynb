{
 "cells": [
  {
   "cell_type": "markdown",
   "id": "b8cede8a",
   "metadata": {},
   "source": [
    "## Count_Capital_Letters_in_a_File"
   ]
  },
  {
   "cell_type": "code",
   "execution_count": 4,
   "id": "baf8a44e",
   "metadata": {
    "ExecuteTime": {
     "end_time": "2022-06-20T19:07:31.106874Z",
     "start_time": "2022-06-20T19:07:31.086773Z"
    }
   },
   "outputs": [
    {
     "name": "stdout",
     "output_type": "stream",
     "text": [
      "Upper case letter count :  :  17\n"
     ]
    }
   ],
   "source": [
    "with open(\"demo_text.txt\") as file:\n",
    "    count = 0\n",
    "    text = file.read()\n",
    "    for i in text:\n",
    "        if i.isupper():\n",
    "            count += 1\n",
    "    print(\"Upper case letter count :  : \",count)"
   ]
  },
  {
   "cell_type": "code",
   "execution_count": 3,
   "id": "8865f8fc",
   "metadata": {
    "ExecuteTime": {
     "end_time": "2022-06-20T19:07:12.611075Z",
     "start_time": "2022-06-20T19:07:12.602100Z"
    }
   },
   "outputs": [
    {
     "name": "stdout",
     "output_type": "stream",
     "text": [
      "lower case letter count :  1670\n"
     ]
    }
   ],
   "source": [
    "with open(\"demo_text.txt\") as file:\n",
    "    count = 0\n",
    "    text = file.read()\n",
    "    for i in text:\n",
    "        if i.islower():\n",
    "            count += 1\n",
    "    print(\"lower case letter count : \",count)"
   ]
  }
 ],
 "metadata": {
  "kernelspec": {
   "display_name": "Python 3 (ipykernel)",
   "language": "python",
   "name": "python3"
  },
  "language_info": {
   "codemirror_mode": {
    "name": "ipython",
    "version": 3
   },
   "file_extension": ".py",
   "mimetype": "text/x-python",
   "name": "python",
   "nbconvert_exporter": "python",
   "pygments_lexer": "ipython3",
   "version": "3.8.8"
  },
  "toc": {
   "base_numbering": 1,
   "nav_menu": {},
   "number_sections": true,
   "sideBar": true,
   "skip_h1_title": false,
   "title_cell": "Table of Contents",
   "title_sidebar": "Contents",
   "toc_cell": false,
   "toc_position": {},
   "toc_section_display": true,
   "toc_window_display": false
  },
  "varInspector": {
   "cols": {
    "lenName": 16,
    "lenType": 16,
    "lenVar": 40
   },
   "kernels_config": {
    "python": {
     "delete_cmd_postfix": "",
     "delete_cmd_prefix": "del ",
     "library": "var_list.py",
     "varRefreshCmd": "print(var_dic_list())"
    },
    "r": {
     "delete_cmd_postfix": ") ",
     "delete_cmd_prefix": "rm(",
     "library": "var_list.r",
     "varRefreshCmd": "cat(var_dic_list()) "
    }
   },
   "types_to_exclude": [
    "module",
    "function",
    "builtin_function_or_method",
    "instance",
    "_Feature"
   ],
   "window_display": false
  }
 },
 "nbformat": 4,
 "nbformat_minor": 5
}
