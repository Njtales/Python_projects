{
 "cells": [
  {
   "cell_type": "markdown",
   "id": "5e576e9f",
   "metadata": {
    "ExecuteTime": {
     "end_time": "2022-06-09T15:03:14.141863Z",
     "start_time": "2022-06-09T15:03:14.131311Z"
    }
   },
   "source": [
    "## Story generator python"
   ]
  },
  {
   "cell_type": "code",
   "execution_count": 2,
   "id": "267be003",
   "metadata": {
    "ExecuteTime": {
     "end_time": "2022-06-09T15:04:14.988399Z",
     "start_time": "2022-06-09T15:04:14.969449Z"
    }
   },
   "outputs": [],
   "source": [
    "import random"
   ]
  },
  {
   "cell_type": "code",
   "execution_count": 3,
   "id": "ec842a8c",
   "metadata": {
    "ExecuteTime": {
     "end_time": "2022-06-09T15:04:55.963619Z",
     "start_time": "2022-06-09T15:04:55.944673Z"
    }
   },
   "outputs": [],
   "source": [
    "# Defining list of phrases which will help to build a story\n",
    "Sentence_starter = ['About 100 years ago', ' In the 20 BC', 'Once upon a time']\n",
    "\n",
    "character = [' there lived a king.',' there was a man named Jack.',' there lived a farmer.']\n",
    "\n",
    "time = [' One day', ' One full-moon night']\n",
    "\n",
    "story_plot = [' he was passing by', ' he was going for a picnic to ']\n",
    "\n",
    "place = [' the mountains', ' the garden']\n",
    "\n",
    "second_character = [' he saw a man', ' he saw a young lady']\n",
    "\n",
    "age = [' who seemed to be in late 20s', ' who seemed very old and feeble']\n",
    "\n",
    "work = [' searching something.', ' digging a well on roadside.']\n"
   ]
  },
  {
   "cell_type": "code",
   "execution_count": 16,
   "id": "efca9e93",
   "metadata": {
    "ExecuteTime": {
     "end_time": "2022-06-09T15:05:46.101984Z",
     "start_time": "2022-06-09T15:05:46.085640Z"
    }
   },
   "outputs": [
    {
     "name": "stdout",
     "output_type": "stream",
     "text": [
      "About 100 years ago there lived a king. One day he was passing by the garden he saw a man who seemed to be in late 20s digging a well on roadside.\n"
     ]
    }
   ],
   "source": [
    "# Selecting an item from each list and concatenating them.\n",
    "print(random.choice(Sentence_starter)+random.choice(character) + \n",
    "      random.choice(time)+random.choice(story_plot) + \n",
    "      random.choice(place)+random.choice(second_character) + \n",
    "      random.choice(age)+random.choice(work))\n"
   ]
  },
  {
   "cell_type": "markdown",
   "id": "241575de",
   "metadata": {},
   "source": [
    "### This was  a short story. Let's have a one more."
   ]
  },
  {
   "cell_type": "code",
   "execution_count": 18,
   "id": "ffc3bbf0",
   "metadata": {
    "ExecuteTime": {
     "end_time": "2022-06-09T15:08:31.735674Z",
     "start_time": "2022-06-09T15:08:31.715728Z"
    }
   },
   "outputs": [],
   "source": [
    "enemy = random.choice ([\"chihuahua\", \"border collie\", \"wolf\"])\n",
    "father = random.choice ([\"John\", \"Mr.Pickles\", \"Hairyface\", \"Willy Wonka\", \"Steve\", \"Bob\"])\n",
    "enemyadj = [\"grimy\", \"muddy\", \"awful\", \"grotesque\", \"hideous\", \"adorable\", \"cute\"]\n",
    "intro1 = \"I was sitting on the edge of the rocky cliff beside my favourite tree. \"\n",
    "intro2 = \"Alone in the searing desert, I was wondering why I was leaning against a cactus. \"\n",
    "intro3 = \"Staring out my apartment window, I saw my reflection staring back at me. \"\n",
    "char1 = \"As I looked out into the distance, I thought about my past and all of the drama in it. \"\n",
    "char2 = \"I wondered if this was my destiny- trying to find happiness. \"\n",
    "char3 = \"I pulled out the photo of my long lost mother and where on earth she could be. \"\n",
    "prob1 = \"Suddenly I was covered from head to toe with darkness. I couldn't breathe or see. Everything went black... \"\n",
    "prob2 = \"All of a sudden a psychopathic \" + enemy + \" grinned at me,showing all his razor sharp teeth. Suddenly it started to claw at my face. From the loss of blood, I collapsed onto the tough ground... \"\n",
    "prob3 = \"I suddenly felt a sharp needle sink into my flesh. It was a tranquilizer. But before I knew it I started feeling really drowsy. Everything went black... \"\n",
    "sol1 = \"I forced my drowsy eyes open my eyes to see a bright light. \"\n",
    "sol2 = \"I forced my drowsy eyes open to find myself on the back of a massive dragon and a man in front of me. \"\n",
    "sol3 = \"I forced my drowsy eyes open to the sounds of a \" + random.choice(enemyadj) + \" \" +enemy + \" licking my face. \"\n",
    "end1 = \"A man came to my side with a knife. It was my father!\" + father + \"!\" \"'Go to sleep young one...' \"\n",
    "end2 = \"It was difficult to keep my eyes open as I stuggled to breathe. \"\n",
    "end3 = \"Out of nowhere, a duck wearing a deerstalker looked me in the eye and pointed a gun at me. 'Quack.' And that was the last thing I heard... \""
   ]
  },
  {
   "cell_type": "code",
   "execution_count": 21,
   "id": "110f6a78",
   "metadata": {
    "ExecuteTime": {
     "end_time": "2022-06-09T15:11:29.802623Z",
     "start_time": "2022-06-09T15:11:29.792650Z"
    }
   },
   "outputs": [
    {
     "name": "stdout",
     "output_type": "stream",
     "text": [
      "Staring out my apartment window, I saw my reflection staring back at me.I wondered if this was my destiny- trying to find happiness.I suddenly felt a sharp needle sink into my flesh. It was a tranquilizer. But before I knew it I started feeling really drowsy. Everything went black...I forced my drowsy eyes open to the sounds of a cute wolf licking my face.Out of nowhere, a duck wearing a deerstalker looked me in the eye and pointed a gun at me. 'Quack.' And that was the last thing I heard...\n"
     ]
    }
   ],
   "source": [
    "intros = [intro1, intro2, intro3]\n",
    "characters = [char1, char2, char3]\n",
    "problems = [prob1, prob2, prob3]\n",
    "solutions = [sol1, sol2, sol3]\n",
    "endings = [end1, end2, end3]\n",
    "\n",
    "print(random.choice(intros) +\n",
    "      random.choice(characters) +\n",
    "      random.choice(problems) +\n",
    "      random.choice(solutions) +\n",
    "      random.choice(endings))"
   ]
  },
  {
   "cell_type": "code",
   "execution_count": null,
   "id": "d10d2204",
   "metadata": {},
   "outputs": [],
   "source": []
  }
 ],
 "metadata": {
  "kernelspec": {
   "display_name": "Python 3 (ipykernel)",
   "language": "python",
   "name": "python3"
  },
  "language_info": {
   "codemirror_mode": {
    "name": "ipython",
    "version": 3
   },
   "file_extension": ".py",
   "mimetype": "text/x-python",
   "name": "python",
   "nbconvert_exporter": "python",
   "pygments_lexer": "ipython3",
   "version": "3.8.8"
  },
  "toc": {
   "base_numbering": 1,
   "nav_menu": {},
   "number_sections": false,
   "sideBar": true,
   "skip_h1_title": false,
   "title_cell": "Table of Contents",
   "title_sidebar": "Contents",
   "toc_cell": false,
   "toc_position": {},
   "toc_section_display": true,
   "toc_window_display": false
  },
  "varInspector": {
   "cols": {
    "lenName": 16,
    "lenType": 16,
    "lenVar": 40
   },
   "kernels_config": {
    "python": {
     "delete_cmd_postfix": "",
     "delete_cmd_prefix": "del ",
     "library": "var_list.py",
     "varRefreshCmd": "print(var_dic_list())"
    },
    "r": {
     "delete_cmd_postfix": ") ",
     "delete_cmd_prefix": "rm(",
     "library": "var_list.r",
     "varRefreshCmd": "cat(var_dic_list()) "
    }
   },
   "types_to_exclude": [
    "module",
    "function",
    "builtin_function_or_method",
    "instance",
    "_Feature"
   ],
   "window_display": false
  }
 },
 "nbformat": 4,
 "nbformat_minor": 5
}
