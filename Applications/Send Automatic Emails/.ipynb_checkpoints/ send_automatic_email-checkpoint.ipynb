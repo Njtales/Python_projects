{
 "cells": [
  {
   "cell_type": "markdown",
   "id": "3e1337fa",
   "metadata": {},
   "source": [
    "## send_automatic_email"
   ]
  },
  {
   "cell_type": "code",
   "execution_count": 8,
   "id": "c487e998",
   "metadata": {
    "ExecuteTime": {
     "end_time": "2022-06-20T19:51:52.996087Z",
     "start_time": "2022-06-20T19:51:52.988109Z"
    }
   },
   "outputs": [
    {
     "name": "stdout",
     "output_type": "stream",
     "text": [
      "Email Sent!\n"
     ]
    }
   ],
   "source": [
    "import os\n",
    "import random\n",
    "import smtplib\n",
    "\n",
    "\n",
    "def automatic_email():\n",
    "    user = input(\"Enter Your Name >>: \")\n",
    "    email = input(\"Enter Your Email >>: \")\n",
    "    message = (f\"Dear {user}, Welcome to Thecleverprogrammer\")\n",
    "    s = smtplib.SMTP('smtp.gmail.com', 587)\n",
    "    s.starttls()\n",
    "    s.login(\"Your Gmail Account\", \"Your App Password\")\n",
    "    s.sendmail('&&&&&&&&&&&', email, message)\n",
    "    print(\"Email Sent!\")\n",
    "    \n",
    "automatic_email()\n"
   ]
  },
  {
   "cell_type": "code",
   "execution_count": null,
   "id": "1fd00cf2",
   "metadata": {},
   "outputs": [],
   "source": []
  }
 ],
 "metadata": {
  "kernelspec": {
   "display_name": "Python 3 (ipykernel)",
   "language": "python",
   "name": "python3"
  },
  "language_info": {
   "codemirror_mode": {
    "name": "ipython",
    "version": 3
   },
   "file_extension": ".py",
   "mimetype": "text/x-python",
   "name": "python",
   "nbconvert_exporter": "python",
   "pygments_lexer": "ipython3",
   "version": "3.8.8"
  },
  "toc": {
   "base_numbering": 1,
   "nav_menu": {},
   "number_sections": true,
   "sideBar": true,
   "skip_h1_title": false,
   "title_cell": "Table of Contents",
   "title_sidebar": "Contents",
   "toc_cell": false,
   "toc_position": {},
   "toc_section_display": true,
   "toc_window_display": false
  },
  "varInspector": {
   "cols": {
    "lenName": 16,
    "lenType": 16,
    "lenVar": 40
   },
   "kernels_config": {
    "python": {
     "delete_cmd_postfix": "",
     "delete_cmd_prefix": "del ",
     "library": "var_list.py",
     "varRefreshCmd": "print(var_dic_list())"
    },
    "r": {
     "delete_cmd_postfix": ") ",
     "delete_cmd_prefix": "rm(",
     "library": "var_list.r",
     "varRefreshCmd": "cat(var_dic_list()) "
    }
   },
   "types_to_exclude": [
    "module",
    "function",
    "builtin_function_or_method",
    "instance",
    "_Feature"
   ],
   "window_display": false
  }
 },
 "nbformat": 4,
 "nbformat_minor": 5
}
