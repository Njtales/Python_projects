{
 "cells": [
  {
   "cell_type": "markdown",
   "id": "2bad3bd8",
   "metadata": {
    "ExecuteTime": {
     "end_time": "2022-06-07T13:56:10.085117Z",
     "start_time": "2022-06-07T13:56:10.076166Z"
    }
   },
   "source": [
    "## Countdown Timer"
   ]
  },
  {
   "cell_type": "code",
   "execution_count": 8,
   "id": "8817c1c4",
   "metadata": {
    "ExecuteTime": {
     "end_time": "2022-06-07T14:28:28.317194Z",
     "start_time": "2022-06-07T14:28:28.298279Z"
    }
   },
   "outputs": [],
   "source": [
    "from tkinter import *\n",
    "import time\n",
    "from playsound import playsound"
   ]
  },
  {
   "cell_type": "code",
   "execution_count": 9,
   "id": "07ceb8bc",
   "metadata": {
    "ExecuteTime": {
     "end_time": "2022-06-07T14:28:28.538976Z",
     "start_time": "2022-06-07T14:28:28.468165Z"
    }
   },
   "outputs": [],
   "source": [
    "root = Tk()\n",
    "root.geometry('400x300')\n",
    "root.resizable(0,0)\n",
    "root.config(bg ='blanched almond')\n",
    "root.title('Countdown Clock And Timer')\n",
    "Label(root, text = 'Countdown Clock and Timer' , font = 'arial 20 bold',  bg ='papaya whip').pack()"
   ]
  },
  {
   "cell_type": "code",
   "execution_count": 10,
   "id": "a4086747",
   "metadata": {
    "ExecuteTime": {
     "end_time": "2022-06-07T14:28:28.697881Z",
     "start_time": "2022-06-07T14:28:28.682889Z"
    }
   },
   "outputs": [],
   "source": [
    "Label(root, font ='arial 15 bold', text = 'current time :', bg = 'papaya whip').place(x = 40 ,y = 70)\n",
    "\n",
    "def clock():\n",
    "    clock_time = time.strftime('%H:%M:%S %p')\n",
    "    curr_time.config(text = clock_time)\n",
    "    curr_time.after(1000,clock)\n",
    "\n",
    "curr_time =Label(root, font ='arial 15 bold', text = '', fg = 'gray25' ,bg ='papaya whip')\n",
    "curr_time.place(x = 190 , y = 70)\n",
    "clock()"
   ]
  },
  {
   "cell_type": "code",
   "execution_count": 11,
   "id": "24b40acb",
   "metadata": {
    "ExecuteTime": {
     "end_time": "2022-06-07T14:28:28.855621Z",
     "start_time": "2022-06-07T14:28:28.841659Z"
    }
   },
   "outputs": [],
   "source": [
    "sec = StringVar()\n",
    "Entry(root, textvariable = sec, width = 2, font = 'arial 12').place(x=250, y=155)\n",
    "sec.set('00')\n",
    "\n",
    "mins= StringVar()\n",
    "Entry(root, textvariable = mins, width =2, font = 'arial 12').place(x=225, y=155)\n",
    "mins.set('00')\n",
    "\n",
    "hrs= StringVar()\n",
    "Entry(root, textvariable = hrs, width =2, font = 'arial 12').place(x=200, y=155)\n",
    "hrs.set('00')"
   ]
  },
  {
   "cell_type": "code",
   "execution_count": 12,
   "id": "294fdad8",
   "metadata": {
    "ExecuteTime": {
     "end_time": "2022-06-07T14:28:29.170517Z",
     "start_time": "2022-06-07T14:28:29.154593Z"
    }
   },
   "outputs": [],
   "source": [
    "def countdown():\n",
    "    times = int(hrs.get())*3600+ int(mins.get())*60 + int(sec.get())\n",
    "    while times > -1:\n",
    "        minute,second = (times // 60 , times % 60)\n",
    "        \n",
    "        hour = 0\n",
    "        if minute > 60:\n",
    "            hour , minute = (minute // 60 , minute % 60)\n",
    "      \n",
    "        sec.set(second)\n",
    "        mins.set(minute)\n",
    "        hrs.set(hour)\n",
    "   \n",
    "        root.update()\n",
    "        time.sleep(1)\n",
    "\n",
    "        if(times == 0):\n",
    "            try:\n",
    "                playsound('Loud_Alarm_Clock.mp3')\n",
    "            except:\n",
    "                print(\"Some error with sound.\")\n",
    "            sec.set('00')\n",
    "            mins.set('00')\n",
    "            hrs.set('00')\n",
    "        times -= 1"
   ]
  },
  {
   "cell_type": "code",
   "execution_count": 13,
   "id": "46633614",
   "metadata": {
    "ExecuteTime": {
     "end_time": "2022-06-07T15:08:48.680222Z",
     "start_time": "2022-06-07T14:28:29.331995Z"
    }
   },
   "outputs": [],
   "source": [
    "Label(root, font ='arial 15 bold', text = 'set the time',   bg ='papaya whip').place(x = 40 ,y = 150)\n",
    "\n",
    "Button(root, text='START', bd ='5', command = countdown, bg = 'antique white', font = 'arial 10 bold').place(x=150, y=210)\n",
    " \n",
    "root.mainloop()"
   ]
  },
  {
   "cell_type": "code",
   "execution_count": null,
   "id": "1e01652a",
   "metadata": {},
   "outputs": [],
   "source": []
  }
 ],
 "metadata": {
  "kernelspec": {
   "display_name": "Python 3 (ipykernel)",
   "language": "python",
   "name": "python3"
  },
  "language_info": {
   "codemirror_mode": {
    "name": "ipython",
    "version": 3
   },
   "file_extension": ".py",
   "mimetype": "text/x-python",
   "name": "python",
   "nbconvert_exporter": "python",
   "pygments_lexer": "ipython3",
   "version": "3.8.8"
  },
  "toc": {
   "base_numbering": 1,
   "nav_menu": {},
   "number_sections": false,
   "sideBar": true,
   "skip_h1_title": false,
   "title_cell": "Table of Contents",
   "title_sidebar": "Contents",
   "toc_cell": false,
   "toc_position": {},
   "toc_section_display": true,
   "toc_window_display": false
  },
  "varInspector": {
   "cols": {
    "lenName": 16,
    "lenType": 16,
    "lenVar": 40
   },
   "kernels_config": {
    "python": {
     "delete_cmd_postfix": "",
     "delete_cmd_prefix": "del ",
     "library": "var_list.py",
     "varRefreshCmd": "print(var_dic_list())"
    },
    "r": {
     "delete_cmd_postfix": ") ",
     "delete_cmd_prefix": "rm(",
     "library": "var_list.r",
     "varRefreshCmd": "cat(var_dic_list()) "
    }
   },
   "types_to_exclude": [
    "module",
    "function",
    "builtin_function_or_method",
    "instance",
    "_Feature"
   ],
   "window_display": false
  }
 },
 "nbformat": 4,
 "nbformat_minor": 5
}
