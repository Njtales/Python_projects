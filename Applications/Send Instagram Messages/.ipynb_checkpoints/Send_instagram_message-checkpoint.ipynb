{
 "cells": [
  {
   "cell_type": "markdown",
   "id": "ee5837e5",
   "metadata": {},
   "source": [
    "## Send_instagram_message"
   ]
  },
  {
   "cell_type": "code",
   "execution_count": 8,
   "id": "a83c543c",
   "metadata": {
    "ExecuteTime": {
     "end_time": "2022-06-20T14:55:02.843603Z",
     "start_time": "2022-06-20T14:54:59.830221Z"
    }
   },
   "outputs": [
    {
     "name": "stdout",
     "output_type": "stream",
     "text": [
      "Requirement already satisfied: instabot in d:\\users\\nyk-pc\\anaconda3\\lib\\site-packages (0.117.0)\n",
      "Requirement already satisfied: tqdm>=4.41.1 in d:\\users\\nyk-pc\\anaconda3\\lib\\site-packages (from instabot) (4.64.0)\n",
      "Requirement already satisfied: schedule>=0.6.0 in d:\\users\\nyk-pc\\anaconda3\\lib\\site-packages (from instabot) (1.1.0)\n",
      "Requirement already satisfied: mock>=3.0.5 in d:\\users\\nyk-pc\\anaconda3\\lib\\site-packages (from instabot) (4.0.3)\n",
      "Requirement already satisfied: pytest>=4.6.9 in d:\\users\\nyk-pc\\anaconda3\\lib\\site-packages (from instabot) (7.1.2)\n",
      "Requirement already satisfied: chardet>=3.0.4 in d:\\users\\nyk-pc\\anaconda3\\lib\\site-packages (from instabot) (4.0.0)\n",
      "Requirement already satisfied: moviepy>=1.0.1 in d:\\users\\nyk-pc\\anaconda3\\lib\\site-packages (from instabot) (1.0.3)\n",
      "Requirement already satisfied: requests>=2.22.0 in d:\\users\\nyk-pc\\anaconda3\\lib\\site-packages (from instabot) (2.27.1)\n",
      "Requirement already satisfied: pysocks>=1.7.1 in d:\\users\\nyk-pc\\anaconda3\\lib\\site-packages (from instabot) (1.7.1)\n",
      "Requirement already satisfied: urllib3>=1.25.7 in d:\\users\\nyk-pc\\anaconda3\\lib\\site-packages (from instabot) (1.26.9)\n",
      "Requirement already satisfied: Pillow>=6.2.2 in d:\\users\\nyk-pc\\anaconda3\\lib\\site-packages (from instabot) (9.1.0)\n",
      "Requirement already satisfied: requests-toolbelt>=0.9.1 in d:\\users\\nyk-pc\\anaconda3\\lib\\site-packages (from instabot) (0.9.1)\n",
      "Requirement already satisfied: huepy>=1.2.1 in d:\\users\\nyk-pc\\anaconda3\\lib\\site-packages (from instabot) (1.2.1)\n",
      "Requirement already satisfied: pytz>=2019.3 in d:\\users\\nyk-pc\\anaconda3\\lib\\site-packages (from instabot) (2022.1)\n",
      "Requirement already satisfied: certifi>=2019.11.28 in d:\\users\\nyk-pc\\anaconda3\\lib\\site-packages (from instabot) (2021.10.8)\n",
      "Requirement already satisfied: idna>=2.8 in d:\\users\\nyk-pc\\anaconda3\\lib\\site-packages (from instabot) (3.3)\n",
      "Requirement already satisfied: responses>=0.10.9 in d:\\users\\nyk-pc\\anaconda3\\lib\\site-packages (from instabot) (0.21.0)\n",
      "Requirement already satisfied: future>=0.18.2 in d:\\users\\nyk-pc\\anaconda3\\lib\\site-packages (from instabot) (0.18.2)\n",
      "Requirement already satisfied: six>=1.14.0 in d:\\users\\nyk-pc\\anaconda3\\lib\\site-packages (from instabot) (1.16.0)\n",
      "Requirement already satisfied: numpy>=1.17.3 in d:\\users\\nyk-pc\\anaconda3\\lib\\site-packages (from moviepy>=1.0.1->instabot) (1.21.5)\n",
      "Requirement already satisfied: imageio<3.0,>=2.5 in d:\\users\\nyk-pc\\anaconda3\\lib\\site-packages (from moviepy>=1.0.1->instabot) (2.19.3)\n",
      "Requirement already satisfied: imageio-ffmpeg>=0.2.0 in d:\\users\\nyk-pc\\anaconda3\\lib\\site-packages (from moviepy>=1.0.1->instabot) (0.4.7)\n",
      "Requirement already satisfied: decorator<5.0,>=4.0.2 in d:\\users\\nyk-pc\\anaconda3\\lib\\site-packages (from moviepy>=1.0.1->instabot) (4.4.2)\n",
      "Requirement already satisfied: proglog<=1.0.0 in d:\\users\\nyk-pc\\anaconda3\\lib\\site-packages (from moviepy>=1.0.1->instabot) (0.1.10)\n",
      "Requirement already satisfied: colorama in d:\\users\\nyk-pc\\anaconda3\\lib\\site-packages (from pytest>=4.6.9->instabot) (0.4.4)\n",
      "Requirement already satisfied: py>=1.8.2 in d:\\users\\nyk-pc\\anaconda3\\lib\\site-packages (from pytest>=4.6.9->instabot) (1.11.0)\n",
      "Requirement already satisfied: iniconfig in d:\\users\\nyk-pc\\anaconda3\\lib\\site-packages (from pytest>=4.6.9->instabot) (1.1.1)\n",
      "Requirement already satisfied: attrs>=19.2.0 in d:\\users\\nyk-pc\\anaconda3\\lib\\site-packages (from pytest>=4.6.9->instabot) (21.4.0)\n",
      "Requirement already satisfied: atomicwrites>=1.0 in d:\\users\\nyk-pc\\anaconda3\\lib\\site-packages (from pytest>=4.6.9->instabot) (1.4.0)\n",
      "Requirement already satisfied: tomli>=1.0.0 in d:\\users\\nyk-pc\\anaconda3\\lib\\site-packages (from pytest>=4.6.9->instabot) (2.0.1)\n",
      "Requirement already satisfied: packaging in d:\\users\\nyk-pc\\anaconda3\\lib\\site-packages (from pytest>=4.6.9->instabot) (21.3)\n",
      "Requirement already satisfied: pluggy<2.0,>=0.12 in d:\\users\\nyk-pc\\anaconda3\\lib\\site-packages (from pytest>=4.6.9->instabot) (1.0.0)\n",
      "Requirement already satisfied: charset-normalizer~=2.0.0 in d:\\users\\nyk-pc\\anaconda3\\lib\\site-packages (from requests>=2.22.0->instabot) (2.0.12)\n",
      "Requirement already satisfied: pyparsing!=3.0.5,>=2.0.2 in d:\\users\\nyk-pc\\anaconda3\\lib\\site-packages (from packaging->pytest>=4.6.9->instabot) (3.0.7)\n"
     ]
    }
   ],
   "source": [
    "!pip install instabot"
   ]
  },
  {
   "cell_type": "code",
   "execution_count": 12,
   "id": "6c82e608",
   "metadata": {
    "ExecuteTime": {
     "end_time": "2022-06-20T14:56:37.112200Z",
     "start_time": "2022-06-20T14:56:37.089233Z"
    }
   },
   "outputs": [
    {
     "name": "stderr",
     "output_type": "stream",
     "text": [
      "2022-06-20 15:56:37,092 - INFO - Instabot version: 0.117.0 Started\n",
      "2022-06-20 15:56:37,092 - INFO - Instabot version: 0.117.0 Started\n",
      "2022-06-20 15:56:37,092 - INFO - Instabot version: 0.117.0 Started\n",
      "2022-06-20 15:56:37,092 - INFO - Instabot version: 0.117.0 Started\n",
      "2022-06-20 15:56:37,092 - INFO - Instabot version: 0.117.0 Started\n",
      "2022-06-20 15:56:37,092 - INFO - Instabot version: 0.117.0 Started\n"
     ]
    },
    {
     "name": "stdout",
     "output_type": "stream",
     "text": [
      "True\n"
     ]
    }
   ],
   "source": [
    "from instabot import Bot\n",
    "bot = Bot()\n",
    "\n",
    "bot.login(username=\"Your Username\", password=\"Your Password\")\n",
    "bot.send_message(\"Hey,\", [\"Receiver's Username\"])"
   ]
  }
 ],
 "metadata": {
  "kernelspec": {
   "display_name": "Python 3 (ipykernel)",
   "language": "python",
   "name": "python3"
  },
  "language_info": {
   "codemirror_mode": {
    "name": "ipython",
    "version": 3
   },
   "file_extension": ".py",
   "mimetype": "text/x-python",
   "name": "python",
   "nbconvert_exporter": "python",
   "pygments_lexer": "ipython3",
   "version": "3.8.8"
  },
  "toc": {
   "base_numbering": 1,
   "nav_menu": {},
   "number_sections": true,
   "sideBar": true,
   "skip_h1_title": false,
   "title_cell": "Table of Contents",
   "title_sidebar": "Contents",
   "toc_cell": false,
   "toc_position": {},
   "toc_section_display": true,
   "toc_window_display": false
  },
  "varInspector": {
   "cols": {
    "lenName": 16,
    "lenType": 16,
    "lenVar": 40
   },
   "kernels_config": {
    "python": {
     "delete_cmd_postfix": "",
     "delete_cmd_prefix": "del ",
     "library": "var_list.py",
     "varRefreshCmd": "print(var_dic_list())"
    },
    "r": {
     "delete_cmd_postfix": ") ",
     "delete_cmd_prefix": "rm(",
     "library": "var_list.r",
     "varRefreshCmd": "cat(var_dic_list()) "
    }
   },
   "types_to_exclude": [
    "module",
    "function",
    "builtin_function_or_method",
    "instance",
    "_Feature"
   ],
   "window_display": false
  }
 },
 "nbformat": 4,
 "nbformat_minor": 5
}
