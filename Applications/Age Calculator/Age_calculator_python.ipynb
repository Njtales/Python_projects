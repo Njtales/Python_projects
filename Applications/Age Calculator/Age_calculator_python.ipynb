{
 "cells": [
  {
   "cell_type": "markdown",
   "id": "5a2216f2",
   "metadata": {},
   "source": [
    "## Age_calculator_python"
   ]
  },
  {
   "cell_type": "code",
   "execution_count": 2,
   "id": "84bb06a2",
   "metadata": {
    "ExecuteTime": {
     "end_time": "2022-06-20T18:18:09.367083Z",
     "start_time": "2022-06-20T18:18:09.351083Z"
    }
   },
   "outputs": [
    {
     "name": "stdout",
     "output_type": "stream",
     "text": [
      "26\n"
     ]
    }
   ],
   "source": [
    "def ageCalculator(y, m, d):\n",
    "    import datetime\n",
    "    today = datetime.datetime.now().date()\n",
    "    dob = datetime.date(y, m, d)\n",
    "    age = int((today-dob).days / 365.25)\n",
    "    print(age)\n",
    "\n",
    "# Passing year, month, date format\n",
    "ageCalculator(1995, 9, 3)"
   ]
  }
 ],
 "metadata": {
  "kernelspec": {
   "display_name": "Python 3 (ipykernel)",
   "language": "python",
   "name": "python3"
  },
  "language_info": {
   "codemirror_mode": {
    "name": "ipython",
    "version": 3
   },
   "file_extension": ".py",
   "mimetype": "text/x-python",
   "name": "python",
   "nbconvert_exporter": "python",
   "pygments_lexer": "ipython3",
   "version": "3.8.8"
  },
  "toc": {
   "base_numbering": 1,
   "nav_menu": {},
   "number_sections": true,
   "sideBar": true,
   "skip_h1_title": false,
   "title_cell": "Table of Contents",
   "title_sidebar": "Contents",
   "toc_cell": false,
   "toc_position": {},
   "toc_section_display": true,
   "toc_window_display": false
  },
  "varInspector": {
   "cols": {
    "lenName": 16,
    "lenType": 16,
    "lenVar": 40
   },
   "kernels_config": {
    "python": {
     "delete_cmd_postfix": "",
     "delete_cmd_prefix": "del ",
     "library": "var_list.py",
     "varRefreshCmd": "print(var_dic_list())"
    },
    "r": {
     "delete_cmd_postfix": ") ",
     "delete_cmd_prefix": "rm(",
     "library": "var_list.r",
     "varRefreshCmd": "cat(var_dic_list()) "
    }
   },
   "types_to_exclude": [
    "module",
    "function",
    "builtin_function_or_method",
    "instance",
    "_Feature"
   ],
   "window_display": false
  }
 },
 "nbformat": 4,
 "nbformat_minor": 5
}
