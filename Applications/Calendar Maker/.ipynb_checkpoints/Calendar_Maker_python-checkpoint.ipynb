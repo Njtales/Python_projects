{
 "cells": [
  {
   "cell_type": "markdown",
   "id": "68da458c",
   "metadata": {},
   "source": [
    "# Calendar_Maker_python"
   ]
  },
  {
   "cell_type": "code",
   "execution_count": 3,
   "id": "e0836a29",
   "metadata": {},
   "outputs": [
    {
     "name": "stdout",
     "output_type": "stream",
     "text": [
      "Enter the year for the calendar : 2029\n",
      "Enter the month for the calendar, 1-12 : 12\n"
     ]
    }
   ],
   "source": [
    "year = input(\"Enter the year for the calendar : \")\n",
    "month = input(\"Enter the month for the calendar, 1-12 : \")"
   ]
  },
  {
   "cell_type": "code",
   "execution_count": 4,
   "id": "d72021b1",
   "metadata": {},
   "outputs": [
    {
     "name": "stdout",
     "output_type": "stream",
     "text": [
      "Enter the year for the calendar : 2025\n",
      "Enter the month for the calendar, 1-12 :2\n"
     ]
    }
   ],
   "source": [
    "import datetime\n",
    "\n",
    "# Set up the constants:\n",
    "DAYS = ('Sunday', 'Monday', 'Tuesday', 'Wednesday', 'Thursday', 'Friday', 'Saturday')\n",
    "MONTHS = ('January', 'February', 'March', 'April', 'May', 'June', 'July', 'August', 'September', 'October', 'November', 'December')\n",
    "\n",
    "while True:  # Loop to get a year from the user.\n",
    "    year = input('Enter the year for the calendar : ')\n",
    "\n",
    "    if year.isdecimal() and int(year) > 0:\n",
    "        year = int(year)\n",
    "        break\n",
    "\n",
    "    print('Please enter a numeric year, like 2023.')\n",
    "    continue\n",
    "\n",
    "while True:  # Loop to get a month from the user.\n",
    "    month = input('Enter the month for the calendar, 1-12 :')\n",
    "\n",
    "    if not month.isdecimal():\n",
    "        print('Please enter a numeric month, like 3 for March.')\n",
    "        continue\n",
    "\n",
    "    month = int(month)\n",
    "    if 1 <= month <= 12:\n",
    "        break\n",
    "        \n",
    "    print('Please enter a number from 1 to 12.')\n"
   ]
  },
  {
   "cell_type": "code",
   "execution_count": 5,
   "id": "17b0683b",
   "metadata": {},
   "outputs": [],
   "source": [
    "def getCalendarFor(year, month):\n",
    "    calText = ''  \n",
    "    \n",
    "    # Put the month and year at the top of the calendar:\n",
    "    calText += (' ' * 34) + MONTHS[month - 1] + ' ' + str(year) + '\\n'\n",
    "\n",
    "    # Add the days of the week labels to the calendar:\n",
    "\n",
    "    calText += '...Sunday.....Monday....Tuesday...Wednesday...Thursday....Friday....Saturday..\\n'\n",
    "\n",
    "    # The horizontal line string that separate weeks:\n",
    "    weekSeparator = ('+----------' * 7) + '+\\n'\n",
    "\n",
    "    # The blank rows have ten spaces in between the | day separators:\n",
    "    blankRow = ('|          ' * 7) + '|\\n'\n",
    "\n",
    "    # Get the first date in the month. (The datetime module handles all\n",
    "    # the complicated calendar stuff for us here.)\n",
    "    currentDate = datetime.date(year, month, 1)\n",
    "\n",
    "    # Roll back currentDate until it is Sunday. (weekday() returns 6\n",
    "    # for Sunday, not 0.)\n",
    "    while currentDate.weekday() != 6:\n",
    "        currentDate -= datetime.timedelta(days=1)\n",
    "\n",
    "    while True:  # Loop over each week in the month.\n",
    "        calText += weekSeparator\n",
    "\n",
    "        # dayNumberRow is the row with the day number labels:\n",
    "        dayNumberRow = ''\n",
    "        for i in range(7):\n",
    "            dayNumberLabel = str(currentDate.day).rjust(2)\n",
    "            dayNumberRow += '|' + dayNumberLabel + (' ' * 8)\n",
    "            currentDate += datetime.timedelta(days=1) # Go to next day.\n",
    "        dayNumberRow += '|\\n'  # Add the vertical line after Saturday.\n",
    "\n",
    "        # Add the day number row and 3 blank rows to the calendar text.\n",
    "        calText += dayNumberRow\n",
    "        for i in range(3):  # (!) Try changing the 4 to a 5 or 10.\n",
    "            calText += blankRow\n",
    "\n",
    "        # Check if we're done with the month:\n",
    "        if currentDate.month != month:\n",
    "            break\n",
    "\n",
    "    # Add the horizontal line at the very bottom of the calendar.\n",
    "    calText += weekSeparator\n",
    "    return calText"
   ]
  },
  {
   "cell_type": "code",
   "execution_count": 6,
   "id": "bcfee4c2",
   "metadata": {},
   "outputs": [
    {
     "name": "stdout",
     "output_type": "stream",
     "text": [
      "                                  February 2025\n",
      "...Sunday.....Monday....Tuesday...Wednesday...Thursday....Friday....Saturday..\n",
      "+----------+----------+----------+----------+----------+----------+----------+\n",
      "|26        |27        |28        |29        |30        |31        | 1        |\n",
      "|          |          |          |          |          |          |          |\n",
      "|          |          |          |          |          |          |          |\n",
      "|          |          |          |          |          |          |          |\n",
      "+----------+----------+----------+----------+----------+----------+----------+\n",
      "| 2        | 3        | 4        | 5        | 6        | 7        | 8        |\n",
      "|          |          |          |          |          |          |          |\n",
      "|          |          |          |          |          |          |          |\n",
      "|          |          |          |          |          |          |          |\n",
      "+----------+----------+----------+----------+----------+----------+----------+\n",
      "| 9        |10        |11        |12        |13        |14        |15        |\n",
      "|          |          |          |          |          |          |          |\n",
      "|          |          |          |          |          |          |          |\n",
      "|          |          |          |          |          |          |          |\n",
      "+----------+----------+----------+----------+----------+----------+----------+\n",
      "|16        |17        |18        |19        |20        |21        |22        |\n",
      "|          |          |          |          |          |          |          |\n",
      "|          |          |          |          |          |          |          |\n",
      "|          |          |          |          |          |          |          |\n",
      "+----------+----------+----------+----------+----------+----------+----------+\n",
      "|23        |24        |25        |26        |27        |28        | 1        |\n",
      "|          |          |          |          |          |          |          |\n",
      "|          |          |          |          |          |          |          |\n",
      "|          |          |          |          |          |          |          |\n",
      "+----------+----------+----------+----------+----------+----------+----------+\n",
      "\n"
     ]
    }
   ],
   "source": [
    "calText = getCalendarFor(year, month)\n",
    "print(calText)  # Display the calendar.\n",
    "\n",
    "# Save the calendar to a text file:\n",
    "calendarFilename = 'calendar_{}_{}.txt'.format(year, month)\n",
    "with open(calendarFilename, 'w') as fileObj:\n",
    "    fileObj.write(calText)\n",
    "\n",
    "# print('Saved to ' + calendarFilename)"
   ]
  }
 ],
 "metadata": {
  "kernelspec": {
   "display_name": "Python 3 (ipykernel)",
   "language": "python",
   "name": "python3"
  },
  "language_info": {
   "codemirror_mode": {
    "name": "ipython",
    "version": 3
   },
   "file_extension": ".py",
   "mimetype": "text/x-python",
   "name": "python",
   "nbconvert_exporter": "python",
   "pygments_lexer": "ipython3",
   "version": "3.8.8"
  }
 },
 "nbformat": 4,
 "nbformat_minor": 5
}
