{
 "cells": [
  {
   "cell_type": "markdown",
   "id": "abe11af8",
   "metadata": {
    "ExecuteTime": {
     "end_time": "2022-06-20T20:00:33.747879Z",
     "start_time": "2022-06-20T20:00:33.740897Z"
    }
   },
   "source": [
    "## Text_to_Handwriting"
   ]
  },
  {
   "cell_type": "code",
   "execution_count": 3,
   "id": "d60d4ad2",
   "metadata": {
    "ExecuteTime": {
     "end_time": "2022-06-20T20:02:05.143688Z",
     "start_time": "2022-06-20T20:00:47.661227Z"
    },
    "collapsed": true
   },
   "outputs": [
    {
     "name": "stdout",
     "output_type": "stream",
     "text": [
      "Collecting pywhatkit\n",
      "  Downloading pywhatkit-5.3-py3-none-any.whl (15 kB)\n",
      "Requirement already satisfied: wikipedia in d:\\users\\nyk-pc\\anaconda3\\lib\\site-packages (from pywhatkit) (1.4.0)\n",
      "Collecting pyautogui\n",
      "  Downloading PyAutoGUI-0.9.53.tar.gz (59 kB)\n",
      "     ---------------------------------------- 59.0/59.0 KB ? eta 0:00:00\n",
      "  Preparing metadata (setup.py): started\n",
      "  Preparing metadata (setup.py): finished with status 'done'\n",
      "Requirement already satisfied: Pillow in d:\\users\\nyk-pc\\anaconda3\\lib\\site-packages (from pywhatkit) (9.1.0)\n",
      "Requirement already satisfied: requests in d:\\users\\nyk-pc\\anaconda3\\lib\\site-packages (from pywhatkit) (2.27.1)\n",
      "Collecting pymsgbox\n",
      "  Downloading PyMsgBox-1.0.9.tar.gz (18 kB)\n",
      "  Installing build dependencies: started\n",
      "  Installing build dependencies: finished with status 'done'\n",
      "  Getting requirements to build wheel: started\n",
      "  Getting requirements to build wheel: finished with status 'done'\n",
      "  Preparing metadata (pyproject.toml): started\n",
      "  Preparing metadata (pyproject.toml): finished with status 'done'\n",
      "Collecting PyTweening>=1.0.1\n",
      "  Downloading pytweening-1.0.4.tar.gz (14 kB)\n",
      "  Preparing metadata (setup.py): started\n",
      "  Preparing metadata (setup.py): finished with status 'done'\n",
      "Collecting pyscreeze>=0.1.21\n",
      "  Downloading PyScreeze-0.1.28.tar.gz (25 kB)\n",
      "  Installing build dependencies: started\n",
      "  Installing build dependencies: finished with status 'done'\n",
      "  Getting requirements to build wheel: started\n",
      "  Getting requirements to build wheel: finished with status 'done'\n",
      "  Preparing metadata (pyproject.toml): started\n",
      "  Preparing metadata (pyproject.toml): finished with status 'done'\n",
      "Collecting pygetwindow>=0.0.5\n",
      "  Downloading PyGetWindow-0.0.9.tar.gz (9.7 kB)\n",
      "  Preparing metadata (setup.py): started\n",
      "  Preparing metadata (setup.py): finished with status 'done'\n",
      "Collecting mouseinfo\n",
      "  Using cached MouseInfo-0.1.3-py3-none-any.whl\n",
      "Requirement already satisfied: certifi>=2017.4.17 in d:\\users\\nyk-pc\\anaconda3\\lib\\site-packages (from requests->pywhatkit) (2021.10.8)\n",
      "Requirement already satisfied: charset-normalizer~=2.0.0 in d:\\users\\nyk-pc\\anaconda3\\lib\\site-packages (from requests->pywhatkit) (2.0.12)\n",
      "Requirement already satisfied: idna<4,>=2.5 in d:\\users\\nyk-pc\\anaconda3\\lib\\site-packages (from requests->pywhatkit) (3.3)\n",
      "Requirement already satisfied: urllib3<1.27,>=1.21.1 in d:\\users\\nyk-pc\\anaconda3\\lib\\site-packages (from requests->pywhatkit) (1.26.9)\n",
      "Requirement already satisfied: beautifulsoup4 in d:\\users\\nyk-pc\\anaconda3\\lib\\site-packages (from wikipedia->pywhatkit) (4.10.0)\n",
      "Collecting pyrect\n",
      "  Downloading PyRect-0.2.0.tar.gz (17 kB)\n",
      "  Preparing metadata (setup.py): started\n",
      "  Preparing metadata (setup.py): finished with status 'done'\n",
      "Requirement already satisfied: soupsieve>1.2 in d:\\users\\nyk-pc\\anaconda3\\lib\\site-packages (from beautifulsoup4->wikipedia->pywhatkit) (2.3.1)\n",
      "Collecting pyperclip\n",
      "  Downloading pyperclip-1.8.2.tar.gz (20 kB)\n",
      "  Preparing metadata (setup.py): started\n",
      "  Preparing metadata (setup.py): finished with status 'done'\n",
      "Building wheels for collected packages: pyautogui, pygetwindow, pyscreeze, PyTweening, pymsgbox, pyperclip, pyrect\n",
      "  Building wheel for pyautogui (setup.py): started\n",
      "  Building wheel for pyautogui (setup.py): finished with status 'done'\n",
      "  Created wheel for pyautogui: filename=PyAutoGUI-0.9.53-py3-none-any.whl size=36614 sha256=d38e96f94c9c15d616d91aa42cbddc84be3067d71208f11af9a38e4e36481325\n",
      "  Stored in directory: c:\\users\\nyk-pc\\appdata\\local\\pip\\cache\\wheels\\54\\04\\f7\\55704a9d374ed923785a4fdc0ef00151fa25306b3b93345532\n",
      "  Building wheel for pygetwindow (setup.py): started\n",
      "  Building wheel for pygetwindow (setup.py): finished with status 'done'\n",
      "  Created wheel for pygetwindow: filename=PyGetWindow-0.0.9-py3-none-any.whl size=11081 sha256=63efbd742155c6432737021f8f7fb19a01efafc06997d1fc010f0e1c39bb2fcf\n",
      "  Stored in directory: c:\\users\\nyk-pc\\appdata\\local\\pip\\cache\\wheels\\91\\e3\\04\\184bda98ec7f7d5f0ba1f372bcf7b3ba86325151ae1dd690fe\n",
      "  Building wheel for pyscreeze (pyproject.toml): started\n",
      "  Building wheel for pyscreeze (pyproject.toml): finished with status 'done'\n",
      "  Created wheel for pyscreeze: filename=PyScreeze-0.1.28-py3-none-any.whl size=13009 sha256=42fbc5c72669e1389c661b2b8476c9bdc4f583b12305ad3fd04b6de0398bef2c\n",
      "  Stored in directory: c:\\users\\nyk-pc\\appdata\\local\\pip\\cache\\wheels\\b1\\b0\\5c\\9fb5beb2d6c708479a670e92f4ab3b54523a15c9cd4a46e24e\n",
      "  Building wheel for PyTweening (setup.py): started\n",
      "  Building wheel for PyTweening (setup.py): finished with status 'done'\n",
      "  Created wheel for PyTweening: filename=pytweening-1.0.4-py3-none-any.whl size=5854 sha256=46cf0c43608dd68930ccb9c2247a89d0c1eda78388883cd6fd34d9ec762dce57\n",
      "  Stored in directory: c:\\users\\nyk-pc\\appdata\\local\\pip\\cache\\wheels\\a2\\1b\\69\\dc477653ccc19228bf53af76c623e4e82e5dc1b6f78d5c4d35\n",
      "  Building wheel for pymsgbox (pyproject.toml): started\n",
      "  Building wheel for pymsgbox (pyproject.toml): finished with status 'done'\n",
      "  Created wheel for pymsgbox: filename=PyMsgBox-1.0.9-py3-none-any.whl size=7406 sha256=bd36fb0fa3ac6f1c39eb4f40e31db7d9cdd15bdcea622a3990443a1ac30ed7ae\n",
      "  Stored in directory: c:\\users\\nyk-pc\\appdata\\local\\pip\\cache\\wheels\\91\\28\\0d\\f4eb606d38276836237d6dc2abf094241e6db5682a126e0389\n",
      "  Building wheel for pyperclip (setup.py): started\n",
      "  Building wheel for pyperclip (setup.py): finished with status 'done'\n",
      "  Created wheel for pyperclip: filename=pyperclip-1.8.2-py3-none-any.whl size=11137 sha256=a6b9feec49446ef5f31b9a62734390ad34338a402f52fe3e261f5594a666c459\n",
      "  Stored in directory: c:\\users\\nyk-pc\\appdata\\local\\pip\\cache\\wheels\\7f\\1a\\65\\84ff8c386bec21fca6d220ea1f5498a0367883a78dd5ba6122\n",
      "  Building wheel for pyrect (setup.py): started\n",
      "  Building wheel for pyrect (setup.py): finished with status 'done'\n",
      "  Created wheel for pyrect: filename=PyRect-0.2.0-py2.py3-none-any.whl size=11196 sha256=8c73c585752e191c56988ac135ac6ea7c1107c225ccbdaf881134aa11c58f566\n",
      "  Stored in directory: c:\\users\\nyk-pc\\appdata\\local\\pip\\cache\\wheels\\1b\\c1\\cc\\3d6515746ab138a303b6b5d38181399703488f8109b734e768\n",
      "Successfully built pyautogui pygetwindow pyscreeze PyTweening pymsgbox pyperclip pyrect\n",
      "Installing collected packages: PyTweening, pyrect, pyperclip, pymsgbox, pyscreeze, pygetwindow, mouseinfo, pyautogui, pywhatkit\n",
      "Successfully installed PyTweening-1.0.4 mouseinfo-0.1.3 pyautogui-0.9.53 pygetwindow-0.0.9 pymsgbox-1.0.9 pyperclip-1.8.2 pyrect-0.2.0 pyscreeze-0.1.28 pywhatkit-5.3\n"
     ]
    }
   ],
   "source": [
    "!pip install pywhatkit"
   ]
  },
  {
   "cell_type": "code",
   "execution_count": null,
   "id": "7ec99013",
   "metadata": {
    "ExecuteTime": {
     "start_time": "2022-06-20T20:03:30.144Z"
    }
   },
   "outputs": [],
   "source": [
    "import pywhatkit as kit\n",
    "import cv2\n",
    "\n",
    "kit.text_to_handwriting(\"Hope you are doing well!\", save_to=\"handwriting.png\")\n",
    "img = cv2.imread(\"handwriting.png\")\n",
    "cv2.imshow(\"Text to Handwriting\", img)\n",
    "cv2.waitKey(0)\n",
    "cv2.destroyAllWindows()"
   ]
  }
 ],
 "metadata": {
  "kernelspec": {
   "display_name": "Python 3 (ipykernel)",
   "language": "python",
   "name": "python3"
  },
  "language_info": {
   "codemirror_mode": {
    "name": "ipython",
    "version": 3
   },
   "file_extension": ".py",
   "mimetype": "text/x-python",
   "name": "python",
   "nbconvert_exporter": "python",
   "pygments_lexer": "ipython3",
   "version": "3.8.8"
  },
  "toc": {
   "base_numbering": 1,
   "nav_menu": {},
   "number_sections": true,
   "sideBar": true,
   "skip_h1_title": false,
   "title_cell": "Table of Contents",
   "title_sidebar": "Contents",
   "toc_cell": false,
   "toc_position": {},
   "toc_section_display": true,
   "toc_window_display": false
  },
  "varInspector": {
   "cols": {
    "lenName": 16,
    "lenType": 16,
    "lenVar": 40
   },
   "kernels_config": {
    "python": {
     "delete_cmd_postfix": "",
     "delete_cmd_prefix": "del ",
     "library": "var_list.py",
     "varRefreshCmd": "print(var_dic_list())"
    },
    "r": {
     "delete_cmd_postfix": ") ",
     "delete_cmd_prefix": "rm(",
     "library": "var_list.r",
     "varRefreshCmd": "cat(var_dic_list()) "
    }
   },
   "types_to_exclude": [
    "module",
    "function",
    "builtin_function_or_method",
    "instance",
    "_Feature"
   ],
   "window_display": false
  }
 },
 "nbformat": 4,
 "nbformat_minor": 5
}
