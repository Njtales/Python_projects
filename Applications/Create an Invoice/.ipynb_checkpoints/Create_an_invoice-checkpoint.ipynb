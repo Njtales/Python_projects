{
 "cells": [
  {
   "cell_type": "markdown",
   "id": "ba006461",
   "metadata": {},
   "source": [
    "# Create_an_invoice"
   ]
  },
  {
   "cell_type": "code",
   "execution_count": 12,
   "id": "0f386872",
   "metadata": {
    "ExecuteTime": {
     "end_time": "2022-06-21T18:39:44.467465Z",
     "start_time": "2022-06-21T18:39:44.461484Z"
    }
   },
   "outputs": [],
   "source": [
    "product1_name, product1_price = 'Books', 50.49\n",
    "product2_name, product2_price = 'Computer', 548.99\n",
    "product3_name, product3_price = 'Monitor', 256.29"
   ]
  },
  {
   "cell_type": "code",
   "execution_count": 13,
   "id": "ca284832",
   "metadata": {
    "ExecuteTime": {
     "end_time": "2022-06-21T18:39:44.623252Z",
     "start_time": "2022-06-21T18:39:44.614276Z"
    }
   },
   "outputs": [],
   "source": [
    "company_name = 'ntales, inc.'\n",
    "company_address = 'Claredale Street'\n",
    "company_city = 'London'"
   ]
  },
  {
   "cell_type": "code",
   "execution_count": 14,
   "id": "c92cf3fc",
   "metadata": {
    "ExecuteTime": {
     "end_time": "2022-06-21T18:39:44.793784Z",
     "start_time": "2022-06-21T18:39:44.789797Z"
    }
   },
   "outputs": [
    {
     "name": "stdout",
     "output_type": "stream",
     "text": [
      "**************************************************\n"
     ]
    }
   ],
   "source": [
    "message = 'Thanks for shopping with us today!'\n",
    "# create a top border\n",
    "print('*' * 50)"
   ]
  },
  {
   "cell_type": "code",
   "execution_count": 15,
   "id": "951214d6",
   "metadata": {
    "ExecuteTime": {
     "end_time": "2022-06-21T18:39:44.980994Z",
     "start_time": "2022-06-21T18:39:44.966052Z"
    }
   },
   "outputs": [
    {
     "name": "stdout",
     "output_type": "stream",
     "text": [
      "\t\tNtales, Inc.\n",
      "\t\tClaredale Street\n",
      "\t\tLondon\n",
      "==================================================\n"
     ]
    }
   ],
   "source": [
    "print('\\t\\t{}'.format(company_name.title()))\n",
    "print('\\t\\t{}'.format(company_address.title()))\n",
    "print('\\t\\t{}'.format(company_city.title()))\n",
    "# print a line between sections\n",
    "print('=' * 50)"
   ]
  },
  {
   "cell_type": "code",
   "execution_count": 16,
   "id": "e3cba363",
   "metadata": {
    "ExecuteTime": {
     "end_time": "2022-06-21T18:39:45.136726Z",
     "start_time": "2022-06-21T18:39:45.117740Z"
    }
   },
   "outputs": [
    {
     "name": "stdout",
     "output_type": "stream",
     "text": [
      "\tProduct Name\tProduct Price\n",
      "\tBooks\t\t£50.49\n",
      "\tComputer\t£548.99\n",
      "\tMonitor\t\t£256.29\n"
     ]
    }
   ],
   "source": [
    "print('\\tProduct Name\\tProduct Price')\n",
    "# create a print statement for each item\n",
    "print('\\t{}\\t\\t£{}'.format(product1_name.title(), product1_price))\n",
    "print('\\t{}\\t£{}'.format(product2_name.title(), product2_price))\n",
    "print('\\t{}\\t\\t£{}'.format(product3_name.title(), product3_price))"
   ]
  },
  {
   "cell_type": "code",
   "execution_count": 17,
   "id": "a7a024be",
   "metadata": {
    "ExecuteTime": {
     "end_time": "2022-06-21T18:39:45.293845Z",
     "start_time": "2022-06-21T18:39:45.285866Z"
    }
   },
   "outputs": [
    {
     "name": "stdout",
     "output_type": "stream",
     "text": [
      "==================================================\n",
      "\t\t\tTotal\n",
      "\t\t\t£855.77\n"
     ]
    }
   ],
   "source": [
    "print('=' * 50)\n",
    "# print out header for section of total\n",
    "print('\\t\\t\\tTotal')\n",
    "# calculate total price and print out\n",
    "total = product1_price + product2_price + product3_price\n",
    "print('\\t\\t\\t£{}'.format(total))\n",
    "# print a line b"
   ]
  },
  {
   "cell_type": "code",
   "execution_count": 18,
   "id": "98ccd7ca",
   "metadata": {
    "ExecuteTime": {
     "end_time": "2022-06-21T18:39:45.649760Z",
     "start_time": "2022-06-21T18:39:45.638756Z"
    }
   },
   "outputs": [
    {
     "name": "stdout",
     "output_type": "stream",
     "text": [
      "\n",
      "\tThanks for shopping with us today!\n",
      "\n"
     ]
    }
   ],
   "source": [
    "print('\\n\\t{}\\n'.format(message))"
   ]
  },
  {
   "cell_type": "code",
   "execution_count": 20,
   "id": "e8f536c2",
   "metadata": {
    "ExecuteTime": {
     "end_time": "2022-06-21T18:39:59.298421Z",
     "start_time": "2022-06-21T18:39:59.278317Z"
    }
   },
   "outputs": [
    {
     "name": "stdout",
     "output_type": "stream",
     "text": [
      "**************************************************\n",
      "\t\tNtales, Inc.\n",
      "\t\tClaredale Street\n",
      "\t\tLondon\n",
      "==================================================\n",
      "\tProduct Name\tProduct Price\n",
      "\tBooks\t\t£50.49\n",
      "\tComputer\t£548.99\n",
      "\tMonitor\t\t£256.29\n",
      "==================================================\n",
      "\t\t\tTotal\n",
      "\t\t\t£855.77\n",
      "\n",
      "\tThanks for shopping with us today!\n",
      "\n",
      "**************************************************\n"
     ]
    }
   ],
   "source": [
    "print('*' * 50)\n",
    "print('\\t\\t{}'.format(company_name.title()))\n",
    "print('\\t\\t{}'.format(company_address.title()))\n",
    "print('\\t\\t{}'.format(company_city.title()))\n",
    "# print a line between sections\n",
    "print('=' * 50)\n",
    "print('\\tProduct Name\\tProduct Price')\n",
    "# create a print statement for each item\n",
    "print('\\t{}\\t\\t£{}'.format(product1_name.title(), product1_price))\n",
    "print('\\t{}\\t£{}'.format(product2_name.title(), product2_price))\n",
    "print('\\t{}\\t\\t£{}'.format(product3_name.title(), product3_price))\n",
    "print('=' * 50)\n",
    "# print out header for section of total\n",
    "print('\\t\\t\\tTotal')\n",
    "# calculate total price and print out\n",
    "total = product1_price + product2_price + product3_price\n",
    "print('\\t\\t\\t£{}'.format(total))\n",
    "# print a line b\n",
    "print('\\n\\t{}\\n'.format(message))\n",
    "print('*' * 50)"
   ]
  }
 ],
 "metadata": {
  "kernelspec": {
   "display_name": "Python 3 (ipykernel)",
   "language": "python",
   "name": "python3"
  },
  "language_info": {
   "codemirror_mode": {
    "name": "ipython",
    "version": 3
   },
   "file_extension": ".py",
   "mimetype": "text/x-python",
   "name": "python",
   "nbconvert_exporter": "python",
   "pygments_lexer": "ipython3",
   "version": "3.8.8"
  },
  "toc": {
   "base_numbering": 1,
   "nav_menu": {},
   "number_sections": true,
   "sideBar": true,
   "skip_h1_title": false,
   "title_cell": "Table of Contents",
   "title_sidebar": "Contents",
   "toc_cell": false,
   "toc_position": {},
   "toc_section_display": true,
   "toc_window_display": false
  },
  "varInspector": {
   "cols": {
    "lenName": 16,
    "lenType": 16,
    "lenVar": 40
   },
   "kernels_config": {
    "python": {
     "delete_cmd_postfix": "",
     "delete_cmd_prefix": "del ",
     "library": "var_list.py",
     "varRefreshCmd": "print(var_dic_list())"
    },
    "r": {
     "delete_cmd_postfix": ") ",
     "delete_cmd_prefix": "rm(",
     "library": "var_list.r",
     "varRefreshCmd": "cat(var_dic_list()) "
    }
   },
   "types_to_exclude": [
    "module",
    "function",
    "builtin_function_or_method",
    "instance",
    "_Feature"
   ],
   "window_display": false
  }
 },
 "nbformat": 4,
 "nbformat_minor": 5
}
