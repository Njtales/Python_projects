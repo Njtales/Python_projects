{
 "cells": [
  {
   "cell_type": "markdown",
   "id": "eb036c24",
   "metadata": {},
   "source": [
    "# Youtube_downloader"
   ]
  },
  {
   "cell_type": "code",
   "execution_count": 15,
   "id": "595bfb6d",
   "metadata": {},
   "outputs": [],
   "source": [
    "from tkinter import *\n",
    "from pytube import YouTube"
   ]
  },
  {
   "cell_type": "code",
   "execution_count": 31,
   "id": "39cb2452",
   "metadata": {},
   "outputs": [
    {
     "data": {
      "text/plain": [
       "''"
      ]
     },
     "execution_count": 31,
     "metadata": {},
     "output_type": "execute_result"
    }
   ],
   "source": [
    "# creating display window\n",
    "\n",
    "root = Tk()\n",
    "root.geometry('500x300')\n",
    "root.resizable(0,0)\n",
    "root.title(\"Youtube video downloader\")\n",
    "\n",
    "\n",
    "Label(root,text = 'Youtube Video Downloader', font ='arial 20 bold').pack()"
   ]
  },
  {
   "cell_type": "code",
   "execution_count": 33,
   "id": "f77dd9db",
   "metadata": {},
   "outputs": [],
   "source": [
    "# blank field to past link\n",
    "\n",
    "link = StringVar()\n",
    "Label(root, text = 'Paste Link Here:', font = 'arial 15 bold').place(x= 160 , y = 60)\n",
    "link_enter = Entry(root, width = 70,textvariable = link).place(x = 32, y = 90)"
   ]
  },
  {
   "cell_type": "code",
   "execution_count": 34,
   "id": "8fdd88d9",
   "metadata": {},
   "outputs": [],
   "source": [
    "# function to start downloading\n",
    "\n",
    "def Downloader():     \n",
    "    url =YouTube(str(link.get()))\n",
    "    video = url.streams.first()\n",
    "    video.download()\n",
    "    Label(root, text = 'DOWNLOADED', font = 'Calibri 15').place(x= 180 , y = 210)  \n",
    "Button(root,text = 'DOWNLOAD', font = 'arial 15 bold' ,bg = 'pale violet red', padx = 2, command = Downloader).place(x=180 ,y = 150)\n",
    "root.mainloop()"
   ]
  }
 ],
 "metadata": {
  "kernelspec": {
   "display_name": "Python 3 (ipykernel)",
   "language": "python",
   "name": "python3"
  },
  "language_info": {
   "codemirror_mode": {
    "name": "ipython",
    "version": 3
   },
   "file_extension": ".py",
   "mimetype": "text/x-python",
   "name": "python",
   "nbconvert_exporter": "python",
   "pygments_lexer": "ipython3",
   "version": "3.8.8"
  }
 },
 "nbformat": 4,
 "nbformat_minor": 5
}
