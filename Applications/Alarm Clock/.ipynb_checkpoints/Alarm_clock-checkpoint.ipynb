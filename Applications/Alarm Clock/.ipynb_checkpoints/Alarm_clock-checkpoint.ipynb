{
 "cells": [
  {
   "cell_type": "markdown",
   "id": "c3b23b25",
   "metadata": {},
   "source": [
    "# Alarm_clock"
   ]
  },
  {
   "cell_type": "code",
   "execution_count": 3,
   "id": "b51ea669",
   "metadata": {
    "ExecuteTime": {
     "end_time": "2022-06-21T19:39:48.387571Z",
     "start_time": "2022-06-21T19:39:36.736047Z"
    }
   },
   "outputs": [
    {
     "name": "stdout",
     "output_type": "stream",
     "text": [
      "Enter the time of alarm to be set: HH:MM:SS\n",
      "20:40:02\n",
      "Setting up alarm..\n"
     ]
    }
   ],
   "source": [
    "from datetime import datetime   \n",
    "from playsound import playsound\n",
    "\n",
    "alarm_time = input(\"Enter the time of alarm to be set: HH:MM:SS\\n\")\n",
    "alarm_hour=alarm_time[0:2]\n",
    "alarm_minute=alarm_time[3:5]\n",
    "alarm_seconds=alarm_time[6:8]\n",
    "alarm_period = alarm_time[9:11].upper()\n",
    "\n",
    "print(\"Setting up alarm..\")\n"
   ]
  },
  {
   "cell_type": "code",
   "execution_count": 4,
   "id": "d619bfde",
   "metadata": {
    "ExecuteTime": {
     "end_time": "2022-06-21T19:39:55.558568Z",
     "start_time": "2022-06-21T19:39:55.549592Z"
    }
   },
   "outputs": [],
   "source": [
    "while True:\n",
    "    now = datetime.now()\n",
    "    current_hour = now.strftime(\"%I\")\n",
    "    current_minute = now.strftime(\"%M\")\n",
    "    current_seconds = now.strftime(\"%S\")\n",
    "    current_period = now.strftime(\"%p\")\n",
    "    if(alarm_period==current_period):\n",
    "        if(alarm_hour==current_hour):\n",
    "            if(alarm_minute==current_minute):\n",
    "                if(alarm_seconds==current_seconds):\n",
    "                    print(\"Wake Up!\")\n",
    "                    playsound('Loud_Alarm_Clock.mp3')\n",
    "                    break"
   ]
  }
 ],
 "metadata": {
  "kernelspec": {
   "display_name": "Python 3 (ipykernel)",
   "language": "python",
   "name": "python3"
  },
  "language_info": {
   "codemirror_mode": {
    "name": "ipython",
    "version": 3
   },
   "file_extension": ".py",
   "mimetype": "text/x-python",
   "name": "python",
   "nbconvert_exporter": "python",
   "pygments_lexer": "ipython3",
   "version": "3.8.8"
  },
  "toc": {
   "base_numbering": 1,
   "nav_menu": {},
   "number_sections": true,
   "sideBar": true,
   "skip_h1_title": false,
   "title_cell": "Table of Contents",
   "title_sidebar": "Contents",
   "toc_cell": false,
   "toc_position": {},
   "toc_section_display": true,
   "toc_window_display": false
  },
  "varInspector": {
   "cols": {
    "lenName": 16,
    "lenType": 16,
    "lenVar": 40
   },
   "kernels_config": {
    "python": {
     "delete_cmd_postfix": "",
     "delete_cmd_prefix": "del ",
     "library": "var_list.py",
     "varRefreshCmd": "print(var_dic_list())"
    },
    "r": {
     "delete_cmd_postfix": ") ",
     "delete_cmd_prefix": "rm(",
     "library": "var_list.r",
     "varRefreshCmd": "cat(var_dic_list()) "
    }
   },
   "types_to_exclude": [
    "module",
    "function",
    "builtin_function_or_method",
    "instance",
    "_Feature"
   ],
   "window_display": false
  }
 },
 "nbformat": 4,
 "nbformat_minor": 5
}
