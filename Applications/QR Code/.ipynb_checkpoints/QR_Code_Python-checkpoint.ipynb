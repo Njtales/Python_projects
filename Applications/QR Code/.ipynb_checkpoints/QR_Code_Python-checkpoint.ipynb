{
 "cells": [
  {
   "cell_type": "markdown",
   "id": "6d4e0d94",
   "metadata": {},
   "source": [
    "## QR_code_python"
   ]
  },
  {
   "cell_type": "code",
   "execution_count": 5,
   "id": "e7106455",
   "metadata": {
    "ExecuteTime": {
     "end_time": "2022-06-20T14:00:45.498135Z",
     "start_time": "2022-06-20T14:00:39.522943Z"
    }
   },
   "outputs": [
    {
     "name": "stdout",
     "output_type": "stream",
     "text": [
      "Requirement already satisfied: pyqrcode in d:\\users\\nyk-pc\\anaconda3\\lib\\site-packages (1.2.1)\n",
      "Collecting pypng\n",
      "  Downloading pypng-0.0.21-py3-none-any.whl (48 kB)\n",
      "     ---------------------------------------- 48.1/48.1 KB ? eta 0:00:00\n",
      "Installing collected packages: pypng\n",
      "Successfully installed pypng-0.0.21\n"
     ]
    }
   ],
   "source": [
    "!pip install pyqrcode\n",
    "!pip install pypng"
   ]
  },
  {
   "cell_type": "code",
   "execution_count": 11,
   "id": "02d57568",
   "metadata": {
    "ExecuteTime": {
     "end_time": "2022-06-20T14:05:28.711807Z",
     "start_time": "2022-06-20T14:05:28.654097Z"
    }
   },
   "outputs": [],
   "source": [
    "import pyqrcode\n",
    "import png\n",
    "link = \"https://www.instagram.com/njtales/\"\n",
    "qr_code = pyqrcode.create(link)\n",
    "qr_code.png(\"instagram.png\", scale=5)"
   ]
  },
  {
   "cell_type": "code",
   "execution_count": 12,
   "id": "7b76c7da",
   "metadata": {
    "ExecuteTime": {
     "end_time": "2022-06-20T14:05:30.360357Z",
     "start_time": "2022-06-20T14:05:30.253619Z"
    }
   },
   "outputs": [
    {
     "name": "stdout",
     "output_type": "stream",
     "text": [
      "%pylab is deprecated, use %matplotlib inline and import the required libraries.\n",
      "Populating the interactive namespace from numpy and matplotlib\n"
     ]
    },
    {
     "data": {
      "image/png": "[encoded data removed]",
      "text/plain": [
       "<Figure size 432x288 with 1 Axes>"
      ]
     },
     "metadata": {
      "needs_background": "light"
     },
     "output_type": "display_data"
    }
   ],
   "source": [
    "%pylab inline\n",
    "import matplotlib.pyplot as plt\n",
    "import matplotlib.image as mpimg\n",
    "img = mpimg.imread('instagram.png')\n",
    "imgplot = plt.imshow(img)\n",
    "plt.show()"
   ]
  }
 ],
 "metadata": {
  "kernelspec": {
   "display_name": "Python 3 (ipykernel)",
   "language": "python",
   "name": "python3"
  },
  "language_info": {
   "codemirror_mode": {
    "name": "ipython",
    "version": 3
   },
   "file_extension": ".py",
   "mimetype": "text/x-python",
   "name": "python",
   "nbconvert_exporter": "python",
   "pygments_lexer": "ipython3",
   "version": "3.8.8"
  },
  "toc": {
   "base_numbering": 1,
   "nav_menu": {},
   "number_sections": true,
   "sideBar": true,
   "skip_h1_title": false,
   "title_cell": "Table of Contents",
   "title_sidebar": "Contents",
   "toc_cell": false,
   "toc_position": {},
   "toc_section_display": true,
   "toc_window_display": false
  },
  "varInspector": {
   "cols": {
    "lenName": 16,
    "lenType": 16,
    "lenVar": 40
   },
   "kernels_config": {
    "python": {
     "delete_cmd_postfix": "",
     "delete_cmd_prefix": "del ",
     "library": "var_list.py",
     "varRefreshCmd": "print(var_dic_list())"
    },
    "r": {
     "delete_cmd_postfix": ") ",
     "delete_cmd_prefix": "rm(",
     "library": "var_list.r",
     "varRefreshCmd": "cat(var_dic_list()) "
    }
   },
   "types_to_exclude": [
    "module",
    "function",
    "builtin_function_or_method",
    "instance",
    "_Feature"
   ],
   "window_display": false
  }
 },
 "nbformat": 4,
 "nbformat_minor": 5
}
