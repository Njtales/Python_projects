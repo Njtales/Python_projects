{
 "cells": [
  {
   "cell_type": "markdown",
   "id": "301f162a",
   "metadata": {},
   "source": [
    "## Shutdown_computer"
   ]
  },
  {
   "cell_type": "code",
   "execution_count": 1,
   "id": "913665e8",
   "metadata": {
    "ExecuteTime": {
     "end_time": "2022-06-20T19:58:03.280817Z",
     "start_time": "2022-06-20T19:58:03.205870Z"
    }
   },
   "outputs": [],
   "source": [
    "import os\n",
    "def shutdown_PC():\n",
    "    os.system(\"shutdown /s /t 1\")\n",
    "shutdown_PC()"
   ]
  }
 ],
 "metadata": {
  "kernelspec": {
   "display_name": "Python 3 (ipykernel)",
   "language": "python",
   "name": "python3"
  },
  "language_info": {
   "codemirror_mode": {
    "name": "ipython",
    "version": 3
   },
   "file_extension": ".py",
   "mimetype": "text/x-python",
   "name": "python",
   "nbconvert_exporter": "python",
   "pygments_lexer": "ipython3",
   "version": "3.8.8"
  }
 },
 "nbformat": 4,
 "nbformat_minor": 5
}
