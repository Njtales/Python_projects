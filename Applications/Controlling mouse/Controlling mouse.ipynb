{
 "cells": [
  {
   "cell_type": "markdown",
   "id": "4152594f",
   "metadata": {},
   "source": [
    "# Controlling_mouse"
   ]
  },
  {
   "cell_type": "code",
   "execution_count": 3,
   "id": "344b9aff",
   "metadata": {},
   "outputs": [],
   "source": [
    "import pyautogui as pg"
   ]
  },
  {
   "cell_type": "code",
   "execution_count": 4,
   "id": "3eb9deb9",
   "metadata": {},
   "outputs": [
    {
     "data": {
      "text/plain": [
       "Size(width=1920, height=1080)"
      ]
     },
     "execution_count": 4,
     "metadata": {},
     "output_type": "execute_result"
    }
   ],
   "source": [
    "pyautogui.size()"
   ]
  },
  {
   "cell_type": "code",
   "execution_count": 5,
   "id": "93d30de6",
   "metadata": {},
   "outputs": [],
   "source": [
    "width, height = pg.size()"
   ]
  },
  {
   "cell_type": "code",
   "execution_count": 6,
   "id": "1632577f",
   "metadata": {},
   "outputs": [
    {
     "data": {
      "text/plain": [
       "1920"
      ]
     },
     "execution_count": 6,
     "metadata": {},
     "output_type": "execute_result"
    }
   ],
   "source": [
    "width"
   ]
  },
  {
   "cell_type": "code",
   "execution_count": 8,
   "id": "1bf41719",
   "metadata": {},
   "outputs": [
    {
     "data": {
      "text/plain": [
       "Point(x=1481, y=571)"
      ]
     },
     "execution_count": 8,
     "metadata": {},
     "output_type": "execute_result"
    }
   ],
   "source": [
    "pg.position()"
   ]
  },
  {
   "cell_type": "code",
   "execution_count": 9,
   "id": "065125b9",
   "metadata": {},
   "outputs": [],
   "source": [
    "pg.moveTo(10,10)"
   ]
  },
  {
   "cell_type": "code",
   "execution_count": 13,
   "id": "02bec069",
   "metadata": {},
   "outputs": [
    {
     "name": "stdout",
     "output_type": "stream",
     "text": [
      "Press Ctrl-C to quit.\n"
     ]
    },
    {
     "name": "stdout",
     "output_type": "stream",
     "text": [
      "X: 1453 Y:  331 RGB: (255, 255, 25X: 1453 Y:  331 RGB: (255, 255, 25X: 1453 Y:  331 RGB: (255, 255, 25X: 1453 Y:  331 RGB: (255, 255, 25X: 1453 Y:  331 RGB: (255, 255, 25X: 1453 Y:  331 RGB: (255, 255, 25X: 1453 Y:  331 RGB: (255, 255, 25X: 1453 Y:  331 RGB: (255, 255, 25X: 1453 Y:  331 RGB: (255, 255, 25X: 1453 Y:  331 RGB: (255, 255, 25X: 1453 Y:  331 RGB: (255, 255, 25X: 1453 Y:  331 RGB: (255, 255, 25X: 1453 Y:  331 RGB: (255, 255, 25X: 1453 Y:  331 RGB: (255, 255, 25X: 1453 Y:  331 RGB: (255, 255, 25X: 1453 Y:  331 RGB: (255, 255, 25X: 1453 Y:  331 RGB: (255, 255, 25X: 1453 Y:  331 RGB: (255, 255, 25X: 1453 Y:  331 RGB: (255, 255, 25X: 1453 Y:  331 RGB: (255, 255, 25X: 1453 Y:  331 RGB: (255, 255, 25X: 1453 Y:  331 RGB: (255, 255, 25X: 1453 Y:  331 RGB: (255, 255, 25X: 1453 Y:  331 RGB: (255, 255, 25X: 1453 Y:  331 RGB: (255, 255, 25X: 1453 Y:  331 RGB: (255, 255, 25X: 1453 Y:  331 RGB: (255, 255, 25X: 1453 Y:  331 RGB: (255, 255, 25X: 1453 Y:  331 RGB: (255, 255, 25X: 1453 Y:  331 RGB: (255, 255, 25X: 1453 Y:  331 RGB: (255, 255, 25X: 1453 Y:  331 RGB: (255, 255, 25X: 1453 Y:  331 RGB: (255, 255, 25X: 1453 Y:  331 RGB: (255, 255, 25X: 1453 Y:  331 RGB: (255, 255, 25X: 1453 Y:  331 RGB: (255, 255, 25X: 1453 Y:  331 RGB: (255, 255, 25X: 1453 Y:  331 RGB: (255, 255, 25X: 1453 Y:  331 RGB: (255, 255, 25X: 1453 Y:  331 RGB: (255, 255, 25X: 1453 Y:  331 RGB: (255, 255, 25X: 1453 Y:  331 RGB: (255, 255, 25X: 1453 Y:  331 RGB: (255, 255, 25X: 1453 Y:  331 RGB: (255, 255, 25X: 1433 Y:  307 RGB: (247, 247, 24X: 1396 Y:  278 RGB: (255, 255, 25X: 1396 Y:  277 RGB: (255, 255, 25X: 1396 Y:  277 RGB: (255, 255, 25X: 1396 Y:  277 RGB: (255, 255, 25X: 1396 Y:  277 RGB: (255, 255, 25X: 1396 Y:  277 RGB: (255, 255, 25X: 1394 Y:  281 RGB: (255, 255, 25X: 1392 Y:  285 RGB: (255, 255, 25X: 1381 Y:  298 RGB: (247, 247, 24X: 1301 Y:  336 RGB: (247, 247, 24X: 1229 Y:  371 RGB: (168, 168, 16X: 1183 Y:  394 RGB: (  0, 130, 19X: 1164 Y:  403 RGB: (247, 247, 24X: 1158 Y:  406 RGB: (247, 247, 24X: 1146 Y:  414 RGB: (247, 247, 24X: 1138 Y:  424 RGB: (247, 247, 24X: 1138 Y:  441 RGB: (247, 247, 24X: 1160 Y:  490 RGB: (247, 247, 24X: 1211 Y:  536 RGB: (255, 255, 25X: 1287 Y:  565 RGB: (255, 255, 25X: 1400 Y:  588 RGB: (255, 255, 25X: 1472 Y:  593 RGB: (255, 255, 25X: 1503 Y:  593 RGB: (255, 255, 25X: 1504 Y:  593 RGB: (255, 255, 25X: 1520 Y:  595 RGB: (255, 255, 25X: 1536 Y:  597 RGB: (255, 255, 25X: 1539 Y:  598 RGB: (255, 255, 25X: 1539 Y:  598 RGB: (255, 255, 25X: 1539 Y:  600 RGB: (255, 255, 25X: 1492 Y:  618 RGB: (255, 255, 25X: 1402 Y:  633 RGB: (255, 255, 25X: 1261 Y:  636 RGB: (255, 255, 25X: 1165 Y:  639 RGB: (247, 247, 24X: 1179 Y:  639 RGB: (  0,   0,   X: 1301 Y:  639 RGB: (231, 166,  8X: 1566 Y:  639 RGB: (  0,   0,  8X: 1601 Y:  641 RGB: (255, 255, 25X: 1564 Y:  649 RGB: ( 82, 166, 23X: 1444 Y:  651 RGB: (255, 255, 25X: 1334 Y:  651 RGB: (132,   0,   X: 1370 Y:  651 RGB: (255, 255, 25X: 1554 Y:  651 RGB: (255, 255, 25X: 1600 Y:  651 RGB: (255, 255, 25X: 1604 Y:  652 RGB: (255, 255, 25X: 1604 Y:  652 RGB: (255, 255, 25X: 1604 Y:  652 RGB: (255, 255, 25X: 1604 Y:  652 RGB: (255, 255, 25X: 1604 Y:  652 RGB: (255, 255, 25X: 1604 Y:  652 RGB: (255, 255, 25X: 1604 Y:  652 RGB: (255, 255, 25X: 1603 Y:  647 RGB: (255, 255, 25X: 1590 Y:  614 RGB: (255, 255, 25X: 1539 Y:  546 RGB: (255, 255, 25X: 1453 Y:  471 RGB: (255, 255, 25X: 1373 Y:  402 RGB: (255, 255, 25X: 1285 Y:  345 RGB: (192, 247, 24X: 1247 Y:  328 RGB: (255, 255, 25X: 1241 Y:  328 RGB: (255, 255, 25X: 1230 Y:  330 RGB: (255, 255, 25X: 1179 Y:  341 RGB: (247, 247, 24X: 1065 Y:  353 RGB: (255, 255, 25X:  966 Y:  353 RGB: (238, 238, 23X:  866 Y:  353 RGB: (255, 255, 25X:  800 Y:  357 RGB: (255, 255, 25X:  774 Y:  358 RGB: (255, 255, 25X:  722 Y:  354 RGB: (255, 255, 25X:  620 Y:  334 RGB: (255, 255, 25X:  514 Y:  312 RGB: (255, 255, 25X:  378 Y:  293 RGB: (255, 254, 25X:  280 Y:  287 RGB: (255, 254, 25X:  212 Y:  287 RGB: (255, 254, 25X:  149 Y:  287 RGB: (255, 254, 25X:   71 Y:  287 RGB: (255, 254, 25X:    5 Y:  286 RGB: ( 58,  60,  6X:    0 Y:  282 RGB: ( 59,  59,  5X:    0 Y:  282 RGB: ( 59,  59,  5X:    0 Y:  282 RGB: ( 59,  59,  5X:    0 Y:  282 RGB: ( 59,  59,  5X:    0 Y:  282 RGB: ( 59,  59,  5X:    0 Y:  282 RGB: ( 59,  59,  5X:    0 Y:  282 RGB: ( 59,  59,  5X:    0 Y:  282 RGB: ( 59,  59,  5X:    0 Y:  282 RGB: ( 59,  59,  5X:    6 Y:  276 RGB: (119, 120, 12X:   27 Y:  253 RGB: (255, 255, 25X:   51 Y:  213 RGB: (255, 255, 25X:   74 Y:  171 RGB: (226, 226, 22X:   82 Y:  134 RGB: (130, 132, 13X:   81 Y:   91 RGB: ( 22,  24,  2X:   74 Y:   63 RGB: ( 53,  54,  5X:   70 Y:   49 RGB: ( 53,  54,  5X:   70 Y:   49 RGB: ( 53,  54,  5X:   70 Y:   49 RGB: ( 53,  54,  5X:   70 Y:   49 RGB: ( 53,  54,  5X:   70 Y:   49 RGB: ( 53,  54,  5X:   70 Y:   49 RGB: ( 53,  54,  5X:   70 Y:   49 RGB: ( 53,  54,  5X:   70 Y:   49 RGB: ( 53,  54,  5X:   70 Y:   49 RGB: ( 53,  54,  5X:   70 Y:   49 RGB: ( 53,  54,  5X:   70 Y:   49 RGB: ( 53,  54,  5X:   70 Y:   49 RGB: ( 53,  54,  5X:   70 Y:   49 RGB: ( 53,  54,  5X:   70 Y:   49 RGB: ( 53,  54,  5X:   70 Y:   49 RGB: ( 53,  54,  5X:   70 Y:   49 RGB: ( 53,  54,  5X:   70 Y:   49 RGB: ( 53,  54,  5X:   70 Y:   49 RGB: ( 53,  54,  5X:   70 Y:   49 RGB: ( 53,  54,  5X:   70 Y:   49 RGB: ( 53,  54,  5X:   70 Y:   49 RGB: ( 53,  54,  5X:   70 Y:   49 RGB: ( 53,  54,  5X:   70 Y:   49 RGB: ( 53,  54,  5X:   70 Y:   49 RGB: ( 53,  54,  5X:   70 Y:   49 RGB: ( 53,  54,  5X:   70 Y:   49 RGB: ( 53,  54,  5X:   70 Y:   49 RGB: ( 53,  54,  5X:   70 Y:   49 RGB: ( 53,  54,  5X:   70 Y:   49 RGB: ( 53,  54,  5X:   70 Y:   49 RGB: ( 53,  54,  5X:   70 Y:   49 RGB: ( 53,  54,  5X:   70 Y:   49 RGB: ( 53,  54,  5X:   70 Y:   49 RGB: ( 53,  54,  5X:   70 Y:   49 RGB: ( 53,  54,  5X:   70 Y:   49 RGB: ( 53,  54,  5X:   70 Y:   49 RGB: ( 53,  54,  5X:   70 Y:   49 RGB: ( 53,  54,  5X:   70 Y:   49 RGB: ( 53,  54,  5X:   70 Y:   49 RGB: ( 53,  54,  5X:   70 Y:   49 RGB: ( 53,  54,  5X:   70 Y:   49 RGB: ( 53,  54,  5X:   70 Y:   49 RGB: ( 53,  54,  5X:   70 Y:   49 RGB: ( 53,  54,  5X:  138 Y:   71 RGB: ( 32,  33,  3X:  435 Y:  136 RGB: ( 59,  60,  6X:  792 Y:  195 RGB: (249, 251, 25X:  957 Y:  212 RGB: (217, 217, 21X: 1078 Y:  224 RGB: (255, 255, 25X: 1158 Y:  239 RGB: (255, 255, 25X: 1203 Y:  248 RGB: (247, 247, 24X: 1243 Y:  256 RGB: (255, 255, 25X: 1343 Y:  276 RGB: (255, 255, 25X: 1411 Y:  279 RGB: (255, 255, 25X: 1434 Y:  279 RGB: (255, 255, 25X: 1435 Y:  279 RGB: (255, 255, 25X: 1435 Y:  279 RGB: (255, 255, 25X: 1435 Y:  279 RGB: (255, 255, 25X: 1435 Y:  279 RGB: (255, 255, 25X: 1435 Y:  279 RGB: (255, 255, 25X: 1435 Y:  279 RGB: (255, 255, 25X: 1436 Y:  284 RGB: (255, 255, 25X: 1436 Y:  305 RGB: (247, 247, 24X: 1435 Y:  336 RGB: (247, 247, 24X: 1433 Y:  370 RGB: (193, 193, 19X: 1431 Y:  391 RGB: (255, 255, 25X: 1427 Y:  416 RGB: ( 82, 166, 23X: 1429 Y:  443 RGB: (165, 227, 25X: 1433 Y:  459 RGB: (255, 255, 25X: 1434 Y:  467 RGB: (255, 255, 25X: 1434 Y:  468 RGB: (255, 255, 25X: 1434 Y:  468 RGB: (255, 255, 25X: 1434 Y:  468 RGB: (255, 255, 25X: 1434 Y:  468 RGB: (255, 255, 25X: 1434 Y:  468 RGB: (255, 255, 25X: 1434 Y:  468 RGB: (255, 255, 25X: 1434 Y:  468 RGB: (255, 255, 25X: 1434 Y:  468 RGB: (255, 255, 25X: 1434 Y:  468 RGB: (255, 255, 25X: 1434 Y:  468 RGB: (255, 255, 25X: 1434 Y:  468 RGB: (255, 255, 25X: 1434 Y:  468 RGB: (255, 255, 25X: 1434 Y:  468 RGB: (255, 255, 25X: 1434 Y:  468 RGB: (255, 255, 25X: 1434 Y:  468 RGB: (255, 255, 25X: 1434 Y:  468 RGB: (255, 255, 25X: 1434 Y:  468 RGB: (255, 255, 25X: 1434 Y:  468 RGB: (255, 255, 25X: 1434 Y:  468 RGB: (255, 255, 25X: 1434 Y:  468 RGB: (255, 255, 25X: 1434 Y:  468 RGB: (255, 255, 25X: 1434 Y:  468 RGB: (255, 255, 25X: 1434 Y:  468 RGB: (255, 255, 25X: 1434 Y:  468 RGB: (255, 255, 25X: 1434 Y:  468 RGB: (255, 255, 25X: 1434 Y:  468 RGB: (255, 255, 25X: 1434 Y:  468 RGB: (255, 255, 25X: 1434 Y:  468 RGB: (255, 255, 25X: 1434 Y:  468 RGB: (255, 255, 25X: 1434 Y:  468 RGB: (255, 255, 25X: 1434 Y:  468 RGB: (255, 255, 25X: 1434 Y:  468 RGB: (255, 255, 25X: 1434 Y:  468 RGB: (255, 255, 25X: 1434 Y:  468 RGB: (255, 255, 25X: 1434 Y:  468 RGB: (255, 255, 25X: 1434 Y:  468 RGB: (255, 255, 25X: 1434 Y:  468 RGB: (255, 255, 25X: 1434 Y:  468 RGB: (255, 255, 255)\b\b\b\b\b\b\b\b\b\b\b\b\b\b\b\b\b\b\b\b\b\b\b\b\b\b\b\b\b\b\b\b\b\b\b\b"
     ]
    },
    {
     "name": "stdout",
     "output_type": "stream",
     "text": [
      "X: 1434 Y:  468 RGB: (255, 255, 25X: 1434 Y:  468 RGB: (255, 255, 25X: 1434 Y:  468 RGB: (255, 255, 25X: 1434 Y:  468 RGB: (255, 255, 25X: 1434 Y:  468 RGB: (255, 255, 25X: 1434 Y:  468 RGB: (255, 255, 25X: 1434 Y:  468 RGB: (255, 255, 25X: 1434 Y:  468 RGB: (255, 255, 25X: 1434 Y:  468 RGB: (255, 255, 25X: 1434 Y:  468 RGB: (255, 255, 25X: 1434 Y:  468 RGB: (255, 255, 25X: 1434 Y:  468 RGB: (255, 255, 25X: 1434 Y:  468 RGB: (255, 255, 25X: 1434 Y:  468 RGB: (255, 255, 25X: 1434 Y:  468 RGB: (255, 255, 25X: 1434 Y:  468 RGB: (255, 255, 25X: 1434 Y:  468 RGB: (255, 255, 25X: 1434 Y:  468 RGB: (255, 255, 25X: 1434 Y:  468 RGB: (255, 255, 25X: 1434 Y:  468 RGB: (255, 255, 25X: 1434 Y:  468 RGB: (255, 255, 25\n"
     ]
    }
   ],
   "source": [
    "pg.displayMousePosition()  # useful when programming interaction using mouse"
   ]
  },
  {
   "cell_type": "code",
   "execution_count": 11,
   "id": "33e704f9",
   "metadata": {},
   "outputs": [
    {
     "name": "stdout",
     "output_type": "stream",
     "text": [
      "200\n",
      "150\n",
      "100\n",
      "50\n"
     ]
    }
   ],
   "source": [
    "# drawing a spiral squares with pyautogui\n",
    "# kept my pin in paint and pasted the result image bellow \n",
    "pg.click()  # click to put drawing in paint focus\n",
    "distance = 200\n",
    "\n",
    "while distance > 0:\n",
    "    print(distance)\n",
    "    pg.dragRel(distance, 0, duration=0.1)  # move right\n",
    "    distance -= 25\n",
    "    pg.dragRel(0, distance, duration=0.1)  # move right\n",
    "    pg.dragRel(-distance, 0, duration=0.1)  # move right\n",
    "    distance -= 25\n",
    "    pg.dragRel(0, -distance, duration=0.1)  # move right\n",
    "    "
   ]
  },
  {
   "attachments": {
    "image.png": {
     "image/png": "[encoded data removed]"
    }
   },
   "cell_type": "markdown",
   "id": "dc1f1d2d",
   "metadata": {},
   "source": [
    "![image.png](attachment:image.png)"
   ]
  }
 ],
 "metadata": {
  "kernelspec": {
   "display_name": "Python 3 (ipykernel)",
   "language": "python",
   "name": "python3"
  },
  "language_info": {
   "codemirror_mode": {
    "name": "ipython",
    "version": 3
   },
   "file_extension": ".py",
   "mimetype": "text/x-python",
   "name": "python",
   "nbconvert_exporter": "python",
   "pygments_lexer": "ipython3",
   "version": "3.8.8"
  }
 },
 "nbformat": 4,
 "nbformat_minor": 5
}
