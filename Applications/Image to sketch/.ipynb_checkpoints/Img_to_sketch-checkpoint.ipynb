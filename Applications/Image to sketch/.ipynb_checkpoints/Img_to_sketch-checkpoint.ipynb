{
 "cells": [
  {
   "cell_type": "markdown",
   "id": "f56f1482",
   "metadata": {},
   "source": [
    "## Image_to_sketch"
   ]
  },
  {
   "cell_type": "code",
   "execution_count": null,
   "id": "cab84624",
   "metadata": {
    "ExecuteTime": {
     "end_time": "2022-07-14T17:10:22.739457Z",
     "start_time": "2022-07-14T17:10:22.727461Z"
    }
   },
   "outputs": [],
   "source": [
    "import cv2\n",
    "import matplotlib.pyplot as plt"
   ]
  },
  {
   "cell_type": "code",
   "execution_count": null,
   "id": "3da39bc2",
   "metadata": {
    "ExecuteTime": {
     "end_time": "2022-07-14T17:10:23.255424Z",
     "start_time": "2022-07-14T17:10:23.231483Z"
    }
   },
   "outputs": [],
   "source": [
    "img=cv2.imread(\"photo.jpg\")"
   ]
  },
  {
   "cell_type": "code",
   "execution_count": null,
   "id": "c3bd41fe",
   "metadata": {
    "ExecuteTime": {
     "end_time": "2022-07-14T17:12:45.134168Z",
     "start_time": "2022-07-14T17:12:44.970084Z"
    },
    "scrolled": true
   },
   "outputs": [],
   "source": [
    "# display using matplotlib\n",
    "plt.imshow(img)\n",
    "plt.axis(False)\n",
    "plt.show()"
   ]
  },
  {
   "cell_type": "code",
   "execution_count": null,
   "id": "6a8d14ce",
   "metadata": {
    "ExecuteTime": {
     "end_time": "2022-07-14T17:12:46.413001Z",
     "start_time": "2022-07-14T17:12:46.392091Z"
    }
   },
   "outputs": [],
   "source": [
    "# Convert BGR to RGB\n",
    "plt.imshow(img[:,:,::-1])\n",
    "plt.axis(False)\n",
    "plt.show()"
   ]
  },
  {
   "cell_type": "code",
   "execution_count": null,
   "id": "1fc68fb3",
   "metadata": {
    "ExecuteTime": {
     "end_time": "2022-07-14T17:12:46.907226Z",
     "start_time": "2022-07-14T17:12:46.768073Z"
    }
   },
   "outputs": [],
   "source": [
    "# convert image to gray-scale\n",
    "grey_img=cv2.cvtColor(img, cv2.COLOR_BGR2GRAY)"
   ]
  },
  {
   "cell_type": "code",
   "execution_count": null,
   "id": "679ea121",
   "metadata": {
    "ExecuteTime": {
     "end_time": "2022-07-14T17:12:47.048887Z",
     "start_time": "2022-07-14T17:12:47.023638Z"
    }
   },
   "outputs": [],
   "source": [
    "# invert_image image\n",
    "invert_img=cv2.bitwise_not(grey_img)\n",
    "#invert_img=255-grey_img"
   ]
  },
  {
   "cell_type": "code",
   "execution_count": null,
   "id": "3161e85a",
   "metadata": {
    "ExecuteTime": {
     "end_time": "2022-07-14T17:12:47.252690Z",
     "start_time": "2022-07-14T17:12:47.223524Z"
    }
   },
   "outputs": [],
   "source": [
    "# blur image\n",
    "blur_img=cv2.GaussianBlur(invert_img, (111,111),0)"
   ]
  },
  {
   "cell_type": "code",
   "execution_count": null,
   "id": "d995a0d7",
   "metadata": {
    "ExecuteTime": {
     "end_time": "2022-07-14T17:12:47.456441Z",
     "start_time": "2022-07-14T17:12:47.439485Z"
    }
   },
   "outputs": [],
   "source": [
    "# invert blurred image\n",
    "invblur_img=cv2.bitwise_not(blur_img)\n",
    "#invblur_img=255-blur_img"
   ]
  },
  {
   "cell_type": "code",
   "execution_count": null,
   "id": "960d4a7a",
   "metadata": {
    "ExecuteTime": {
     "end_time": "2022-07-14T17:12:47.703910Z",
     "start_time": "2022-07-14T17:12:47.688950Z"
    }
   },
   "outputs": [],
   "source": [
    "# pencil sketch\n",
    "sketch_img=cv2.divide(grey_img,invblur_img, scale=256.0)"
   ]
  },
  {
   "cell_type": "code",
   "execution_count": null,
   "id": "0363f818",
   "metadata": {
    "ExecuteTime": {
     "end_time": "2022-07-14T17:12:47.908830Z",
     "start_time": "2022-07-14T17:12:47.879908Z"
    }
   },
   "outputs": [],
   "source": [
    "# save sketch\n",
    "cv2.imwrite('sketch_photo.png', sketch_img)"
   ]
  },
  {
   "cell_type": "code",
   "execution_count": null,
   "id": "370e1e7b",
   "metadata": {
    "ExecuteTime": {
     "end_time": "2022-07-14T17:12:48.125293Z",
     "start_time": "2022-07-14T17:12:48.096370Z"
    }
   },
   "outputs": [],
   "source": [
    "cv2.imshow('sketch image',sketch_img)\n",
    "cv2.waitKey(0)\n",
    "cv2.destroyAllWindows()"
   ]
  },
  {
   "cell_type": "code",
   "execution_count": null,
   "id": "5aa57b19",
   "metadata": {
    "ExecuteTime": {
     "end_time": "2022-07-14T17:12:48.437380Z",
     "start_time": "2022-07-14T17:12:48.311660Z"
    }
   },
   "outputs": [],
   "source": [
    "# display both orignal and sketch\n",
    "plt.figure(figsize=(14,8))\n",
    "plt.subplot(1,2,1)\n",
    "plt.title('Original image', size=18)\n",
    "plt.imshow(RGB_img)\n",
    "plt.axis('off')\n",
    "\n",
    "plt.subplot(1,2,2)\n",
    "plt.title('Sketch', size=18)\n",
    "rgb_sketch=cv2.cvtColor(sketch_img, cv2.COLOR_BGR2RGB)\n",
    "plt.imshow(rgb_sketch)\n",
    "plt.axis('off')\n",
    "plt.show()"
   ]
  }
 ],
 "metadata": {
  "kernelspec": {
   "display_name": "Python 3 (ipykernel)",
   "language": "python",
   "name": "python3"
  },
  "language_info": {
   "codemirror_mode": {
    "name": "ipython",
    "version": 3
   },
   "file_extension": ".py",
   "mimetype": "text/x-python",
   "name": "python",
   "nbconvert_exporter": "python",
   "pygments_lexer": "ipython3",
   "version": "3.8.8"
  },
  "varInspector": {
   "cols": {
    "lenName": 16,
    "lenType": 16,
    "lenVar": 40
   },
   "kernels_config": {
    "python": {
     "delete_cmd_postfix": "",
     "delete_cmd_prefix": "del ",
     "library": "var_list.py",
     "varRefreshCmd": "print(var_dic_list())"
    },
    "r": {
     "delete_cmd_postfix": ") ",
     "delete_cmd_prefix": "rm(",
     "library": "var_list.r",
     "varRefreshCmd": "cat(var_dic_list()) "
    }
   },
   "types_to_exclude": [
    "module",
    "function",
    "builtin_function_or_method",
    "instance",
    "_Feature"
   ],
   "window_display": false
  }
 },
 "nbformat": 4,
 "nbformat_minor": 5
}
