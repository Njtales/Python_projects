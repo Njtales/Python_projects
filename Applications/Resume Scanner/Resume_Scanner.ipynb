{
 "cells": [
  {
   "cell_type": "markdown",
   "id": "989344cb",
   "metadata": {},
   "source": [
    "## Resume_Scanner"
   ]
  },
  {
   "cell_type": "code",
   "execution_count": null,
   "id": "0623c0f3",
   "metadata": {
    "ExecuteTime": {
     "end_time": "2022-06-20T21:18:32.163963Z",
     "start_time": "2022-06-20T21:17:40.244254Z"
    }
   },
   "outputs": [],
   "source": [
    "!pip install resume_parser"
   ]
  },
  {
   "cell_type": "code",
   "execution_count": null,
   "id": "569bc57e",
   "metadata": {
    "ExecuteTime": {
     "end_time": "2022-06-20T21:19:03.513167Z",
     "start_time": "2022-06-20T21:18:32.188167Z"
    }
   },
   "outputs": [],
   "source": [
    "def scan_resume(resume):\n",
    "    from resume_parser import resumeparse\n",
    "    data = resumeparse.read_file(resume)\n",
    "    for i, j in data.items():\n",
    "        print(f\"{i}:>>{j}\")\n",
    "    \n",
    "scan_resume(\"Nikhil Jatale.docx\")"
   ]
  }
 ],
 "metadata": {
  "kernelspec": {
   "display_name": "Python 3 (ipykernel)",
   "language": "python",
   "name": "python3"
  },
  "language_info": {
   "codemirror_mode": {
    "name": "ipython",
    "version": 3
   },
   "file_extension": ".py",
   "mimetype": "text/x-python",
   "name": "python",
   "nbconvert_exporter": "python",
   "pygments_lexer": "ipython3",
   "version": "3.8.8"
  },
  "toc": {
   "base_numbering": 1,
   "nav_menu": {},
   "number_sections": true,
   "sideBar": true,
   "skip_h1_title": false,
   "title_cell": "Table of Contents",
   "title_sidebar": "Contents",
   "toc_cell": false,
   "toc_position": {},
   "toc_section_display": true,
   "toc_window_display": false
  },
  "varInspector": {
   "cols": {
    "lenName": 16,
    "lenType": 16,
    "lenVar": 40
   },
   "kernels_config": {
    "python": {
     "delete_cmd_postfix": "",
     "delete_cmd_prefix": "del ",
     "library": "var_list.py",
     "varRefreshCmd": "print(var_dic_list())"
    },
    "r": {
     "delete_cmd_postfix": ") ",
     "delete_cmd_prefix": "rm(",
     "library": "var_list.r",
     "varRefreshCmd": "cat(var_dic_list()) "
    }
   },
   "types_to_exclude": [
    "module",
    "function",
    "builtin_function_or_method",
    "instance",
    "_Feature"
   ],
   "window_display": false
  }
 },
 "nbformat": 4,
 "nbformat_minor": 5
}
