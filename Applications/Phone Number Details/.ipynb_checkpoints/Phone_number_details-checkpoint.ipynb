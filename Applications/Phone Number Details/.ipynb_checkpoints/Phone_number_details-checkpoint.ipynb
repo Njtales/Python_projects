{
 "cells": [
  {
   "cell_type": "markdown",
   "id": "e7c6e10d",
   "metadata": {},
   "source": [
    "## Phone_number_details"
   ]
  },
  {
   "cell_type": "code",
   "execution_count": 3,
   "id": "9ad906ef",
   "metadata": {
    "ExecuteTime": {
     "end_time": "2022-06-20T20:07:55.969385Z",
     "start_time": "2022-06-20T20:07:47.615340Z"
    },
    "scrolled": true
   },
   "outputs": [
    {
     "name": "stdout",
     "output_type": "stream",
     "text": [
      "Collecting phonenumbers\n",
      "  Downloading phonenumbers-8.12.50-py2.py3-none-any.whl (2.6 MB)\n",
      "     ---------------------------------------- 2.6/2.6 MB 16.3 MB/s eta 0:00:00\n",
      "Installing collected packages: phonenumbers\n",
      "Successfully installed phonenumbers-8.12.50\n"
     ]
    }
   ],
   "source": [
    "!pip install phonenumbers\n",
    "!pip install carrier\n",
    "!pip install geocoder"
   ]
  },
  {
   "cell_type": "code",
   "execution_count": 6,
   "id": "db26d925",
   "metadata": {
    "ExecuteTime": {
     "end_time": "2022-06-20T20:08:49.284505Z",
     "start_time": "2022-06-20T20:08:48.962068Z"
    }
   },
   "outputs": [
    {
     "name": "stdout",
     "output_type": "stream",
     "text": [
      "('Asia/Calcutta',)\n",
      "Airtel\n",
      "India\n"
     ]
    }
   ],
   "source": [
    "import phonenumbers as ph\n",
    "from phonenumbers import carrier\n",
    "from phonenumbers import geocoder\n",
    "from phonenumbers import timezone\n",
    "\n",
    "number = \"+9199XXXXXXXX\"\n",
    "number = ph.parse(number)\n",
    "print(timezone.time_zones_for_number(number))\n",
    "print(carrier.name_for_number(number, \"en\"))\n",
    "print(geocoder.description_for_number(number, \"en\"))"
   ]
  },
  {
   "cell_type": "code",
   "execution_count": null,
   "id": "b03cc065",
   "metadata": {},
   "outputs": [],
   "source": []
  }
 ],
 "metadata": {
  "kernelspec": {
   "display_name": "Python 3 (ipykernel)",
   "language": "python",
   "name": "python3"
  },
  "language_info": {
   "codemirror_mode": {
    "name": "ipython",
    "version": 3
   },
   "file_extension": ".py",
   "mimetype": "text/x-python",
   "name": "python",
   "nbconvert_exporter": "python",
   "pygments_lexer": "ipython3",
   "version": "3.8.8"
  },
  "toc": {
   "base_numbering": 1,
   "nav_menu": {},
   "number_sections": true,
   "sideBar": true,
   "skip_h1_title": false,
   "title_cell": "Table of Contents",
   "title_sidebar": "Contents",
   "toc_cell": false,
   "toc_position": {},
   "toc_section_display": true,
   "toc_window_display": false
  },
  "varInspector": {
   "cols": {
    "lenName": 16,
    "lenType": 16,
    "lenVar": 40
   },
   "kernels_config": {
    "python": {
     "delete_cmd_postfix": "",
     "delete_cmd_prefix": "del ",
     "library": "var_list.py",
     "varRefreshCmd": "print(var_dic_list())"
    },
    "r": {
     "delete_cmd_postfix": ") ",
     "delete_cmd_prefix": "rm(",
     "library": "var_list.r",
     "varRefreshCmd": "cat(var_dic_list()) "
    }
   },
   "types_to_exclude": [
    "module",
    "function",
    "builtin_function_or_method",
    "instance",
    "_Feature"
   ],
   "window_display": false
  }
 },
 "nbformat": 4,
 "nbformat_minor": 5
}
