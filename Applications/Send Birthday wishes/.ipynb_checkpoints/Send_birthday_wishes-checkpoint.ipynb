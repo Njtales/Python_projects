{
 "cells": [
  {
   "cell_type": "markdown",
   "id": "502b4127",
   "metadata": {},
   "source": [
    "## Send_birthday_wishes"
   ]
  },
  {
   "cell_type": "code",
   "execution_count": null,
   "id": "5dde783d",
   "metadata": {
    "ExecuteTime": {
     "end_time": "2022-07-11T20:22:01.905697Z",
     "start_time": "2022-07-11T20:21:56.117672Z"
    }
   },
   "outputs": [],
   "source": [
    "import pandas as pd\n",
    "import datetime\n",
    "import smtplib\n",
    "from email.message import EmailMessage\n",
    "import os"
   ]
  },
  {
   "cell_type": "code",
   "execution_count": null,
   "id": "bdad983e",
   "metadata": {
    "ExecuteTime": {
     "end_time": "2022-07-11T20:23:48.109277Z",
     "start_time": "2022-07-11T20:23:48.100333Z"
    }
   },
   "outputs": [],
   "source": [
    "def sendEmail(to, sub, msg):\n",
    "    print(f\"email to {to} \\nsend with subject: {sub}\\n message: {msg}\")\n",
    "    email = EmailMessage()\n",
    "    email['from'] = 'Abhay Parashar'\n",
    "    email['to'] = f\"{to}\"\n",
    "    email['subject'] = f'{sub}'\n",
    "\n",
    "    email.set_content(f'{msg}')\n",
    "\n",
    "    with smtplib.SMTP(host='smtp.gmail.com', port=587) as smtp:\n",
    "        smtp.ehlo()\n",
    "        smtp.starttls()\n",
    "        smtp.login('Email','password')\n",
    "        smtp.send_message(email)\n",
    "        print(\"Email send\")\n",
    "    pass"
   ]
  },
  {
   "cell_type": "code",
   "execution_count": null,
   "id": "d13698e7",
   "metadata": {
    "ExecuteTime": {
     "end_time": "2022-07-11T20:34:02.519274Z",
     "start_time": "2022-07-11T20:34:02.503321Z"
    }
   },
   "outputs": [],
   "source": [
    "if __name__ == \"__main__\":\n",
    "    df = pd.read_excel(\"data.xlsx\")\n",
    "    \n",
    "    print(df)\n",
    "    today = datetime.datetime.now().strftime(\"%d-%m\")\n",
    "\n",
    "    update = []\n",
    "    yearnow =  datetime.datetime.now().strftime(\"%Y\")\n",
    "\n",
    "    for index, item in df.iterrows():\n",
    "        \n",
    "        bday = item['Birthday'].strftime(\"%d-%m\")\n",
    "\n",
    "        if(bday == today) and yearnow not in str(item[\"Year\"]): \n",
    "            sendEmail(item['Email'] ,\"Happy BIrthday \"+item[\"Name\"], item['message'])\n",
    "            update.append(index)\n",
    "    for i in update:\n",
    "        yr = df.loc[i, 'Year']\n",
    "\n",
    "        df.loc[i,'Year'] = f\"{yr}, {yearnow}\"\n",
    "\n",
    "    df.to_excel(\"data.xlsx\", index=False)"
   ]
  }
 ],
 "metadata": {
  "kernelspec": {
   "display_name": "Python 3 (ipykernel)",
   "language": "python",
   "name": "python3"
  },
  "language_info": {
   "codemirror_mode": {
    "name": "ipython",
    "version": 3
   },
   "file_extension": ".py",
   "mimetype": "text/x-python",
   "name": "python",
   "nbconvert_exporter": "python",
   "pygments_lexer": "ipython3",
   "version": "3.8.8"
  },
  "varInspector": {
   "cols": {
    "lenName": 16,
    "lenType": 16,
    "lenVar": 40
   },
   "kernels_config": {
    "python": {
     "delete_cmd_postfix": "",
     "delete_cmd_prefix": "del ",
     "library": "var_list.py",
     "varRefreshCmd": "print(var_dic_list())"
    },
    "r": {
     "delete_cmd_postfix": ") ",
     "delete_cmd_prefix": "rm(",
     "library": "var_list.r",
     "varRefreshCmd": "cat(var_dic_list()) "
    }
   },
   "types_to_exclude": [
    "module",
    "function",
    "builtin_function_or_method",
    "instance",
    "_Feature"
   ],
   "window_display": false
  }
 },
 "nbformat": 4,
 "nbformat_minor": 5
}
