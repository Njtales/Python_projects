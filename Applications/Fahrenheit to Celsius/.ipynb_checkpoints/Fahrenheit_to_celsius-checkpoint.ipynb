{
 "cells": [
  {
   "cell_type": "markdown",
   "id": "4e034560",
   "metadata": {},
   "source": [
    "# Fahrenheit_to_celsius"
   ]
  },
  {
   "cell_type": "code",
   "execution_count": 4,
   "id": "146bdeb6",
   "metadata": {
    "ExecuteTime": {
     "end_time": "2022-06-22T22:20:14.102552Z",
     "start_time": "2022-06-22T22:20:14.086629Z"
    }
   },
   "outputs": [],
   "source": [
    "def fah_to_cel(s):\n",
    "    f = float(s)\n",
    "    c = (f - 32) * 5/9\n",
    "    return c\n"
   ]
  },
  {
   "cell_type": "code",
   "execution_count": 5,
   "id": "753833f3",
   "metadata": {
    "ExecuteTime": {
     "end_time": "2022-06-22T22:20:14.416339Z",
     "start_time": "2022-06-22T22:20:14.399420Z"
    }
   },
   "outputs": [
    {
     "data": {
      "text/plain": [
       "25.555555555555557"
      ]
     },
     "execution_count": 5,
     "metadata": {},
     "output_type": "execute_result"
    }
   ],
   "source": [
    "fah_to_cel(78)"
   ]
  },
  {
   "cell_type": "code",
   "execution_count": 8,
   "id": "995e437b",
   "metadata": {
    "ExecuteTime": {
     "end_time": "2022-06-22T22:20:31.470221Z",
     "start_time": "2022-06-22T22:20:31.459282Z"
    }
   },
   "outputs": [
    {
     "data": {
      "text/plain": [
       "-40.0"
      ]
     },
     "execution_count": 8,
     "metadata": {},
     "output_type": "execute_result"
    }
   ],
   "source": [
    "fah_to_cel(-40.0)"
   ]
  }
 ],
 "metadata": {
  "kernelspec": {
   "display_name": "Python 3 (ipykernel)",
   "language": "python",
   "name": "python3"
  },
  "language_info": {
   "codemirror_mode": {
    "name": "ipython",
    "version": 3
   },
   "file_extension": ".py",
   "mimetype": "text/x-python",
   "name": "python",
   "nbconvert_exporter": "python",
   "pygments_lexer": "ipython3",
   "version": "3.8.8"
  },
  "toc": {
   "base_numbering": 1,
   "nav_menu": {},
   "number_sections": true,
   "sideBar": true,
   "skip_h1_title": false,
   "title_cell": "Table of Contents",
   "title_sidebar": "Contents",
   "toc_cell": false,
   "toc_position": {},
   "toc_section_display": true,
   "toc_window_display": false
  },
  "varInspector": {
   "cols": {
    "lenName": 16,
    "lenType": 16,
    "lenVar": 40
   },
   "kernels_config": {
    "python": {
     "delete_cmd_postfix": "",
     "delete_cmd_prefix": "del ",
     "library": "var_list.py",
     "varRefreshCmd": "print(var_dic_list())"
    },
    "r": {
     "delete_cmd_postfix": ") ",
     "delete_cmd_prefix": "rm(",
     "library": "var_list.r",
     "varRefreshCmd": "cat(var_dic_list()) "
    }
   },
   "types_to_exclude": [
    "module",
    "function",
    "builtin_function_or_method",
    "instance",
    "_Feature"
   ],
   "window_display": false
  }
 },
 "nbformat": 4,
 "nbformat_minor": 5
}
