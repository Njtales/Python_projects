{
 "cells": [
  {
   "cell_type": "markdown",
   "id": "a8b5017e",
   "metadata": {},
   "source": [
    "# Breadth-First_Search"
   ]
  },
  {
   "cell_type": "code",
   "execution_count": 1,
   "id": "7d8f5fc1",
   "metadata": {
    "ExecuteTime": {
     "end_time": "2022-06-21T19:06:28.831535Z",
     "start_time": "2022-06-21T19:06:28.826549Z"
    }
   },
   "outputs": [],
   "source": [
    "class Queue():    \n",
    "    def __init__(self):\n",
    "        self.size = 0\n",
    "        self.list = []\n",
    "\n",
    "    def enqueue(self, data):\n",
    "        self.list.append(data)\n",
    "        self.size += 1\n",
    "\n",
    "    def dequeue(self):\n",
    "        try:\n",
    "            self.size -= 1\n",
    "            return self.list.pop(0)\n",
    "        except Exception as error:\n",
    "            print(f'{error} is not possible')     \n",
    "\n",
    "    def xprint(self, index):\n",
    "        print(self.list[index])"
   ]
  },
  {
   "cell_type": "code",
   "execution_count": 2,
   "id": "a8544e5e",
   "metadata": {
    "ExecuteTime": {
     "end_time": "2022-06-21T19:06:30.067171Z",
     "start_time": "2022-06-21T19:06:30.048222Z"
    }
   },
   "outputs": [],
   "source": [
    "def breadth_first(graph, root):\n",
    "\n",
    "    queue = Queue()\n",
    "    visited_nodes = list()\n",
    "    queue.enqueue(root)\n",
    "    visited_nodes.append(root)\n",
    "    current_node = root\n",
    "    \n",
    "    while queue.size > 0:\n",
    "        current_node = queue.dequeue()\n",
    "        adj_nodes = graph[current_node]\n",
    "        remaining_elements = sorted(set(adj_nodes) - set(visited_nodes))\n",
    "\n",
    "        if len(remaining_elements) > 0:\n",
    "            for element in remaining_elements:\n",
    "                visited_nodes.append(element)\n",
    "                queue.enqueue(element)\n",
    "    \n",
    "    return visited_nodes"
   ]
  },
  {
   "cell_type": "code",
   "execution_count": 3,
   "id": "c5d554b8",
   "metadata": {
    "ExecuteTime": {
     "end_time": "2022-06-21T19:07:20.554081Z",
     "start_time": "2022-06-21T19:07:20.544075Z"
    }
   },
   "outputs": [
    {
     "name": "stdout",
     "output_type": "stream",
     "text": [
      "['A', 'F', 'B', 'G', 'E', 'C', 'D', 'H']\n"
     ]
    }
   ],
   "source": [
    "if __name__ == '__main__':\n",
    "    \n",
    "    graph = dict()\n",
    "    graph['A'] = ['F', 'A']\n",
    "    graph['B'] = ['A', 'F', 'E']\n",
    "    graph['C'] = ['F', 'H']\n",
    "    graph['D'] = ['B', 'G', 'D']\n",
    "    graph['E'] = ['B', 'D', 'C']\n",
    "    graph['F'] = ['B', 'G']\n",
    "    graph['G'] = ['A', 'E']\n",
    "    graph['H'] = ['C']\n",
    "\n",
    "    print(breadth_first(graph, 'A'))"
   ]
  }
 ],
 "metadata": {
  "kernelspec": {
   "display_name": "Python 3 (ipykernel)",
   "language": "python",
   "name": "python3"
  },
  "language_info": {
   "codemirror_mode": {
    "name": "ipython",
    "version": 3
   },
   "file_extension": ".py",
   "mimetype": "text/x-python",
   "name": "python",
   "nbconvert_exporter": "python",
   "pygments_lexer": "ipython3",
   "version": "3.8.8"
  },
  "toc": {
   "base_numbering": 1,
   "nav_menu": {},
   "number_sections": true,
   "sideBar": true,
   "skip_h1_title": false,
   "title_cell": "Table of Contents",
   "title_sidebar": "Contents",
   "toc_cell": false,
   "toc_position": {},
   "toc_section_display": true,
   "toc_window_display": false
  },
  "varInspector": {
   "cols": {
    "lenName": 16,
    "lenType": 16,
    "lenVar": 40
   },
   "kernels_config": {
    "python": {
     "delete_cmd_postfix": "",
     "delete_cmd_prefix": "del ",
     "library": "var_list.py",
     "varRefreshCmd": "print(var_dic_list())"
    },
    "r": {
     "delete_cmd_postfix": ") ",
     "delete_cmd_prefix": "rm(",
     "library": "var_list.r",
     "varRefreshCmd": "cat(var_dic_list()) "
    }
   },
   "types_to_exclude": [
    "module",
    "function",
    "builtin_function_or_method",
    "instance",
    "_Feature"
   ],
   "window_display": false
  }
 },
 "nbformat": 4,
 "nbformat_minor": 5
}
