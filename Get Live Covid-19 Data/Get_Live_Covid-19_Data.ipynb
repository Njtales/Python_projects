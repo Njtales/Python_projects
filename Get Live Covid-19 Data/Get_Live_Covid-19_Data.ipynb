{
 "cells": [
  {
   "cell_type": "markdown",
   "id": "21eec251",
   "metadata": {},
   "source": [
    "# Get_Live_Covid-19_Data"
   ]
  },
  {
   "cell_type": "code",
   "execution_count": 3,
   "id": "644cfdb2",
   "metadata": {
    "ExecuteTime": {
     "end_time": "2022-06-23T16:32:51.296394Z",
     "start_time": "2022-06-23T16:32:50.377936Z"
    }
   },
   "outputs": [],
   "source": [
    "import csv\n",
    "from urllib.request import urlopen\n",
    "from bs4 import BeautifulSoup\n",
    "\n",
    "html = urlopen(\"https://bit.ly/3jpMFRW\")\n",
    "soup = BeautifulSoup(html, \"html.parser\")\n",
    "table = soup.findAll(\"table\", {\"class\":\"wikitable\"})[0]\n",
    "rows = table.findAll(\"tr\")\n",
    "\n",
    "with open(\"Dataset.csv\", \"wt+\", newline=\"\") as f:\n",
    "    writer = csv.writer(f)\n",
    "    for i in rows:\n",
    "        row = []\n",
    "        for cell in i.findAll([\"td\", \"th\"]):\n",
    "            row.append(cell.get_text())\n",
    "        writer.writerow(row)"
   ]
  },
  {
   "cell_type": "code",
   "execution_count": 8,
   "id": "71d06d6c",
   "metadata": {
    "ExecuteTime": {
     "end_time": "2022-06-23T16:37:05.312068Z",
     "start_time": "2022-06-23T16:37:05.303862Z"
    },
    "scrolled": true
   },
   "outputs": [],
   "source": [
    "import pandas as pd\n",
    "data = pd.read_csv(\"Dataset.csv\")"
   ]
  },
  {
   "cell_type": "code",
   "execution_count": 9,
   "id": "a220086a",
   "metadata": {
    "ExecuteTime": {
     "end_time": "2022-06-23T16:37:17.242434Z",
     "start_time": "2022-06-23T16:37:17.235453Z"
    }
   },
   "outputs": [],
   "source": [
    "data = data.drop(labels=\"Ref.\\n\", axis=1)\n",
    "data.columns = [\"Location\", \"Cases\", \"Deaths\", \"Recovered\"]"
   ]
  }
 ],
 "metadata": {
  "kernelspec": {
   "display_name": "Python 3 (ipykernel)",
   "language": "python",
   "name": "python3"
  },
  "language_info": {
   "codemirror_mode": {
    "name": "ipython",
    "version": 3
   },
   "file_extension": ".py",
   "mimetype": "text/x-python",
   "name": "python",
   "nbconvert_exporter": "python",
   "pygments_lexer": "ipython3",
   "version": "3.8.8"
  },
  "toc": {
   "base_numbering": 1,
   "nav_menu": {},
   "number_sections": true,
   "sideBar": true,
   "skip_h1_title": false,
   "title_cell": "Table of Contents",
   "title_sidebar": "Contents",
   "toc_cell": false,
   "toc_position": {},
   "toc_section_display": true,
   "toc_window_display": false
  },
  "varInspector": {
   "cols": {
    "lenName": 16,
    "lenType": 16,
    "lenVar": 40
   },
   "kernels_config": {
    "python": {
     "delete_cmd_postfix": "",
     "delete_cmd_prefix": "del ",
     "library": "var_list.py",
     "varRefreshCmd": "print(var_dic_list())"
    },
    "r": {
     "delete_cmd_postfix": ") ",
     "delete_cmd_prefix": "rm(",
     "library": "var_list.r",
     "varRefreshCmd": "cat(var_dic_list()) "
    }
   },
   "types_to_exclude": [
    "module",
    "function",
    "builtin_function_or_method",
    "instance",
    "_Feature"
   ],
   "window_display": false
  }
 },
 "nbformat": 4,
 "nbformat_minor": 5
}
