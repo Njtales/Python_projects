{
 "cells": [
  {
   "cell_type": "markdown",
   "id": "14ff889b",
   "metadata": {},
   "source": [
    "# Pearson_correlation"
   ]
  },
  {
   "cell_type": "code",
   "execution_count": 3,
   "id": "bd04c289",
   "metadata": {
    "ExecuteTime": {
     "end_time": "2022-06-22T21:18:04.886037Z",
     "start_time": "2022-06-22T21:18:04.806016Z"
    }
   },
   "outputs": [
    {
     "data": {
      "text/html": [
       "<div>\n",
       "<style scoped>\n",
       "    .dataframe tbody tr th:only-of-type {\n",
       "        vertical-align: middle;\n",
       "    }\n",
       "\n",
       "    .dataframe tbody tr th {\n",
       "        vertical-align: top;\n",
       "    }\n",
       "\n",
       "    .dataframe thead th {\n",
       "        text-align: right;\n",
       "    }\n",
       "</style>\n",
       "<table border=\"1\" class=\"dataframe\">\n",
       "  <thead>\n",
       "    <tr style=\"text-align: right;\">\n",
       "      <th></th>\n",
       "      <th>Unnamed: 0</th>\n",
       "      <th>ID</th>\n",
       "      <th>Title</th>\n",
       "      <th>Year</th>\n",
       "      <th>Age</th>\n",
       "      <th>Rotten Tomatoes</th>\n",
       "      <th>Netflix</th>\n",
       "      <th>Hulu</th>\n",
       "      <th>Prime Video</th>\n",
       "      <th>Disney+</th>\n",
       "    </tr>\n",
       "  </thead>\n",
       "  <tbody>\n",
       "    <tr>\n",
       "      <th>0</th>\n",
       "      <td>0</td>\n",
       "      <td>1</td>\n",
       "      <td>The Irishman</td>\n",
       "      <td>2019</td>\n",
       "      <td>18+</td>\n",
       "      <td>98/100</td>\n",
       "      <td>1</td>\n",
       "      <td>0</td>\n",
       "      <td>0</td>\n",
       "      <td>0</td>\n",
       "    </tr>\n",
       "    <tr>\n",
       "      <th>1</th>\n",
       "      <td>1</td>\n",
       "      <td>2</td>\n",
       "      <td>Dangal</td>\n",
       "      <td>2016</td>\n",
       "      <td>7+</td>\n",
       "      <td>97/100</td>\n",
       "      <td>1</td>\n",
       "      <td>0</td>\n",
       "      <td>0</td>\n",
       "      <td>0</td>\n",
       "    </tr>\n",
       "    <tr>\n",
       "      <th>2</th>\n",
       "      <td>2</td>\n",
       "      <td>3</td>\n",
       "      <td>David Attenborough: A Life on Our Planet</td>\n",
       "      <td>2020</td>\n",
       "      <td>7+</td>\n",
       "      <td>95/100</td>\n",
       "      <td>1</td>\n",
       "      <td>0</td>\n",
       "      <td>0</td>\n",
       "      <td>0</td>\n",
       "    </tr>\n",
       "    <tr>\n",
       "      <th>3</th>\n",
       "      <td>3</td>\n",
       "      <td>4</td>\n",
       "      <td>Lagaan: Once Upon a Time in India</td>\n",
       "      <td>2001</td>\n",
       "      <td>7+</td>\n",
       "      <td>94/100</td>\n",
       "      <td>1</td>\n",
       "      <td>0</td>\n",
       "      <td>0</td>\n",
       "      <td>0</td>\n",
       "    </tr>\n",
       "    <tr>\n",
       "      <th>4</th>\n",
       "      <td>4</td>\n",
       "      <td>5</td>\n",
       "      <td>Roma</td>\n",
       "      <td>2018</td>\n",
       "      <td>18+</td>\n",
       "      <td>94/100</td>\n",
       "      <td>1</td>\n",
       "      <td>0</td>\n",
       "      <td>0</td>\n",
       "      <td>0</td>\n",
       "    </tr>\n",
       "  </tbody>\n",
       "</table>\n",
       "</div>"
      ],
      "text/plain": [
       "   Unnamed: 0  ID                                     Title  Year  Age  \\\n",
       "0           0   1                              The Irishman  2019  18+   \n",
       "1           1   2                                    Dangal  2016   7+   \n",
       "2           2   3  David Attenborough: A Life on Our Planet  2020   7+   \n",
       "3           3   4         Lagaan: Once Upon a Time in India  2001   7+   \n",
       "4           4   5                                      Roma  2018  18+   \n",
       "\n",
       "  Rotten Tomatoes  Netflix  Hulu  Prime Video  Disney+  \n",
       "0          98/100        1     0            0        0  \n",
       "1          97/100        1     0            0        0  \n",
       "2          95/100        1     0            0        0  \n",
       "3          94/100        1     0            0        0  \n",
       "4          94/100        1     0            0        0  "
      ]
     },
     "execution_count": 3,
     "metadata": {},
     "output_type": "execute_result"
    }
   ],
   "source": [
    "import pandas as pd\n",
    "\n",
    "movies = pd.read_csv(\"Movies.csv\")\n",
    "movies['Rotten Tomatoes'] = movies[\"Rotten Tomatoes\"].str.replace(\"%\", \"\")\n",
    "movies.drop(\"Type\", inplace=True, axis=1)\n",
    "\n",
    "movies.head()"
   ]
  },
  {
   "cell_type": "code",
   "execution_count": 4,
   "id": "89d3dee5",
   "metadata": {
    "ExecuteTime": {
     "end_time": "2022-06-22T21:18:05.014004Z",
     "start_time": "2022-06-22T21:18:04.986018Z"
    },
    "scrolled": true
   },
   "outputs": [
    {
     "name": "stdout",
     "output_type": "stream",
     "text": [
      "<class 'pandas.core.frame.DataFrame'>\n",
      "RangeIndex: 9515 entries, 0 to 9514\n",
      "Data columns (total 10 columns):\n",
      " #   Column           Non-Null Count  Dtype \n",
      "---  ------           --------------  ----- \n",
      " 0   Unnamed: 0       9515 non-null   int64 \n",
      " 1   ID               9515 non-null   int64 \n",
      " 2   Title            9515 non-null   object\n",
      " 3   Year             9515 non-null   int64 \n",
      " 4   Age              5338 non-null   object\n",
      " 5   Rotten Tomatoes  9508 non-null   object\n",
      " 6   Netflix          9515 non-null   int64 \n",
      " 7   Hulu             9515 non-null   int64 \n",
      " 8   Prime Video      9515 non-null   int64 \n",
      " 9   Disney+          9515 non-null   int64 \n",
      "dtypes: int64(7), object(3)\n",
      "memory usage: 743.5+ KB\n"
     ]
    }
   ],
   "source": [
    "movies.info()"
   ]
  },
  {
   "cell_type": "code",
   "execution_count": 5,
   "id": "7e04346f",
   "metadata": {
    "ExecuteTime": {
     "end_time": "2022-06-22T21:18:05.189981Z",
     "start_time": "2022-06-22T21:18:05.154017Z"
    }
   },
   "outputs": [
    {
     "data": {
      "text/html": [
       "<div>\n",
       "<style scoped>\n",
       "    .dataframe tbody tr th:only-of-type {\n",
       "        vertical-align: middle;\n",
       "    }\n",
       "\n",
       "    .dataframe tbody tr th {\n",
       "        vertical-align: top;\n",
       "    }\n",
       "\n",
       "    .dataframe thead th {\n",
       "        text-align: right;\n",
       "    }\n",
       "</style>\n",
       "<table border=\"1\" class=\"dataframe\">\n",
       "  <thead>\n",
       "    <tr style=\"text-align: right;\">\n",
       "      <th></th>\n",
       "      <th>Unnamed: 0</th>\n",
       "      <th>ID</th>\n",
       "      <th>Year</th>\n",
       "      <th>Netflix</th>\n",
       "      <th>Hulu</th>\n",
       "      <th>Prime Video</th>\n",
       "      <th>Disney+</th>\n",
       "    </tr>\n",
       "  </thead>\n",
       "  <tbody>\n",
       "    <tr>\n",
       "      <th>Unnamed: 0</th>\n",
       "      <td>1.000000</td>\n",
       "      <td>1.000000</td>\n",
       "      <td>-0.334904</td>\n",
       "      <td>-0.844152</td>\n",
       "      <td>-0.086986</td>\n",
       "      <td>0.541981</td>\n",
       "      <td>0.500118</td>\n",
       "    </tr>\n",
       "    <tr>\n",
       "      <th>ID</th>\n",
       "      <td>1.000000</td>\n",
       "      <td>1.000000</td>\n",
       "      <td>-0.334904</td>\n",
       "      <td>-0.844152</td>\n",
       "      <td>-0.086986</td>\n",
       "      <td>0.541981</td>\n",
       "      <td>0.500118</td>\n",
       "    </tr>\n",
       "    <tr>\n",
       "      <th>Year</th>\n",
       "      <td>-0.334904</td>\n",
       "      <td>-0.334904</td>\n",
       "      <td>1.000000</td>\n",
       "      <td>0.306645</td>\n",
       "      <td>0.080422</td>\n",
       "      <td>-0.243679</td>\n",
       "      <td>-0.177892</td>\n",
       "    </tr>\n",
       "    <tr>\n",
       "      <th>Netflix</th>\n",
       "      <td>-0.844152</td>\n",
       "      <td>-0.844152</td>\n",
       "      <td>0.306645</td>\n",
       "      <td>1.000000</td>\n",
       "      <td>-0.253300</td>\n",
       "      <td>-0.647814</td>\n",
       "      <td>-0.256625</td>\n",
       "    </tr>\n",
       "    <tr>\n",
       "      <th>Hulu</th>\n",
       "      <td>-0.086986</td>\n",
       "      <td>-0.086986</td>\n",
       "      <td>0.080422</td>\n",
       "      <td>-0.253300</td>\n",
       "      <td>1.000000</td>\n",
       "      <td>-0.239705</td>\n",
       "      <td>-0.108368</td>\n",
       "    </tr>\n",
       "    <tr>\n",
       "      <th>Prime Video</th>\n",
       "      <td>0.541981</td>\n",
       "      <td>0.541981</td>\n",
       "      <td>-0.243679</td>\n",
       "      <td>-0.647814</td>\n",
       "      <td>-0.239705</td>\n",
       "      <td>1.000000</td>\n",
       "      <td>-0.276499</td>\n",
       "    </tr>\n",
       "    <tr>\n",
       "      <th>Disney+</th>\n",
       "      <td>0.500118</td>\n",
       "      <td>0.500118</td>\n",
       "      <td>-0.177892</td>\n",
       "      <td>-0.256625</td>\n",
       "      <td>-0.108368</td>\n",
       "      <td>-0.276499</td>\n",
       "      <td>1.000000</td>\n",
       "    </tr>\n",
       "  </tbody>\n",
       "</table>\n",
       "</div>"
      ],
      "text/plain": [
       "             Unnamed: 0        ID      Year   Netflix      Hulu  Prime Video  \\\n",
       "Unnamed: 0     1.000000  1.000000 -0.334904 -0.844152 -0.086986     0.541981   \n",
       "ID             1.000000  1.000000 -0.334904 -0.844152 -0.086986     0.541981   \n",
       "Year          -0.334904 -0.334904  1.000000  0.306645  0.080422    -0.243679   \n",
       "Netflix       -0.844152 -0.844152  0.306645  1.000000 -0.253300    -0.647814   \n",
       "Hulu          -0.086986 -0.086986  0.080422 -0.253300  1.000000    -0.239705   \n",
       "Prime Video    0.541981  0.541981 -0.243679 -0.647814 -0.239705     1.000000   \n",
       "Disney+        0.500118  0.500118 -0.177892 -0.256625 -0.108368    -0.276499   \n",
       "\n",
       "              Disney+  \n",
       "Unnamed: 0   0.500118  \n",
       "ID           0.500118  \n",
       "Year        -0.177892  \n",
       "Netflix     -0.256625  \n",
       "Hulu        -0.108368  \n",
       "Prime Video -0.276499  \n",
       "Disney+      1.000000  "
      ]
     },
     "execution_count": 5,
     "metadata": {},
     "output_type": "execute_result"
    }
   ],
   "source": [
    "# Correlation Between All The Features\n",
    "correlations = movies.corr(method='pearson')\n",
    "correlations"
   ]
  },
  {
   "cell_type": "code",
   "execution_count": 6,
   "id": "c8d2c870",
   "metadata": {
    "ExecuteTime": {
     "end_time": "2022-06-22T21:18:05.366018Z",
     "start_time": "2022-06-22T21:18:05.342016Z"
    }
   },
   "outputs": [
    {
     "name": "stdout",
     "output_type": "stream",
     "text": [
      "Unnamed: 0    -0.334904\n",
      "ID            -0.334904\n",
      "Year           1.000000\n",
      "Netflix        0.306645\n",
      "Hulu           0.080422\n",
      "Prime Video   -0.243679\n",
      "Disney+       -0.177892\n",
      "Name: Year, dtype: float64\n"
     ]
    }
   ],
   "source": [
    "# Correlation Between A Particular column \"Year\"\n",
    "print(correlations[\"Year\"])"
   ]
  },
  {
   "cell_type": "code",
   "execution_count": 7,
   "id": "c68475bc",
   "metadata": {
    "ExecuteTime": {
     "end_time": "2022-06-22T21:18:09.472242Z",
     "start_time": "2022-06-22T21:18:06.228435Z"
    }
   },
   "outputs": [
    {
     "data": {
      "image/png": "[encoded data removed]",
      "text/plain": [
       "<Figure size 432x288 with 2 Axes>"
      ]
     },
     "metadata": {
      "needs_background": "light"
     },
     "output_type": "display_data"
    }
   ],
   "source": [
    "# Visualizing Correlation\n",
    "import seaborn as sns\n",
    "\n",
    "import matplotlib.pyplot as plt\n",
    "sns.heatmap(correlations)\n",
    "plt.show()"
   ]
  }
 ],
 "metadata": {
  "kernelspec": {
   "display_name": "Python 3 (ipykernel)",
   "language": "python",
   "name": "python3"
  },
  "language_info": {
   "codemirror_mode": {
    "name": "ipython",
    "version": 3
   },
   "file_extension": ".py",
   "mimetype": "text/x-python",
   "name": "python",
   "nbconvert_exporter": "python",
   "pygments_lexer": "ipython3",
   "version": "3.8.8"
  },
  "toc": {
   "base_numbering": 1,
   "nav_menu": {},
   "number_sections": true,
   "sideBar": true,
   "skip_h1_title": false,
   "title_cell": "Table of Contents",
   "title_sidebar": "Contents",
   "toc_cell": false,
   "toc_position": {},
   "toc_section_display": true,
   "toc_window_display": false
  },
  "varInspector": {
   "cols": {
    "lenName": 16,
    "lenType": 16,
    "lenVar": 40
   },
   "kernels_config": {
    "python": {
     "delete_cmd_postfix": "",
     "delete_cmd_prefix": "del ",
     "library": "var_list.py",
     "varRefreshCmd": "print(var_dic_list())"
    },
    "r": {
     "delete_cmd_postfix": ") ",
     "delete_cmd_prefix": "rm(",
     "library": "var_list.r",
     "varRefreshCmd": "cat(var_dic_list()) "
    }
   },
   "types_to_exclude": [
    "module",
    "function",
    "builtin_function_or_method",
    "instance",
    "_Feature"
   ],
   "window_display": false
  }
 },
 "nbformat": 4,
 "nbformat_minor": 5
}
