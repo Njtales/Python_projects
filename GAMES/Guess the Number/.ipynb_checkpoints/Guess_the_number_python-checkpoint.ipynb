{
 "cells": [
  {
   "cell_type": "markdown",
   "id": "f6d1ccd5",
   "metadata": {},
   "source": [
    "## Guess the number python"
   ]
  },
  {
   "cell_type": "code",
   "execution_count": 1,
   "id": "88b1a56d",
   "metadata": {
    "ExecuteTime": {
     "end_time": "2022-06-06T23:24:24.792285Z",
     "start_time": "2022-06-06T23:22:05.659441Z"
    }
   },
   "outputs": [
    {
     "name": "stdout",
     "output_type": "stream",
     "text": [
      "Enter your name to play the game : john\n",
      "\n",
      "Hey  John, let's start the game 'Guess the number'.\n",
      "You have  6  chances to guess the number between 0 - 99.\n",
      "The Target Number has been set ## will be revealed afterward.\n",
      "\n",
      "Your guess _ : 67\n",
      "Wrong! Try another\n",
      "\n",
      "You are far.\n",
      "Your guess _ : 56\n",
      "Wrong! Try another\n",
      "\n",
      "Your entered guess is far away.\n",
      "Your guess _ : 89\n",
      "Wrong! Try another\n",
      "\n",
      "Almost there, just 2 steps!\n",
      "Your guess _ : 88\n",
      "Wrong! Try another\n",
      "\n",
      "You are really close to target, within range of 5.\n",
      "Your guess _ : 86\n",
      "Wrong! Try another\n",
      "\n",
      "You are really close to target, within range of 5.\n",
      "Your guess _ : 91\n",
      "Wrong! Try another\n",
      "\n",
      "Almost there, just 2 steps!\n",
      "\n",
      "Your Target Number was :  90\n",
      "Your entered guesses are :  [67, 56, 89, 88, 86, 91]\n",
      "Another one? yes/no > yeah\n",
      "Enter Valid input? yes/no > yes\n",
      "\n",
      "Hey  John, let's start the game 'Guess the number'.\n",
      "You have  7  chances to guess the number between 0 - 99.\n",
      "The Target Number has been set ## will be revealed afterward.\n",
      "\n",
      "Your guess _ : 60\n",
      "Wrong! Try another\n",
      "\n",
      "You are really close to target, within range of 5.\n",
      "Your guess _ : 63\n",
      "\n",
      " Yaay! Correct guess.\n",
      "\n",
      "Your Target Number was :  63\n",
      "Your entered guesses are :  [60, 63]\n",
      "Another one? yes/no > nope\n",
      "Enter Valid input? yes/no > no\n"
     ]
    }
   ],
   "source": [
    "import random\n",
    "player_name = input(\"Enter your name to play the game : \")\n",
    "    \n",
    "def guess_number():\n",
    "\n",
    "    print(\"\\nHey \",player_name.capitalize() + \", let's start the game 'Guess the number'.\")\n",
    "    target_num = random.randint(0,99)\n",
    "    chances_count = random.randint(6,9)\n",
    "\n",
    "    print(\"You have \", chances_count,\" chances to guess the number between 0 - 99.\")\n",
    "    print(\"\\nThe Target Number has been set ## will be revealed afterward.\\n\")\n",
    "\n",
    "    guess = []\n",
    "    for i in range(chances_count):\n",
    "        try:\n",
    "            temp = int(input(\"\\nYour guess _ : \"))\n",
    "            guess.append(temp)\n",
    "            if temp not in range(0,99):\n",
    "                print(\"Enter the guess in range 0 - 99.\")\n",
    "\n",
    "            elif guess[i] == target_num:\n",
    "                print(\"\\nYaay! Correct guess.\")\n",
    "                break\n",
    "            else:\n",
    "                print(\"Wrong! Try another.\")\n",
    "                if target_num in range(temp - 2, temp + 2):\n",
    "                    print(\"Almost there, just 2 steps!\")\n",
    "\n",
    "                elif target_num in range(temp - 5, temp + 5):\n",
    "                    print(\"You are really close to target, within range of 5.\")\n",
    "\n",
    "                elif target_num in range(temp - 10, temp + 10):\n",
    "                    print(\"You are close enough, within range of 10.\")\n",
    "\n",
    "                elif target_num in range(temp - 20, temp + 20):\n",
    "                    print(\"You are nearby, within range of 20\")\n",
    "\n",
    "                elif target_num in range(temp - 30, temp + 30):\n",
    "                    print(\"You are far.\")\n",
    "                else:\n",
    "                    print(\"Your entered guess is far away.\")\n",
    "        except:\n",
    "            print(\"Please enter valid input!\")\n",
    "    print(\"\\nYour Target Number was : \",target_num)\n",
    "    print(\"Your entered guesses are : \",guess)\n",
    "\n",
    "while True:\n",
    "    guess_number()\n",
    "    \n",
    "    play_again = input(\"Another one? yes/no > \")\n",
    "    while play_again.lower() not in (\"yes\",\"no\"):\n",
    "        play_again = input(\"Enter Valid input? yes/no > \")\n",
    "    if play_again == \"no\":\n",
    "        break"
   ]
  }
 ],
 "metadata": {
  "kernelspec": {
   "display_name": "Python 3 (ipykernel)",
   "language": "python",
   "name": "python3"
  },
  "language_info": {
   "codemirror_mode": {
    "name": "ipython",
    "version": 3
   },
   "file_extension": ".py",
   "mimetype": "text/x-python",
   "name": "python",
   "nbconvert_exporter": "python",
   "pygments_lexer": "ipython3",
   "version": "3.8.8"
  },
  "toc": {
   "base_numbering": 1,
   "nav_menu": {},
   "number_sections": false,
   "sideBar": true,
   "skip_h1_title": false,
   "title_cell": "Table of Contents",
   "title_sidebar": "Contents",
   "toc_cell": false,
   "toc_position": {},
   "toc_section_display": true,
   "toc_window_display": false
  },
  "varInspector": {
   "cols": {
    "lenName": 16,
    "lenType": 16,
    "lenVar": 40
   },
   "kernels_config": {
    "python": {
     "delete_cmd_postfix": "",
     "delete_cmd_prefix": "del ",
     "library": "var_list.py",
     "varRefreshCmd": "print(var_dic_list())"
    },
    "r": {
     "delete_cmd_postfix": ") ",
     "delete_cmd_prefix": "rm(",
     "library": "var_list.r",
     "varRefreshCmd": "cat(var_dic_list()) "
    }
   },
   "types_to_exclude": [
    "module",
    "function",
    "builtin_function_or_method",
    "instance",
    "_Feature"
   ],
   "window_display": false
  }
 },
 "nbformat": 4,
 "nbformat_minor": 5
}
