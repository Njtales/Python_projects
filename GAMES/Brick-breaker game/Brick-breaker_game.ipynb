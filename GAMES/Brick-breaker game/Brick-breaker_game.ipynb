{
 "cells": [
  {
   "cell_type": "markdown",
   "id": "a28378d5",
   "metadata": {},
   "source": [
    "## Brick-breaker_game"
   ]
  },
  {
   "cell_type": "code",
   "execution_count": 86,
   "id": "99e25d93",
   "metadata": {
    "ExecuteTime": {
     "end_time": "2022-07-10T15:05:42.900717Z",
     "start_time": "2022-07-10T15:05:42.289702Z"
    }
   },
   "outputs": [
    {
     "data": {
      "text/plain": [
       "(5, 0)"
      ]
     },
     "execution_count": 86,
     "metadata": {},
     "output_type": "execute_result"
    }
   ],
   "source": [
    "import pygame\n",
    "from pygame.locals import *\n",
    "\n",
    "pygame.init()"
   ]
  },
  {
   "cell_type": "code",
   "execution_count": 87,
   "id": "4fb989b7",
   "metadata": {
    "ExecuteTime": {
     "end_time": "2022-07-10T15:05:42.936019Z",
     "start_time": "2022-07-10T15:05:42.901681Z"
    }
   },
   "outputs": [],
   "source": [
    "# gaming window size and font\n",
    "\n",
    "Window_width = 500\n",
    "Window_height = 500\n",
    "\n",
    "window = pygame.display.set_mode((Window_width, Window_height))\n",
    "pygame.display.set_caption('Brick-Breaker')\n",
    "\n",
    "\n",
    "font = pygame.font.SysFont('Arial', 30)"
   ]
  },
  {
   "cell_type": "code",
   "execution_count": 88,
   "id": "1d7ef792",
   "metadata": {
    "ExecuteTime": {
     "end_time": "2022-07-10T15:05:42.944995Z",
     "start_time": "2022-07-10T15:05:42.937016Z"
    }
   },
   "outputs": [],
   "source": [
    "# Bricks colour\n",
    "\n",
    "R_brick  = (255, 0, 0)\n",
    "y_brick = (255, 255, 0)\n",
    "g_brick = (0, 255, 0)\n",
    "black = (0, 0, 0)\n",
    "\n",
    "\n",
    "game_rows = 6\n",
    "game_coloumns = 6\n",
    "clock = pygame.time.Clock()\n",
    "frame_rate = 60\n",
    "my_ball = False\n",
    "game_over = 0\n",
    "score = 0"
   ]
  },
  {
   "cell_type": "code",
   "execution_count": 89,
   "id": "df04d8e2",
   "metadata": {
    "ExecuteTime": {
     "end_time": "2022-07-10T15:05:42.967020Z",
     "start_time": "2022-07-10T15:05:42.947989Z"
    }
   },
   "outputs": [],
   "source": [
    "# Creating ball for the game\n",
    "\n",
    "class Ball():\n",
    "\n",
    "    def __init__(self, x, y):\n",
    "\n",
    "        self.radius = 10\n",
    "        self.x = x - self.radius\n",
    "        self.y = y - 50\n",
    "        self.rect = Rect(self.x, self.y, self.radius * 2, self.radius * 2)\n",
    "        self.x_speed = 4\n",
    "        self.y_speed = -4\n",
    "        self.max_speed = 5\n",
    "        self.game_over = 0\n",
    "\n",
    "    def motion(self):\n",
    "        collision_threshold = 5\n",
    "        block_object = Block.bricks\n",
    "        brick_destroyed = 1\n",
    "        count_row = 0\n",
    "        for row in block_object:\n",
    "            count_item = 0\n",
    "            for item in row:\n",
    "                # check collision with gaming window\n",
    "                if self.rect.colliderect(item[0]):\n",
    "                    if abs(self.rect.bottom - item[0].top) < collision_threshold and self.y_speed > 0:\n",
    "                        self.y_speed *= -1\n",
    "\n",
    "                    if abs(self.rect.top - item[0].bottom) < collision_threshold and self.y_speed < 0:\n",
    "                        self.y_speed *= -1\n",
    "                    if abs(self.rect.right - item[0].left) < collision_threshold and self.x_speed > 0:\n",
    "                        self.x_speed *= -1\n",
    "                    if abs(self.rect.left - item[0].right) < collision_threshold and self.x_speed < 0:\n",
    "                        self.x_speed *= -1\n",
    "\n",
    "                    if block_object[count_row][count_item][1] > 1:\n",
    "                        block_object[count_row][count_item][1] -= 1\n",
    "                    else:\n",
    "                        block_object[count_row][count_item][0] = (0, 0, 0, 0)\n",
    "\n",
    "                if block_object[count_row][count_item][0] != (0, 0, 0, 0):\n",
    "                    brick_destroyed = 0\n",
    "                count_item += 1\n",
    "            count_row += 1\n",
    "\n",
    "        if brick_destroyed == 1:\n",
    "            self.game_over = 1\n",
    "\n",
    "        # check for collision with bricks\n",
    "        if self.rect.left < 0 or self.rect.right > Window_width:\n",
    "            self.x_speed *= -1\n",
    "\n",
    "        if self.rect.top < 0:\n",
    "            self.y_speed *= -1\n",
    "        if self.rect.bottom > Window_height:\n",
    "            self.game_over = -1\n",
    "\n",
    "        # check for collission with base\n",
    "        if self.rect.colliderect(user_basepad):\n",
    "            if abs(self.rect.bottom - user_basepad.rect.top) < collision_threshold and self.y_speed > 0:\n",
    "                self.y_speed *= -1\n",
    "                self.x_speed += user_basepad.direction\n",
    "                if self.x_speed > self.max_speed:\n",
    "                    self.x_speed = self.max_speed\n",
    "                elif self.x_speed < 0 and self.x_speed < -self.max_speed:\n",
    "                    self.x_speed = -self.max_speed\n",
    "                else:\n",
    "                    self.x_speed *= -1\n",
    "\n",
    "        self.rect.x += self.x_speed\n",
    "        self.rect.y += self.y_speed\n",
    "\n",
    "        return self.game_over\n",
    "\n",
    "    def draw(self):\n",
    "        pygame.draw.circle(window, (0, 0, 255), (self.rect.x +\n",
    "                           self.radius, self.rect.y + self.radius), self.radius)\n",
    "        pygame.draw.circle(window, (255, 255, 255), (self.rect.x +\n",
    "                           self.radius, self.rect.y + self.radius), self.radius, 1)\n",
    "\n",
    "    def reset(self, x, y):\n",
    "\n",
    "        self.radius = 10\n",
    "        self.x = x - self.radius\n",
    "        self.y = y - 50\n",
    "        self.rect = Rect(self.x, self.y, self.radius * 2, self.radius * 2)\n",
    "        self.x_speed = 4\n",
    "        self.y_speed = -4\n",
    "        self.max_speed = 5\n",
    "        self.game_over = 0"
   ]
  },
  {
   "cell_type": "code",
   "execution_count": 90,
   "id": "bce41f13",
   "metadata": {
    "ExecuteTime": {
     "end_time": "2022-07-10T15:05:42.975980Z",
     "start_time": "2022-07-10T15:05:42.967934Z"
    }
   },
   "outputs": [],
   "source": [
    "# This class will create Blocks/bricks of the game\n",
    "\n",
    "class Block():\n",
    "\n",
    "    def __init__(self):\n",
    "        self.width = Window_width // game_coloumns\n",
    "        self.height = 40\n",
    "\n",
    "    def make_brick(self):\n",
    "        self.bricks = []\n",
    "        single_brick = []\n",
    "        for row in range(game_rows):\n",
    "\n",
    "            brick_row = []\n",
    "\n",
    "            for coloumn in range(game_coloumns):\n",
    "\n",
    "                x_brick = coloumn * self.width\n",
    "                y_brick = row * self.height\n",
    "                rect = pygame.Rect(x_brick, y_brick, self.width, self.height)\n",
    "                # assign power to the bricks based on row\n",
    "                if row < 2:\n",
    "                    power = 3\n",
    "                elif row < 4:\n",
    "                    power = 2\n",
    "                elif row < 6:\n",
    "                    power = 1\n",
    "\n",
    "                single_brick = [rect, power]\n",
    "\n",
    "                brick_row.append(single_brick)\n",
    "\n",
    "            self.bricks.append(brick_row)\n",
    "\n",
    "    def draw_brick(self):\n",
    "        for row in self.bricks:\n",
    "            for brick in row:\n",
    "\n",
    "                if brick[1] == 3:\n",
    "                    brick_colour = R_brick\n",
    "                elif brick[1] == 2:\n",
    "                    brick_colour = y_brick\n",
    "                elif brick[1] == 1:\n",
    "                    brick_colour = g_brick\n",
    "                pygame.draw.rect(window, brick_colour, brick[0])\n",
    "                pygame.draw.rect(window, black, (brick[0]), 1)"
   ]
  },
  {
   "cell_type": "code",
   "execution_count": 91,
   "id": "037a5c90",
   "metadata": {
    "ExecuteTime": {
     "end_time": "2022-07-10T15:05:42.985909Z",
     "start_time": "2022-07-10T15:05:42.976936Z"
    }
   },
   "outputs": [],
   "source": [
    "# base class will create the base pad of the game\n",
    "\n",
    "class base():\n",
    "\n",
    "    def __init__(self):\n",
    "\n",
    "        self.height = 20\n",
    "        self.width = int(Window_width / game_coloumns)\n",
    "        self.x = int((Window_width / 2) - (self.width / 2))\n",
    "        self.y = Window_height - (self.height * 2)\n",
    "        self.speed = 8\n",
    "        self.rect = Rect(self.x, self.y, self.width, self.height)\n",
    "        self.direction = 0\n",
    "\n",
    "    def slide(self):\n",
    "\n",
    "        self.direction = 0\n",
    "        key = pygame.key.get_pressed()\n",
    "        if key[pygame.K_LEFT] and self.rect.left > 0:\n",
    "            self.rect.x -= self.speed\n",
    "            self.direction = -1\n",
    "        if key[pygame.K_RIGHT] and self.rect.right < Window_width:\n",
    "            self.rect.x += self.speed\n",
    "            self.direction = 1\n",
    "\n",
    "    def draw(self):\n",
    "        pygame.draw.rect(window, (0, 0, 255), self.rect)\n",
    "        pygame.draw.rect(window, (255, 255, 255), self.rect, 1)\n",
    "\n",
    "    def reset(self):\n",
    "\n",
    "        self.height = 20\n",
    "        self.width = int(Window_width / game_coloumns)\n",
    "        self.x = int((Window_width / 2) - (self.width / 2))\n",
    "        self.y = Window_height - (self.height * 2)\n",
    "        self.speed = 8\n",
    "        self.rect = Rect(self.x, self.y, self.width, self.height)\n",
    "        self.direction = 0"
   ]
  },
  {
   "cell_type": "code",
   "execution_count": 92,
   "id": "c14be3e7",
   "metadata": {
    "ExecuteTime": {
     "end_time": "2022-07-10T15:05:44.962995Z",
     "start_time": "2022-07-10T15:05:42.986907Z"
    }
   },
   "outputs": [],
   "source": [
    "# Funtion for showing text in gaming window\n",
    "\n",
    "def draw_text(text, font, y_brick, x, y):\n",
    "    image = font.render(text, True, y_brick)\n",
    "    window.blit(image, (x, y))\n",
    "\n",
    "\n",
    "Block = Block()\n",
    "\n",
    "# Creating Brick\n",
    "Block.make_brick()\n",
    "\n",
    "# Defining base pad\n",
    "user_basepad = base()\n",
    "\n",
    "ball = Ball(user_basepad.x + (user_basepad.width // 2),\n",
    "            user_basepad.y - user_basepad.height)   # Defining ball\n",
    "\n",
    "game = True\n",
    "\n",
    "while game:\n",
    "\n",
    "    clock.tick(frame_rate)\n",
    "    window.fill(black)                           # Gaming window Background\n",
    "    Block.draw_brick()                           # Drawing bricks\n",
    "    user_basepad.draw()                          # Drawing user basepad\n",
    "    ball.draw()                                  # Drawing gaming ball\n",
    "\n",
    "    if my_ball:\n",
    "        user_basepad.slide()\n",
    "        game_over = ball.motion()\n",
    "        if game_over != 0:\n",
    "            my_ball = False\n",
    "\n",
    "    # Game Info on the gaming window\n",
    "    if not my_ball:\n",
    "        if game_over == 0:\n",
    "            draw_text('CLICK ANYWHERE TO START', font,\n",
    "                      y_brick, 90, Window_height // 2 + 100)\n",
    "        elif game_over == 1:\n",
    "            draw_text('YOU WON!', font, y_brick, 180, Window_height // 2 + 50)\n",
    "            draw_text('CLICK ANYWHERE TO RESTART', font,\n",
    "                      y_brick, 90, Window_height // 2 + 100)\n",
    "        elif game_over == -1:\n",
    "            draw_text('GAME OVER!', font, y_brick,\n",
    "                      180, Window_height // 2 + 50)\n",
    "            draw_text('CLICK TO RESTART', font,\n",
    "                      y_brick, 90, Window_height // 2 + 100)\n",
    "\n",
    "    for event in pygame.event.get():\n",
    "        if event.type == pygame.QUIT:\n",
    "            game = False\n",
    "        if event.type == pygame.MOUSEBUTTONDOWN and my_ball == False:\n",
    "            my_ball = True\n",
    "            ball.reset(user_basepad.x + (user_basepad.width // 2),\n",
    "                       user_basepad.y - user_basepad.height)\n",
    "            user_basepad.reset()\n",
    "            Block.make_brick()\n",
    "\n",
    "    pygame.display.update()\n",
    "\n",
    "pygame.quit()"
   ]
  }
 ],
 "metadata": {
  "kernelspec": {
   "display_name": "Python 3 (ipykernel)",
   "language": "python",
   "name": "python3"
  },
  "language_info": {
   "codemirror_mode": {
    "name": "ipython",
    "version": 3
   },
   "file_extension": ".py",
   "mimetype": "text/x-python",
   "name": "python",
   "nbconvert_exporter": "python",
   "pygments_lexer": "ipython3",
   "version": "3.8.8"
  },
  "varInspector": {
   "cols": {
    "lenName": 16,
    "lenType": 16,
    "lenVar": 40
   },
   "kernels_config": {
    "python": {
     "delete_cmd_postfix": "",
     "delete_cmd_prefix": "del ",
     "library": "var_list.py",
     "varRefreshCmd": "print(var_dic_list())"
    },
    "r": {
     "delete_cmd_postfix": ") ",
     "delete_cmd_prefix": "rm(",
     "library": "var_list.r",
     "varRefreshCmd": "cat(var_dic_list()) "
    }
   },
   "types_to_exclude": [
    "module",
    "function",
    "builtin_function_or_method",
    "instance",
    "_Feature"
   ],
   "window_display": false
  }
 },
 "nbformat": 4,
 "nbformat_minor": 5
}
