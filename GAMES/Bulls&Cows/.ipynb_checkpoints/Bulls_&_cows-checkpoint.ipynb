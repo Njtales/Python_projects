{
 "cells": [
  {
   "cell_type": "markdown",
   "id": "5927d278",
   "metadata": {},
   "source": [
    "## Bulls_&_cows"
   ]
  },
  {
   "cell_type": "code",
   "execution_count": 4,
   "id": "57d5a3fa",
   "metadata": {
    "ExecuteTime": {
     "end_time": "2022-07-11T14:49:38.268486Z",
     "start_time": "2022-07-11T14:49:38.167314Z"
    }
   },
   "outputs": [],
   "source": [
    "import collections\n",
    "import logging\n",
    "import abc\n",
    "import math\n",
    "import random\n",
    "import time\n",
    "import fire\n",
    "from itertools import permutations\n",
    "from typing import List"
   ]
  },
  {
   "cell_type": "code",
   "execution_count": 5,
   "id": "e9d62ef0",
   "metadata": {
    "ExecuteTime": {
     "end_time": "2022-07-11T14:49:38.947123Z",
     "start_time": "2022-07-11T14:49:38.943101Z"
    }
   },
   "outputs": [],
   "source": [
    "logging.basicConfig(level=logging.INFO, format=\"%(asctime)s [%(levelname)s][%(filename)s:%(lineno)d]:%(message)s\",\n",
    "                    datefmt='%Y-%m-%d %H:%M:%S')\n",
    "\n",
    "logger = logging.getLogger(__name__)\n",
    "\n",
    "NUMBER_COUNT = 4\n",
    "ALL_NUMBER = list(range(10))"
   ]
  },
  {
   "cell_type": "code",
   "execution_count": 6,
   "id": "6654f500",
   "metadata": {
    "ExecuteTime": {
     "end_time": "2022-07-11T14:49:39.712347Z",
     "start_time": "2022-07-11T14:49:39.703386Z"
    }
   },
   "outputs": [],
   "source": [
    "class IPlayer:\n",
    "    def __init__(self, name):\n",
    "        self.name = name\n",
    "\n",
    "    @abc.abstractmethod\n",
    "    def guess(self) -> List[int]:\n",
    "        pass\n",
    "\n",
    "    def refresh(self):\n",
    "        pass\n",
    "\n",
    "    def notify(self, guess: List[int], judge_rs: dict):\n",
    "        pass\n",
    "\n",
    "    def __str__(self):\n",
    "        return self.name\n",
    "\n",
    "    def __repr__(self):\n",
    "        return self.name"
   ]
  },
  {
   "cell_type": "code",
   "execution_count": 7,
   "id": "247dafed",
   "metadata": {
    "ExecuteTime": {
     "end_time": "2022-07-11T14:49:40.512221Z",
     "start_time": "2022-07-11T14:49:40.494269Z"
    }
   },
   "outputs": [],
   "source": [
    "class RandomPlayer(IPlayer):\n",
    "\n",
    "    def guess(self) -> List[int]:\n",
    "        return random.sample(ALL_NUMBER, NUMBER_COUNT)"
   ]
  },
  {
   "cell_type": "code",
   "execution_count": 8,
   "id": "395164d8",
   "metadata": {
    "ExecuteTime": {
     "end_time": "2022-07-11T14:49:41.013135Z",
     "start_time": "2022-07-11T14:49:40.998177Z"
    }
   },
   "outputs": [],
   "source": [
    "class Human(IPlayer):\n",
    "    def guess(self) -> List[int]:\n",
    "        while True:\n",
    "            try:\n",
    "                logger.info(\"input your guess\")\n",
    "                guess = input()\n",
    "                guess = [int(e) for e in guess]\n",
    "                if len(guess) != NUMBER_COUNT:\n",
    "                    raise Exception()\n",
    "                return guess\n",
    "            except Exception as e:\n",
    "                logger.error(f\"invalid input:{guess}, please input again!\")\n",
    "        return guess"
   ]
  },
  {
   "cell_type": "code",
   "execution_count": 9,
   "id": "c0df1bf0",
   "metadata": {
    "ExecuteTime": {
     "end_time": "2022-07-11T14:49:41.713234Z",
     "start_time": "2022-07-11T14:49:41.694284Z"
    }
   },
   "outputs": [],
   "source": [
    "class Node:\n",
    "    def __init__(self, d):\n",
    "        self.n = 0\n",
    "        self.v = 0\n",
    "        self.d = d\n",
    "        if d < NUMBER_COUNT:\n",
    "            self.children: List[Node] = [Node(d + 1) for _ in range(10)]\n",
    "        else:\n",
    "            self.children = None\n",
    "\n",
    "    def get_val(self, p, c=1.0):\n",
    "        v = self.n / p\n",
    "        d = math.log(1 / (self.v + 1))\n",
    "        return v + c * d\n",
    "\n",
    "    def get_next(self, his):\n",
    "        cands = [(idx, e, e.get_val(self.n)) for idx, e in enumerate(self.children) if e.n and idx not in his]\n",
    "        # logger.info(cands)\n",
    "        item = max(cands, key=lambda x: x[2])\n",
    "        return item\n",
    "\n",
    "    def clear(self):\n",
    "        self.n = 0\n",
    "        if self.children:\n",
    "            for c in self.children:\n",
    "                c.clear()\n",
    "\n",
    "    def __repr__(self):\n",
    "        return f\"Node(n={self.n},v={self.v},d={self.d})\"\n",
    "\n",
    "    def __str__(self):\n",
    "        return self.__repr__()"
   ]
  },
  {
   "cell_type": "code",
   "execution_count": 10,
   "id": "fff9abe8",
   "metadata": {
    "ExecuteTime": {
     "end_time": "2022-07-11T14:49:42.263845Z",
     "start_time": "2022-07-11T14:49:42.253873Z"
    }
   },
   "outputs": [],
   "source": [
    "def update_tree(root, cand: List[int]):\n",
    "    n = root\n",
    "    for idx in cand:\n",
    "        n.n += 1\n",
    "        n = n.children[idx]\n",
    "    n.n += 1"
   ]
  },
  {
   "cell_type": "code",
   "execution_count": 11,
   "id": "01df936a",
   "metadata": {
    "ExecuteTime": {
     "end_time": "2022-07-11T14:49:42.894118Z",
     "start_time": "2022-07-11T14:49:42.879158Z"
    }
   },
   "outputs": [],
   "source": [
    "class TreePlayer(IPlayer):\n",
    "\n",
    "    def __init__(self, name, wait=0):\n",
    "        super().__init__(name=name)\n",
    "        self.root = Node(d=0)\n",
    "        self.cands = list(permutations(ALL_NUMBER, NUMBER_COUNT))\n",
    "        self.wait = wait\n",
    "        for cand in self.cands:\n",
    "            update_tree(self.root, cand)\n",
    "\n",
    "    def refresh(self):\n",
    "        self.root = Node(d=0)\n",
    "        self.cands = list(permutations(ALL_NUMBER, NUMBER_COUNT))\n",
    "        for cand in self.cands:\n",
    "            update_tree(self.root, cand)\n",
    "\n",
    "    def guess(self) -> List[int]:\n",
    "        n = self.root\n",
    "        rs = []\n",
    "        for _ in range(NUMBER_COUNT):\n",
    "            idx, n, v = n.get_next(his=rs)\n",
    "            n.v += 1\n",
    "            rs.append(idx)\n",
    "        time.sleep(self.wait)\n",
    "        return rs\n",
    "\n",
    "    def notify(self, guess: List[int], judge_rs: dict):\n",
    "        tmp = len(self.cands)\n",
    "        self.cands = [e for e in self.cands if judge_rs2str(judge_rs) == judge_rs2str(judge(e, guess))]\n",
    "        logger.info(f\"cut cands from {tmp} to {len(self.cands)} after cuts\")\n",
    "        self.root.clear()\n",
    "        for cand in self.cands:\n",
    "            update_tree(self.root, cand)"
   ]
  },
  {
   "cell_type": "code",
   "execution_count": 12,
   "id": "16a1e755",
   "metadata": {
    "ExecuteTime": {
     "end_time": "2022-07-11T14:49:43.544132Z",
     "start_time": "2022-07-11T14:49:43.526180Z"
    }
   },
   "outputs": [],
   "source": [
    "def judge(ans: List[int], gs: List[int]) -> dict:\n",
    "    assert len(ans) == len(gs) == NUMBER_COUNT\n",
    "    a_list = [e for e in zip(ans, gs) if e[0] == e[1]]\n",
    "    a = len(a_list)\n",
    "    b = len(set(ans) & set(gs))\n",
    "    b -= a\n",
    "    return dict(a=a, b=b)"
   ]
  },
  {
   "cell_type": "code",
   "execution_count": 20,
   "id": "68fb20ea",
   "metadata": {
    "ExecuteTime": {
     "end_time": "2022-07-11T18:53:46.444476Z",
     "start_time": "2022-07-11T18:53:46.434480Z"
    }
   },
   "outputs": [],
   "source": [
    "def judge_rs2str(j_rs):\n",
    "    a = j_rs[\"a\"]\n",
    "    b = j_rs[\"b\"]\n",
    "    return f\"{a}B{b}C\""
   ]
  },
  {
   "cell_type": "code",
   "execution_count": 21,
   "id": "6a94eb2d",
   "metadata": {
    "ExecuteTime": {
     "end_time": "2022-07-11T18:53:47.054154Z",
     "start_time": "2022-07-11T18:53:47.033211Z"
    }
   },
   "outputs": [],
   "source": [
    "def run_game(player, rnd=10, answer=None):\n",
    "    if not answer:\n",
    "        answer = random.sample(ALL_NUMBER, NUMBER_COUNT)\n",
    "    player.refresh()\n",
    "    for idx in range(rnd):\n",
    "        logger.info(f\"round:{idx + 1}\")\n",
    "        guess = player.guess()\n",
    "        judge_rs = judge(answer, guess)\n",
    "        logger.info(f\"{player} guess:{guess}, judge result:{judge_rs2str(judge_rs)}\")\n",
    "        if guess == answer:\n",
    "            break\n",
    "        player.notify(guess, judge_rs)\n",
    "    logger.info(f\"answer is :{answer}\")\n",
    "    if guess == answer:\n",
    "        logger.info(f\"{player} win in {idx + 1} rounds!\")\n",
    "        return idx\n",
    "    else:\n",
    "        logger.info(f\"{player} failed!\")\n",
    "        return None"
   ]
  },
  {
   "cell_type": "code",
   "execution_count": 22,
   "id": "d5179922",
   "metadata": {
    "ExecuteTime": {
     "end_time": "2022-07-11T18:53:47.508480Z",
     "start_time": "2022-07-11T18:53:47.498507Z"
    }
   },
   "outputs": [],
   "source": [
    "def compete(players, game_num, rnd=10, base_score=10):\n",
    "    answers = [random.sample(ALL_NUMBER, NUMBER_COUNT) for _ in range(game_num)]\n",
    "    score_board = collections.defaultdict(int)\n",
    "    for g in range(game_num):\n",
    "        logger.info(f\"game:{g + 1}\")\n",
    "        for p in players:\n",
    "            logger.info(f\"player {p} try\")\n",
    "            s = run_game(player=p, rnd=rnd, answer=answers[g])\n",
    "            s = base_score - s if s is not None else 0\n",
    "            score_board[p] += s\n",
    "            logger.info(\"press any key to select next player\")\n",
    "            _ = input()\n",
    "        logger.info(f\"current score board:{dict(score_board)}\")\n",
    "        logger.info(\"press any key to next game\")\n",
    "        _ = input()\n",
    "\n",
    "    return score_board"
   ]
  },
  {
   "cell_type": "code",
   "execution_count": 23,
   "id": "cc8125a7",
   "metadata": {
    "ExecuteTime": {
     "end_time": "2022-07-11T18:53:47.991596Z",
     "start_time": "2022-07-11T18:53:47.985579Z"
    }
   },
   "outputs": [],
   "source": [
    "def compete_with_ai(game_num=3):\n",
    "    human = Human(\"Human\")\n",
    "    ai = TreePlayer(\"AI\", wait=2)\n",
    "    players = [human, ai]\n",
    "    logger.info(f\"Human Vs AI with {game_num} games\")\n",
    "    score_board = compete(players=players, game_num=game_num)\n",
    "    logger.info(\"final score board:{}\")\n",
    "    logger.info(score_board)"
   ]
  },
  {
   "cell_type": "code",
   "execution_count": 24,
   "id": "02d96d5f",
   "metadata": {
    "ExecuteTime": {
     "end_time": "2022-07-11T18:53:48.526074Z",
     "start_time": "2022-07-11T18:53:48.521052Z"
    }
   },
   "outputs": [],
   "source": [
    "def test_avg_step(test_num=100):\n",
    "    ai = TreePlayer(\"AI\", wait=0)\n",
    "    steps = []\n",
    "    for _ in range(test_num):\n",
    "        steps.append(run_game(ai, rnd=10))\n",
    "    avg = sum(steps) / len(steps)\n",
    "    logger.info(f\"{ai} avg cost{avg:.3f} steps with {test_num} tests\")"
   ]
  },
  {
   "cell_type": "code",
   "execution_count": null,
   "id": "aa09ecb3",
   "metadata": {
    "ExecuteTime": {
     "start_time": "2022-07-11T18:53:49.107Z"
    },
    "scrolled": false
   },
   "outputs": [
    {
     "name": "stderr",
     "output_type": "stream",
     "text": [
      "2022-07-11 19:53:49 [INFO][441611824.py:5]:Human Vs AI with 3 games\n",
      "2022-07-11 19:53:49 [INFO][3595893816.py:5]:game:1\n",
      "2022-07-11 19:53:49 [INFO][3595893816.py:7]:player Human try\n",
      "2022-07-11 19:53:49 [INFO][1920881442.py:6]:round:1\n",
      "2022-07-11 19:53:49 [INFO][3774252578.py:5]:input your guess\n"
     ]
    },
    {
     "name": "stdout",
     "output_type": "stream",
     "text": [
      "1234\n"
     ]
    },
    {
     "name": "stderr",
     "output_type": "stream",
     "text": [
      "2022-07-11 19:54:06 [INFO][1920881442.py:9]:Human guess:[1, 2, 3, 4], judge result:1B1C\n",
      "2022-07-11 19:54:06 [INFO][1920881442.py:6]:round:2\n",
      "2022-07-11 19:54:06 [INFO][3774252578.py:5]:input your guess\n"
     ]
    },
    {
     "name": "stdout",
     "output_type": "stream",
     "text": [
      "9423\n"
     ]
    },
    {
     "name": "stderr",
     "output_type": "stream",
     "text": [
      "2022-07-11 19:54:15 [INFO][1920881442.py:9]:Human guess:[9, 4, 2, 3], judge result:1B1C\n",
      "2022-07-11 19:54:15 [INFO][1920881442.py:6]:round:3\n",
      "2022-07-11 19:54:15 [INFO][3774252578.py:5]:input your guess\n"
     ]
    },
    {
     "name": "stdout",
     "output_type": "stream",
     "text": [
      "8756\n"
     ]
    },
    {
     "name": "stderr",
     "output_type": "stream",
     "text": [
      "2022-07-11 19:54:42 [INFO][1920881442.py:9]:Human guess:[8, 7, 5, 6], judge result:0B2C\n",
      "2022-07-11 19:54:42 [INFO][1920881442.py:6]:round:4\n",
      "2022-07-11 19:54:42 [INFO][3774252578.py:5]:input your guess\n"
     ]
    },
    {
     "name": "stdout",
     "output_type": "stream",
     "text": [
      "5628\n"
     ]
    },
    {
     "name": "stderr",
     "output_type": "stream",
     "text": [
      "2022-07-11 19:54:51 [INFO][1920881442.py:9]:Human guess:[5, 6, 2, 8], judge result:1B2C\n",
      "2022-07-11 19:54:51 [INFO][1920881442.py:6]:round:5\n",
      "2022-07-11 19:54:51 [INFO][3774252578.py:5]:input your guess\n"
     ]
    },
    {
     "name": "stdout",
     "output_type": "stream",
     "text": [
      "2561\n"
     ]
    },
    {
     "name": "stderr",
     "output_type": "stream",
     "text": [
      "2022-07-11 19:55:37 [INFO][1920881442.py:9]:Human guess:[2, 5, 6, 1], judge result:0B2C\n",
      "2022-07-11 19:55:37 [INFO][1920881442.py:6]:round:6\n",
      "2022-07-11 19:55:37 [INFO][3774252578.py:5]:input your guess\n"
     ]
    },
    {
     "name": "stdout",
     "output_type": "stream",
     "text": [
      "2563\n"
     ]
    },
    {
     "name": "stderr",
     "output_type": "stream",
     "text": [
      "2022-07-11 19:55:41 [INFO][1920881442.py:9]:Human guess:[2, 5, 6, 3], judge result:0B2C\n",
      "2022-07-11 19:55:41 [INFO][1920881442.py:6]:round:7\n",
      "2022-07-11 19:55:41 [INFO][3774252578.py:5]:input your guess\n"
     ]
    },
    {
     "name": "stdout",
     "output_type": "stream",
     "text": [
      "2638\n"
     ]
    },
    {
     "name": "stderr",
     "output_type": "stream",
     "text": [
      "2022-07-11 19:55:47 [INFO][1920881442.py:9]:Human guess:[2, 6, 3, 8], judge result:0B3C\n",
      "2022-07-11 19:55:47 [INFO][1920881442.py:6]:round:8\n",
      "2022-07-11 19:55:47 [INFO][3774252578.py:5]:input your guess\n"
     ]
    },
    {
     "name": "stdout",
     "output_type": "stream",
     "text": [
      "2634\n"
     ]
    },
    {
     "name": "stderr",
     "output_type": "stream",
     "text": [
      "2022-07-11 19:56:19 [INFO][1920881442.py:9]:Human guess:[2, 6, 3, 4], judge result:1B2C\n",
      "2022-07-11 19:56:19 [INFO][1920881442.py:6]:round:9\n",
      "2022-07-11 19:56:19 [INFO][3774252578.py:5]:input your guess\n"
     ]
    },
    {
     "name": "stdout",
     "output_type": "stream",
     "text": [
      "2638\n"
     ]
    },
    {
     "name": "stderr",
     "output_type": "stream",
     "text": [
      "2022-07-11 19:56:43 [INFO][1920881442.py:9]:Human guess:[2, 6, 3, 8], judge result:0B3C\n",
      "2022-07-11 19:56:43 [INFO][1920881442.py:6]:round:10\n",
      "2022-07-11 19:56:43 [INFO][3774252578.py:5]:input your guess\n"
     ]
    },
    {
     "name": "stdout",
     "output_type": "stream",
     "text": [
      "6328\n"
     ]
    },
    {
     "name": "stderr",
     "output_type": "stream",
     "text": [
      "2022-07-11 19:56:56 [INFO][1920881442.py:9]:Human guess:[6, 3, 2, 8], judge result:2B1C\n",
      "2022-07-11 19:56:56 [INFO][1920881442.py:13]:answer is :[6, 8, 2, 4]\n",
      "2022-07-11 19:56:56 [INFO][1920881442.py:18]:Human failed!\n",
      "2022-07-11 19:56:56 [INFO][3595893816.py:11]:press any key to select next player\n"
     ]
    },
    {
     "name": "stdout",
     "output_type": "stream",
     "text": [
      "6327\n"
     ]
    },
    {
     "name": "stderr",
     "output_type": "stream",
     "text": [
      "2022-07-11 19:57:08 [INFO][3595893816.py:7]:player AI try\n",
      "2022-07-11 19:57:08 [INFO][1920881442.py:6]:round:1\n",
      "2022-07-11 19:57:10 [INFO][1920881442.py:9]:AI guess:[0, 1, 2, 3], judge result:1B0C\n",
      "2022-07-11 19:57:10 [INFO][1219659750.py:30]:cut cands from 5040 to 480 after cuts\n",
      "2022-07-11 19:57:10 [INFO][1920881442.py:6]:round:2\n",
      "2022-07-11 19:57:12 [INFO][1920881442.py:9]:AI guess:[4, 1, 5, 6], judge result:0B2C\n",
      "2022-07-11 19:57:12 [INFO][1219659750.py:30]:cut cands from 480 to 99 after cuts\n",
      "2022-07-11 19:57:12 [INFO][1920881442.py:6]:round:3\n",
      "2022-07-11 19:57:14 [INFO][1920881442.py:9]:AI guess:[5, 4, 2, 7], judge result:1B1C\n",
      "2022-07-11 19:57:14 [INFO][1219659750.py:30]:cut cands from 99 to 20 after cuts\n",
      "2022-07-11 19:57:14 [INFO][1920881442.py:6]:round:4\n",
      "2022-07-11 19:57:16 [INFO][1920881442.py:9]:AI guess:[6, 5, 2, 8], judge result:2B1C\n",
      "2022-07-11 19:57:16 [INFO][1219659750.py:30]:cut cands from 20 to 2 after cuts\n",
      "2022-07-11 19:57:16 [INFO][1920881442.py:6]:round:5\n",
      "2022-07-11 19:57:18 [INFO][1920881442.py:9]:AI guess:[6, 8, 2, 4], judge result:4B0C\n",
      "2022-07-11 19:57:18 [INFO][1920881442.py:13]:answer is :[6, 8, 2, 4]\n",
      "2022-07-11 19:57:18 [INFO][1920881442.py:15]:AI win in 5 rounds!\n",
      "2022-07-11 19:57:18 [INFO][3595893816.py:11]:press any key to select next player\n"
     ]
    }
   ],
   "source": [
    "if __name__ == '__main__':\n",
    "    fire.Fire(compete_with_ai)"
   ]
  }
 ],
 "metadata": {
  "kernelspec": {
   "display_name": "Python 3 (ipykernel)",
   "language": "python",
   "name": "python3"
  },
  "language_info": {
   "codemirror_mode": {
    "name": "ipython",
    "version": 3
   },
   "file_extension": ".py",
   "mimetype": "text/x-python",
   "name": "python",
   "nbconvert_exporter": "python",
   "pygments_lexer": "ipython3",
   "version": "3.8.8"
  },
  "varInspector": {
   "cols": {
    "lenName": 16,
    "lenType": 16,
    "lenVar": 40
   },
   "kernels_config": {
    "python": {
     "delete_cmd_postfix": "",
     "delete_cmd_prefix": "del ",
     "library": "var_list.py",
     "varRefreshCmd": "print(var_dic_list())"
    },
    "r": {
     "delete_cmd_postfix": ") ",
     "delete_cmd_prefix": "rm(",
     "library": "var_list.r",
     "varRefreshCmd": "cat(var_dic_list()) "
    }
   },
   "types_to_exclude": [
    "module",
    "function",
    "builtin_function_or_method",
    "instance",
    "_Feature"
   ],
   "window_display": false
  }
 },
 "nbformat": 4,
 "nbformat_minor": 5
}
