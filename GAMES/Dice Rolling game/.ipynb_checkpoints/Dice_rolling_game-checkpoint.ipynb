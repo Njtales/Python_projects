{
 "cells": [
  {
   "cell_type": "markdown",
   "id": "3a69b7d3",
   "metadata": {},
   "source": [
    "## Dice_rolling_game"
   ]
  },
  {
   "cell_type": "code",
   "execution_count": 2,
   "id": "0814c0df",
   "metadata": {
    "ExecuteTime": {
     "end_time": "2022-07-11T19:21:10.291386Z",
     "start_time": "2022-07-11T19:21:10.274465Z"
    }
   },
   "outputs": [],
   "source": [
    "def parse_input(input_string):\n",
    "\n",
    "    if input_string.strip() in {\"1\", \"2\", \"3\", \"4\", \"5\", \"6\"}:\n",
    "        return int(input_string)\n",
    "    else:\n",
    "        print(\"Please enter a number from 1 to 6.\")\n",
    "        raise SystemExit(1)\n"
   ]
  },
  {
   "cell_type": "code",
   "execution_count": 3,
   "id": "23da7156",
   "metadata": {
    "ExecuteTime": {
     "end_time": "2022-07-11T19:21:10.775777Z",
     "start_time": "2022-07-11T19:21:10.761825Z"
    }
   },
   "outputs": [],
   "source": [
    "import random\n",
    "\n",
    "def roll_dice(num_dice):\n",
    "\n",
    "    roll_results = []\n",
    "    for _ in range(num_dice):\n",
    "        roll = random.randint(1, 6)\n",
    "        roll_results.append(roll)\n",
    "    return roll_results"
   ]
  },
  {
   "cell_type": "code",
   "execution_count": 4,
   "id": "2331cd50",
   "metadata": {
    "ExecuteTime": {
     "end_time": "2022-07-11T19:21:11.404849Z",
     "start_time": "2022-07-11T19:21:11.385865Z"
    }
   },
   "outputs": [],
   "source": [
    "DICE_ART = {\n",
    "    1: (\n",
    "        \"┌─────────┐\",\n",
    "        \"│         │\",\n",
    "        \"│    ●    │\",\n",
    "        \"│         │\",\n",
    "        \"└─────────┘\",\n",
    "    ),\n",
    "    2: (\n",
    "        \"┌─────────┐\",\n",
    "        \"│  ●      │\",\n",
    "        \"│         │\",\n",
    "        \"│      ●  │\",\n",
    "        \"└─────────┘\",\n",
    "    ),\n",
    "    3: (\n",
    "        \"┌─────────┐\",\n",
    "        \"│  ●      │\",\n",
    "        \"│    ●    │\",\n",
    "        \"│      ●  │\",\n",
    "        \"└─────────┘\",\n",
    "    ),\n",
    "    4: (\n",
    "        \"┌─────────┐\",\n",
    "        \"│  ●   ●  │\",\n",
    "        \"│         │\",\n",
    "        \"│  ●   ●  │\",\n",
    "        \"└─────────┘\",\n",
    "    ),\n",
    "    5: (\n",
    "        \"┌─────────┐\",\n",
    "        \"│  ●   ●  │\",\n",
    "        \"│    ●    │\",\n",
    "        \"│  ●   ●  │\",\n",
    "        \"└─────────┘\",\n",
    "    ),\n",
    "    6: (\n",
    "        \"┌─────────┐\",\n",
    "        \"│  ●   ●  │\",\n",
    "        \"│  ●   ●  │\",\n",
    "        \"│  ●   ●  │\",\n",
    "        \"└─────────┘\",\n",
    "    ),\n",
    "}\n",
    "DIE_HEIGHT = len(DICE_ART[1])\n",
    "DIE_WIDTH = len(DICE_ART[1][0])\n",
    "DIE_FACE_SEPARATOR = \" \"\n"
   ]
  },
  {
   "cell_type": "code",
   "execution_count": 5,
   "id": "7f3236b4",
   "metadata": {
    "ExecuteTime": {
     "end_time": "2022-07-11T19:21:12.171823Z",
     "start_time": "2022-07-11T19:21:12.153872Z"
    }
   },
   "outputs": [],
   "source": [
    "def generate_dice_faces_diagram(dice_values):\n",
    "\n",
    "    # Generate a list of dice faces from DICE_ART\n",
    "    dice_faces = []\n",
    "    for value in dice_values:\n",
    "        dice_faces.append(DICE_ART[value])\n",
    "\n",
    "    # Generate a list containing the dice faces rows\n",
    "    dice_faces_rows = []\n",
    "    for row_idx in range(DIE_HEIGHT):\n",
    "        row_components = []\n",
    "        for die in dice_faces:\n",
    "            row_components.append(die[row_idx])\n",
    "        row_string = DIE_FACE_SEPARATOR.join(row_components)\n",
    "        dice_faces_rows.append(row_string)\n",
    "\n",
    "    # Generate header with the word \"RESULTS\" centered\n",
    "    width = len(dice_faces_rows[0])\n",
    "    diagram_header = \" RESULTS \".center(width, \"~\")\n",
    "\n",
    "    dice_faces_diagram = \"\\n\".join([diagram_header] + dice_faces_rows)\n",
    "    return dice_faces_diagram"
   ]
  },
  {
   "cell_type": "code",
   "execution_count": 8,
   "id": "f95af36f",
   "metadata": {
    "ExecuteTime": {
     "end_time": "2022-07-11T19:21:51.047159Z",
     "start_time": "2022-07-11T19:21:49.690925Z"
    }
   },
   "outputs": [
    {
     "name": "stdout",
     "output_type": "stream",
     "text": [
      "How many dice do you want to roll? [1-6] 6\n",
      "\n",
      "~~~~~~~~~~~~~~~~~~~~~~~~~~~~~~~ RESULTS ~~~~~~~~~~~~~~~~~~~~~~~~~~~~~~~\n",
      "┌─────────┐ ┌─────────┐ ┌─────────┐ ┌─────────┐ ┌─────────┐ ┌─────────┐\n",
      "│  ●   ●  │ │  ●      │ │  ●   ●  │ │  ●   ●  │ │  ●      │ │         │\n",
      "│         │ │    ●    │ │    ●    │ │  ●   ●  │ │         │ │    ●    │\n",
      "│  ●   ●  │ │      ●  │ │  ●   ●  │ │  ●   ●  │ │      ●  │ │         │\n",
      "└─────────┘ └─────────┘ └─────────┘ └─────────┘ └─────────┘ └─────────┘\n"
     ]
    }
   ],
   "source": [
    "num_dice_input = input(\"How many dice do you want to roll? [1-6] \")\n",
    "num_dice = parse_input(num_dice_input)\n",
    "\n",
    "roll_results = roll_dice(num_dice)\n",
    "\n",
    "dice_face_diagram = generate_dice_faces_diagram(roll_results)\n",
    "\n",
    "print(f\"\\n{dice_face_diagram}\")"
   ]
  }
 ],
 "metadata": {
  "kernelspec": {
   "display_name": "Python 3 (ipykernel)",
   "language": "python",
   "name": "python3"
  },
  "language_info": {
   "codemirror_mode": {
    "name": "ipython",
    "version": 3
   },
   "file_extension": ".py",
   "mimetype": "text/x-python",
   "name": "python",
   "nbconvert_exporter": "python",
   "pygments_lexer": "ipython3",
   "version": "3.8.8"
  },
  "varInspector": {
   "cols": {
    "lenName": 16,
    "lenType": 16,
    "lenVar": 40
   },
   "kernels_config": {
    "python": {
     "delete_cmd_postfix": "",
     "delete_cmd_prefix": "del ",
     "library": "var_list.py",
     "varRefreshCmd": "print(var_dic_list())"
    },
    "r": {
     "delete_cmd_postfix": ") ",
     "delete_cmd_prefix": "rm(",
     "library": "var_list.r",
     "varRefreshCmd": "cat(var_dic_list()) "
    }
   },
   "types_to_exclude": [
    "module",
    "function",
    "builtin_function_or_method",
    "instance",
    "_Feature"
   ],
   "window_display": false
  }
 },
 "nbformat": 4,
 "nbformat_minor": 5
}
