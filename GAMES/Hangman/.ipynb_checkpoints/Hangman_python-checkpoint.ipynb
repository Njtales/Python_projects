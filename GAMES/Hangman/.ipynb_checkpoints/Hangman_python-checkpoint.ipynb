{
 "cells": [
  {
   "cell_type": "markdown",
   "id": "3ba42440",
   "metadata": {},
   "source": [
    "## Hangman python"
   ]
  },
  {
   "cell_type": "code",
   "execution_count": 10,
   "id": "112e6fa1",
   "metadata": {
    "ExecuteTime": {
     "end_time": "2022-06-07T13:42:19.063867Z",
     "start_time": "2022-06-07T13:42:19.053870Z"
    }
   },
   "outputs": [],
   "source": [
    "import random"
   ]
  },
  {
   "cell_type": "code",
   "execution_count": 11,
   "id": "9f01bf20",
   "metadata": {
    "ExecuteTime": {
     "end_time": "2022-06-07T13:42:19.664219Z",
     "start_time": "2022-06-07T13:42:19.654223Z"
    }
   },
   "outputs": [],
   "source": [
    "\n",
    "HANGMAN_PICS = [\n",
    "'''\n",
    "  +---+\n",
    "      |\n",
    "      |\n",
    "      |\n",
    "     ===''', \n",
    "'''\n",
    "  +---+\n",
    "  O   |\n",
    "      |\n",
    "      |\n",
    "     ===''', \n",
    "'''\n",
    "  +---+\n",
    "  O   |\n",
    "  |   |\n",
    "      |\n",
    "     ===''', \n",
    "'''\n",
    "  +---+\n",
    "  O   |\n",
    " /|   |\n",
    "      |\n",
    "     ===''',\n",
    "'''\n",
    "  +---+\n",
    "  O   |\n",
    " /|\\  |\n",
    "      |\n",
    "     ===''',\n",
    "'''\n",
    "  +---+\n",
    "  O   |\n",
    " /|\\  |\n",
    " /    |\n",
    "     ===''', \n",
    "'''\n",
    "  +---+\n",
    "  O   |\n",
    " /|\\  |\n",
    " / \\  |\n",
    "     ==='''\n",
    "]"
   ]
  },
  {
   "cell_type": "code",
   "execution_count": 20,
   "id": "fc9b3564",
   "metadata": {
    "ExecuteTime": {
     "end_time": "2022-06-07T13:45:35.663994Z",
     "start_time": "2022-06-07T13:45:35.649881Z"
    }
   },
   "outputs": [],
   "source": [
    "def playAgain():\n",
    "    print('\\nDo you want to play again? (yes or no)')\n",
    "    return input().lower().startswith('y')"
   ]
  },
  {
   "cell_type": "code",
   "execution_count": 21,
   "id": "82afa8f4",
   "metadata": {
    "ExecuteTime": {
     "end_time": "2022-06-07T13:45:35.948259Z",
     "start_time": "2022-06-07T13:45:35.935620Z"
    }
   },
   "outputs": [],
   "source": [
    "words = 'ant baboon badger bat bear beaver camel cat clam cobra cougar coyote crow deer dog donkey duck eagle ferret fox frog goat goose hawk lion lizard llama mole monkey moose mouse mule newt otter owl panda parrot pigeon python rabbit ram rat raven rhino salmon seal shark sheep skunk sloth snake spider stork swan tiger toad trout turkey turtle  weasel whale wolf wombat zebra'.split()"
   ]
  },
  {
   "cell_type": "code",
   "execution_count": 22,
   "id": "fd3dc7ea",
   "metadata": {
    "ExecuteTime": {
     "end_time": "2022-06-07T13:45:36.174353Z",
     "start_time": "2022-06-07T13:45:36.160391Z"
    }
   },
   "outputs": [],
   "source": [
    "def getRandomWord(wordList):\n",
    "    # This function returns a random string from the passed list of strings.\n",
    "    wordIndex = random.randint(0, len(wordList) - 1)\n",
    "    return wordList[wordIndex]"
   ]
  },
  {
   "cell_type": "code",
   "execution_count": 23,
   "id": "31cde9ba",
   "metadata": {
    "ExecuteTime": {
     "end_time": "2022-06-07T13:45:36.414831Z",
     "start_time": "2022-06-07T13:45:36.401089Z"
    }
   },
   "outputs": [],
   "source": [
    "def displayBoard(missedLetters, correctLetters, secretWord):\n",
    "    print(HANGMAN_PICS[len(missedLetters)])\n",
    "    print()\n",
    "\n",
    "    print('Missed letters:', end=' ')\n",
    "    for letter in missedLetters:\n",
    "        print(letter, end=' ')\n",
    "    print(\"\\n\")\n",
    "\n",
    "    blanks = '_' * len(secretWord)\n",
    "\n",
    "    for i in range(len(secretWord)): # Replace blanks with correctly guessed letters.\n",
    "        if secretWord[i] in correctLetters:\n",
    "            blanks = blanks[:i] + secretWord[i] + blanks[i+1:]\n",
    "\n",
    "    for letter in blanks: # Show the secret word with spaces in between each letter.\n",
    "        print(letter, end=' ')\n",
    "    print()"
   ]
  },
  {
   "cell_type": "code",
   "execution_count": 24,
   "id": "560ab61c",
   "metadata": {
    "ExecuteTime": {
     "end_time": "2022-06-07T13:45:36.798052Z",
     "start_time": "2022-06-07T13:45:36.786329Z"
    }
   },
   "outputs": [],
   "source": [
    "def getGuess(alreadyGuessed):\n",
    "    # Returns the letter the player entered. This function makes sure the\n",
    "    # player entered a single letter and not something else.\n",
    "    while True:\n",
    "        print('\\nGuess a letter.')\n",
    "        guess = input()\n",
    "        guess = guess.lower()\n",
    "        if len(guess) != 1:\n",
    "            print('Please enter a single letter.')\n",
    "        elif guess in alreadyGuessed:\n",
    "            print('You have already guessed that letter. Choose again.')\n",
    "        elif guess not in 'abcdefghijklmnopqrstuvwxyz':\n",
    "            print('Please enter a LETTER.')\n",
    "        else:\n",
    "            return guess"
   ]
  },
  {
   "cell_type": "code",
   "execution_count": 29,
   "id": "b0915b21",
   "metadata": {
    "ExecuteTime": {
     "end_time": "2022-06-07T13:49:20.000450Z",
     "start_time": "2022-06-07T13:48:24.574415Z"
    },
    "scrolled": false
   },
   "outputs": [
    {
     "name": "stdout",
     "output_type": "stream",
     "text": [
      "Lets play 'H A N G M A N'\n",
      "\n",
      "Your secret word has been chosen random.\n",
      "\n",
      "  +---+\n",
      "      |\n",
      "      |\n",
      "      |\n",
      "     ===\n",
      "\n",
      "Missed letters: \n",
      "\n",
      "_ _ _ _ _ \n",
      "\n",
      "Guess a letter.\n",
      "5\n",
      "Please enter a LETTER.\n",
      "\n",
      "Guess a letter.\n",
      "tt\n",
      "Please enter a single letter.\n",
      "\n",
      "Guess a letter.\n",
      "test\n",
      "Please enter a single letter.\n",
      "\n",
      "Guess a letter.\n",
      "o\n",
      "\n",
      "  +---+\n",
      "      |\n",
      "      |\n",
      "      |\n",
      "     ===\n",
      "\n",
      "Missed letters: \n",
      "\n",
      "_ _ o _ _ \n",
      "\n",
      "Guess a letter.\n",
      "k\n",
      "\n",
      "  +---+\n",
      "  O   |\n",
      "      |\n",
      "      |\n",
      "     ===\n",
      "\n",
      "Missed letters: k \n",
      "\n",
      "_ _ o _ _ \n",
      "\n",
      "Guess a letter.\n",
      "l\n",
      "\n",
      "  +---+\n",
      "  O   |\n",
      "      |\n",
      "      |\n",
      "     ===\n",
      "\n",
      "Missed letters: k \n",
      "\n",
      "_ l o _ _ \n",
      "\n",
      "Guess a letter.\n",
      "u\n",
      "\n",
      "  +---+\n",
      "  O   |\n",
      "  |   |\n",
      "      |\n",
      "     ===\n",
      "\n",
      "Missed letters: k u \n",
      "\n",
      "_ l o _ _ \n",
      "\n",
      "Guess a letter.\n",
      "a\n",
      "\n",
      "  +---+\n",
      "  O   |\n",
      " /|   |\n",
      "      |\n",
      "     ===\n",
      "\n",
      "Missed letters: k u a \n",
      "\n",
      "_ l o _ _ \n",
      "\n",
      "Guess a letter.\n",
      "s\n",
      "\n",
      "  +---+\n",
      "  O   |\n",
      " /|   |\n",
      "      |\n",
      "     ===\n",
      "\n",
      "Missed letters: k u a \n",
      "\n",
      "s l o _ _ \n",
      "\n",
      "Guess a letter.\n",
      "p\n",
      "\n",
      "  +---+\n",
      "  O   |\n",
      " /|\\  |\n",
      "      |\n",
      "     ===\n",
      "\n",
      "Missed letters: k u a p \n",
      "\n",
      "s l o _ _ \n",
      "\n",
      "Guess a letter.\n",
      "e\n",
      "\n",
      "  +---+\n",
      "  O   |\n",
      " /|\\  |\n",
      " /    |\n",
      "     ===\n",
      "\n",
      "Missed letters: k u a p e \n",
      "\n",
      "s l o _ _ \n",
      "\n",
      "Guess a letter.\n",
      "w\n",
      "\n",
      "  +---+\n",
      "  O   |\n",
      " /|\\  |\n",
      " / \\  |\n",
      "     ===\n",
      "\n",
      "Missed letters: k u a p e w \n",
      "\n",
      "s l o _ _ \n",
      "\n",
      "\n",
      "You have run out of guesses!\n",
      "After 6 missed guesses and 3 correct guesses, the word was \"sloth\"\n",
      "\n",
      "Do you want to play again? (yes or no)\n",
      "n\n"
     ]
    }
   ],
   "source": [
    "print(\"Lets play 'H A N G M A N'\")\n",
    "print(\"\\nYour secret word has been chosen random.\")\n",
    "missedLetters = ''\n",
    "correctLetters = ''\n",
    "secretWord = getRandomWord(words)\n",
    "gameIsDone = False\n",
    "\n",
    "while True:\n",
    "    displayBoard(missedLetters, correctLetters, secretWord)\n",
    "\n",
    "    # Let the player enter a letter.\n",
    "    guess = getGuess(missedLetters + correctLetters)\n",
    "\n",
    "    if guess in secretWord:\n",
    "        correctLetters = correctLetters + guess\n",
    "\n",
    "        # Check if the player has won.\n",
    "        foundAllLetters = True\n",
    "        for i in range(len(secretWord)):\n",
    "            if secretWord[i] not in correctLetters:\n",
    "                foundAllLetters = False\n",
    "                break\n",
    "        if foundAllLetters:\n",
    "            print('Yes! The secret word is \"' + secretWord +\n",
    "              '\"! You have won!')\n",
    "            gameIsDone = True\n",
    "    else:\n",
    "        missedLetters = missedLetters + guess\n",
    "\n",
    "        # Check if player has guessed too many times and lost.\n",
    "        if len(missedLetters) == len(HANGMAN_PICS) - 1:\n",
    "            displayBoard(missedLetters, correctLetters, secretWord)\n",
    "            \n",
    "            print('\\n\\nYou have run out of guesses!\\nAfter ' + \n",
    "                  str(len(missedLetters)) + \n",
    "                  ' missed guesses and ' + \n",
    "                  str(len(correctLetters)) + \n",
    "                  ' correct guesses, the word was \"' + \n",
    "                  secretWord + '\"')\n",
    "            \n",
    "            gameIsDone = True\n",
    "\n",
    "    # Ask the player if they want to play again (but only if the game isdone).\n",
    "    if gameIsDone:\n",
    "        if playAgain():\n",
    "            missedLetters = ''\n",
    "            correctLetters = ''\n",
    "            gameIsDone = False\n",
    "            secretWord = getRandomWord(words)\n",
    "        else:\n",
    "            break"
   ]
  }
 ],
 "metadata": {
  "kernelspec": {
   "display_name": "Python 3 (ipykernel)",
   "language": "python",
   "name": "python3"
  },
  "language_info": {
   "codemirror_mode": {
    "name": "ipython",
    "version": 3
   },
   "file_extension": ".py",
   "mimetype": "text/x-python",
   "name": "python",
   "nbconvert_exporter": "python",
   "pygments_lexer": "ipython3",
   "version": "3.8.8"
  },
  "varInspector": {
   "cols": {
    "lenName": 16,
    "lenType": 16,
    "lenVar": 40
   },
   "kernels_config": {
    "python": {
     "delete_cmd_postfix": "",
     "delete_cmd_prefix": "del ",
     "library": "var_list.py",
     "varRefreshCmd": "print(var_dic_list())"
    },
    "r": {
     "delete_cmd_postfix": ") ",
     "delete_cmd_prefix": "rm(",
     "library": "var_list.r",
     "varRefreshCmd": "cat(var_dic_list()) "
    }
   },
   "types_to_exclude": [
    "module",
    "function",
    "builtin_function_or_method",
    "instance",
    "_Feature"
   ],
   "window_display": false
  }
 },
 "nbformat": 4,
 "nbformat_minor": 5
}
