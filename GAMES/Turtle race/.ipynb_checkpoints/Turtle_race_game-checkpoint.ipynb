{
 "cells": [
  {
   "cell_type": "markdown",
   "id": "27e80b83",
   "metadata": {},
   "source": [
    "## Turtle_race_game"
   ]
  },
  {
   "cell_type": "code",
   "execution_count": 1,
   "id": "96713ae2",
   "metadata": {
    "ExecuteTime": {
     "end_time": "2022-07-10T16:45:02.958679Z",
     "start_time": "2022-07-10T16:44:51.633260Z"
    }
   },
   "outputs": [],
   "source": [
    "import random, turtle\n",
    "\n",
    "myscreen= turtle.Screen()\n",
    "\n",
    "myscreen.bgcolor('white')\n",
    "myscreen.setup(0.5,0.5)\n",
    "myscreen.title('Turtle Race Game')\n",
    "\n",
    "pen=turtle.Turtle()\n",
    "\n",
    "pen.speed(0) # so it moves with fastest speed\n",
    "pen.penup() #pen goes up as we don't want to draw on line.\n",
    "pen.goto(-200,150) #this is x and y position from center of the screen\n",
    "pen.pendown() # pen placed down again\n",
    "\n",
    "for i in range(1,11): # this will run from 1 to 10 \n",
    "\tpen.write(i,font=('Arial',10)) #writing the race track number before each line\n",
    "\tpen.setheading(-90) #this will point pen in downward direction\n",
    "\tpen.forward(250) #draw a line of 250 pixels length.\n",
    "\tif i==10: # this if condition will be true only if the iterating variable is 10 \n",
    "\t\tpen.write(\" FINISH\",font=('Arial',14))\n",
    "\tpen.back(250) #goes back\n",
    "\tpen.penup() #pen goes up as we don't want to draw on line\n",
    "\tpen.setheading(0) #pen points in right direction\n",
    "\tpen.forward(50)  #space of 50 pixes between each line\n",
    "\tpen.down() #pen down again\n",
    "\n",
    "finishLineX=250\n",
    "\n",
    "def createTurtlePlayer(color, startx, starty): \n",
    "\tplayer=turtle.Turtle()\n",
    "\tplayer.color(color) # set the color of turtle\n",
    "\tplayer.shape(\"turtle\") #set the shape as turtle\n",
    "\tplayer.penup() #pen moves up\n",
    "\tplayer.goto(startx, starty) #place player at mentioned position on race track.\n",
    "\tplayer.pendown() #pen placed down\n",
    "\treturn player #returns the turtle player object.\n",
    "\n",
    "p1=createTurtlePlayer('red',-210,150) #red colored turtle at x position before 1st Line and y position 150\n",
    "p2=createTurtlePlayer('blue',-210,100) #blue colored turtle at x position before 1st Line and y position 100\n",
    "p3=createTurtlePlayer('orange',-210,50) #orange colored turtle at x position before 1st Line and y position 50\n",
    "p4=createTurtlePlayer('green',-210,0) #green colored turtle at x position before 1st Line and y position 0\n",
    "p5=createTurtlePlayer('brown',-210,-50) #green colored turtle at x position before 1st Line and y position -50\n",
    "p6=createTurtlePlayer('gray',-210,-100) #green colored turtle at x position before 1st Line and y position -100\n",
    "\n",
    "while True:\n",
    "\tp1.forward(random.randint(3,6))\n",
    "\tif p1.pos()[0]>=finishLineX:\n",
    "\t\tp1.write(' I won the race!!',font=('Arial',30))\n",
    "\t\tbreak\n",
    "\tp2.forward(random.randint(3,6))\n",
    "\tif p2.pos()[0]>=finishLineX:\n",
    "\t\tp2.write(' I won the race!!',font=('Arial',30))\n",
    "\t\tbreak\n",
    "\tp3.forward(random.randint(3,6))\n",
    "\tif p3.pos()[0]>=finishLineX:\n",
    "\t\tp3.write(' I won the race!!',font=('Arial',30))\n",
    "\t\tbreak\n",
    "\tp4.forward(random.randint(3,6))\n",
    "\tif p4.pos()[0]>=finishLineX:\n",
    "\t\tp4.write(' I won the race!!',font=('Arial',30))\n",
    "\t\tbreak\n",
    "\tp5.forward(random.randint(3,6))\n",
    "\tif p5.pos()[0]>=finishLineX:\n",
    "\t\tp5.write(' I won the race!!',font=('Arial',30))\n",
    "\t\tbreak\n",
    "\tp6.forward(random.randint(3,6))\n",
    "\tif p6.pos()[0]>=finishLineX:\n",
    "\t\tp6.write(' I won the race!!',font=('Arial',30))\n",
    "\t\tbreak\n",
    "\n",
    "turtle.done()\n"
   ]
  }
 ],
 "metadata": {
  "kernelspec": {
   "display_name": "Python 3 (ipykernel)",
   "language": "python",
   "name": "python3"
  },
  "language_info": {
   "codemirror_mode": {
    "name": "ipython",
    "version": 3
   },
   "file_extension": ".py",
   "mimetype": "text/x-python",
   "name": "python",
   "nbconvert_exporter": "python",
   "pygments_lexer": "ipython3",
   "version": "3.8.8"
  },
  "varInspector": {
   "cols": {
    "lenName": 16,
    "lenType": 16,
    "lenVar": 40
   },
   "kernels_config": {
    "python": {
     "delete_cmd_postfix": "",
     "delete_cmd_prefix": "del ",
     "library": "var_list.py",
     "varRefreshCmd": "print(var_dic_list())"
    },
    "r": {
     "delete_cmd_postfix": ") ",
     "delete_cmd_prefix": "rm(",
     "library": "var_list.r",
     "varRefreshCmd": "cat(var_dic_list()) "
    }
   },
   "types_to_exclude": [
    "module",
    "function",
    "builtin_function_or_method",
    "instance",
    "_Feature"
   ],
   "window_display": false
  }
 },
 "nbformat": 4,
 "nbformat_minor": 5
}
