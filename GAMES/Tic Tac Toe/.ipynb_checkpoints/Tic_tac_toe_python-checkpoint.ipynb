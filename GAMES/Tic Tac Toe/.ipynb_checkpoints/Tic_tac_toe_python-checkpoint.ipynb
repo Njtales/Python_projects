{
 "cells": [
  {
   "cell_type": "markdown",
   "id": "d82def29",
   "metadata": {},
   "source": [
    "## Tic tac toe python"
   ]
  },
  {
   "cell_type": "code",
   "execution_count": 1,
   "id": "48410bec",
   "metadata": {
    "ExecuteTime": {
     "end_time": "2022-06-07T00:14:40.120015Z",
     "start_time": "2022-06-07T00:14:40.109012Z"
    }
   },
   "outputs": [],
   "source": [
    "import os\n",
    "import time\n",
    "\n",
    "board = [' ',' ',' ',' ',' ',' ',' ',' ',' ',' ']\n",
    "player = 1\n",
    "\n",
    "Win = 1\n",
    "Draw = -1\n",
    "Running = 0\n",
    "Stop = 1\n",
    "\n",
    "Game = Running\n",
    "Mark = 'X'"
   ]
  },
  {
   "cell_type": "code",
   "execution_count": 2,
   "id": "da1e8c60",
   "metadata": {
    "ExecuteTime": {
     "end_time": "2022-06-07T00:14:40.292235Z",
     "start_time": "2022-06-07T00:14:40.284258Z"
    }
   },
   "outputs": [],
   "source": [
    "#This Function Draws Game Board    \n",
    "def DrawBoard():    \n",
    "    print(\" %c | %c | %c \" % (board[1],board[2],board[3]))    \n",
    "    print(\"___|___|___\")    \n",
    "    print(\" %c | %c | %c \" % (board[4],board[5],board[6]))    \n",
    "    print(\"___|___|___\")    \n",
    "    print(\" %c | %c | %c \" % (board[7],board[8],board[9]))    \n",
    "    print(\"   |   |   \")    \n",
    "\n",
    "#This Function Checks position is empty or not    \n",
    "def CheckPosition(x):    \n",
    "    if(board[x] == ' '):    \n",
    "        return True    \n",
    "    else:    \n",
    "        return False"
   ]
  },
  {
   "cell_type": "code",
   "execution_count": 3,
   "id": "f00689c5",
   "metadata": {
    "ExecuteTime": {
     "end_time": "2022-06-07T00:14:40.480344Z",
     "start_time": "2022-06-07T00:14:40.460411Z"
    }
   },
   "outputs": [],
   "source": [
    "#This Function Checks player has won or not    \n",
    "def CheckWin():    \n",
    "    global Game\n",
    "    \n",
    "    #Horizontal winning condition    \n",
    "    if(board[1] == board[2] and board[2] == board[3] and board[1] != ' '):    \n",
    "        Game = Win    \n",
    "    elif(board[4] == board[5] and board[5] == board[6] and board[4] != ' '):    \n",
    "        Game = Win    \n",
    "    elif(board[7] == board[8] and board[8] == board[9] and board[7] != ' '):    \n",
    "        Game = Win    \n",
    "        \n",
    "    #Vertical Winning Condition    \n",
    "    elif(board[1] == board[4] and board[4] == board[7] and board[1] != ' '):    \n",
    "        Game = Win    \n",
    "    elif(board[2] == board[5] and board[5] == board[8] and board[2] != ' '):    \n",
    "        Game = Win    \n",
    "    elif(board[3] == board[6] and board[6] == board[9] and board[3] != ' '):    \n",
    "        Game=Win    \n",
    "    \n",
    "    #Diagonal Winning Condition    \n",
    "    elif(board[1] == board[5] and board[5] == board[9] and board[5] != ' '):    \n",
    "        Game = Win    \n",
    "    elif(board[3] == board[5] and board[5] == board[7] and board[5] != ' '):    \n",
    "        Game=Win    \n",
    "    \n",
    "    #Match Tie or Draw Condition    \n",
    "    elif(board[1] != ' ' and board[2] != ' ' and board[3] != ' ' and board[4] != ' ' and \n",
    "         board[5] != ' ' and board[6] != ' ' and board[7] != ' ' and board[8] != ' ' and \n",
    "         board[9] != ' '):    \n",
    "        Game = Draw    \n",
    "    \n",
    "    else:            \n",
    "        Game = Running    "
   ]
  },
  {
   "cell_type": "code",
   "execution_count": 4,
   "id": "67079eee",
   "metadata": {
    "ExecuteTime": {
     "end_time": "2022-06-07T00:15:41.519887Z",
     "start_time": "2022-06-07T00:14:40.635851Z"
    }
   },
   "outputs": [
    {
     "name": "stdout",
     "output_type": "stream",
     "text": [
      "Tic-Tac-Toe Game\n",
      "Player 1 [X] --- Player 2 [O]\n",
      "\n",
      "\n",
      "Please Wait...\n",
      "   |   |   \n",
      "___|___|___\n",
      "   |   |   \n",
      "___|___|___\n",
      "   |   |   \n",
      "   |   |   \n",
      "Player 1's chance\n",
      "\n",
      "Enter the position between [1-9] where you want to mark : 8\n",
      "   |   |   \n",
      "___|___|___\n",
      "   |   |   \n",
      "___|___|___\n",
      "   | X |   \n",
      "   |   |   \n",
      "Player 2's chance\n",
      "\n",
      "Enter the position between [1-9] where you want to mark : 9\n",
      "   |   |   \n",
      "___|___|___\n",
      "   |   |   \n",
      "___|___|___\n",
      "   | X | O \n",
      "   |   |   \n",
      "Player 1's chance\n",
      "\n",
      "Enter the position between [1-9] where you want to mark : 5\n",
      "   |   |   \n",
      "___|___|___\n",
      "   | X |   \n",
      "___|___|___\n",
      "   | X | O \n",
      "   |   |   \n",
      "Player 2's chance\n",
      "\n",
      "Enter the position between [1-9] where you want to mark : 2\n",
      "   | O |   \n",
      "___|___|___\n",
      "   | X |   \n",
      "___|___|___\n",
      "   | X | O \n",
      "   |   |   \n",
      "Player 1's chance\n",
      "\n",
      "Enter the position between [1-9] where you want to mark : 6\n",
      "   | O |   \n",
      "___|___|___\n",
      "   | X | X \n",
      "___|___|___\n",
      "   | X | O \n",
      "   |   |   \n",
      "Player 2's chance\n",
      "\n",
      "Enter the position between [1-9] where you want to mark : 4\n",
      "   | O |   \n",
      "___|___|___\n",
      " O | X | X \n",
      "___|___|___\n",
      "   | X | O \n",
      "   |   |   \n",
      "Player 1's chance\n",
      "\n",
      "Enter the position between [1-9] where you want to mark : 9\n",
      "   | O |   \n",
      "___|___|___\n",
      " O | X | X \n",
      "___|___|___\n",
      "   | X | O \n",
      "   |   |   \n",
      "Player 1's chance\n",
      "\n",
      "Enter the position between [1-9] where you want to mark : 3\n",
      "   | O | X \n",
      "___|___|___\n",
      " O | X | X \n",
      "___|___|___\n",
      "   | X | O \n",
      "   |   |   \n",
      "Player 2's chance\n",
      "\n",
      "Enter the position between [1-9] where you want to mark : 7\n",
      "   | O | X \n",
      "___|___|___\n",
      " O | X | X \n",
      "___|___|___\n",
      " O | X | O \n",
      "   |   |   \n",
      "Player 1's chance\n",
      "\n",
      "Enter the position between [1-9] where you want to mark : 1\n",
      " X | O | X \n",
      "___|___|___\n",
      " O | X | X \n",
      "___|___|___\n",
      " O | X | O \n",
      "   |   |   \n",
      "Game Draw\n"
     ]
    }
   ],
   "source": [
    "print(\"Tic-Tac-Toe Game\")    \n",
    "print(\"Player 1 [X] --- Player 2 [O]\\n\")    \n",
    "print()    \n",
    "print(\"Please Wait...\")    \n",
    "\n",
    "time.sleep(2)\n",
    "\n",
    "while(Game == Running):    \n",
    "    os.system('cls')    \n",
    "    DrawBoard()\n",
    "    \n",
    "    if(player % 2 != 0):    \n",
    "        print(\"Player 1's chance\")    \n",
    "        Mark = 'X'    \n",
    "    \n",
    "    else:    \n",
    "        print(\"Player 2's chance\")    \n",
    "        Mark = 'O'    \n",
    "    \n",
    "    choice = int(input(\"\\nEnter the position between [1-9] where you want to mark : \"))    \n",
    "    \n",
    "    if(CheckPosition(choice)):    \n",
    "        board[choice] = Mark\n",
    "        player += 1\n",
    "        CheckWin()    \n",
    "    \n",
    "os.system('cls')    \n",
    "DrawBoard()\n",
    "\n",
    "if(Game == Draw):    \n",
    "    print(\"Game Draw\")    \n",
    "\n",
    "elif(Game == Win):\n",
    "    player -= 1    \n",
    "    if(player % 2 != 0):    \n",
    "        print(\"Player 1 Won\")    \n",
    "    else:    \n",
    "        print(\"Player 2 Won\")  "
   ]
  },
  {
   "cell_type": "code",
   "execution_count": null,
   "id": "d8672249",
   "metadata": {},
   "outputs": [],
   "source": []
  }
 ],
 "metadata": {
  "kernelspec": {
   "display_name": "Python 3 (ipykernel)",
   "language": "python",
   "name": "python3"
  },
  "language_info": {
   "codemirror_mode": {
    "name": "ipython",
    "version": 3
   },
   "file_extension": ".py",
   "mimetype": "text/x-python",
   "name": "python",
   "nbconvert_exporter": "python",
   "pygments_lexer": "ipython3",
   "version": "3.8.8"
  },
  "toc": {
   "base_numbering": 1,
   "nav_menu": {},
   "number_sections": false,
   "sideBar": true,
   "skip_h1_title": false,
   "title_cell": "Table of Contents",
   "title_sidebar": "Contents",
   "toc_cell": false,
   "toc_position": {},
   "toc_section_display": true,
   "toc_window_display": false
  },
  "varInspector": {
   "cols": {
    "lenName": 16,
    "lenType": 16,
    "lenVar": 40
   },
   "kernels_config": {
    "python": {
     "delete_cmd_postfix": "",
     "delete_cmd_prefix": "del ",
     "library": "var_list.py",
     "varRefreshCmd": "print(var_dic_list())"
    },
    "r": {
     "delete_cmd_postfix": ") ",
     "delete_cmd_prefix": "rm(",
     "library": "var_list.r",
     "varRefreshCmd": "cat(var_dic_list()) "
    }
   },
   "types_to_exclude": [
    "module",
    "function",
    "builtin_function_or_method",
    "instance",
    "_Feature"
   ],
   "window_display": false
  }
 },
 "nbformat": 4,
 "nbformat_minor": 5
}
