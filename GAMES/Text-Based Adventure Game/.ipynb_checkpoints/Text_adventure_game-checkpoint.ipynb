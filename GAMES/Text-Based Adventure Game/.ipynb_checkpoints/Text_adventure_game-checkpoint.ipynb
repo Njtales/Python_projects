{
 "cells": [
  {
   "cell_type": "markdown",
   "id": "80200993",
   "metadata": {},
   "source": [
    "# Text_adventure_game"
   ]
  },
  {
   "cell_type": "code",
   "execution_count": 4,
   "id": "242d7c01",
   "metadata": {
    "ExecuteTime": {
     "end_time": "2022-06-21T18:08:23.889239Z",
     "start_time": "2022-06-21T18:08:17.053525Z"
    }
   },
   "outputs": [
    {
     "name": "stdout",
     "output_type": "stream",
     "text": [
      "Enter Your Name: Tan\n",
      "Tan you are stuck at work\n",
      "\n",
      "You are still working and suddenly you you saw a ghost, Now you have two options\n",
      "1.Run. 2.Jump from the window\n",
      "Choose 1 or 2: 1\n",
      "You did it\n"
     ]
    }
   ],
   "source": [
    "name = str(input(\"Enter Your Name: \"))\n",
    "\n",
    "print(f\"{name} you are stuck at work\")\n",
    "print(\"\\nYou are still working and suddenly you you saw a ghost, Now you have two options\")\n",
    "print(\"1.Run. 2.Jump from the window\")\n",
    "\n",
    "user = int(input(\"Choose 1 or 2: \"))\n",
    "if user == 1:\n",
    "    print(\"You did it\")\n",
    "elif user == 2:\n",
    "    print(\"You are not that smart\")\n",
    "else:\n",
    "    print(\"Please Check your input\")"
   ]
  }
 ],
 "metadata": {
  "kernelspec": {
   "display_name": "Python 3 (ipykernel)",
   "language": "python",
   "name": "python3"
  },
  "language_info": {
   "codemirror_mode": {
    "name": "ipython",
    "version": 3
   },
   "file_extension": ".py",
   "mimetype": "text/x-python",
   "name": "python",
   "nbconvert_exporter": "python",
   "pygments_lexer": "ipython3",
   "version": "3.8.8"
  },
  "toc": {
   "base_numbering": 1,
   "nav_menu": {},
   "number_sections": true,
   "sideBar": true,
   "skip_h1_title": false,
   "title_cell": "Table of Contents",
   "title_sidebar": "Contents",
   "toc_cell": false,
   "toc_position": {},
   "toc_section_display": true,
   "toc_window_display": false
  },
  "varInspector": {
   "cols": {
    "lenName": 16,
    "lenType": 16,
    "lenVar": 40
   },
   "kernels_config": {
    "python": {
     "delete_cmd_postfix": "",
     "delete_cmd_prefix": "del ",
     "library": "var_list.py",
     "varRefreshCmd": "print(var_dic_list())"
    },
    "r": {
     "delete_cmd_postfix": ") ",
     "delete_cmd_prefix": "rm(",
     "library": "var_list.r",
     "varRefreshCmd": "cat(var_dic_list()) "
    }
   },
   "types_to_exclude": [
    "module",
    "function",
    "builtin_function_or_method",
    "instance",
    "_Feature"
   ],
   "window_display": false
  }
 },
 "nbformat": 4,
 "nbformat_minor": 5
}
