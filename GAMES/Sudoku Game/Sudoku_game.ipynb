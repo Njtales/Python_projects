{
 "cells": [
  {
   "cell_type": "markdown",
   "id": "23608fb4",
   "metadata": {},
   "source": [
    "# Sudoku_Game"
   ]
  },
  {
   "cell_type": "code",
   "execution_count": 1,
   "id": "be89f66c",
   "metadata": {},
   "outputs": [
    {
     "name": "stdout",
     "output_type": "stream",
     "text": [
      "pygame 2.1.2 (SDL 2.0.18, Python 3.8.8)\n",
      "Hello from the pygame community. https://www.pygame.org/contribute.html\n"
     ]
    }
   ],
   "source": [
    "import pygame\n",
    "pygame.font.init()"
   ]
  },
  {
   "cell_type": "code",
   "execution_count": 2,
   "id": "8f7862f7",
   "metadata": {},
   "outputs": [],
   "source": [
    "window = pygame.display.set_mode((500,500))\n",
    "pygame.display.set_caption(\"SUDOKU game by Nikhil\")"
   ]
  },
  {
   "cell_type": "code",
   "execution_count": 3,
   "id": "dea3b288",
   "metadata": {},
   "outputs": [],
   "source": [
    "x = 0\n",
    "y = 0\n",
    "diff = 500 / 9\n",
    "value = 0\n",
    "\n",
    "default_grid = [\n",
    "        [0, 0, 4, 0, 6, 0, 0, 0, 5],\n",
    "        [7, 8, 0, 4, 0, 0, 0, 2, 0],\n",
    "        [0, 0, 2, 6, 0, 1, 0, 7, 8],\n",
    "        [6, 1, 0, 0, 7, 5, 0, 0, 9],\n",
    "        [0, 0, 7, 5, 4, 0, 0, 6, 1],\n",
    "        [0, 0, 1, 7, 5, 0, 9, 3, 0],\n",
    "        [0, 7, 0, 3, 0, 0, 0, 1, 0],\n",
    "        [0, 4, 0, 2, 0, 6, 0, 0, 7],\n",
    "        [0, 2, 0, 0, 0, 7, 4, 0, 0],\n",
    "]\n",
    "\n",
    "font = pygame.font.SysFont(\"comicsans\", 40)\n",
    "font1 = pygame.font.SysFont(\"comicsans\", 20)"
   ]
  },
  {
   "cell_type": "code",
   "execution_count": 4,
   "id": "040ff905",
   "metadata": {},
   "outputs": [],
   "source": [
    "def cord(pos):\n",
    "    global x\n",
    "    x = pos[0]//diff\n",
    "    global z\n",
    "    z = pos[1]//diff\n",
    " \n",
    "def highlightbox():\n",
    "    for k in range(2):\n",
    "        pygame.draw.line(window, (0, 0, 0), (x * diff-3, (z + k)*diff), (x * diff + diff + 3, (z + k)*diff), 7)\n",
    "        pygame.draw.line(window, (0, 0, 0), ( (x + k) * diff, z * diff ), ((x + k) * diff, z * diff + diff), 7) "
   ]
  },
  {
   "cell_type": "code",
   "execution_count": 5,
   "id": "4cd04a13",
   "metadata": {},
   "outputs": [],
   "source": [
    "def drawlines():\n",
    "    for i in range (9):\n",
    "        for j in range (9):\n",
    "            if default_grid[i][j]!= 0:\n",
    "                pygame.draw.rect(window, (255, 255, 0), (i * diff, j * diff, diff + 1, diff + 1))\n",
    "                text1 = font.render(str(default_grid[i][j]), 1, (0, 0, 0))\n",
    "                window.blit(text1, (i * diff + 15, j * diff + 15))         \n",
    "    for l in range(10):\n",
    "        if l % 3 == 0 :\n",
    "            thick = 7\n",
    "        else:\n",
    "            thick = 1\n",
    "        pygame.draw.line(window, (0, 0, 0), (0, l * diff), (500, l * diff), thick)\n",
    "        pygame.draw.line(window, (0, 0, 0), (l * diff, 0), (l * diff, 500), thick)"
   ]
  },
  {
   "cell_type": "code",
   "execution_count": 6,
   "id": "7e360566",
   "metadata": {},
   "outputs": [],
   "source": [
    "def fillvalue(value):\n",
    "    text1 = font.render(str(value), 1, (0, 0, 0))\n",
    "    window.blit(text1, (x * diff + 15, z * diff + 15))   "
   ]
  },
  {
   "cell_type": "code",
   "execution_count": 7,
   "id": "7a262e90",
   "metadata": {},
   "outputs": [],
   "source": [
    "def raiseerror():\n",
    "    text1 = font.render(\"wrong!\", 1, (0, 0, 0))\n",
    "    window.blit(text1, (20, 570)) \n",
    "def raiseerror1():\n",
    "    text1 = font.render(\"wrong ! enter a valid key for the game\", 1, (0, 0, 0))\n",
    "    window.blit(text1, (20, 570)) "
   ]
  },
  {
   "cell_type": "code",
   "execution_count": 8,
   "id": "f34354fd",
   "metadata": {},
   "outputs": [],
   "source": [
    "def validvalue(m, k, l, value):\n",
    "    for it in range(9):\n",
    "        if m[k][it]== value:\n",
    "            return False\n",
    "        if m[it][l]== value:\n",
    "            return False\n",
    "    it = k//3\n",
    "    jt = l//3\n",
    "    for k in range(it * 3, it * 3 + 3):\n",
    "        for l in range (jt * 3, jt * 3 + 3):\n",
    "            if m[k][l]== value:\n",
    "                return False\n",
    "    return True"
   ]
  },
  {
   "cell_type": "code",
   "execution_count": 9,
   "id": "de13b7b1",
   "metadata": {},
   "outputs": [],
   "source": [
    "def solvegame(default_grid, i, j):\n",
    "     \n",
    "    while default_grid[i][j]!= 0:\n",
    "        if i<8:\n",
    "            i+= 1\n",
    "        elif i == 8 and j<8:\n",
    "            i = 0\n",
    "            j+= 1\n",
    "        elif i == 8 and j == 8:\n",
    "            return True\n",
    "    pygame.event.pump()   \n",
    "    for it in range(1, 10):\n",
    "        if validvalue(default_grid, i, j, it)== True:\n",
    "            default_grid[i][j]= it\n",
    "            global x, z\n",
    "            x = i\n",
    "            z = j\n",
    "            Window.fill((255, 255, 255))\n",
    "            drawlines()\n",
    "            highlightbox()\n",
    "            pygame.display.update()\n",
    "            pygame.time.delay(20)\n",
    "            if solvegame(default_grid, i, j)== 1:\n",
    "                return True\n",
    "            else:\n",
    "                default_grid[i][j]= 0\n",
    "            window.fill((0,0,0))\n",
    "         \n",
    "            drawlines()\n",
    "            highlightbox()\n",
    "            pygame.display.update()\n",
    "            pygame.time.delay(50)   \n",
    "    return False "
   ]
  },
  {
   "cell_type": "code",
   "execution_count": 10,
   "id": "120a1596",
   "metadata": {},
   "outputs": [],
   "source": [
    "def gameresult():\n",
    "    text1 = font.render(\"game finished\", 1, (0, 0, 0))\n",
    "    window.blit(text1, (20, 570)) "
   ]
  },
  {
   "cell_type": "code",
   "execution_count": 11,
   "id": "cab8c1fc",
   "metadata": {},
   "outputs": [],
   "source": [
    "flag=True  \n",
    "flag1 = 0\n",
    "flag2 = 0\n",
    "rs = 0\n",
    "error = 0"
   ]
  },
  {
   "cell_type": "code",
   "execution_count": 12,
   "id": "d8665d46",
   "metadata": {},
   "outputs": [],
   "source": [
    "while flag:\n",
    "    window.fill((255,182,193))\n",
    "    for event in pygame.event.get():\n",
    "        if event.type == pygame.QUIT:\n",
    "            flag = False   \n",
    "        if event.type == pygame.MOUSEBUTTONDOWN:\n",
    "            flag1 = 1\n",
    "            pos = pygame.mouse.get_pos()\n",
    "            cord(pos)\n",
    "        if event.type == pygame.KEYDOWN:\n",
    "            if event.key == pygame.K_LEFT:\n",
    "                x-= 1\n",
    "                flag1 = 1\n",
    "            if event.key == pygame.K_RIGHT:\n",
    "                x+= 1\n",
    "                flag1 = 1\n",
    "            if event.key == pygame.K_UP:\n",
    "                y-= 1\n",
    "                flag1 = 1\n",
    "            if event.key == pygame.K_DOWN:\n",
    "                y+= 1\n",
    "                flag1 = 1   \n",
    "            if event.key == pygame.K_1:\n",
    "                value = 1\n",
    "            if event.key == pygame.K_2:\n",
    "                value = 2   \n",
    "            if event.key == pygame.K_3:\n",
    "                value = 3\n",
    "            if event.key == pygame.K_4:\n",
    "                value = 4\n",
    "            if event.key == pygame.K_5:\n",
    "                value = 5\n",
    "            if event.key == pygame.K_6:\n",
    "                value = 6\n",
    "            if event.key == pygame.K_7:\n",
    "                value = 7\n",
    "            if event.key == pygame.K_8:\n",
    "                value = 8\n",
    "            if event.key == pygame.K_9:\n",
    "                value = 9 \n",
    "            if event.key == pygame.K_RETURN:\n",
    "                flag2 = 1  \n",
    "            if event.key == pygame.K_r:\n",
    "                rs = 0\n",
    "                error = 0\n",
    "                flag2 = 0\n",
    "                default_grid=[\n",
    "                [0, 0, 0, 0, 0, 0, 0, 0, 0],\n",
    "                [0, 0, 0, 0, 0, 0, 0, 0, 0],\n",
    "                [0, 0, 0, 0, 0, 0, 0, 0, 0],\n",
    "                [0, 0, 0, 0, 0, 0, 0, 0, 0],\n",
    "                [0, 0, 0, 0, 0, 0, 0, 0, 0],\n",
    "                [0, 0, 0, 0, 0, 0, 0, 0, 0],\n",
    "                [0, 0, 0, 0, 0, 0, 0, 0, 0],\n",
    "                [0, 0, 0, 0, 0, 0, 0, 0, 0],\n",
    "                [0, 0, 0, 0, 0, 0, 0, 0, 0]\n",
    "                ]\n",
    "            if event.key == pygame.K_d:\n",
    "                rs = 0\n",
    "                error = 0\n",
    "                flag2 = 0\n",
    "                default_grid  =[\n",
    "                    [0, 0, 4, 0, 6, 0, 0, 0, 5],\n",
    "                    [7, 8, 0, 4, 0, 0, 0, 2, 0],\n",
    "                    [0, 0, 2, 6, 0, 1, 0, 7, 8],\n",
    "                    [6, 1, 0, 0, 7, 5, 0, 0, 9],\n",
    "                    [0, 0, 7, 5, 4, 0, 0, 6, 1],\n",
    "                    [0, 0, 1, 7, 5, 0, 9, 3, 0],\n",
    "                    [0, 7, 0, 3, 0, 0, 0, 1, 0],\n",
    "                    [0, 4, 0, 2, 0, 6, 0, 0, 7],\n",
    "                    [0, 2, 0, 0, 0, 7, 4, 0, 0],\n",
    "                ]\n",
    "    if flag2 == 1:\n",
    "        if solvegame(default_grid , 0, 0)== False:\n",
    "            error = 1\n",
    "        else:\n",
    "            rs = 1\n",
    "        flag2 = 0   \n",
    "    if value != 0:           \n",
    "        fillvalue(value)\n",
    "        if validvalue(default_grid , int(x), int(z), value)== True:\n",
    "            default_grid[int(x)][int(z)]= value\n",
    "            flag1 = 0\n",
    "        else:\n",
    "            default_grid[int(x)][int(z)]= 0\n",
    "            raiseerror1()  \n",
    "        value = 0   \n",
    "       \n",
    "    if error == 1:\n",
    "        raiseerror() \n",
    "    if rs == 1:\n",
    "        gameresult()       \n",
    "    drawlines() \n",
    "    if flag1 == 1:\n",
    "        highlightbox()      \n",
    "    pygame.display.update() \n",
    "   \n",
    "pygame.quit()    "
   ]
  },
  {
   "cell_type": "code",
   "execution_count": null,
   "id": "04887c2a",
   "metadata": {},
   "outputs": [],
   "source": []
  }
 ],
 "metadata": {
  "kernelspec": {
   "display_name": "Python 3 (ipykernel)",
   "language": "python",
   "name": "python3"
  },
  "language_info": {
   "codemirror_mode": {
    "name": "ipython",
    "version": 3
   },
   "file_extension": ".py",
   "mimetype": "text/x-python",
   "name": "python",
   "nbconvert_exporter": "python",
   "pygments_lexer": "ipython3",
   "version": "3.8.8"
  }
 },
 "nbformat": 4,
 "nbformat_minor": 5
}
