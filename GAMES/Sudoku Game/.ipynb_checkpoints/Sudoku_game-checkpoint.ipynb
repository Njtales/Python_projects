{
 "cells": [
  {
   "cell_type": "markdown",
   "id": "347c41a5",
   "metadata": {},
   "source": [
    "# Sudoku_Game"
   ]
  },
  {
   "cell_type": "code",
   "execution_count": 2,
   "id": "d5215661",
   "metadata": {},
   "outputs": [
    {
     "name": "stdout",
     "output_type": "stream",
     "text": [
      "pygame 2.1.2 (SDL 2.0.18, Python 3.8.8)\n",
      "Hello from the pygame community. https://www.pygame.org/contribute.html\n"
     ]
    }
   ],
   "source": [
    "import pygame\n",
    "pygame.font.init()"
   ]
  },
  {
   "cell_type": "code",
   "execution_count": 3,
   "id": "0d8f6f85",
   "metadata": {},
   "outputs": [],
   "source": [
    "window = pygame.display.set_mode((550,550))\n",
    "pygame.display.set_caption(\"SUDOKU game by Nikhil\")"
   ]
  },
  {
   "cell_type": "code",
   "execution_count": 5,
   "id": "be4f21ac",
   "metadata": {},
   "outputs": [],
   "source": [
    "x = 0\n",
    "y = 0\n",
    "diff = 550 / 9\n",
    "value = 0\n",
    "\n",
    "default_grid = [\n",
    "        [0, 0, 4, 0, 6, 0, 0, 0, 5],\n",
    "        [7, 8, 0, 4, 0, 0, 0, 2, 0],\n",
    "        [0, 0, 2, 6, 0, 1, 0, 7, 8],\n",
    "        [6, 1, 0, 0, 7, 5, 0, 0, 9],\n",
    "        [0, 0, 7, 5, 4, 0, 0, 6, 1],\n",
    "        [0, 0, 1, 7, 5, 0, 9, 3, 0],\n",
    "        [0, 7, 0, 3, 0, 0, 0, 1, 0],\n",
    "        [0, 4, 0, 2, 0, 6, 0, 0, 7],\n",
    "        [0, 2, 0, 0, 0, 7, 4, 0, 0],\n",
    "]\n",
    "\n",
    "font = pygame.font.SysFont(\"comicsans\", 40)\n",
    "font1 = pygame.font.SysFont(\"comicsans\", 20)"
   ]
  },
  {
   "cell_type": "code",
   "execution_count": 7,
   "id": "50c9d67d",
   "metadata": {},
   "outputs": [],
   "source": [
    "def cord(pos):\n",
    "    global x\n",
    "    x = pos[0]//diff\n",
    "    global z\n",
    "    z = pos[1]//diff\n",
    " \n",
    "def highlightbox():\n",
    "    for k in range(2):\n",
    "        pygame.draw.line(Window, (0, 0, 0), (x * diff-3, (z + k)*diff), (x * diff + diff + 3, (z + k)*diff), 7)\n",
    "        pygame.draw.line(Window, (0, 0, 0), ( (x + k) * diff, z * diff ), ((x + k) * diff, z * diff + diff), 7) "
   ]
  },
  {
   "cell_type": "code",
   "execution_count": 8,
   "id": "7511ac3b",
   "metadata": {},
   "outputs": [],
   "source": [
    "def drawlines():\n",
    "    for i in range (9):\n",
    "        for j in range (9):\n",
    "            if defaultgrid[i][j]!= 0:\n",
    "                pygame.draw.rect(Window, (255, 255, 0), (i * diff, j * diff, diff + 1, diff + 1))\n",
    "                text1 = font.render(str(defaultgrid[i][j]), 1, (0, 0, 0))\n",
    "                Window.blit(text1, (i * diff + 15, j * diff + 15))         \n",
    "    for l in range(10):\n",
    "        if l % 3 == 0 :\n",
    "            thick = 7\n",
    "        else:\n",
    "            thick = 1\n",
    "        pygame.draw.line(Window, (0, 0, 0), (0, l * diff), (500, l * diff), thick)\n",
    "        pygame.draw.line(Window, (0, 0, 0), (l * diff, 0), (l * diff, 500), thick)"
   ]
  },
  {
   "cell_type": "code",
   "execution_count": null,
   "id": "a48135bc",
   "metadata": {},
   "outputs": [],
   "source": []
  }
 ],
 "metadata": {
  "kernelspec": {
   "display_name": "Python 3 (ipykernel)",
   "language": "python",
   "name": "python3"
  },
  "language_info": {
   "codemirror_mode": {
    "name": "ipython",
    "version": 3
   },
   "file_extension": ".py",
   "mimetype": "text/x-python",
   "name": "python",
   "nbconvert_exporter": "python",
   "pygments_lexer": "ipython3",
   "version": "3.8.8"
  }
 },
 "nbformat": 4,
 "nbformat_minor": 5
}
