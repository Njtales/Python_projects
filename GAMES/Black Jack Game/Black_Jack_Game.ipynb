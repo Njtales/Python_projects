{
 "cells": [
  {
   "cell_type": "markdown",
   "id": "3b51cba7",
   "metadata": {},
   "source": [
    "## Black_Jack_Game"
   ]
  },
  {
   "cell_type": "code",
   "execution_count": 8,
   "id": "0063c48d",
   "metadata": {
    "ExecuteTime": {
     "end_time": "2022-07-10T15:06:02.597476Z",
     "start_time": "2022-07-10T15:06:02.579525Z"
    }
   },
   "outputs": [],
   "source": [
    "import random as rn\n",
    "deck = [2,3,4,5,6,7,8,9,10,'J','Q','K','A']\n",
    "suit = ['spade' , 'heart' , 'diamond' , 'club']\n",
    "arr = []\n",
    "pl = []\n",
    "dl = []"
   ]
  },
  {
   "cell_type": "code",
   "execution_count": 9,
   "id": "24b6d4d2",
   "metadata": {
    "ExecuteTime": {
     "end_time": "2022-07-10T15:06:02.613433Z",
     "start_time": "2022-07-10T15:06:02.598492Z"
    }
   },
   "outputs": [],
   "source": [
    "# Check Blackjack__________________________________________\n",
    "def check_Twenty_One(s):\n",
    "    if s==21:\n",
    "        return True\n",
    "    else:\n",
    "        return False"
   ]
  },
  {
   "cell_type": "code",
   "execution_count": 10,
   "id": "ee281d90",
   "metadata": {
    "ExecuteTime": {
     "end_time": "2022-07-10T15:06:02.629391Z",
     "start_time": "2022-07-10T15:06:02.614432Z"
    }
   },
   "outputs": [],
   "source": [
    "# Check Bust_______________________________________________\n",
    "def Bust(s):\n",
    "    if s>21:\n",
    "        return True\n",
    "    else:\n",
    "        return False"
   ]
  },
  {
   "cell_type": "code",
   "execution_count": 11,
   "id": "3881955e",
   "metadata": {
    "ExecuteTime": {
     "end_time": "2022-07-10T15:06:02.645348Z",
     "start_time": "2022-07-10T15:06:02.631385Z"
    }
   },
   "outputs": [],
   "source": [
    "# Check Ace is 1 or 11_____________________________________\n",
    "def check_For_Ace(s):\n",
    "    if (s+11)<=21:\n",
    "        return 11\n",
    "    else:\n",
    "        return 1"
   ]
  },
  {
   "cell_type": "code",
   "execution_count": 12,
   "id": "f06a0fce",
   "metadata": {
    "ExecuteTime": {
     "end_time": "2022-07-10T15:06:02.660315Z",
     "start_time": "2022-07-10T15:06:02.646345Z"
    }
   },
   "outputs": [],
   "source": [
    "# Adjust the sum___________________________________________\n",
    "def check_sum(s):\n",
    "    if s < 21:\n",
    "        return s\n",
    "\n",
    "    for i in range(len(pl)-1,-1,-1):\n",
    "        if pl[i] == 'A':\n",
    "            s -= 10\n",
    "            break\n",
    "    return s"
   ]
  },
  {
   "cell_type": "code",
   "execution_count": 13,
   "id": "4ed41262",
   "metadata": {
    "ExecuteTime": {
     "end_time": "2022-07-10T15:06:02.676296Z",
     "start_time": "2022-07-10T15:06:02.662303Z"
    }
   },
   "outputs": [],
   "source": [
    "# creating a well shuffled pack of cards___________________\n",
    "def startGame():\n",
    "    print(\"Welcome to the BlackJack Game:\\n\")\n",
    "    for i in suit:\n",
    "        for j in deck:\n",
    "            arr.append([i,j])\n",
    "    rn.shuffle(arr)\n",
    "    \n",
    "    pl.append(arr[0])\n",
    "    pl.append(arr[1])\n",
    "    dl.append(arr[2])\n",
    "    dl.append(arr[3])\n",
    "    \n",
    "    print(f'\\nDealer draws {dl[0]} and [xxxxxx,xx]\\n')\n",
    "    s = 0\n",
    "    for i in range(0,2):\n",
    "        if arr[i][1] == 'J' or arr[i][1] == 'K' or arr[i][1] == 'Q':\n",
    "            s += 10\n",
    "        elif arr[i][1] == 'A':\n",
    "            s += check_For_Ace(s)\n",
    "        else:\n",
    "            s += arr[i][1]\n",
    "    return s"
   ]
  },
  {
   "cell_type": "code",
   "execution_count": 23,
   "id": "8d8ebc35",
   "metadata": {
    "ExecuteTime": {
     "end_time": "2022-07-10T15:06:48.028791Z",
     "start_time": "2022-07-10T15:06:48.009821Z"
    }
   },
   "outputs": [
    {
     "name": "stdout",
     "output_type": "stream",
     "text": [
      "Welcome to the BlackJack Game:\n",
      "\n",
      "\n",
      "Dealer draws ['heart', 6] and [xxxxxx,xx]\n",
      "\n",
      "You are currently at 21\n",
      "Current Hand: [['spade', 3], ['heart', 'K'], ['diamond', 'K'], ['club', 'J'], ['diamond', 5], ['spade', 'K'], ['heart', 'K'], ['diamond', 6], ['club', 'J'], ['club', 9], ['club', 'A'], ['heart', 9], ['spade', 7], ['diamond', 'K'], ['club', 8], ['club', 10], ['spade', 'A'], ['heart', 'J'], ['club', 6], ['club', 10], ['club', 'J'], ['spade', 10], ['diamond', 'K'], ['club', 6], ['heart', 9], ['club', 5], ['diamond', 10], ['heart', 'A'], ['diamond', 'Q']]\n",
      "Awesome!!!......You made 21!....You Won\n",
      "\n"
     ]
    }
   ],
   "source": [
    "# player's chance__________________________________________\n",
    "def playersTurn(s):\n",
    "    print(\"You are currently at \" + str(s))\n",
    "    print(f'Current Hand: {pl}')\n",
    "\n",
    "    s = check_sum(s)\n",
    "\n",
    "    if (check_Twenty_One(s)):\n",
    "        #Check Blackjack_______________________________________\n",
    "        if len(pl) == 2:\n",
    "            print(\"Hurray......It's a BLACKJACK....You Won\\n\")\n",
    "        #Check if player made 21_______________________________\n",
    "        else:\n",
    "            print(\"Awesome!!!......You made 21!....You Won\\n\")\n",
    "        return 2\n",
    "    elif (Bust(s)):\n",
    "        print(\"You got Bust.....You Lost\\n\")\n",
    "        return 3\n",
    "\n",
    "    while(1):\n",
    "        i = int(input(\"\\nHit(Press 1) or Stay(Press 0): \"))\n",
    "        if i==1 or i==0:\n",
    "            return i\n",
    "        else:\n",
    "            print(\"Enter a valid number....\\n\")\n",
    "\n",
    "if __name__ == '__main__':\n",
    "    s = startGame()\n",
    "    c = j = 0\n",
    "    for i in range(4,len(arr)):\n",
    "        \n",
    "        j = playersTurn(s)\n",
    "        if j == 2 or j == 3:\n",
    "            j = i\n",
    "            break\n",
    "        elif j == 0:\n",
    "            j = i\n",
    "            c = 100\n",
    "            break\n",
    "        print(f'You draw {arr[i]}\\n')\n",
    "\n",
    "        if arr[i][1] == 'J' or arr[i][1] == 'K' or arr[i][1] == 'Q':\n",
    "            c = 10\n",
    "        elif arr[i][1] == 'A':\n",
    "            c = check_For_Ace(s)\n",
    "        else:\n",
    "            c = arr[i][1]\n",
    "        s += c\n",
    "        pl.append(arr[i])\n",
    "\n",
    "    if c == 100:\n",
    "        sp = s\n",
    "        s = 0\n",
    "        for i in range(2,4):\n",
    "            if arr[i][1] == 'J' or arr[i][1] == 'K' or arr[i][1] == 'Q':\n",
    "                s += 10\n",
    "            elif arr[i][1] == 'A':\n",
    "                s += check_For_Ace(s)\n",
    "            else:\n",
    "                s += arr[i][1]\n",
    "        print(f\"\\nDealer's second card was {dl[1]}\")\n",
    "\n",
    "        for i in range(j,len(arr)):\n",
    "            print(f\"\\nDealer is at {s}\")\n",
    "            print(f\"\\nDealer's current hand: {dl}\\n\")\n",
    "\n",
    "            s = check_sum(s)\n",
    "            if (check_Twenty_One(s)):\n",
    "                if len(dl) == 2:\n",
    "                    print(\"Dealer got a BlackJack and won the Game\\nYou Lost\\n\")\n",
    "                else:\n",
    "                    print(\"Dealer made 21 and won the Game\\nBetter Luck Next Time!\\n\")\n",
    "                break\n",
    "            elif (Bust(s)):\n",
    "                print(\"Dealer got Busted\\nYou Won\\n\")\n",
    "                break\n",
    "            elif (sp < s):\n",
    "                print(\"Dealer Won the Game\\n\")\n",
    "                break\n",
    "\n",
    "            print(f\"Dealer draws {arr[i]}\")\n",
    "            dl.append(arr[i])\n",
    "            if arr[i][1] == 'J' or arr[i][1] == 'K' or arr[i][1] == 'Q':\n",
    "                s += 10\n",
    "            elif arr[i][1] == 'A':\n",
    "                s += check_For_Ace(s)\n",
    "            else:\n",
    "                s += arr[i][1]"
   ]
  }
 ],
 "metadata": {
  "kernelspec": {
   "display_name": "Python 3 (ipykernel)",
   "language": "python",
   "name": "python3"
  },
  "language_info": {
   "codemirror_mode": {
    "name": "ipython",
    "version": 3
   },
   "file_extension": ".py",
   "mimetype": "text/x-python",
   "name": "python",
   "nbconvert_exporter": "python",
   "pygments_lexer": "ipython3",
   "version": "3.8.8"
  },
  "varInspector": {
   "cols": {
    "lenName": 16,
    "lenType": 16,
    "lenVar": 40
   },
   "kernels_config": {
    "python": {
     "delete_cmd_postfix": "",
     "delete_cmd_prefix": "del ",
     "library": "var_list.py",
     "varRefreshCmd": "print(var_dic_list())"
    },
    "r": {
     "delete_cmd_postfix": ") ",
     "delete_cmd_prefix": "rm(",
     "library": "var_list.r",
     "varRefreshCmd": "cat(var_dic_list()) "
    }
   },
   "types_to_exclude": [
    "module",
    "function",
    "builtin_function_or_method",
    "instance",
    "_Feature"
   ],
   "window_display": false
  }
 },
 "nbformat": 4,
 "nbformat_minor": 5
}
