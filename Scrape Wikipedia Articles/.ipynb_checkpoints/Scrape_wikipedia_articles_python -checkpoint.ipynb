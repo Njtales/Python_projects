{
 "cells": [
  {
   "cell_type": "markdown",
   "id": "c84bc3aa",
   "metadata": {},
   "source": [
    "## Scrape wikipedia articles python"
   ]
  },
  {
   "cell_type": "code",
   "execution_count": 13,
   "id": "9a3d9690",
   "metadata": {
    "ExecuteTime": {
     "end_time": "2022-06-09T16:02:04.353791Z",
     "start_time": "2022-06-09T16:02:04.082882Z"
    }
   },
   "outputs": [
    {
     "name": "stdout",
     "output_type": "stream",
     "text": [
      "Web scraping\n"
     ]
    }
   ],
   "source": [
    "import requests\n",
    "import random\n",
    "from bs4 import BeautifulSoup\n",
    "\n",
    "response = requests.get(url=\"https://en.wikipedia.org/wiki/Web_scraping\",)\n",
    "soup = BeautifulSoup(response.content, 'html.parser')\n",
    "\n",
    "title = soup.find(id=\"firstHeading\")\n",
    "print(title.string)"
   ]
  },
  {
   "cell_type": "code",
   "execution_count": 14,
   "id": "3915342a",
   "metadata": {
    "ExecuteTime": {
     "end_time": "2022-06-09T16:02:04.849824Z",
     "start_time": "2022-06-09T16:02:04.817826Z"
    }
   },
   "outputs": [
    {
     "name": "stdout",
     "output_type": "stream",
     "text": [
      "<a href=\"/wiki/Category:All_articles_needing_additional_references\" title=\"Category:All articles needing additional references\">All articles needing additional references</a>\n"
     ]
    }
   ],
   "source": [
    "# Get all the links\n",
    "allLinks = soup.find(id=\"bodyContent\").find_all(\"a\")\n",
    "random.shuffle(allLinks)\n",
    "linkToScrape = 0\n",
    "\n",
    "for link in allLinks:\n",
    "    # We are only interested in other wiki articles\n",
    "    if link['href'].find(\"/wiki/\") == -1: \n",
    "        continue\n",
    "\n",
    "    # Use this link to scrape\n",
    "    linkToScrape = link\n",
    "    break\n",
    "\n",
    "print(linkToScrape)"
   ]
  },
  {
   "cell_type": "code",
   "execution_count": 23,
   "id": "2959a77d",
   "metadata": {
    "ExecuteTime": {
     "end_time": "2022-06-09T16:14:52.677347Z",
     "start_time": "2022-06-09T16:14:38.233634Z"
    }
   },
   "outputs": [
    {
     "name": "stdout",
     "output_type": "stream",
     "text": [
      "Web scraping\n",
      "Semi-structured data\n",
      "Representational state transfer\n",
      "Category:Articles with short description\n",
      "Category:Hidden categories\n",
      "Category:ACArt with 13 suppressed elements\n",
      "Charles Garnier (architect)\n",
      "Book sources\n",
      "Southern Methodist University\n",
      "Methodist Episcopal Church, South\n",
      "African Methodist Episcopal Zion Church\n",
      "Saints in Methodism\n",
      "Saint symbolism\n",
      "Wikipedia:Citation needed\n",
      "Template:Bare URL DOC\n",
      "Template:Retracted\n",
      "Template:Inline cleanup tags\n",
      "Help:Overview of referencing styles\n",
      "Help:Find sources\n",
      "Help:Reverting\n",
      "Wikipedia:Edit warring\n",
      "Wikipedia:Make technical articles understandable\n",
      "Wikipedia:Civility\n",
      "Wikipedia:Talk page guidelines\n",
      "Wikipedia:Deletion process\n",
      "Wikipedia:Miscellany for deletion\n",
      "User talk:SmokeyJoe\n",
      "Wikipedia talk:New pages patrol/Reviewers\n",
      "User:DannyS712\n",
      "Category:Wikipedia account creators\n",
      "User:Puffin/Userboxes\n",
      "English Wikipedia\n",
      "Irish Wikipedia\n",
      "Ossetian Wikipedia\n",
      "Waray Wikipedia\n",
      "Belarusian Wikipedia\n",
      "__ Connection refused\n"
     ]
    }
   ],
   "source": [
    "import time\n",
    "\n",
    "# Creating an endless scraper\n",
    "def scrapeWikiArticle(url):\n",
    "    response = requests.get(url=url,)\n",
    "\n",
    "    soup = BeautifulSoup(response.content, 'html.parser')\n",
    "\n",
    "    title = soup.find(id=\"firstHeading\")\n",
    "    print(title.text)\n",
    "\n",
    "    allLinks = soup.find(id=\"bodyContent\").find_all(\"a\")\n",
    "    random.shuffle(allLinks)\n",
    "    linkToScrape = 0\n",
    "\n",
    "    for link in allLinks:\n",
    "        # We are only interested in other wiki articles\n",
    "        if link['href'].find(\"/wiki/\") == -1: \n",
    "            continue\n",
    "\n",
    "        # Use this link to scrape\n",
    "        linkToScrape = link\n",
    "        break\n",
    "\n",
    "    scrapeWikiArticle(\"https://en.wikipedia.org\" + linkToScrape['href'])\n",
    "\n",
    "try:\n",
    "    scrapeWikiArticle(\"https://en.wikipedia.org/wiki/Web_scraping\")\n",
    "except requests.exceptions.ConnectionError:\n",
    "    print(\"__ Connection refused\")\n",
    "except KeyError:\n",
    "    print(\"__ Key Error\")\n",
    "except:\n",
    "    print(\"__ Something went wrong\")    "
   ]
  },
  {
   "cell_type": "code",
   "execution_count": null,
   "id": "aabf797d",
   "metadata": {},
   "outputs": [],
   "source": []
  }
 ],
 "metadata": {
  "kernelspec": {
   "display_name": "Python 3 (ipykernel)",
   "language": "python",
   "name": "python3"
  },
  "language_info": {
   "codemirror_mode": {
    "name": "ipython",
    "version": 3
   },
   "file_extension": ".py",
   "mimetype": "text/x-python",
   "name": "python",
   "nbconvert_exporter": "python",
   "pygments_lexer": "ipython3",
   "version": "3.8.8"
  },
  "varInspector": {
   "cols": {
    "lenName": 16,
    "lenType": 16,
    "lenVar": 40
   },
   "kernels_config": {
    "python": {
     "delete_cmd_postfix": "",
     "delete_cmd_prefix": "del ",
     "library": "var_list.py",
     "varRefreshCmd": "print(var_dic_list())"
    },
    "r": {
     "delete_cmd_postfix": ") ",
     "delete_cmd_prefix": "rm(",
     "library": "var_list.r",
     "varRefreshCmd": "cat(var_dic_list()) "
    }
   },
   "types_to_exclude": [
    "module",
    "function",
    "builtin_function_or_method",
    "instance",
    "_Feature"
   ],
   "window_display": false
  }
 },
 "nbformat": 4,
 "nbformat_minor": 5
}
