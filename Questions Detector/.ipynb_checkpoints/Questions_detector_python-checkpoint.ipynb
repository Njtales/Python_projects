{
 "cells": [
  {
   "cell_type": "markdown",
   "id": "0bf8da1d",
   "metadata": {},
   "source": [
    "## Questions_detector_python"
   ]
  },
  {
   "cell_type": "code",
   "execution_count": 2,
   "id": "a2375db6",
   "metadata": {
    "ExecuteTime": {
     "end_time": "2022-06-20T14:42:10.750905Z",
     "start_time": "2022-06-20T14:40:56.590793Z"
    }
   },
   "outputs": [
    {
     "name": "stdout",
     "output_type": "stream",
     "text": [
      "Input a sentence: is it?\n",
      "This is a question!\n"
     ]
    }
   ],
   "source": [
    "from nltk.tokenize import word_tokenize\n",
    "question_words = [\"what\", \"why\", \"when\", \"where\", \"name\", \"is\", \"how\", \"do\", \"does\", \n",
    "                  \"which\", \"are\", \"could\", \"would\", \"should\", \"has\", \"have\", \"whom\",\n",
    "                  \"whose\", \"don't\"]\n",
    "\n",
    "question = input(\"Input a sentence: \")\n",
    "question = question.lower()\n",
    "question = word_tokenize(question)\n",
    "\n",
    "if any(x in question[0] for x in question_words):\n",
    "    print(\"This is a question!\")\n",
    "else:\n",
    "    print(\"This is not a question!\")"
   ]
  }
 ],
 "metadata": {
  "kernelspec": {
   "display_name": "Python 3 (ipykernel)",
   "language": "python",
   "name": "python3"
  },
  "language_info": {
   "codemirror_mode": {
    "name": "ipython",
    "version": 3
   },
   "file_extension": ".py",
   "mimetype": "text/x-python",
   "name": "python",
   "nbconvert_exporter": "python",
   "pygments_lexer": "ipython3",
   "version": "3.8.8"
  },
  "toc": {
   "base_numbering": 1,
   "nav_menu": {},
   "number_sections": true,
   "sideBar": true,
   "skip_h1_title": false,
   "title_cell": "Table of Contents",
   "title_sidebar": "Contents",
   "toc_cell": false,
   "toc_position": {},
   "toc_section_display": true,
   "toc_window_display": false
  },
  "varInspector": {
   "cols": {
    "lenName": 16,
    "lenType": 16,
    "lenVar": 40
   },
   "kernels_config": {
    "python": {
     "delete_cmd_postfix": "",
     "delete_cmd_prefix": "del ",
     "library": "var_list.py",
     "varRefreshCmd": "print(var_dic_list())"
    },
    "r": {
     "delete_cmd_postfix": ") ",
     "delete_cmd_prefix": "rm(",
     "library": "var_list.r",
     "varRefreshCmd": "cat(var_dic_list()) "
    }
   },
   "types_to_exclude": [
    "module",
    "function",
    "builtin_function_or_method",
    "instance",
    "_Feature"
   ],
   "window_display": false
  }
 },
 "nbformat": 4,
 "nbformat_minor": 5
}
