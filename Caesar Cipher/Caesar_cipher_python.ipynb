{
 "cells": [
  {
   "cell_type": "markdown",
   "id": "5ccffcb9",
   "metadata": {
    "ExecuteTime": {
     "end_time": "2022-06-09T17:26:27.960027Z",
     "start_time": "2022-06-09T17:26:27.953045Z"
    }
   },
   "source": [
    "## caesar_cipher_python"
   ]
  },
  {
   "cell_type": "code",
   "execution_count": 7,
   "id": "3a2af634",
   "metadata": {
    "ExecuteTime": {
     "end_time": "2022-06-09T17:34:50.555094Z",
     "start_time": "2022-06-09T17:34:50.488981Z"
    }
   },
   "outputs": [
    {
     "ename": "ImportError",
     "evalue": "cannot import name 'logo' from 'art' (D:\\Users\\NYK-PC\\anaconda3\\lib\\site-packages\\art\\__init__.py)",
     "output_type": "error",
     "traceback": [
      "\u001b[1;31m---------------------------------------------------------------------------\u001b[0m",
      "\u001b[1;31mImportError\u001b[0m                               Traceback (most recent call last)",
      "Input \u001b[1;32mIn [7]\u001b[0m, in \u001b[0;36m<cell line: 22>\u001b[1;34m()\u001b[0m\n\u001b[0;32m     17\u001b[0m             end_text \u001b[38;5;241m+\u001b[39m\u001b[38;5;241m=\u001b[39m char\n\u001b[0;32m     18\u001b[0m     \u001b[38;5;28mprint\u001b[39m(\u001b[38;5;124mf\u001b[39m\u001b[38;5;124m\"\u001b[39m\u001b[38;5;124mHere\u001b[39m\u001b[38;5;124m'\u001b[39m\u001b[38;5;124ms the \u001b[39m\u001b[38;5;132;01m{\u001b[39;00mcipher_direction\u001b[38;5;132;01m}\u001b[39;00m\u001b[38;5;124md result: \u001b[39m\u001b[38;5;132;01m{\u001b[39;00mend_text\u001b[38;5;132;01m}\u001b[39;00m\u001b[38;5;124m\"\u001b[39m)\n\u001b[1;32m---> 22\u001b[0m \u001b[38;5;28;01mfrom\u001b[39;00m \u001b[38;5;21;01mart\u001b[39;00m \u001b[38;5;28;01mimport\u001b[39;00m logo\n\u001b[0;32m     24\u001b[0m \u001b[38;5;28mprint\u001b[39m(\u001b[38;5;124m'''\u001b[39m\n\u001b[0;32m     25\u001b[0m \u001b[38;5;124m $$$$$$\u001b[39m\u001b[38;5;124m\\\u001b[39m\u001b[38;5;124m                                                           $$$$$$\u001b[39m\u001b[38;5;124m\\\u001b[39m\u001b[38;5;124m  $$\u001b[39m\u001b[38;5;124m\\\u001b[39m\u001b[38;5;124m           $$\u001b[39m\u001b[38;5;124m\\\u001b[39m\u001b[38;5;124m                           \u001b[39m\n\u001b[0;32m     26\u001b[0m \u001b[38;5;124m$$  __$$\u001b[39m\u001b[38;5;124m\\\u001b[39m\u001b[38;5;124m                                                         $$  __$$\u001b[39m\u001b[38;5;124m\\\u001b[39m\u001b[38;5;124m \u001b[39m\u001b[38;5;124m\\\u001b[39m\u001b[38;5;124m__|          $$ |                          \u001b[39m\n\u001b[1;32m   (...)\u001b[0m\n\u001b[0;32m     35\u001b[0m \u001b[38;5;124m                                                                                \u001b[39m\u001b[38;5;124m\\\u001b[39m\u001b[38;5;124m__|                                    \u001b[39m\n\u001b[0;32m     36\u001b[0m \u001b[38;5;124m'''\u001b[39m)\n\u001b[0;32m     38\u001b[0m should_end \u001b[38;5;241m=\u001b[39m \u001b[38;5;28;01mFalse\u001b[39;00m\n",
      "\u001b[1;31mImportError\u001b[0m: cannot import name 'logo' from 'art' (D:\\Users\\NYK-PC\\anaconda3\\lib\\site-packages\\art\\__init__.py)"
     ]
    }
   ],
   "source": [
    "alphabet = ['a', 'b', 'c', 'd', 'e', 'f', 'g', 'h', 'i', 'j', 'k', 'l', 'm', 'n', 'o', 'p', 'q', 'r', 's', 't', 'u',\n",
    "            'v', 'w', 'x', 'y', 'z', 'a', 'b', 'c', 'd', 'e', 'f', 'g', 'h', 'i', 'j', 'k', 'l', 'm', 'n', 'o', 'p',\n",
    "            'q', 'r', 's', 't', 'u', 'v', 'w', 'x', 'y', 'z']\n",
    "\n",
    "\n",
    "def caesar(start_text, shift_amount, cipher_direction):\n",
    "    end_text = \"\"\n",
    "    if cipher_direction == \"decode\":\n",
    "        shift_amount *= -1\n",
    "    for char in start_text:\n",
    "\n",
    "        if char in alphabet:\n",
    "            position = alphabet.index(char)\n",
    "            new_position = position + shift_amount\n",
    "            end_text += alphabet[new_position]\n",
    "        else:\n",
    "            end_text += char\n",
    "    print(f\"Here's the {cipher_direction}d result: {end_text}\")\n",
    "\n",
    "\n",
    "\n",
    "from art import logo\n",
    "\n",
    "print('''\n",
    " $$$$$$\\                                                           $$$$$$\\  $$\\           $$\\                           \n",
    "$$  __$$\\                                                         $$  __$$\\ \\__|          $$ |                          \n",
    "$$ /  \\__| $$$$$$\\   $$$$$$\\   $$$$$$$\\  $$$$$$\\   $$$$$$\\        $$ /  \\__|$$\\  $$$$$$\\  $$$$$$$\\   $$$$$$\\   $$$$$$\\  \n",
    "$$ |       \\____$$\\ $$  __$$\\ $$  _____| \\____$$\\ $$  __$$\\       $$ |      $$ |$$  __$$\\ $$  __$$\\ $$  __$$\\ $$  __$$\\ \n",
    "$$ |       $$$$$$$ |$$$$$$$$ |\\$$$$$$\\   $$$$$$$ |$$ |  \\__|      $$ |      $$ |$$ /  $$ |$$ |  $$ |$$$$$$$$ |$$ |  \\__|\n",
    "$$ |  $$\\ $$  __$$ |$$   ____| \\____$$\\ $$  __$$ |$$ |            $$ |  $$\\ $$ |$$ |  $$ |$$ |  $$ |$$   ____|$$ |      \n",
    "\\$$$$$$  |\\$$$$$$$ |\\$$$$$$$\\ $$$$$$$  |\\$$$$$$$ |$$ |            \\$$$$$$  |$$ |$$$$$$$  |$$ |  $$ |\\$$$$$$$\\ $$ |      \n",
    " \\______/  \\_______| \\_______|\\_______/  \\_______|\\__|             \\______/ \\__|$$  ____/ \\__|  \\__| \\_______|\\__|      \n",
    "                                                                                $$ |                                    \n",
    "                                                                                $$ |                                    \n",
    "                                                                                \\__|                                    \n",
    "''')\n",
    "\n",
    "should_end = False\n",
    "while not should_end:\n",
    "\n",
    "    direction = input(\"Type 'encode' to encrypt, type 'decode' to decrypt:\\n\")\n",
    "    text = input(\"Type your message:\\n\").lower()\n",
    "    shift = int(input(\"Type the shift number:\\n\"))\n",
    "    shift = shift % 26\n",
    "\n",
    "    caesar(start_text=text, shift_amount=shift, cipher_direction=direction)\n",
    "\n",
    "    restart = input(\"Type 'yes' if you want to go again. Otherwise type 'no'.\\n\")\n",
    "    if restart == \"no\":\n",
    "        should_end = True\n",
    "        print(\"Goodbye\")\n"
   ]
  },
  {
   "cell_type": "code",
   "execution_count": null,
   "id": "4244f201",
   "metadata": {},
   "outputs": [],
   "source": []
  }
 ],
 "metadata": {
  "kernelspec": {
   "display_name": "Python 3 (ipykernel)",
   "language": "python",
   "name": "python3"
  },
  "language_info": {
   "codemirror_mode": {
    "name": "ipython",
    "version": 3
   },
   "file_extension": ".py",
   "mimetype": "text/x-python",
   "name": "python",
   "nbconvert_exporter": "python",
   "pygments_lexer": "ipython3",
   "version": "3.8.8"
  },
  "varInspector": {
   "cols": {
    "lenName": 16,
    "lenType": 16,
    "lenVar": 40
   },
   "kernels_config": {
    "python": {
     "delete_cmd_postfix": "",
     "delete_cmd_prefix": "del ",
     "library": "var_list.py",
     "varRefreshCmd": "print(var_dic_list())"
    },
    "r": {
     "delete_cmd_postfix": ") ",
     "delete_cmd_prefix": "rm(",
     "library": "var_list.r",
     "varRefreshCmd": "cat(var_dic_list()) "
    }
   },
   "types_to_exclude": [
    "module",
    "function",
    "builtin_function_or_method",
    "instance",
    "_Feature"
   ],
   "window_display": false
  }
 },
 "nbformat": 4,
 "nbformat_minor": 5
}
