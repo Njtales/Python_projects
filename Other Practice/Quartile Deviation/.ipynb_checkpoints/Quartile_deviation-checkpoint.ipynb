{
 "cells": [
  {
   "cell_type": "markdown",
   "id": "20ab3633",
   "metadata": {},
   "source": [
    "# Quartile_deviation"
   ]
  },
  {
   "cell_type": "code",
   "execution_count": 2,
   "id": "72c91a6d",
   "metadata": {
    "ExecuteTime": {
     "end_time": "2022-06-21T17:58:10.206550Z",
     "start_time": "2022-06-21T17:58:10.194615Z"
    }
   },
   "outputs": [
    {
     "name": "stdout",
     "output_type": "stream",
     "text": [
      "[10, 15, 20, 25, 30, 35, 40, 45, 50, 55, 60, 65, 70, 75, 80, 85, 90, 95]\n",
      "Quartile 1 :  31.25\n",
      "Quartile 2 :  52.5\n",
      "Quartile 3 :  73.75\n",
      "21.25\n"
     ]
    }
   ],
   "source": [
    "import numpy as np\n",
    "data = list(range(10, 100, 5))\n",
    "print(data)\n",
    "\n",
    "Q1 = np.quantile(data, 0.25)\n",
    "Q2 = np.quantile(data, 0.50)\n",
    "Q3 = np.quantile(data, 0.75)\n",
    "\n",
    "print(\"Quartile 1 : \", Q1)\n",
    "print(\"Quartile 2 : \", Q2)\n",
    "print(\"Quartile 3 : \", Q3)\n",
    "\n",
    "def QuartileDeviation(a, b):\n",
    "    return (a - b)/2\n",
    "print(QuartileDeviation(Q3, Q1))"
   ]
  }
 ],
 "metadata": {
  "kernelspec": {
   "display_name": "Python 3 (ipykernel)",
   "language": "python",
   "name": "python3"
  },
  "language_info": {
   "codemirror_mode": {
    "name": "ipython",
    "version": 3
   },
   "file_extension": ".py",
   "mimetype": "text/x-python",
   "name": "python",
   "nbconvert_exporter": "python",
   "pygments_lexer": "ipython3",
   "version": "3.8.8"
  },
  "toc": {
   "base_numbering": 1,
   "nav_menu": {},
   "number_sections": true,
   "sideBar": true,
   "skip_h1_title": false,
   "title_cell": "Table of Contents",
   "title_sidebar": "Contents",
   "toc_cell": false,
   "toc_position": {},
   "toc_section_display": true,
   "toc_window_display": false
  },
  "varInspector": {
   "cols": {
    "lenName": 16,
    "lenType": 16,
    "lenVar": 40
   },
   "kernels_config": {
    "python": {
     "delete_cmd_postfix": "",
     "delete_cmd_prefix": "del ",
     "library": "var_list.py",
     "varRefreshCmd": "print(var_dic_list())"
    },
    "r": {
     "delete_cmd_postfix": ") ",
     "delete_cmd_prefix": "rm(",
     "library": "var_list.r",
     "varRefreshCmd": "cat(var_dic_list()) "
    }
   },
   "types_to_exclude": [
    "module",
    "function",
    "builtin_function_or_method",
    "instance",
    "_Feature"
   ],
   "window_display": false
  }
 },
 "nbformat": 4,
 "nbformat_minor": 5
}
