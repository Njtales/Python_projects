{
 "cells": [
  {
   "cell_type": "markdown",
   "id": "daa12d8b",
   "metadata": {},
   "source": [
    "# pyramid_pattern"
   ]
  },
  {
   "cell_type": "code",
   "execution_count": 1,
   "id": "e31ce09e",
   "metadata": {
    "ExecuteTime": {
     "end_time": "2022-06-21T17:52:43.819933Z",
     "start_time": "2022-06-21T17:52:43.802482Z"
    }
   },
   "outputs": [
    {
     "name": "stdout",
     "output_type": "stream",
     "text": [
      "                  * \r\n",
      "                 * * \r\n",
      "                * * * \r\n",
      "               * * * * \r\n",
      "              * * * * * \r\n",
      "             * * * * * * \r\n",
      "            * * * * * * * \r\n",
      "           * * * * * * * * \r\n",
      "          * * * * * * * * * \r\n",
      "         * * * * * * * * * * \r\n",
      "None\n"
     ]
    }
   ],
   "source": [
    "def pyramid_pattern(n):\n",
    "    a = 2 * n-2\n",
    "    for i in range(0, n):\n",
    "        for j in range(0, a):\n",
    "            print(end=\" \")\n",
    "        a = a-1\n",
    "        for j in range(0, i+1):\n",
    "            print(\"*\", end=\" \")\n",
    "        print(\"\\r\")\n",
    "print(pyramid_pattern(10))"
   ]
  }
 ],
 "metadata": {
  "kernelspec": {
   "display_name": "Python 3 (ipykernel)",
   "language": "python",
   "name": "python3"
  },
  "language_info": {
   "codemirror_mode": {
    "name": "ipython",
    "version": 3
   },
   "file_extension": ".py",
   "mimetype": "text/x-python",
   "name": "python",
   "nbconvert_exporter": "python",
   "pygments_lexer": "ipython3",
   "version": "3.8.8"
  },
  "toc": {
   "base_numbering": 1,
   "nav_menu": {},
   "number_sections": true,
   "sideBar": true,
   "skip_h1_title": false,
   "title_cell": "Table of Contents",
   "title_sidebar": "Contents",
   "toc_cell": false,
   "toc_position": {},
   "toc_section_display": true,
   "toc_window_display": false
  },
  "varInspector": {
   "cols": {
    "lenName": 16,
    "lenType": 16,
    "lenVar": 40
   },
   "kernels_config": {
    "python": {
     "delete_cmd_postfix": "",
     "delete_cmd_prefix": "del ",
     "library": "var_list.py",
     "varRefreshCmd": "print(var_dic_list())"
    },
    "r": {
     "delete_cmd_postfix": ") ",
     "delete_cmd_prefix": "rm(",
     "library": "var_list.r",
     "varRefreshCmd": "cat(var_dic_list()) "
    }
   },
   "types_to_exclude": [
    "module",
    "function",
    "builtin_function_or_method",
    "instance",
    "_Feature"
   ],
   "window_display": false
  }
 },
 "nbformat": 4,
 "nbformat_minor": 5
}
