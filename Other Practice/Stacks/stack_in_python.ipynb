{
 "cells": [
  {
   "cell_type": "markdown",
   "id": "d13153fd",
   "metadata": {},
   "source": [
    "# stack_in_python"
   ]
  },
  {
   "cell_type": "code",
   "execution_count": 1,
   "id": "c0a991db",
   "metadata": {
    "ExecuteTime": {
     "end_time": "2022-06-21T19:11:13.119606Z",
     "start_time": "2022-06-21T19:11:13.112658Z"
    }
   },
   "outputs": [],
   "source": [
    "class Stack:\n",
    "    def __init__(self):\n",
    "        self.items = []\n",
    "    def is_empty(self):\n",
    "        return self.items == []\n",
    "    def push(self, item):\n",
    "        self.items.append(item)\n",
    "    def pop(self):\n",
    "        return self.items.pop()\n",
    "    def peek(self):\n",
    "        l = len(self.items)-1\n",
    "        return self.items[l]\n",
    "    def size(self):\n",
    "        return len(self.items)"
   ]
  },
  {
   "cell_type": "code",
   "execution_count": 9,
   "id": "ce83198d",
   "metadata": {
    "ExecuteTime": {
     "end_time": "2022-06-21T19:13:51.655043Z",
     "start_time": "2022-06-21T19:13:51.649062Z"
    }
   },
   "outputs": [
    {
     "name": "stdout",
     "output_type": "stream",
     "text": [
      "True\n",
      "8\n",
      "[0, 2, 4, 6, 8, 10, 12, 14]\n"
     ]
    }
   ],
   "source": [
    "stack = Stack()\n",
    "print(stack.is_empty()) \n",
    "\n",
    "for i in range(0, 15, 2):\n",
    "    stack.push(i)\n",
    "print(stack.size())\n",
    "print(stack.items)"
   ]
  },
  {
   "cell_type": "code",
   "execution_count": 10,
   "id": "9da837b6",
   "metadata": {
    "ExecuteTime": {
     "end_time": "2022-06-21T19:13:52.682390Z",
     "start_time": "2022-06-21T19:13:52.672417Z"
    }
   },
   "outputs": [
    {
     "name": "stdout",
     "output_type": "stream",
     "text": [
      "6\n",
      "[0, 2, 4, 6, 8, 10]\n"
     ]
    }
   ],
   "source": [
    "stack.pop()\n",
    "stack.pop()\n",
    "print(stack.size())\n",
    "print(stack.items)"
   ]
  }
 ],
 "metadata": {
  "kernelspec": {
   "display_name": "Python 3 (ipykernel)",
   "language": "python",
   "name": "python3"
  },
  "language_info": {
   "codemirror_mode": {
    "name": "ipython",
    "version": 3
   },
   "file_extension": ".py",
   "mimetype": "text/x-python",
   "name": "python",
   "nbconvert_exporter": "python",
   "pygments_lexer": "ipython3",
   "version": "3.8.8"
  },
  "toc": {
   "base_numbering": 1,
   "nav_menu": {},
   "number_sections": true,
   "sideBar": true,
   "skip_h1_title": false,
   "title_cell": "Table of Contents",
   "title_sidebar": "Contents",
   "toc_cell": false,
   "toc_position": {},
   "toc_section_display": true,
   "toc_window_display": false
  },
  "varInspector": {
   "cols": {
    "lenName": 16,
    "lenType": 16,
    "lenVar": 40
   },
   "kernels_config": {
    "python": {
     "delete_cmd_postfix": "",
     "delete_cmd_prefix": "del ",
     "library": "var_list.py",
     "varRefreshCmd": "print(var_dic_list())"
    },
    "r": {
     "delete_cmd_postfix": ") ",
     "delete_cmd_prefix": "rm(",
     "library": "var_list.r",
     "varRefreshCmd": "cat(var_dic_list()) "
    }
   },
   "types_to_exclude": [
    "module",
    "function",
    "builtin_function_or_method",
    "instance",
    "_Feature"
   ],
   "window_display": false
  }
 },
 "nbformat": 4,
 "nbformat_minor": 5
}
