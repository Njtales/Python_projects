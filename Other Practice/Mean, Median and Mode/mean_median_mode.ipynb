{
 "cells": [
  {
   "cell_type": "markdown",
   "id": "5ad5c978",
   "metadata": {},
   "source": [
    "## mean_median_mode"
   ]
  },
  {
   "cell_type": "code",
   "execution_count": 9,
   "id": "0930ccc3",
   "metadata": {
    "ExecuteTime": {
     "end_time": "2022-06-20T20:43:41.368107Z",
     "start_time": "2022-06-20T20:43:41.349192Z"
    }
   },
   "outputs": [
    {
     "name": "stdout",
     "output_type": "stream",
     "text": [
      "28.692307692307693\n"
     ]
    }
   ],
   "source": [
    "# Mean\n",
    "list1 = [12, 16, 20, 60, 55, 56, 20, 12, 30, 25, 23, 24, 20]\n",
    "mean = sum(list1)/len(list1)\n",
    "\n",
    "print(mean)\n"
   ]
  },
  {
   "cell_type": "code",
   "execution_count": 10,
   "id": "9d6f285d",
   "metadata": {
    "ExecuteTime": {
     "end_time": "2022-06-20T20:43:41.602286Z",
     "start_time": "2022-06-20T20:43:41.597300Z"
    }
   },
   "outputs": [
    {
     "name": "stdout",
     "output_type": "stream",
     "text": [
      "23\n"
     ]
    }
   ],
   "source": [
    "# Median\n",
    "\n",
    "list1.sort()\n",
    "\n",
    "if len(list1) % 2 == 0:\n",
    "    m1 = list1[len(list1)//2]\n",
    "    m2 = list1[len(list1)//2 - 1]\n",
    "    median = (m1 + m2)/2\n",
    "else:\n",
    "    median = list1[len(list1)//2]\n",
    "print(median)"
   ]
  },
  {
   "cell_type": "code",
   "execution_count": 11,
   "id": "7c024c52",
   "metadata": {
    "ExecuteTime": {
     "end_time": "2022-06-20T20:43:42.150815Z",
     "start_time": "2022-06-20T20:43:42.140855Z"
    }
   },
   "outputs": [
    {
     "name": "stdout",
     "output_type": "stream",
     "text": [
      "20\n"
     ]
    }
   ],
   "source": [
    "# Mode\n",
    "\n",
    "frequency = {}\n",
    "for i in list1:\n",
    "    frequency.setdefault(i, 0)\n",
    "    frequency[i]+=1\n",
    "\n",
    "frequent = max(frequency.values())\n",
    "for i, j in frequency.items():\n",
    "    if j == frequent:\n",
    "        mode = i\n",
    "print(mode)"
   ]
  }
 ],
 "metadata": {
  "kernelspec": {
   "display_name": "Python 3 (ipykernel)",
   "language": "python",
   "name": "python3"
  },
  "language_info": {
   "codemirror_mode": {
    "name": "ipython",
    "version": 3
   },
   "file_extension": ".py",
   "mimetype": "text/x-python",
   "name": "python",
   "nbconvert_exporter": "python",
   "pygments_lexer": "ipython3",
   "version": "3.8.8"
  },
  "toc": {
   "base_numbering": 1,
   "nav_menu": {},
   "number_sections": true,
   "sideBar": true,
   "skip_h1_title": false,
   "title_cell": "Table of Contents",
   "title_sidebar": "Contents",
   "toc_cell": false,
   "toc_position": {},
   "toc_section_display": true,
   "toc_window_display": false
  },
  "varInspector": {
   "cols": {
    "lenName": 16,
    "lenType": 16,
    "lenVar": 40
   },
   "kernels_config": {
    "python": {
     "delete_cmd_postfix": "",
     "delete_cmd_prefix": "del ",
     "library": "var_list.py",
     "varRefreshCmd": "print(var_dic_list())"
    },
    "r": {
     "delete_cmd_postfix": ") ",
     "delete_cmd_prefix": "rm(",
     "library": "var_list.r",
     "varRefreshCmd": "cat(var_dic_list()) "
    }
   },
   "types_to_exclude": [
    "module",
    "function",
    "builtin_function_or_method",
    "instance",
    "_Feature"
   ],
   "window_display": false
  }
 },
 "nbformat": 4,
 "nbformat_minor": 5
}
