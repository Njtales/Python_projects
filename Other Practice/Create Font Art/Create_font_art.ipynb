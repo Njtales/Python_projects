{
 "cells": [
  {
   "cell_type": "markdown",
   "id": "b1a0146e",
   "metadata": {},
   "source": [
    "## Create_font_art"
   ]
  },
  {
   "cell_type": "code",
   "execution_count": 2,
   "id": "60a0044f",
   "metadata": {
    "ExecuteTime": {
     "end_time": "2022-06-20T20:38:22.512605Z",
     "start_time": "2022-06-20T20:38:18.808188Z"
    }
   },
   "outputs": [
    {
     "name": "stdout",
     "output_type": "stream",
     "text": [
      "Collecting pyfiglet\n",
      "  Downloading pyfiglet-0.8.post1-py2.py3-none-any.whl (865 kB)\n",
      "     ------------------------------------- 865.8/865.8 KB 11.0 MB/s eta 0:00:00\n",
      "Installing collected packages: pyfiglet\n",
      "Successfully installed pyfiglet-0.8.post1\n"
     ]
    }
   ],
   "source": [
    "!pip install pyfiglet"
   ]
  },
  {
   "cell_type": "code",
   "execution_count": 5,
   "id": "bb2879a7",
   "metadata": {
    "ExecuteTime": {
     "end_time": "2022-06-20T20:38:54.669211Z",
     "start_time": "2022-06-20T20:38:54.654251Z"
    }
   },
   "outputs": [
    {
     "name": "stdout",
     "output_type": "stream",
     "text": [
      " _   _ _ _    _     _ _       _       _        _      \n",
      "| \\ | (_) | _| |__ (_) |     | | __ _| |_ __ _| | ___ \n",
      "|  \\| | | |/ / '_ \\| | |  _  | |/ _` | __/ _` | |/ _ \\\n",
      "| |\\  | |   <| | | | | | | |_| | (_| | || (_| | |  __/\n",
      "|_| \\_|_|_|\\_\\_| |_|_|_|  \\___/ \\__,_|\\__\\__,_|_|\\___|\n",
      "                                                      \n",
      "\n"
     ]
    }
   ],
   "source": [
    "import pyfiglet\n",
    "font = pyfiglet.figlet_format('Nikhil Jatale')\n",
    "print(font)"
   ]
  }
 ],
 "metadata": {
  "kernelspec": {
   "display_name": "Python 3 (ipykernel)",
   "language": "python",
   "name": "python3"
  },
  "language_info": {
   "codemirror_mode": {
    "name": "ipython",
    "version": 3
   },
   "file_extension": ".py",
   "mimetype": "text/x-python",
   "name": "python",
   "nbconvert_exporter": "python",
   "pygments_lexer": "ipython3",
   "version": "3.8.8"
  },
  "toc": {
   "base_numbering": 1,
   "nav_menu": {},
   "number_sections": true,
   "sideBar": true,
   "skip_h1_title": false,
   "title_cell": "Table of Contents",
   "title_sidebar": "Contents",
   "toc_cell": false,
   "toc_position": {},
   "toc_section_display": true,
   "toc_window_display": false
  },
  "varInspector": {
   "cols": {
    "lenName": 16,
    "lenType": 16,
    "lenVar": 40
   },
   "kernels_config": {
    "python": {
     "delete_cmd_postfix": "",
     "delete_cmd_prefix": "del ",
     "library": "var_list.py",
     "varRefreshCmd": "print(var_dic_list())"
    },
    "r": {
     "delete_cmd_postfix": ") ",
     "delete_cmd_prefix": "rm(",
     "library": "var_list.r",
     "varRefreshCmd": "cat(var_dic_list()) "
    }
   },
   "types_to_exclude": [
    "module",
    "function",
    "builtin_function_or_method",
    "instance",
    "_Feature"
   ],
   "window_display": false
  }
 },
 "nbformat": 4,
 "nbformat_minor": 5
}
