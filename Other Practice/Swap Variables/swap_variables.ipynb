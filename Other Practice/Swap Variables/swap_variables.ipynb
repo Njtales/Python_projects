{
 "cells": [
  {
   "cell_type": "markdown",
   "id": "14660103",
   "metadata": {},
   "source": [
    "# swap_variables"
   ]
  },
  {
   "cell_type": "code",
   "execution_count": 1,
   "id": "4430ee29",
   "metadata": {
    "ExecuteTime": {
     "end_time": "2022-06-21T17:49:32.180258Z",
     "start_time": "2022-06-21T17:49:32.161322Z"
    }
   },
   "outputs": [
    {
     "name": "stdout",
     "output_type": "stream",
     "text": [
      "a = 10\n",
      "b =  8\n"
     ]
    }
   ],
   "source": [
    "a = 8\n",
    "b = 10\n",
    "\n",
    "c = a\n",
    "a = b\n",
    "b = c\n",
    "print(\"a =\", a)\n",
    "print(\"b = \", b)"
   ]
  },
  {
   "cell_type": "code",
   "execution_count": 2,
   "id": "851b0780",
   "metadata": {
    "ExecuteTime": {
     "end_time": "2022-06-21T17:49:33.133568Z",
     "start_time": "2022-06-21T17:49:33.117579Z"
    }
   },
   "outputs": [
    {
     "name": "stdout",
     "output_type": "stream",
     "text": [
      "a =  10\n",
      "b =  8\n"
     ]
    }
   ],
   "source": [
    "\n",
    "a = 8\n",
    "b = 10\n",
    "a, b = b, a\n",
    "print(\"a = \", a)\n",
    "print(\"b = \", b)"
   ]
  }
 ],
 "metadata": {
  "kernelspec": {
   "display_name": "Python 3 (ipykernel)",
   "language": "python",
   "name": "python3"
  },
  "language_info": {
   "codemirror_mode": {
    "name": "ipython",
    "version": 3
   },
   "file_extension": ".py",
   "mimetype": "text/x-python",
   "name": "python",
   "nbconvert_exporter": "python",
   "pygments_lexer": "ipython3",
   "version": "3.8.8"
  },
  "toc": {
   "base_numbering": 1,
   "nav_menu": {},
   "number_sections": true,
   "sideBar": true,
   "skip_h1_title": false,
   "title_cell": "Table of Contents",
   "title_sidebar": "Contents",
   "toc_cell": false,
   "toc_position": {},
   "toc_section_display": true,
   "toc_window_display": false
  },
  "varInspector": {
   "cols": {
    "lenName": 16,
    "lenType": 16,
    "lenVar": 40
   },
   "kernels_config": {
    "python": {
     "delete_cmd_postfix": "",
     "delete_cmd_prefix": "del ",
     "library": "var_list.py",
     "varRefreshCmd": "print(var_dic_list())"
    },
    "r": {
     "delete_cmd_postfix": ") ",
     "delete_cmd_prefix": "rm(",
     "library": "var_list.r",
     "varRefreshCmd": "cat(var_dic_list()) "
    }
   },
   "types_to_exclude": [
    "module",
    "function",
    "builtin_function_or_method",
    "instance",
    "_Feature"
   ],
   "window_display": false
  }
 },
 "nbformat": 4,
 "nbformat_minor": 5
}
