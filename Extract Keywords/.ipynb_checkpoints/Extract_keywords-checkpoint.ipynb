{
 "cells": [
  {
   "cell_type": "markdown",
   "id": "683b27a3",
   "metadata": {},
   "source": [
    "# Extract_keywords"
   ]
  },
  {
   "cell_type": "code",
   "execution_count": 5,
   "id": "2f8469b9",
   "metadata": {
    "ExecuteTime": {
     "end_time": "2022-06-21T18:51:55.657903Z",
     "start_time": "2022-06-21T18:51:51.935271Z"
    }
   },
   "outputs": [
    {
     "name": "stdout",
     "output_type": "stream",
     "text": [
      "Collecting rake_nltk\n",
      "  Downloading rake_nltk-1.0.6-py3-none-any.whl (9.1 kB)\n",
      "Requirement already satisfied: nltk<4.0.0,>=3.6.2 in d:\\users\\nyk-pc\\anaconda3\\lib\\site-packages (from rake_nltk) (3.6.3)\n",
      "Requirement already satisfied: regex in d:\\users\\nyk-pc\\anaconda3\\lib\\site-packages (from nltk<4.0.0,>=3.6.2->rake_nltk) (2022.6.2)\n",
      "Requirement already satisfied: tqdm in d:\\users\\nyk-pc\\anaconda3\\lib\\site-packages (from nltk<4.0.0,>=3.6.2->rake_nltk) (4.64.0)\n",
      "Requirement already satisfied: joblib in d:\\users\\nyk-pc\\anaconda3\\lib\\site-packages (from nltk<4.0.0,>=3.6.2->rake_nltk) (1.1.0)\n",
      "Requirement already satisfied: click in d:\\users\\nyk-pc\\anaconda3\\lib\\site-packages (from nltk<4.0.0,>=3.6.2->rake_nltk) (8.0.4)\n",
      "Requirement already satisfied: colorama in d:\\users\\nyk-pc\\anaconda3\\lib\\site-packages (from click->nltk<4.0.0,>=3.6.2->rake_nltk) (0.4.4)\n",
      "Installing collected packages: rake_nltk\n",
      "Successfully installed rake_nltk-1.0.6\n"
     ]
    }
   ],
   "source": [
    "!pip install rake_nltk"
   ]
  },
  {
   "cell_type": "code",
   "execution_count": 6,
   "id": "0b671bac",
   "metadata": {
    "ExecuteTime": {
     "end_time": "2022-06-21T18:52:12.258055Z",
     "start_time": "2022-06-21T18:52:03.383280Z"
    }
   },
   "outputs": [],
   "source": [
    "from rake_nltk import Rake\n",
    "rake_nltk_var = Rake()"
   ]
  },
  {
   "cell_type": "code",
   "execution_count": 7,
   "id": "3790c882",
   "metadata": {
    "ExecuteTime": {
     "end_time": "2022-06-21T18:52:15.912910Z",
     "start_time": "2022-06-21T18:52:15.902971Z"
    }
   },
   "outputs": [],
   "source": [
    "text = \"Computer science is the study of computation, automation, and information. Computer science spans theoretical disciplines (such as algorithms, theory of computation, and information theory) to practical disciplines (including the design and implementation of hardware and software). Computer science is generally considered an area of academic research and distinct from computer programming. Algorithms and data structures are central to computer science. The theory of computation concerns abstract models of computation and general classes of problems that can be solved using them. The fields of cryptography and computer security involve studying the means for secure communication and for preventing security vulnerabilities. Computer graphics and computational geometry address the generation of images. Programming language theory considers approaches to the description of computational processes, and database theory concerns the management of repositories of data. Human–computer interaction investigates the interfaces through which humans and computers interact, and software engineering focuses on the design and principles behind developing software. Areas such as operating systems, networks and embedded systems investigate the principles and design behind complex systems. Computer architecture describes the construction of computer components and computer-operated equipment. Artificial intelligence and machine learning aim to synthesize goal-orientated processes such as problem-solving, decision-making, environmental adaptation, planning and learning found in humans and animals. Within artificial intelligence, computer vision aims to understand and process image and video data, while natural-language processing aims to understand and process textual and linguistic data. The fundamental concern of computer science is determining what can and cannot be automated. The Turing Award is generally recognized as the highest distinction in computer science.\""
   ]
  },
  {
   "cell_type": "code",
   "execution_count": 8,
   "id": "83b9f25d",
   "metadata": {
    "ExecuteTime": {
     "end_time": "2022-06-21T18:52:16.753238Z",
     "start_time": "2022-06-21T18:52:16.718333Z"
    }
   },
   "outputs": [
    {
     "name": "stdout",
     "output_type": "stream",
     "text": [
      "['human – computer interaction investigates', 'programming language theory considers approaches', 'computer science spans theoretical disciplines', 'computer security involve studying', 'principles behind developing software', 'computation concerns abstract models', 'design behind complex systems', 'language processing aims', 'preventing security vulnerabilities', 'software engineering focuses', 'embedded systems investigate', 'database theory concerns', 'computer vision aims', 'computer architecture describes', 'machine learning aim', 'computational geometry address', 'within artificial intelligence', 'computer programming', 'practical disciplines', 'computer science', 'computer science', 'computer science', 'computer science', 'computer science', 'software ).', 'operating systems', 'artificial intelligence', 'computer graphics', 'computer components', 'learning found', 'computational processes', 'turing award', 'synthesize goal', 'solved using', 'secure communication', 'process textual', 'process image', 'orientated processes', 'operated equipment', 'highest distinction', 'generally recognized', 'generally considered', 'general classes', 'fundamental concern', 'environmental adaptation', 'computers interact', 'academic research', 'information theory', 'video data', 'linguistic data', 'data structures', 'computer', 'principles', 'theory', 'theory', 'design', 'design', 'data', 'computation', 'computation', 'computation', 'information', 'understand', 'understand', 'study', 'solving', 'repositories', 'problems', 'problem', 'planning', 'networks', 'natural', 'means', 'management', 'making', 'interfaces', 'including', 'implementation', 'images', 'humans', 'humans', 'hardware', 'generation', 'fields', 'distinct', 'determining', 'description', 'decision', 'cryptography', 'construction', 'central', 'cannot', 'automation', 'automated', 'areas', 'area', 'animals', 'algorithms', 'algorithms']\n"
     ]
    }
   ],
   "source": [
    "rake_nltk_var.extract_keywords_from_text(text)\n",
    "keyword_extracted = rake_nltk_var.get_ranked_phrases()\n",
    "print(keyword_extracted)"
   ]
  },
  {
   "cell_type": "code",
   "execution_count": null,
   "id": "48fe1928",
   "metadata": {},
   "outputs": [],
   "source": []
  }
 ],
 "metadata": {
  "kernelspec": {
   "display_name": "Python 3 (ipykernel)",
   "language": "python",
   "name": "python3"
  },
  "language_info": {
   "codemirror_mode": {
    "name": "ipython",
    "version": 3
   },
   "file_extension": ".py",
   "mimetype": "text/x-python",
   "name": "python",
   "nbconvert_exporter": "python",
   "pygments_lexer": "ipython3",
   "version": "3.8.8"
  },
  "toc": {
   "base_numbering": 1,
   "nav_menu": {},
   "number_sections": true,
   "sideBar": true,
   "skip_h1_title": false,
   "title_cell": "Table of Contents",
   "title_sidebar": "Contents",
   "toc_cell": false,
   "toc_position": {},
   "toc_section_display": true,
   "toc_window_display": false
  },
  "varInspector": {
   "cols": {
    "lenName": 16,
    "lenType": 16,
    "lenVar": 40
   },
   "kernels_config": {
    "python": {
     "delete_cmd_postfix": "",
     "delete_cmd_prefix": "del ",
     "library": "var_list.py",
     "varRefreshCmd": "print(var_dic_list())"
    },
    "r": {
     "delete_cmd_postfix": ") ",
     "delete_cmd_prefix": "rm(",
     "library": "var_list.r",
     "varRefreshCmd": "cat(var_dic_list()) "
    }
   },
   "types_to_exclude": [
    "module",
    "function",
    "builtin_function_or_method",
    "instance",
    "_Feature"
   ],
   "window_display": false
  }
 },
 "nbformat": 4,
 "nbformat_minor": 5
}
