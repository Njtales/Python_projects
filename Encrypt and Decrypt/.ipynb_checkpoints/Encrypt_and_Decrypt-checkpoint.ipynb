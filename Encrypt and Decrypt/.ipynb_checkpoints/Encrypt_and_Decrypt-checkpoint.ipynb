{
 "cells": [
  {
   "cell_type": "markdown",
   "id": "ba6ce13f",
   "metadata": {},
   "source": [
    "# Encrypt_and_Decrypt"
   ]
  },
  {
   "cell_type": "code",
   "execution_count": 3,
   "id": "04b4d660",
   "metadata": {
    "ExecuteTime": {
     "end_time": "2022-06-22T22:37:23.639570Z",
     "start_time": "2022-06-22T22:36:02.150033Z"
    }
   },
   "outputs": [],
   "source": [
    "from tkinter import messagebox, simpledialog, Tk\n",
    "\n",
    "def is_even(number):\n",
    "    return number % 2 == 0\n",
    "\n",
    "def get_even_letters(message):\n",
    "    even_letters = []\n",
    "    for counter in range(0, len(message)):\n",
    "        if is_even(counter):\n",
    "            even_letters.append(message[counter])\n",
    "    return even_letters\n",
    "\n",
    "def get_odd_letters(message):\n",
    "    odd_letters = []\n",
    "    for counter in range(0, len(message)):\n",
    "        if not is_even(counter):\n",
    "            odd_letters.append(message[counter])\n",
    "    return odd_letters\n",
    "\n",
    "def swap_letters(message):\n",
    "    letter_list = []\n",
    "    if not is_even(len(message)):\n",
    "        message = message + 'x'\n",
    "    even_letters = get_even_letters(message)\n",
    "    odd_letters = get_odd_letters(message)\n",
    "    for counter in range(0, int(len(message)/2)):\n",
    "        letter_list.append(odd_letters[counter])\n",
    "        letter_list.append(even_letters[counter])\n",
    "    new_message = ''.join(letter_list)\n",
    "    return new_message\n",
    "\n",
    "def get_task():\n",
    "    task = simpledialog.askstring('Task', 'Do you want to encrypt or decrypt?')\n",
    "    return task\n",
    "\n",
    "def get_message():\n",
    "    message = simpledialog.askstring('Message', 'Enter the secret message: ')\n",
    "    return message\n",
    "\n",
    "root = Tk()\n",
    "while True:\n",
    "    task = get_task()\n",
    "    if task == 'encrypt':\n",
    "        message = get_message()\n",
    "        encrypted = swap_letters(message)\n",
    "        messagebox.showinfo('Ciphertext of the secret message is:', encrypted)\n",
    "        \n",
    "    elif task == 'decrypt':\n",
    "        message = get_message()\n",
    "        decrypted = swap_letters(message)\n",
    "        messagebox.showinfo('Plaintext of the secret message is:', decrypted)\n",
    "    else:\n",
    "        break\n",
    "root.mainloop()"
   ]
  }
 ],
 "metadata": {
  "kernelspec": {
   "display_name": "Python 3 (ipykernel)",
   "language": "python",
   "name": "python3"
  },
  "language_info": {
   "codemirror_mode": {
    "name": "ipython",
    "version": 3
   },
   "file_extension": ".py",
   "mimetype": "text/x-python",
   "name": "python",
   "nbconvert_exporter": "python",
   "pygments_lexer": "ipython3",
   "version": "3.8.8"
  },
  "toc": {
   "base_numbering": 1,
   "nav_menu": {},
   "number_sections": true,
   "sideBar": true,
   "skip_h1_title": false,
   "title_cell": "Table of Contents",
   "title_sidebar": "Contents",
   "toc_cell": false,
   "toc_position": {},
   "toc_section_display": true,
   "toc_window_display": false
  },
  "varInspector": {
   "cols": {
    "lenName": 16,
    "lenType": 16,
    "lenVar": 40
   },
   "kernels_config": {
    "python": {
     "delete_cmd_postfix": "",
     "delete_cmd_prefix": "del ",
     "library": "var_list.py",
     "varRefreshCmd": "print(var_dic_list())"
    },
    "r": {
     "delete_cmd_postfix": ") ",
     "delete_cmd_prefix": "rm(",
     "library": "var_list.r",
     "varRefreshCmd": "cat(var_dic_list()) "
    }
   },
   "types_to_exclude": [
    "module",
    "function",
    "builtin_function_or_method",
    "instance",
    "_Feature"
   ],
   "window_display": false
  }
 },
 "nbformat": 4,
 "nbformat_minor": 5
}
