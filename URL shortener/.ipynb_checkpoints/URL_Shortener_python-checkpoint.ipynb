{
 "cells": [
  {
   "cell_type": "markdown",
   "id": "1c8782a0",
   "metadata": {},
   "source": [
    "## URL_shortener"
   ]
  },
  {
   "cell_type": "code",
   "execution_count": 4,
   "id": "79a02b7a",
   "metadata": {
    "ExecuteTime": {
     "end_time": "2022-06-16T21:19:13.905076Z",
     "start_time": "2022-06-16T21:19:11.376121Z"
    }
   },
   "outputs": [
    {
     "name": "stdout",
     "output_type": "stream",
     "text": [
      "Requirement already satisfied: pyshorteners in d:\\users\\nyk-pc\\anaconda3\\lib\\site-packages (1.0.1)\n",
      "Requirement already satisfied: requests in d:\\users\\nyk-pc\\anaconda3\\lib\\site-packages (from pyshorteners) (2.27.1)\n",
      "Requirement already satisfied: charset-normalizer~=2.0.0 in d:\\users\\nyk-pc\\anaconda3\\lib\\site-packages (from requests->pyshorteners) (2.0.12)\n",
      "Requirement already satisfied: certifi>=2017.4.17 in d:\\users\\nyk-pc\\anaconda3\\lib\\site-packages (from requests->pyshorteners) (2021.10.8)\n",
      "Requirement already satisfied: idna<4,>=2.5 in d:\\users\\nyk-pc\\anaconda3\\lib\\site-packages (from requests->pyshorteners) (3.3)\n",
      "Requirement already satisfied: urllib3<1.27,>=1.21.1 in d:\\users\\nyk-pc\\anaconda3\\lib\\site-packages (from requests->pyshorteners) (1.26.9)\n"
     ]
    }
   ],
   "source": [
    "!pip3 install pyshorteners"
   ]
  },
  {
   "cell_type": "code",
   "execution_count": 3,
   "id": "74766d30",
   "metadata": {
    "ExecuteTime": {
     "end_time": "2022-06-16T21:18:53.531661Z",
     "start_time": "2022-06-16T21:18:46.931302Z"
    }
   },
   "outputs": [
    {
     "name": "stdout",
     "output_type": "stream",
     "text": [
      "Requirement already satisfied: pyshorteners in d:\\users\\nyk-pc\\anaconda3\\lib\\site-packages (1.0.1)\n",
      "Requirement already satisfied: requests in d:\\users\\nyk-pc\\anaconda3\\lib\\site-packages (from pyshorteners) (2.27.1)\n",
      "Requirement already satisfied: certifi>=2017.4.17 in d:\\users\\nyk-pc\\anaconda3\\lib\\site-packages (from requests->pyshorteners) (2021.10.8)\n",
      "Requirement already satisfied: urllib3<1.27,>=1.21.1 in d:\\users\\nyk-pc\\anaconda3\\lib\\site-packages (from requests->pyshorteners) (1.26.9)\n",
      "Requirement already satisfied: charset-normalizer~=2.0.0 in d:\\users\\nyk-pc\\anaconda3\\lib\\site-packages (from requests->pyshorteners) (2.0.12)\n",
      "Requirement already satisfied: idna<4,>=2.5 in d:\\users\\nyk-pc\\anaconda3\\lib\\site-packages (from requests->pyshorteners) (3.3)\n",
      "Enter your url: https://www.amazon.co.uk/Mandolin-Acoustic-Mandolins-Instrument-Vangoa/dp/B07RGVBY4V/?_encoding=UTF8&pd_rd_w=ZSjtu&content-id=amzn1.sym.140e3917-854a-4236-8ea8-a418b7e1f846&pf_rd_p=140e3917-854a-4236-8ea8-a418b7e1f846&pf_rd_r=67N61MAFBKTF33WR2CVY&pd_rd_wg=DNdlD&pd_rd_r=cff37d9f-45d2-4917-a38c-7b3c762e90f3&ref_=pd_gw_bmx_gp_gd5c4vwo\n",
      "Your url:  https://tinyurl.com/27lmj2h6\n"
     ]
    }
   ],
   "source": [
    "import pyshorteners\n",
    "url = input(\"Enter your url: \")\n",
    "print(\"Your url: \", pyshorteners.Shortener().tinyurl.short(url))"
   ]
  },
  {
   "cell_type": "markdown",
   "id": "6484741e",
   "metadata": {},
   "source": [
    "haha, an easy one!<br>\n",
    "This isn't even a code, but I am working to implement the same without using a library"
   ]
  },
  {
   "cell_type": "code",
   "execution_count": null,
   "id": "4954b208",
   "metadata": {},
   "outputs": [],
   "source": []
  }
 ],
 "metadata": {
  "kernelspec": {
   "display_name": "Python 3 (ipykernel)",
   "language": "python",
   "name": "python3"
  },
  "language_info": {
   "codemirror_mode": {
    "name": "ipython",
    "version": 3
   },
   "file_extension": ".py",
   "mimetype": "text/x-python",
   "name": "python",
   "nbconvert_exporter": "python",
   "pygments_lexer": "ipython3",
   "version": "3.8.8"
  },
  "toc": {
   "base_numbering": 1,
   "nav_menu": {},
   "number_sections": true,
   "sideBar": true,
   "skip_h1_title": false,
   "title_cell": "Table of Contents",
   "title_sidebar": "Contents",
   "toc_cell": false,
   "toc_position": {},
   "toc_section_display": true,
   "toc_window_display": false
  },
  "varInspector": {
   "cols": {
    "lenName": 16,
    "lenType": 16,
    "lenVar": 40
   },
   "kernels_config": {
    "python": {
     "delete_cmd_postfix": "",
     "delete_cmd_prefix": "del ",
     "library": "var_list.py",
     "varRefreshCmd": "print(var_dic_list())"
    },
    "r": {
     "delete_cmd_postfix": ") ",
     "delete_cmd_prefix": "rm(",
     "library": "var_list.r",
     "varRefreshCmd": "cat(var_dic_list()) "
    }
   },
   "types_to_exclude": [
    "module",
    "function",
    "builtin_function_or_method",
    "instance",
    "_Feature"
   ],
   "window_display": false
  }
 },
 "nbformat": 4,
 "nbformat_minor": 5
}
