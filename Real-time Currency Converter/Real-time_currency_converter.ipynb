{
 "cells": [
  {
   "cell_type": "markdown",
   "id": "b7acaa14",
   "metadata": {},
   "source": [
    "# Real-time_currency_converter"
   ]
  },
  {
   "cell_type": "code",
   "execution_count": 1,
   "id": "cb86b286",
   "metadata": {
    "ExecuteTime": {
     "end_time": "2022-06-21T18:54:10.851856Z",
     "start_time": "2022-06-21T18:54:06.905187Z"
    }
   },
   "outputs": [
    {
     "name": "stdout",
     "output_type": "stream",
     "text": [
      "Collecting forex_python\n",
      "  Downloading forex_python-1.8-py3-none-any.whl (8.2 kB)\n",
      "Collecting simplejson\n",
      "  Downloading simplejson-3.17.6-cp38-cp38-win_amd64.whl (75 kB)\n",
      "     ---------------------------------------- 75.9/75.9 KB 4.1 MB/s eta 0:00:00\n",
      "Requirement already satisfied: requests in d:\\users\\nyk-pc\\anaconda3\\lib\\site-packages (from forex_python) (2.27.1)\n",
      "Requirement already satisfied: charset-normalizer~=2.0.0 in d:\\users\\nyk-pc\\anaconda3\\lib\\site-packages (from requests->forex_python) (2.0.12)\n",
      "Requirement already satisfied: certifi>=2017.4.17 in d:\\users\\nyk-pc\\anaconda3\\lib\\site-packages (from requests->forex_python) (2021.10.8)\n",
      "Requirement already satisfied: urllib3<1.27,>=1.21.1 in d:\\users\\nyk-pc\\anaconda3\\lib\\site-packages (from requests->forex_python) (1.26.9)\n",
      "Requirement already satisfied: idna<4,>=2.5 in d:\\users\\nyk-pc\\anaconda3\\lib\\site-packages (from requests->forex_python) (3.3)\n",
      "Installing collected packages: simplejson, forex_python\n",
      "Successfully installed forex_python-1.8 simplejson-3.17.6\n"
     ]
    }
   ],
   "source": [
    "!pip install forex_python"
   ]
  },
  {
   "cell_type": "code",
   "execution_count": 4,
   "id": "54d151f8",
   "metadata": {
    "ExecuteTime": {
     "end_time": "2022-06-21T19:00:01.434505Z",
     "start_time": "2022-06-21T18:59:52.711653Z"
    },
    "scrolled": true
   },
   "outputs": [
    {
     "name": "stdout",
     "output_type": "stream",
     "text": [
      "Enter the amount: 100\n",
      "\n",
      "From Currency: GBP\n",
      "To Currency: INR\n",
      "\n",
      " 100 GBP  To  INR\n",
      "9582.955470294151\n"
     ]
    }
   ],
   "source": [
    "from forex_python.converter import CurrencyRates\n",
    "\n",
    "c = CurrencyRates()\n",
    "amount = int(input(\"Enter the amount: \"))\n",
    "from_currency = input(\"\\nFrom Currency: \").upper()\n",
    "to_currency = input(\"To Currency: \").upper()\n",
    "print('\\n',amount,from_currency, \" To \", to_currency)\n",
    "result = c.convert(from_currency, to_currency, amount)\n",
    "print(result)"
   ]
  }
 ],
 "metadata": {
  "kernelspec": {
   "display_name": "Python 3 (ipykernel)",
   "language": "python",
   "name": "python3"
  },
  "language_info": {
   "codemirror_mode": {
    "name": "ipython",
    "version": 3
   },
   "file_extension": ".py",
   "mimetype": "text/x-python",
   "name": "python",
   "nbconvert_exporter": "python",
   "pygments_lexer": "ipython3",
   "version": "3.8.8"
  },
  "toc": {
   "base_numbering": 1,
   "nav_menu": {},
   "number_sections": true,
   "sideBar": true,
   "skip_h1_title": false,
   "title_cell": "Table of Contents",
   "title_sidebar": "Contents",
   "toc_cell": false,
   "toc_position": {},
   "toc_section_display": true,
   "toc_window_display": false
  },
  "varInspector": {
   "cols": {
    "lenName": 16,
    "lenType": 16,
    "lenVar": 40
   },
   "kernels_config": {
    "python": {
     "delete_cmd_postfix": "",
     "delete_cmd_prefix": "del ",
     "library": "var_list.py",
     "varRefreshCmd": "print(var_dic_list())"
    },
    "r": {
     "delete_cmd_postfix": ") ",
     "delete_cmd_prefix": "rm(",
     "library": "var_list.r",
     "varRefreshCmd": "cat(var_dic_list()) "
    }
   },
   "types_to_exclude": [
    "module",
    "function",
    "builtin_function_or_method",
    "instance",
    "_Feature"
   ],
   "window_display": false
  }
 },
 "nbformat": 4,
 "nbformat_minor": 5
}
