{
 "cells": [
  {
   "cell_type": "markdown",
   "id": "765fd12d",
   "metadata": {},
   "source": [
    "## LeNet_architecture_python"
   ]
  },
  {
   "cell_type": "code",
   "execution_count": 1,
   "id": "b4004fc2",
   "metadata": {
    "ExecuteTime": {
     "end_time": "2022-07-08T21:57:36.781691Z",
     "start_time": "2022-07-08T21:57:27.111780Z"
    }
   },
   "outputs": [],
   "source": [
    "import keras\n",
    "from tensorflow import keras\n",
    "import keras.layers as layers\n",
    "from keras.models import Sequential, Model\n",
    "from keras.layers import Dense, Dropout, Flatten, Input\n",
    "from keras.layers import Conv2D, MaxPooling2D\n",
    "from keras.layers import LeakyReLU\n",
    "import tensorflow as tf"
   ]
  },
  {
   "cell_type": "code",
   "execution_count": 2,
   "id": "d589a523",
   "metadata": {
    "ExecuteTime": {
     "end_time": "2022-07-08T21:57:38.779742Z",
     "start_time": "2022-07-08T21:57:36.785618Z"
    }
   },
   "outputs": [],
   "source": [
    "model = keras.Sequential()\n",
    "model.add(layers.Conv2D(filters=6, kernel_size=(3, 3), activation='relu', input_shape=(32,32,1)))\n",
    "model.add(layers.AveragePooling2D())\n",
    "model.add(layers.Conv2D(filters=16, kernel_size=(3, 3), activation='relu'))\n",
    "model.add(layers.AveragePooling2D())\n",
    "model.add(layers.Flatten())\n",
    "model.add(layers.Dense(units=120, activation='relu'))\n",
    "model.add(layers.Dense(units=84, activation='relu'))\n",
    "model.add(layers.Dense(units=10, activation = 'softmax'))\n",
    "model.compile(loss=keras.losses.categorical_crossentropy, optimizer=keras.optimizers.Adam(), metrics=['accuracy'])"
   ]
  },
  {
   "cell_type": "markdown",
   "id": "77b30b51",
   "metadata": {},
   "source": [
    "We can also visualize the architecture of your neural network by using the VisualKeras library in Python"
   ]
  },
  {
   "cell_type": "code",
   "execution_count": 5,
   "id": "b099dbb4",
   "metadata": {
    "ExecuteTime": {
     "end_time": "2022-07-08T21:58:04.763599Z",
     "start_time": "2022-07-08T21:57:54.691605Z"
    }
   },
   "outputs": [
    {
     "name": "stdout",
     "output_type": "stream",
     "text": [
      "Requirement already satisfied: visualkeras in d:\\users\\nyk-pc\\anaconda3\\lib\\site-packages (0.0.2)\n",
      "Requirement already satisfied: aggdraw>=1.3.11 in d:\\users\\nyk-pc\\anaconda3\\lib\\site-packages (from visualkeras) (1.3.15)\n",
      "Requirement already satisfied: numpy>=1.18.1 in d:\\users\\nyk-pc\\anaconda3\\lib\\site-packages (from visualkeras) (1.21.5)\n",
      "Requirement already satisfied: pillow>=6.2.0 in d:\\users\\nyk-pc\\anaconda3\\lib\\site-packages (from visualkeras) (9.1.0)\n"
     ]
    }
   ],
   "source": [
    "!pip install visualkeras"
   ]
  },
  {
   "cell_type": "code",
   "execution_count": 6,
   "id": "6be6f7fa",
   "metadata": {
    "ExecuteTime": {
     "end_time": "2022-07-08T21:58:13.289591Z",
     "start_time": "2022-07-08T21:58:13.261631Z"
    },
    "scrolled": false
   },
   "outputs": [
    {
     "data": {
      "image/png": "[encoded data removed]",
      "text/plain": [
       "<PIL.Image.Image image mode=RGBA size=311x160>"
      ]
     },
     "execution_count": 6,
     "metadata": {},
     "output_type": "execute_result"
    }
   ],
   "source": [
    "import visualkeras\n",
    "visualkeras.layered_view(model)"
   ]
  }
 ],
 "metadata": {
  "kernelspec": {
   "display_name": "Python 3 (ipykernel)",
   "language": "python",
   "name": "python3"
  },
  "language_info": {
   "codemirror_mode": {
    "name": "ipython",
    "version": 3
   },
   "file_extension": ".py",
   "mimetype": "text/x-python",
   "name": "python",
   "nbconvert_exporter": "python",
   "pygments_lexer": "ipython3",
   "version": "3.8.8"
  },
  "varInspector": {
   "cols": {
    "lenName": 16,
    "lenType": 16,
    "lenVar": 40
   },
   "kernels_config": {
    "python": {
     "delete_cmd_postfix": "",
     "delete_cmd_prefix": "del ",
     "library": "var_list.py",
     "varRefreshCmd": "print(var_dic_list())"
    },
    "r": {
     "delete_cmd_postfix": ") ",
     "delete_cmd_prefix": "rm(",
     "library": "var_list.r",
     "varRefreshCmd": "cat(var_dic_list()) "
    }
   },
   "types_to_exclude": [
    "module",
    "function",
    "builtin_function_or_method",
    "instance",
    "_Feature"
   ],
   "window_display": false
  }
 },
 "nbformat": 4,
 "nbformat_minor": 5
}
