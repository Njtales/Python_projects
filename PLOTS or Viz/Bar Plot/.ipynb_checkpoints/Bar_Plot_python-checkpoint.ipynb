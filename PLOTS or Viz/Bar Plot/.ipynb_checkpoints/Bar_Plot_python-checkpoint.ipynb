{
 "cells": [
  {
   "cell_type": "markdown",
   "id": "fd92ab08",
   "metadata": {},
   "source": [
    "# Bar_Plot_python"
   ]
  },
  {
   "cell_type": "markdown",
   "id": "45d11085",
   "metadata": {},
   "source": [
    "Bar Plots encode quantities by length, which is a very precise visual encoding and preferred over the angle-based strategy used in pie charts. Often, the accounts we want to represent are sums across multiple categories."
   ]
  },
  {
   "cell_type": "code",
   "execution_count": 5,
   "id": "da16da5d",
   "metadata": {
    "ExecuteTime": {
     "end_time": "2022-07-31T12:29:21.682557Z",
     "start_time": "2022-07-31T12:29:21.581586Z"
    }
   },
   "outputs": [
    {
     "data": {
      "image/png": "[encoded data removed]",
      "text/plain": [
       "<Figure size 432x288 with 1 Axes>"
      ]
     },
     "metadata": {
      "needs_background": "light"
     },
     "output_type": "display_data"
    }
   ],
   "source": [
    "import pandas as pd\n",
    "import matplotlib.pyplot as plt\n",
    "data = [5., 25., 50., 20.]\n",
    "plt.bar(range(len(data)), data)\n",
    "plt.show()"
   ]
  },
  {
   "cell_type": "markdown",
   "id": "886f3ee2",
   "metadata": {},
   "source": [
    "The matplotlib pyplot.bar() function will not handle the bar placement and thickness. The programmer is in charge. This flexibility allows you to create many variations on bar charts.<br>\n",
    "increasing the thickness of the bars"
   ]
  },
  {
   "cell_type": "code",
   "execution_count": 6,
   "id": "74c82814",
   "metadata": {
    "ExecuteTime": {
     "end_time": "2022-07-31T12:29:37.509848Z",
     "start_time": "2022-07-31T12:29:37.418686Z"
    }
   },
   "outputs": [
    {
     "data": {
      "image/png": "[encoded data removed]",
      "text/plain": [
       "<Figure size 432x288 with 1 Axes>"
      ]
     },
     "metadata": {
      "needs_background": "light"
     },
     "output_type": "display_data"
    }
   ],
   "source": [
    "data = [5., 25., 50., 20.]\n",
    "plt.bar(range(len(data)), data, width=1.)\n",
    "plt.show()"
   ]
  },
  {
   "cell_type": "markdown",
   "id": "84db3a6c",
   "metadata": {},
   "source": [
    "# Horizontal_Bar_plot"
   ]
  },
  {
   "cell_type": "code",
   "execution_count": 7,
   "id": "012cc9a2",
   "metadata": {
    "ExecuteTime": {
     "end_time": "2022-07-31T12:30:12.338869Z",
     "start_time": "2022-07-31T12:30:12.243906Z"
    }
   },
   "outputs": [
    {
     "data": {
      "image/png": "[encoded data removed]",
      "text/plain": [
       "<Figure size 432x288 with 1 Axes>"
      ]
     },
     "metadata": {
      "needs_background": "light"
     },
     "output_type": "display_data"
    }
   ],
   "source": [
    "import pandas as pd\n",
    "import matplotlib.pyplot as plt\n",
    "data = [5., 25., 50., 20.]\n",
    "plt.barh(range(len(data)), data)\n",
    "plt.show()"
   ]
  },
  {
   "cell_type": "markdown",
   "id": "4fef19bc",
   "metadata": {},
   "source": [
    "# Multiple_bar_plots"
   ]
  },
  {
   "cell_type": "markdown",
   "id": "9ecd6270",
   "metadata": {},
   "source": [
    "When comparing multiple quantities and when changing a variable, we might want a bar chart where we have bars of one colour for a quantity value. We can draw several histograms by playing with the thickness and the positions of the bars as follows:"
   ]
  },
  {
   "cell_type": "code",
   "execution_count": 8,
   "id": "5650a3b3",
   "metadata": {
    "ExecuteTime": {
     "end_time": "2022-07-31T12:30:53.481834Z",
     "start_time": "2022-07-31T12:30:53.371765Z"
    }
   },
   "outputs": [
    {
     "data": {
      "image/png": "[encoded data removed]",
      "text/plain": [
       "<Figure size 432x288 with 1 Axes>"
      ]
     },
     "metadata": {
      "needs_background": "light"
     },
     "output_type": "display_data"
    }
   ],
   "source": [
    "import numpy as np\n",
    "data = [[5., 25., 50., 20.],\n",
    "        [4., 23., 51., 17.],\n",
    "        [6., 22., 52., 19.]]\n",
    "x = np.arange(4)\n",
    "plt.bar(x + 0.00, data[0], color='b', width=0.25)\n",
    "plt.bar(x + 0.25, data[1], color='r', width=0.25)\n",
    "plt.bar(x + 0.50, data[2], color='g', width=0.25)\n",
    "plt.show()"
   ]
  },
  {
   "cell_type": "markdown",
   "id": "cc0f2474",
   "metadata": {},
   "source": [
    "# Stacked_bar_plot"
   ]
  },
  {
   "cell_type": "markdown",
   "id": "cca480d9",
   "metadata": {},
   "source": [
    "Stacked bar charts are the best choice if we are primarily interested in comparing overall quantities between items, but also want to illustrate how each category contributes to totals.\n",
    "\n"
   ]
  },
  {
   "cell_type": "code",
   "execution_count": 9,
   "id": "3bfe99b8",
   "metadata": {
    "ExecuteTime": {
     "end_time": "2022-07-31T12:31:20.498337Z",
     "start_time": "2022-07-31T12:31:20.403228Z"
    }
   },
   "outputs": [
    {
     "data": {
      "image/png": "[encoded data removed]",
      "text/plain": [
       "<Figure size 432x288 with 1 Axes>"
      ]
     },
     "metadata": {
      "needs_background": "light"
     },
     "output_type": "display_data"
    }
   ],
   "source": [
    "a = [5., 30., 45., 22.]\n",
    "b = [5., 25., 50., 20.]\n",
    "x = range(4)\n",
    "plt.bar(x, a, color='b')\n",
    "plt.bar(x, b, color='r', bottom=a)\n",
    "plt.show()"
   ]
  }
 ],
 "metadata": {
  "kernelspec": {
   "display_name": "Python 3 (ipykernel)",
   "language": "python",
   "name": "python3"
  },
  "language_info": {
   "codemirror_mode": {
    "name": "ipython",
    "version": 3
   },
   "file_extension": ".py",
   "mimetype": "text/x-python",
   "name": "python",
   "nbconvert_exporter": "python",
   "pygments_lexer": "ipython3",
   "version": "3.8.8"
  },
  "toc": {
   "base_numbering": 1,
   "nav_menu": {},
   "number_sections": true,
   "sideBar": true,
   "skip_h1_title": false,
   "title_cell": "Table of Contents",
   "title_sidebar": "Contents",
   "toc_cell": false,
   "toc_position": {},
   "toc_section_display": true,
   "toc_window_display": false
  },
  "varInspector": {
   "cols": {
    "lenName": 16,
    "lenType": 16,
    "lenVar": 40
   },
   "kernels_config": {
    "python": {
     "delete_cmd_postfix": "",
     "delete_cmd_prefix": "del ",
     "library": "var_list.py",
     "varRefreshCmd": "print(var_dic_list())"
    },
    "r": {
     "delete_cmd_postfix": ") ",
     "delete_cmd_prefix": "rm(",
     "library": "var_list.r",
     "varRefreshCmd": "cat(var_dic_list()) "
    }
   },
   "types_to_exclude": [
    "module",
    "function",
    "builtin_function_or_method",
    "instance",
    "_Feature"
   ],
   "window_display": false
  }
 },
 "nbformat": 4,
 "nbformat_minor": 5
}
