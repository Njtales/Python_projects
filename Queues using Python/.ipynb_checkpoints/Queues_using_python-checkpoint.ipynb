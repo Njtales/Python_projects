{
 "cells": [
  {
   "cell_type": "markdown",
   "id": "8fe8e543",
   "metadata": {},
   "source": [
    "## Queues_using_python"
   ]
  },
  {
   "cell_type": "code",
   "execution_count": 6,
   "id": "b5370aa9",
   "metadata": {
    "ExecuteTime": {
     "end_time": "2022-06-21T17:15:49.760043Z",
     "start_time": "2022-06-21T17:15:49.740540Z"
    }
   },
   "outputs": [],
   "source": [
    "class Queue:\n",
    "    def __init__(self):\n",
    "        self.items = []\n",
    "    def is_empty(self):\n",
    "        return self.items == []\n",
    "    def enqueue(self, item):\n",
    "        self.items.insert(0, item)\n",
    "    def dequeue(self):\n",
    "        return self.items.pop()\n",
    "    def size(self):\n",
    "        return len(self.items)"
   ]
  },
  {
   "cell_type": "code",
   "execution_count": 15,
   "id": "c572f990",
   "metadata": {
    "ExecuteTime": {
     "end_time": "2022-06-21T17:17:37.632772Z",
     "start_time": "2022-06-21T17:17:37.616635Z"
    }
   },
   "outputs": [],
   "source": [
    "qu = Queue()"
   ]
  },
  {
   "cell_type": "code",
   "execution_count": 16,
   "id": "a9428296",
   "metadata": {
    "ExecuteTime": {
     "end_time": "2022-06-21T17:17:39.189390Z",
     "start_time": "2022-06-21T17:17:39.171101Z"
    }
   },
   "outputs": [
    {
     "data": {
      "text/plain": [
       "2"
      ]
     },
     "execution_count": 16,
     "metadata": {},
     "output_type": "execute_result"
    }
   ],
   "source": [
    "# initialzing object\n",
    "qu.enqueue(5)\n",
    "qu.enqueue([6,2,9,6])\n",
    "qu.size()"
   ]
  }
 ],
 "metadata": {
  "kernelspec": {
   "display_name": "Python 3 (ipykernel)",
   "language": "python",
   "name": "python3"
  },
  "language_info": {
   "codemirror_mode": {
    "name": "ipython",
    "version": 3
   },
   "file_extension": ".py",
   "mimetype": "text/x-python",
   "name": "python",
   "nbconvert_exporter": "python",
   "pygments_lexer": "ipython3",
   "version": "3.8.8"
  },
  "varInspector": {
   "cols": {
    "lenName": 16,
    "lenType": 16,
    "lenVar": 40
   },
   "kernels_config": {
    "python": {
     "delete_cmd_postfix": "",
     "delete_cmd_prefix": "del ",
     "library": "var_list.py",
     "varRefreshCmd": "print(var_dic_list())"
    },
    "r": {
     "delete_cmd_postfix": ") ",
     "delete_cmd_prefix": "rm(",
     "library": "var_list.r",
     "varRefreshCmd": "cat(var_dic_list()) "
    }
   },
   "types_to_exclude": [
    "module",
    "function",
    "builtin_function_or_method",
    "instance",
    "_Feature"
   ],
   "window_display": false
  }
 },
 "nbformat": 4,
 "nbformat_minor": 5
}
