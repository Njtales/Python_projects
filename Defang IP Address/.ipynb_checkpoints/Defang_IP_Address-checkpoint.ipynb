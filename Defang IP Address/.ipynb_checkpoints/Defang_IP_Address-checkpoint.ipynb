{
 "cells": [
  {
   "cell_type": "markdown",
   "id": "0ad718b9",
   "metadata": {},
   "source": [
    "## Defang_IP_Address"
   ]
  },
  {
   "cell_type": "code",
   "execution_count": 2,
   "id": "90e54ed7",
   "metadata": {
    "ExecuteTime": {
     "end_time": "2022-06-20T21:05:31.265255Z",
     "start_time": "2022-06-20T21:05:31.249180Z"
    }
   },
   "outputs": [
    {
     "name": "stdout",
     "output_type": "stream",
     "text": [
      "1.1.2.3\n"
     ]
    }
   ],
   "source": [
    "def ip_address(address):\n",
    "    new_address = \"\"\n",
    "    split_address = address.split(\".\")\n",
    "    separator = \".\"\n",
    "    new_address = separator.join(split_address)\n",
    "    return new_address\n",
    "\n",
    "ipaddress = ip_address(\"1.1.2.3\")\n",
    "print(ipaddress)"
   ]
  }
 ],
 "metadata": {
  "kernelspec": {
   "display_name": "Python 3 (ipykernel)",
   "language": "python",
   "name": "python3"
  },
  "language_info": {
   "codemirror_mode": {
    "name": "ipython",
    "version": 3
   },
   "file_extension": ".py",
   "mimetype": "text/x-python",
   "name": "python",
   "nbconvert_exporter": "python",
   "pygments_lexer": "ipython3",
   "version": "3.8.8"
  },
  "toc": {
   "base_numbering": 1,
   "nav_menu": {},
   "number_sections": true,
   "sideBar": true,
   "skip_h1_title": false,
   "title_cell": "Table of Contents",
   "title_sidebar": "Contents",
   "toc_cell": false,
   "toc_position": {},
   "toc_section_display": true,
   "toc_window_display": false
  },
  "varInspector": {
   "cols": {
    "lenName": 16,
    "lenType": 16,
    "lenVar": 40
   },
   "kernels_config": {
    "python": {
     "delete_cmd_postfix": "",
     "delete_cmd_prefix": "del ",
     "library": "var_list.py",
     "varRefreshCmd": "print(var_dic_list())"
    },
    "r": {
     "delete_cmd_postfix": ") ",
     "delete_cmd_prefix": "rm(",
     "library": "var_list.r",
     "varRefreshCmd": "cat(var_dic_list()) "
    }
   },
   "types_to_exclude": [
    "module",
    "function",
    "builtin_function_or_method",
    "instance",
    "_Feature"
   ],
   "window_display": false
  }
 },
 "nbformat": 4,
 "nbformat_minor": 5
}
