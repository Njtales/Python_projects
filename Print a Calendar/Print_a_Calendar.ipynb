{
 "cells": [
  {
   "cell_type": "markdown",
   "id": "30850385",
   "metadata": {
    "ExecuteTime": {
     "end_time": "2022-06-20T20:16:43.494819Z",
     "start_time": "2022-06-20T20:16:43.487837Z"
    }
   },
   "source": [
    "## Print_a_Calendar"
   ]
  },
  {
   "cell_type": "code",
   "execution_count": 7,
   "id": "4d64860f",
   "metadata": {
    "ExecuteTime": {
     "end_time": "2022-06-20T20:19:53.423870Z",
     "start_time": "2022-06-20T20:19:45.253399Z"
    }
   },
   "outputs": [
    {
     "name": "stdout",
     "output_type": "stream",
     "text": [
      "Enter the year (0-rightful year): 20000\n",
      "Enter the month (1-12): 12\n",
      "You entered something wrong!\n"
     ]
    }
   ],
   "source": [
    "import calendar\n",
    "year = input(\"Enter the year (0-rightful year): \")\n",
    "month = input(\"Enter the month (1-12): \")\n",
    "try:\n",
    "    print(calendar.month(year, month))\n",
    "except:\n",
    "    print(\"\\nYou entered something wrong!\")"
   ]
  }
 ],
 "metadata": {
  "kernelspec": {
   "display_name": "Python 3 (ipykernel)",
   "language": "python",
   "name": "python3"
  },
  "language_info": {
   "codemirror_mode": {
    "name": "ipython",
    "version": 3
   },
   "file_extension": ".py",
   "mimetype": "text/x-python",
   "name": "python",
   "nbconvert_exporter": "python",
   "pygments_lexer": "ipython3",
   "version": "3.8.8"
  },
  "toc": {
   "base_numbering": 1,
   "nav_menu": {},
   "number_sections": true,
   "sideBar": true,
   "skip_h1_title": false,
   "title_cell": "Table of Contents",
   "title_sidebar": "Contents",
   "toc_cell": false,
   "toc_position": {},
   "toc_section_display": true,
   "toc_window_display": false
  },
  "varInspector": {
   "cols": {
    "lenName": 16,
    "lenType": 16,
    "lenVar": 40
   },
   "kernels_config": {
    "python": {
     "delete_cmd_postfix": "",
     "delete_cmd_prefix": "del ",
     "library": "var_list.py",
     "varRefreshCmd": "print(var_dic_list())"
    },
    "r": {
     "delete_cmd_postfix": ") ",
     "delete_cmd_prefix": "rm(",
     "library": "var_list.r",
     "varRefreshCmd": "cat(var_dic_list()) "
    }
   },
   "types_to_exclude": [
    "module",
    "function",
    "builtin_function_or_method",
    "instance",
    "_Feature"
   ],
   "window_display": false
  }
 },
 "nbformat": 4,
 "nbformat_minor": 5
}
