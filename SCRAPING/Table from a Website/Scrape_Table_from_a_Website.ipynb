{
 "cells": [
  {
   "cell_type": "markdown",
   "id": "11183966",
   "metadata": {},
   "source": [
    "## Scrape_Table_from_a_Website"
   ]
  },
  {
   "cell_type": "code",
   "execution_count": 2,
   "id": "62de8cae",
   "metadata": {
    "ExecuteTime": {
     "end_time": "2022-06-20T20:59:07.073360Z",
     "start_time": "2022-06-20T20:59:06.893934Z"
    }
   },
   "outputs": [
    {
     "data": {
      "text/html": [
       "<div>\n",
       "<style scoped>\n",
       "    .dataframe tbody tr th:only-of-type {\n",
       "        vertical-align: middle;\n",
       "    }\n",
       "\n",
       "    .dataframe tbody tr th {\n",
       "        vertical-align: top;\n",
       "    }\n",
       "\n",
       "    .dataframe thead th {\n",
       "        text-align: right;\n",
       "    }\n",
       "</style>\n",
       "<table border=\"1\" class=\"dataframe\">\n",
       "  <thead>\n",
       "    <tr style=\"text-align: right;\">\n",
       "      <th></th>\n",
       "      <th>Websites</th>\n",
       "      <th>Popularity(unique visitors per month)[1]</th>\n",
       "      <th>Front-end(Client-side)</th>\n",
       "      <th>Back-end(Server-side)</th>\n",
       "      <th>Database</th>\n",
       "      <th>Notes</th>\n",
       "    </tr>\n",
       "  </thead>\n",
       "  <tbody>\n",
       "    <tr>\n",
       "      <th>0</th>\n",
       "      <td>Google[2]</td>\n",
       "      <td>1600000000</td>\n",
       "      <td>JavaScript, TypeScript</td>\n",
       "      <td>C, C++, Go,[3] Java, Python, Node</td>\n",
       "      <td>Bigtable,[4] MariaDB[5]</td>\n",
       "      <td>The most used search engine in the world</td>\n",
       "    </tr>\n",
       "    <tr>\n",
       "      <th>1</th>\n",
       "      <td>Facebook</td>\n",
       "      <td>1120000000</td>\n",
       "      <td>JavaScript</td>\n",
       "      <td>Hack, PHP (HHVM), Python, C++, Java, Erlang, D...</td>\n",
       "      <td>MariaDB, MySQL,[9] HBase, Cassandra[10]</td>\n",
       "      <td>The most visited social networking site</td>\n",
       "    </tr>\n",
       "    <tr>\n",
       "      <th>2</th>\n",
       "      <td>YouTube</td>\n",
       "      <td>1100000000</td>\n",
       "      <td>JavaScript, TypeScript</td>\n",
       "      <td>C, C++, Python, Java, [11] Go[12]</td>\n",
       "      <td>Vitess, BigTable, MariaDB[5][13]</td>\n",
       "      <td>The most popular video sharing site [YouTube i...</td>\n",
       "    </tr>\n",
       "    <tr>\n",
       "      <th>3</th>\n",
       "      <td>Yahoo</td>\n",
       "      <td>750000000</td>\n",
       "      <td>JavaScript</td>\n",
       "      <td>PHP</td>\n",
       "      <td>PostgreSQL, HBase, Cassandra, MongoDB,[14]</td>\n",
       "      <td>NaN</td>\n",
       "    </tr>\n",
       "    <tr>\n",
       "      <th>4</th>\n",
       "      <td>Etsy</td>\n",
       "      <td>516,000,000 (Total, not unique)[15]</td>\n",
       "      <td>JavaScript</td>\n",
       "      <td>PHP[16][17]</td>\n",
       "      <td>MySQL, Redis[18]</td>\n",
       "      <td>E-commerce website.</td>\n",
       "    </tr>\n",
       "  </tbody>\n",
       "</table>\n",
       "</div>"
      ],
      "text/plain": [
       "    Websites Popularity(unique visitors per month)[1]  Front-end(Client-side)  \\\n",
       "0  Google[2]                               1600000000  JavaScript, TypeScript   \n",
       "1   Facebook                               1120000000              JavaScript   \n",
       "2    YouTube                               1100000000  JavaScript, TypeScript   \n",
       "3      Yahoo                                750000000              JavaScript   \n",
       "4       Etsy      516,000,000 (Total, not unique)[15]              JavaScript   \n",
       "\n",
       "                               Back-end(Server-side)  \\\n",
       "0                  C, C++, Go,[3] Java, Python, Node   \n",
       "1  Hack, PHP (HHVM), Python, C++, Java, Erlang, D...   \n",
       "2                  C, C++, Python, Java, [11] Go[12]   \n",
       "3                                                PHP   \n",
       "4                                        PHP[16][17]   \n",
       "\n",
       "                                     Database  \\\n",
       "0                     Bigtable,[4] MariaDB[5]   \n",
       "1     MariaDB, MySQL,[9] HBase, Cassandra[10]   \n",
       "2            Vitess, BigTable, MariaDB[5][13]   \n",
       "3  PostgreSQL, HBase, Cassandra, MongoDB,[14]   \n",
       "4                            MySQL, Redis[18]   \n",
       "\n",
       "                                               Notes  \n",
       "0           The most used search engine in the world  \n",
       "1            The most visited social networking site  \n",
       "2  The most popular video sharing site [YouTube i...  \n",
       "3                                                NaN  \n",
       "4                                E-commerce website.  "
      ]
     },
     "execution_count": 2,
     "metadata": {},
     "output_type": "execute_result"
    }
   ],
   "source": [
    "import urllib.request\n",
    "import pandas as pd\n",
    "url = \"https://en.wikipedia.org/wiki/Programming_languages_used_in_most_popular_websites\"\n",
    "\n",
    "with urllib.request.urlopen(url) as i:\n",
    "    html = i.read()\n",
    "    \n",
    "data = pd.read_html(html)[0]\n",
    "data.head()"
   ]
  }
 ],
 "metadata": {
  "kernelspec": {
   "display_name": "Python 3 (ipykernel)",
   "language": "python",
   "name": "python3"
  },
  "language_info": {
   "codemirror_mode": {
    "name": "ipython",
    "version": 3
   },
   "file_extension": ".py",
   "mimetype": "text/x-python",
   "name": "python",
   "nbconvert_exporter": "python",
   "pygments_lexer": "ipython3",
   "version": "3.8.8"
  },
  "toc": {
   "base_numbering": 1,
   "nav_menu": {},
   "number_sections": true,
   "sideBar": true,
   "skip_h1_title": false,
   "title_cell": "Table of Contents",
   "title_sidebar": "Contents",
   "toc_cell": false,
   "toc_position": {},
   "toc_section_display": true,
   "toc_window_display": false
  },
  "varInspector": {
   "cols": {
    "lenName": 16,
    "lenType": 16,
    "lenVar": 40
   },
   "kernels_config": {
    "python": {
     "delete_cmd_postfix": "",
     "delete_cmd_prefix": "del ",
     "library": "var_list.py",
     "varRefreshCmd": "print(var_dic_list())"
    },
    "r": {
     "delete_cmd_postfix": ") ",
     "delete_cmd_prefix": "rm(",
     "library": "var_list.r",
     "varRefreshCmd": "cat(var_dic_list()) "
    }
   },
   "types_to_exclude": [
    "module",
    "function",
    "builtin_function_or_method",
    "instance",
    "_Feature"
   ],
   "window_display": false
  }
 },
 "nbformat": 4,
 "nbformat_minor": 5
}
