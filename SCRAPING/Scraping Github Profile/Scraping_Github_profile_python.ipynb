{
 "cells": [
  {
   "cell_type": "markdown",
   "id": "2e1761c9",
   "metadata": {
    "ExecuteTime": {
     "end_time": "2022-06-20T14:18:09.605364Z",
     "start_time": "2022-06-20T14:18:09.598383Z"
    }
   },
   "source": [
    "## Scraping_Github_profile_python"
   ]
  },
  {
   "cell_type": "code",
   "execution_count": 4,
   "id": "c70f0974",
   "metadata": {
    "ExecuteTime": {
     "end_time": "2022-06-20T14:25:19.505702Z",
     "start_time": "2022-06-20T14:25:19.340954Z"
    }
   },
   "outputs": [
    {
     "name": "stdout",
     "output_type": "stream",
     "text": [
      "https://avatars.githubusercontent.com/u/37340931?v=4\n"
     ]
    }
   ],
   "source": [
    "import requests\n",
    "from bs4 import BeautifulSoup as bs\n",
    "\n",
    "github_profile = \"https://github.com/Njtales\"\n",
    "req = requests.get(github_profile)\n",
    "scraper = bs(req.content, \"html.parser\")\n",
    "profile_picture = scraper.find(\"img\", {\"alt\": \"Avatar\"})[\"src\"]\n",
    "print(profile_picture)"
   ]
  }
 ],
 "metadata": {
  "kernelspec": {
   "display_name": "Python 3 (ipykernel)",
   "language": "python",
   "name": "python3"
  },
  "language_info": {
   "codemirror_mode": {
    "name": "ipython",
    "version": 3
   },
   "file_extension": ".py",
   "mimetype": "text/x-python",
   "name": "python",
   "nbconvert_exporter": "python",
   "pygments_lexer": "ipython3",
   "version": "3.8.8"
  },
  "toc": {
   "base_numbering": 1,
   "nav_menu": {},
   "number_sections": true,
   "sideBar": true,
   "skip_h1_title": false,
   "title_cell": "Table of Contents",
   "title_sidebar": "Contents",
   "toc_cell": false,
   "toc_position": {},
   "toc_section_display": true,
   "toc_window_display": false
  },
  "varInspector": {
   "cols": {
    "lenName": 16,
    "lenType": 16,
    "lenVar": 40
   },
   "kernels_config": {
    "python": {
     "delete_cmd_postfix": "",
     "delete_cmd_prefix": "del ",
     "library": "var_list.py",
     "varRefreshCmd": "print(var_dic_list())"
    },
    "r": {
     "delete_cmd_postfix": ") ",
     "delete_cmd_prefix": "rm(",
     "library": "var_list.r",
     "varRefreshCmd": "cat(var_dic_list()) "
    }
   },
   "types_to_exclude": [
    "module",
    "function",
    "builtin_function_or_method",
    "instance",
    "_Feature"
   ],
   "window_display": false
  }
 },
 "nbformat": 4,
 "nbformat_minor": 5
}
