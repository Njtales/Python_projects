{
 "cells": [
  {
   "cell_type": "markdown",
   "id": "4a57f9e8",
   "metadata": {},
   "source": [
    "## Scrape_trending_news"
   ]
  },
  {
   "cell_type": "code",
   "execution_count": 4,
   "id": "4ad19f5f",
   "metadata": {
    "ExecuteTime": {
     "end_time": "2022-07-08T23:20:57.864133Z",
     "start_time": "2022-07-08T23:20:56.843182Z"
    }
   },
   "outputs": [
    {
     "data": {
      "text/html": [
       "<div>\n",
       "<style scoped>\n",
       "    .dataframe tbody tr th:only-of-type {\n",
       "        vertical-align: middle;\n",
       "    }\n",
       "\n",
       "    .dataframe tbody tr th {\n",
       "        vertical-align: top;\n",
       "    }\n",
       "\n",
       "    .dataframe thead th {\n",
       "        text-align: right;\n",
       "    }\n",
       "</style>\n",
       "<table border=\"1\" class=\"dataframe\">\n",
       "  <thead>\n",
       "    <tr style=\"text-align: right;\">\n",
       "      <th></th>\n",
       "      <th>title</th>\n",
       "      <th>media</th>\n",
       "      <th>date</th>\n",
       "      <th>datetime</th>\n",
       "      <th>desc</th>\n",
       "      <th>link</th>\n",
       "    </tr>\n",
       "  </thead>\n",
       "  <tbody>\n",
       "    <tr>\n",
       "      <th>0</th>\n",
       "      <td>Former UK finance minister Sunak launches bid ...</td>\n",
       "      <td>Sky News Australia</td>\n",
       "      <td>8 mins ago</td>\n",
       "      <td>NaT</td>\n",
       "      <td>Former UK Finance Minister Rishi Sunak has lau...</td>\n",
       "      <td>https://www.skynews.com.au/world-news/united-k...</td>\n",
       "    </tr>\n",
       "    <tr>\n",
       "      <th>1</th>\n",
       "      <td>FACT CHECK: Were the delegates sent to UK over...</td>\n",
       "      <td>Dailytrust</td>\n",
       "      <td>1 hour ago</td>\n",
       "      <td>2022-07-08 23:20:57.781353</td>\n",
       "      <td>On Thursday, a high-powered Nigerian delegatio...</td>\n",
       "      <td>https://dailytrust.com/fact-check-were-the-del...</td>\n",
       "    </tr>\n",
       "    <tr>\n",
       "      <th>2</th>\n",
       "      <td>UK MP Steve Baker backs AG Suella Braverman fo...</td>\n",
       "      <td>Reuters</td>\n",
       "      <td>2 hours ago</td>\n",
       "      <td>2022-07-08 22:20:57.791324</td>\n",
       "      <td>Britain's Conservative Party lawmaker Steve Ba...</td>\n",
       "      <td>https://www.reuters.com/world/uk/uk-mp-steve-b...</td>\n",
       "    </tr>\n",
       "    <tr>\n",
       "      <th>3</th>\n",
       "      <td>Coalition Raises $250M on $5B Valuation to Fue...</td>\n",
       "      <td>GovInfoSecurity</td>\n",
       "      <td>2 hours ago</td>\n",
       "      <td>2022-07-08 22:20:57.799303</td>\n",
       "      <td>Coalition has secured $250 million on a $5 bil...</td>\n",
       "      <td>https://www.govinfosecurity.com/coalition-rais...</td>\n",
       "    </tr>\n",
       "    <tr>\n",
       "      <th>4</th>\n",
       "      <td>Energy Market Updates – Forbes Advisor UK</td>\n",
       "      <td>Forbes</td>\n",
       "      <td>2 hours ago</td>\n",
       "      <td>2022-07-08 22:20:57.808282</td>\n",
       "      <td>Latest news on the UK energy market, including...</td>\n",
       "      <td>https://www.forbes.com/uk/advisor/personal-fin...</td>\n",
       "    </tr>\n",
       "  </tbody>\n",
       "</table>\n",
       "</div>"
      ],
      "text/plain": [
       "                                               title               media  \\\n",
       "0  Former UK finance minister Sunak launches bid ...  Sky News Australia   \n",
       "1  FACT CHECK: Were the delegates sent to UK over...          Dailytrust   \n",
       "2  UK MP Steve Baker backs AG Suella Braverman fo...             Reuters   \n",
       "3  Coalition Raises $250M on $5B Valuation to Fue...     GovInfoSecurity   \n",
       "4          Energy Market Updates – Forbes Advisor UK              Forbes   \n",
       "\n",
       "          date                   datetime  \\\n",
       "0   8 mins ago                        NaT   \n",
       "1   1 hour ago 2022-07-08 23:20:57.781353   \n",
       "2  2 hours ago 2022-07-08 22:20:57.791324   \n",
       "3  2 hours ago 2022-07-08 22:20:57.799303   \n",
       "4  2 hours ago 2022-07-08 22:20:57.808282   \n",
       "\n",
       "                                                desc  \\\n",
       "0  Former UK Finance Minister Rishi Sunak has lau...   \n",
       "1  On Thursday, a high-powered Nigerian delegatio...   \n",
       "2  Britain's Conservative Party lawmaker Steve Ba...   \n",
       "3  Coalition has secured $250 million on a $5 bil...   \n",
       "4  Latest news on the UK energy market, including...   \n",
       "\n",
       "                                                link  \n",
       "0  https://www.skynews.com.au/world-news/united-k...  \n",
       "1  https://dailytrust.com/fact-check-were-the-del...  \n",
       "2  https://www.reuters.com/world/uk/uk-mp-steve-b...  \n",
       "3  https://www.govinfosecurity.com/coalition-rais...  \n",
       "4  https://www.forbes.com/uk/advisor/personal-fin...  "
      ]
     },
     "execution_count": 4,
     "metadata": {},
     "output_type": "execute_result"
    }
   ],
   "source": [
    "from GoogleNews import GoogleNews\n",
    "news = GoogleNews(period='1d')\n",
    "news.search(\"United Kingdom\")\n",
    "result = news.result()\n",
    "import pandas as pd\n",
    "data = pd.DataFrame.from_dict(result)\n",
    "data = data.drop(columns=[\"img\"])\n",
    "data.head()"
   ]
  },
  {
   "cell_type": "code",
   "execution_count": 5,
   "id": "ac4e0d5d",
   "metadata": {
    "ExecuteTime": {
     "end_time": "2022-07-08T23:21:02.259792Z",
     "start_time": "2022-07-08T23:21:02.250817Z"
    }
   },
   "outputs": [
    {
     "name": "stdout",
     "output_type": "stream",
     "text": [
      "Title :  Former UK finance minister Sunak launches bid to replace Boris\n",
      "News :  Former UK Finance Minister Rishi Sunak has launched a social media video in \n",
      "a bid to replace outgoing Prime Minister Boris Johnson as conservative \n",
      "leader.\n",
      "Read Full News :  https://www.skynews.com.au/world-news/united-kingdom/former-uk-finance-minister-sunak-launches-bid-to-replace-boris/video/e4b682b1b51e77c977b3632cd13bd816\n",
      "Title :  FACT CHECK: Were the delegates sent to UK over Ekweremadu's case arrested?\n",
      "News :  On Thursday, a high-powered Nigerian delegation was at the Westminster \n",
      "Court in London for the trial of Ike Ekweremadu, former Deputy Senate \n",
      "President.\n",
      "Read Full News :  https://dailytrust.com/fact-check-were-the-delegates-sent-to-uk-over-ekweremadus-case-arrested\n",
      "Title :  UK MP Steve Baker backs AG Suella Braverman for PM -The Telegraph\n",
      "News :  Britain's Conservative Party lawmaker Steve Baker has endorsed Attorney \n",
      "General Suella Braverman to replace Boris Johnson as the next prime \n",
      "minister,...\n",
      "Read Full News :  https://www.reuters.com/world/uk/uk-mp-steve-baker-backs-ag-suella-braverman-pm-the-telegraph-2022-07-08/\n",
      "Title :  Coalition Raises $250M on $5B Valuation to Fuel UK Expansion\n",
      "News :  Coalition has secured $250 million on a $5 billion valuation to grow in the \n",
      "United Kingdom and accelerate its executive risk coverage business.\n",
      "Read Full News :  https://www.govinfosecurity.com/coalition-raises-250m-on-5b-valuation-to-fuel-uk-expansion-a-19542\n",
      "Title :  Energy Market Updates – Forbes Advisor UK\n",
      "News :  Latest news on the UK energy market, including details of the Ofgem price \n",
      "cap, tariff rate increases, company information and regulatory \n",
      "developments...\n",
      "Read Full News :  https://www.forbes.com/uk/advisor/personal-finance/2022/07/08/energy-market-updates/\n",
      "Title :  In his own electorate, pub-goers come to terms with it finally being Boris Johnson's 'time to go'\n",
      "News :  Boris Johnson was seen by many as a charismatic alternative to the \n",
      "establishment figures of Tory past and a personality who delivered the \n",
      "Conservatives a...\n",
      "Read Full News :  https://www.abc.net.au/news/2022-07-09/british-voters-react-to-boris-johnson-resignation/101220518\n",
      "Title :  Post-Boris Britain will continue to stand with Ukraine against Putin's war\n",
      "News :  News of Boris Johnson's resignation has sparked concern in Kyiv and \n",
      "celebrations in Moscow. However, both reactions are probably wide of the \n",
      "mark.\n",
      "Read Full News :  https://www.atlanticcouncil.org/blogs/ukrainealert/post-boris-britain-will-continue-to-stand-with-ukraine-against-putins-war/\n",
      "Title :  Former UK finance minister Sunak bids to replace PM Johnson\n",
      "News :  British former finance minister Rishi Sunak said on Friday he was running \n",
      "to replace Boris Johnson, three days after helping to launch the cascade \n",
      "of...\n",
      "Read Full News :  https://www.reuters.com/world/uk/former-uk-finance-minister-sunak-bids-replace-pm-boris-johnson-2022-07-08/\n",
      "Title :  Unfinished business: policies that could fail under UK’s ‘lame-duck’ government\n",
      "News :  Boris Johnson is still prime minister, for now, and has appointed a \n",
      "cabinet, so technically the business of government should be able to \n",
      "continue.\n",
      "Read Full News :  https://www.theguardian.com/politics/2022/jul/08/policies-that-could-fail-under-a-lame-duck-government\n",
      "Title :  UK: Rishi Sunak launches bid to be new Conservative leader\n",
      "News :  Former UK finance minister announces bid to replace Prime Minister Boris \n",
      "Johnson, who said he will step down.\n",
      "Read Full News :  https://www.aljazeera.com/news/2022/7/8/former-chancellor-sunak-to-run-for-uk-conservative-leadership\n"
     ]
    }
   ],
   "source": [
    "for i in result:\n",
    "    print(\"Title : \", i[\"title\"])\n",
    "    print(\"News : \", i[\"desc\"])\n",
    "    print(\"Read Full News : \", i[\"link\"])"
   ]
  },
  {
   "cell_type": "code",
   "execution_count": null,
   "id": "f2186d31",
   "metadata": {},
   "outputs": [],
   "source": []
  }
 ],
 "metadata": {
  "kernelspec": {
   "display_name": "Python 3 (ipykernel)",
   "language": "python",
   "name": "python3"
  },
  "language_info": {
   "codemirror_mode": {
    "name": "ipython",
    "version": 3
   },
   "file_extension": ".py",
   "mimetype": "text/x-python",
   "name": "python",
   "nbconvert_exporter": "python",
   "pygments_lexer": "ipython3",
   "version": "3.8.8"
  },
  "varInspector": {
   "cols": {
    "lenName": 16,
    "lenType": 16,
    "lenVar": 40
   },
   "kernels_config": {
    "python": {
     "delete_cmd_postfix": "",
     "delete_cmd_prefix": "del ",
     "library": "var_list.py",
     "varRefreshCmd": "print(var_dic_list())"
    },
    "r": {
     "delete_cmd_postfix": ") ",
     "delete_cmd_prefix": "rm(",
     "library": "var_list.r",
     "varRefreshCmd": "cat(var_dic_list()) "
    }
   },
   "types_to_exclude": [
    "module",
    "function",
    "builtin_function_or_method",
    "instance",
    "_Feature"
   ],
   "window_display": false
  }
 },
 "nbformat": 4,
 "nbformat_minor": 5
}
