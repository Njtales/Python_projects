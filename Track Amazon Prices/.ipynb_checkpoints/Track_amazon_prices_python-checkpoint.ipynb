{
 "cells": [
  {
   "cell_type": "markdown",
   "id": "b6fa1a24",
   "metadata": {},
   "source": [
    "## Track Amazon prices python"
   ]
  },
  {
   "cell_type": "code",
   "execution_count": null,
   "id": "ba5915a9",
   "metadata": {
    "ExecuteTime": {
     "end_time": "2022-06-09T17:23:14.471871Z",
     "start_time": "2022-06-09T17:23:12.637856Z"
    }
   },
   "outputs": [],
   "source": [
    "import requests\n",
    "from bs4 import BeautifulSoup\n",
    "import smtplib\n",
    "\n",
    "url = 'https://www.amazon.de/Sony-Digitalkamera-Touch-Display-Vollformatsensor-Kartenslots/dp/B07B4L1PQ8/ref=sr_1_3?keywords=sony+a7&qid=1561393494&s=gateway&sr=8-3'\n",
    "\n",
    "headers = {\n",
    "    \"User-Agent\": \n",
    "    'Mozilla/5.0 (Windows NT 10.0; Win64; x64) AppleWebKit/537.36 (KHTML, like Gecko) Chrome/75.0.3770.100 Safari/537.36'\n",
    "}\n",
    "\n",
    "def check_price():\n",
    "    page = requests.get(url, headers = headers)\n",
    "\n",
    "    soup = BeautifulSoup(page.content, 'html.parser')\n",
    "    title = soup.find(id = \"productTitle\").get_text()\n",
    "    price = soup.find(id = \"priceblock_ourprice\").get_text()\n",
    "    converted_price = float(price[0:5])\n",
    "\n",
    "    if(converted_price < 1.700):\n",
    "        send_mail()\n",
    "    print(converted_price)\n",
    "    print(title.strip())\n",
    "    \n",
    "    if(converted_price < 1.700):\n",
    "        send_mail()\n",
    "    \n",
    "\n",
    "def send_mail():\n",
    "    send_mailrver = smtplib.SMTP('smtp.gmail.com',587)\n",
    "    server.ehlo()\n",
    "    server.starttls()\n",
    "    server.ehlo()\n",
    "    \n",
    "    serverr.login('nikhiljatale@gmail.com', 'SnehalSayli1516')\n",
    "    subject = 'price fell down'\n",
    "    body = 'check amazon link: https://www.amazon.de/Sony-Digitalkamera-Touch-Display-Vollformatsensor-Kartenslots/dp/B07B4L1PQ8/ref=sr_1_3?keywords=sony+a7&qid=1561393494&s=gateway&sr=8-3'\n",
    "    \n",
    "    msg = f\"Subject: {subject}\\n\\n{body}\"\n",
    "\n",
    "    server.sendmail(\n",
    "    'nikhiljatale@gmail.com',\n",
    "    'jatalenikhil14@gmail.com',\n",
    "    msg\n",
    "    )\n",
    "    print(\"Hey email has been sent\")\n",
    "    \n",
    "    server.quit()\n",
    "    \n",
    "    \n",
    "check_price()"
   ]
  },
  {
   "cell_type": "code",
   "execution_count": null,
   "id": "631eb622",
   "metadata": {},
   "outputs": [],
   "source": []
  }
 ],
 "metadata": {
  "kernelspec": {
   "display_name": "Python 3 (ipykernel)",
   "language": "python",
   "name": "python3"
  },
  "language_info": {
   "codemirror_mode": {
    "name": "ipython",
    "version": 3
   },
   "file_extension": ".py",
   "mimetype": "text/x-python",
   "name": "python",
   "nbconvert_exporter": "python",
   "pygments_lexer": "ipython3",
   "version": "3.8.8"
  },
  "varInspector": {
   "cols": {
    "lenName": 16,
    "lenType": 16,
    "lenVar": 40
   },
   "kernels_config": {
    "python": {
     "delete_cmd_postfix": "",
     "delete_cmd_prefix": "del ",
     "library": "var_list.py",
     "varRefreshCmd": "print(var_dic_list())"
    },
    "r": {
     "delete_cmd_postfix": ") ",
     "delete_cmd_prefix": "rm(",
     "library": "var_list.r",
     "varRefreshCmd": "cat(var_dic_list()) "
    }
   },
   "types_to_exclude": [
    "module",
    "function",
    "builtin_function_or_method",
    "instance",
    "_Feature"
   ],
   "window_display": false
  }
 },
 "nbformat": 4,
 "nbformat_minor": 5
}
