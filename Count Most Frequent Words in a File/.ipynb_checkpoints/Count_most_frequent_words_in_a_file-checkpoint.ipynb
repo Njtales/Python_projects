{
 "cells": [
  {
   "cell_type": "markdown",
   "id": "75915783",
   "metadata": {},
   "source": [
    "## Count_most_frequent_words_in_a_file"
   ]
  },
  {
   "cell_type": "code",
   "execution_count": 3,
   "id": "5a87fa55",
   "metadata": {
    "ExecuteTime": {
     "end_time": "2022-06-20T19:04:00.583235Z",
     "start_time": "2022-06-20T19:04:00.567278Z"
    }
   },
   "outputs": [
    {
     "name": "stdout",
     "output_type": "stream",
     "text": [
      "('and', 25)\n",
      "('of', 14)\n",
      "('the', 11)\n",
      "('computer', 7)\n",
      "('to', 6)\n"
     ]
    }
   ],
   "source": [
    "words = []\n",
    "\n",
    "with open(\"demo_text.txt\", \"r\") as f:\n",
    "    for line in f:\n",
    "        words.extend(line.split())\n",
    "\n",
    "from collections import Counter\n",
    "\n",
    "counts = Counter(words)\n",
    "\n",
    "top5 = counts.most_common(5)\n",
    "for i in top5:\n",
    "    print(i)"
   ]
  }
 ],
 "metadata": {
  "kernelspec": {
   "display_name": "Python 3 (ipykernel)",
   "language": "python",
   "name": "python3"
  },
  "language_info": {
   "codemirror_mode": {
    "name": "ipython",
    "version": 3
   },
   "file_extension": ".py",
   "mimetype": "text/x-python",
   "name": "python",
   "nbconvert_exporter": "python",
   "pygments_lexer": "ipython3",
   "version": "3.8.8"
  },
  "toc": {
   "base_numbering": 1,
   "nav_menu": {},
   "number_sections": true,
   "sideBar": true,
   "skip_h1_title": false,
   "title_cell": "Table of Contents",
   "title_sidebar": "Contents",
   "toc_cell": false,
   "toc_position": {},
   "toc_section_display": true,
   "toc_window_display": false
  },
  "varInspector": {
   "cols": {
    "lenName": 16,
    "lenType": 16,
    "lenVar": 40
   },
   "kernels_config": {
    "python": {
     "delete_cmd_postfix": "",
     "delete_cmd_prefix": "del ",
     "library": "var_list.py",
     "varRefreshCmd": "print(var_dic_list())"
    },
    "r": {
     "delete_cmd_postfix": ") ",
     "delete_cmd_prefix": "rm(",
     "library": "var_list.r",
     "varRefreshCmd": "cat(var_dic_list()) "
    }
   },
   "types_to_exclude": [
    "module",
    "function",
    "builtin_function_or_method",
    "instance",
    "_Feature"
   ],
   "window_display": false
  }
 },
 "nbformat": 4,
 "nbformat_minor": 5
}
