{
 "cells": [
  {
   "cell_type": "markdown",
   "id": "d52786c3",
   "metadata": {},
   "source": [
    "# Create_a_Quiz_Game"
   ]
  },
  {
   "cell_type": "code",
   "execution_count": 1,
   "id": "9e45f085",
   "metadata": {
    "ExecuteTime": {
     "end_time": "2022-06-21T19:21:50.366775Z",
     "start_time": "2022-06-21T19:21:50.355771Z"
    }
   },
   "outputs": [],
   "source": [
    "def check_guess(guess, answer):\n",
    "    global score\n",
    "    still_guessing = True\n",
    "    attempt = 0\n",
    "    while still_guessing and attempt < 3:\n",
    "        if guess.lower() == answer.lower():\n",
    "            print(\"Correct Answer\")\n",
    "            score = score + 1\n",
    "            still_guessing = False\n",
    "        else:\n",
    "            if attempt < 2:\n",
    "                guess = input(\"Sorry Wrong Answer, try again\")\n",
    "            attempt = attempt + 1\n",
    "    if attempt == 3:\n",
    "        print(\"The Correct answer is \",answer )"
   ]
  },
  {
   "cell_type": "code",
   "execution_count": 2,
   "id": "00ea8841",
   "metadata": {
    "ExecuteTime": {
     "end_time": "2022-06-21T19:23:06.984055Z",
     "start_time": "2022-06-21T19:21:54.218284Z"
    }
   },
   "outputs": [
    {
     "name": "stdout",
     "output_type": "stream",
     "text": [
      "Guess the Animal\n",
      "Which bear lives at the North Pole? polar\n",
      "Sorry Wrong Answer, try againwhite\n",
      "Sorry Wrong Answer, try againpolar bear\n",
      "Correct Answer\n",
      "Which is the fastest land animal? cheetah\n",
      "Correct Answer\n",
      "Which is the larget animal? elephant\n",
      "Sorry Wrong Answer, try againElephant\n",
      "Sorry Wrong Answer, try againwhale\n",
      "The Correct answer is  Blue Whale\n",
      "Your Score is 2\n"
     ]
    }
   ],
   "source": [
    "score = 0\n",
    "print(\"Guess the Animal\")\n",
    "guess1 = input(\"\\nWhich bear lives at the North Pole? \")\n",
    "check_guess(guess1, \"polar bear\")\n",
    "guess2 = input(\"\\nWhich is the fastest land animal? \")\n",
    "check_guess(guess2, \"Cheetah\")\n",
    "guess3 = input(\"\\nWhich is the larget animal? \")\n",
    "check_guess(guess3, \"Blue Whale\")\n",
    "print(\"\\nYour Score is \"+ str(score))"
   ]
  }
 ],
 "metadata": {
  "kernelspec": {
   "display_name": "Python 3 (ipykernel)",
   "language": "python",
   "name": "python3"
  },
  "language_info": {
   "codemirror_mode": {
    "name": "ipython",
    "version": 3
   },
   "file_extension": ".py",
   "mimetype": "text/x-python",
   "name": "python",
   "nbconvert_exporter": "python",
   "pygments_lexer": "ipython3",
   "version": "3.8.8"
  },
  "toc": {
   "base_numbering": 1,
   "nav_menu": {},
   "number_sections": true,
   "sideBar": true,
   "skip_h1_title": false,
   "title_cell": "Table of Contents",
   "title_sidebar": "Contents",
   "toc_cell": false,
   "toc_position": {},
   "toc_section_display": true,
   "toc_window_display": false
  },
  "varInspector": {
   "cols": {
    "lenName": 16,
    "lenType": 16,
    "lenVar": 40
   },
   "kernels_config": {
    "python": {
     "delete_cmd_postfix": "",
     "delete_cmd_prefix": "del ",
     "library": "var_list.py",
     "varRefreshCmd": "print(var_dic_list())"
    },
    "r": {
     "delete_cmd_postfix": ") ",
     "delete_cmd_prefix": "rm(",
     "library": "var_list.r",
     "varRefreshCmd": "cat(var_dic_list()) "
    }
   },
   "types_to_exclude": [
    "module",
    "function",
    "builtin_function_or_method",
    "instance",
    "_Feature"
   ],
   "window_display": false
  }
 },
 "nbformat": 4,
 "nbformat_minor": 5
}
