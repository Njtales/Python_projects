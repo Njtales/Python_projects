{
 "cells": [
  {
   "cell_type": "markdown",
   "id": "49db2000",
   "metadata": {},
   "source": [
    "# Dijkstra’s_algorithm_python"
   ]
  },
  {
   "cell_type": "markdown",
   "id": "7ace9f9f",
   "metadata": {},
   "source": [
    "More info\n",
    "https://en.wikipedia.org/wiki/Dijkstra%27s_algorithm"
   ]
  },
  {
   "cell_type": "code",
   "execution_count": 5,
   "id": "aaad56be",
   "metadata": {
    "ExecuteTime": {
     "end_time": "2022-06-21T17:28:08.326007Z",
     "start_time": "2022-06-21T17:28:08.305720Z"
    },
    "scrolled": true
   },
   "outputs": [
    {
     "name": "stdout",
     "output_type": "stream",
     "text": [
      "=== Dijkstra ===\n",
      "A >> G:\n",
      "[(5, 'D', ('A', ())), (7, 'B', ('A', ()))]\n",
      "[(7, 'B', ('A', ())), (12, 'E', ('D', ('A', ()))), (11, 'F', ('D', ('A', ())))]\n",
      "[(11, 'F', ('D', ('A', ()))), (12, 'E', ('D', ('A', ()))), (15, 'C', ('B', ('A', ()))), (14, 'E', ('B', ('A', ())))]\n",
      "[(12, 'E', ('D', ('A', ()))), (14, 'E', ('B', ('A', ()))), (15, 'C', ('B', ('A', ()))), (22, 'G', ('F', ('D', ('A', ()))))]\n",
      "[(14, 'E', ('B', ('A', ()))), (21, 'G', ('E', ('D', ('A', ())))), (15, 'C', ('B', ('A', ()))), (22, 'G', ('F', ('D', ('A', ()))))]\n",
      "[(15, 'C', ('B', ('A', ()))), (21, 'G', ('E', ('D', ('A', ())))), (22, 'G', ('F', ('D', ('A', ()))))]\n",
      "[(21, 'G', ('E', ('D', ('A', ())))), (22, 'G', ('F', ('D', ('A', ()))))]\n",
      "\n",
      "\n",
      " (21, ('G', ('E', ('D', ('A', ())))))\n"
     ]
    }
   ],
   "source": [
    "from heapq import *\n",
    "from collections import defaultdict\n",
    "\n",
    "def dijkstra(edges, strat_node, end_node):\n",
    "    g = defaultdict(list) \n",
    "    for start, end, weight in edges: \n",
    "        g[start].append((weight, end)) \n",
    "    q, visited = [(0, strat_node,())], set()\n",
    "    while q:        \n",
    "        (cost,v1,path) = heappop(q)\n",
    "        if v1 not in visited:\n",
    "            visited.add(v1)\n",
    "            path = (v1, path)            \n",
    "            if v1 == end_node:\n",
    "                return (cost, path)\n",
    "            for c, v2 in g.get(v1, ()):\n",
    "                if v2 not in visited:\n",
    "                    heappush(q, (cost+c, v2, path))\n",
    "        print (q)   \n",
    "    return float(\"inf\")\n",
    "\n",
    "if __name__ == \"__main__\":\n",
    "    \n",
    "    edges = [\n",
    "        (\"A\", \"B\", 7),\n",
    "        (\"A\", \"D\", 5),\n",
    "        (\"B\", \"C\", 8),\n",
    "        (\"B\", \"D\", 9),\n",
    "        (\"B\", \"E\", 7),\n",
    "        (\"C\", \"E\", 5),\n",
    "        (\"D\", \"E\", 7),\n",
    "        (\"D\", \"F\", 6),\n",
    "        (\"E\", \"F\", 8),\n",
    "        (\"E\", \"G\", 9),\n",
    "        (\"F\", \"G\", 11)\n",
    "    ]\n",
    "    \n",
    "    print(\"=== Dijkstra ===\")\n",
    "    print(\"A >> G:\")\n",
    "    print('\\n',dijkstra(edges, \"A\", \"G\"))"
   ]
  },
  {
   "cell_type": "code",
   "execution_count": null,
   "id": "e9d29f4d",
   "metadata": {},
   "outputs": [],
   "source": []
  }
 ],
 "metadata": {
  "kernelspec": {
   "display_name": "Python 3 (ipykernel)",
   "language": "python",
   "name": "python3"
  },
  "language_info": {
   "codemirror_mode": {
    "name": "ipython",
    "version": 3
   },
   "file_extension": ".py",
   "mimetype": "text/x-python",
   "name": "python",
   "nbconvert_exporter": "python",
   "pygments_lexer": "ipython3",
   "version": "3.8.8"
  },
  "toc": {
   "base_numbering": 1,
   "nav_menu": {},
   "number_sections": true,
   "sideBar": true,
   "skip_h1_title": false,
   "title_cell": "Table of Contents",
   "title_sidebar": "Contents",
   "toc_cell": false,
   "toc_position": {},
   "toc_section_display": true,
   "toc_window_display": false
  },
  "varInspector": {
   "cols": {
    "lenName": 16,
    "lenType": 16,
    "lenVar": 40
   },
   "kernels_config": {
    "python": {
     "delete_cmd_postfix": "",
     "delete_cmd_prefix": "del ",
     "library": "var_list.py",
     "varRefreshCmd": "print(var_dic_list())"
    },
    "r": {
     "delete_cmd_postfix": ") ",
     "delete_cmd_prefix": "rm(",
     "library": "var_list.r",
     "varRefreshCmd": "cat(var_dic_list()) "
    }
   },
   "types_to_exclude": [
    "module",
    "function",
    "builtin_function_or_method",
    "instance",
    "_Feature"
   ],
   "window_display": false
  }
 },
 "nbformat": 4,
 "nbformat_minor": 5
}
