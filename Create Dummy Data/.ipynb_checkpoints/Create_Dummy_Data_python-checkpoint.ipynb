{
 "cells": [
  {
   "cell_type": "markdown",
   "id": "d6684028",
   "metadata": {},
   "source": [
    "## Create_Dummy_Data_python"
   ]
  },
  {
   "cell_type": "code",
   "execution_count": 2,
   "id": "fb3f2a49",
   "metadata": {
    "ExecuteTime": {
     "end_time": "2022-06-20T14:34:47.637939Z",
     "start_time": "2022-06-20T14:34:42.239250Z"
    }
   },
   "outputs": [
    {
     "name": "stdout",
     "output_type": "stream",
     "text": [
      "Collecting faker\n",
      "  Downloading Faker-13.13.0-py3-none-any.whl (1.6 MB)\n",
      "     ---------------------------------------- 1.6/1.6 MB 9.1 MB/s eta 0:00:00\n",
      "Requirement already satisfied: python-dateutil>=2.4 in d:\\users\\nyk-pc\\anaconda3\\lib\\site-packages (from faker) (2.8.2)\n",
      "Requirement already satisfied: six>=1.5 in d:\\users\\nyk-pc\\anaconda3\\lib\\site-packages (from python-dateutil>=2.4->faker) (1.16.0)\n",
      "Installing collected packages: faker\n",
      "Successfully installed faker-13.13.0\n"
     ]
    }
   ],
   "source": [
    "!pip install faker"
   ]
  },
  {
   "cell_type": "code",
   "execution_count": 3,
   "id": "da443b48",
   "metadata": {
    "ExecuteTime": {
     "end_time": "2022-06-20T14:34:47.842179Z",
     "start_time": "2022-06-20T14:34:47.671948Z"
    }
   },
   "outputs": [
    {
     "name": "stdout",
     "output_type": "stream",
     "text": [
      "John Scott\n",
      "987 Erica Mills Suite 346\n",
      "Candacemouth, WI 06459\n",
      "Nature want family present others throw it. Firm onto piece now. While sing garden book.\n",
      "Others charge whose food night significant as. For discover left poor. Offer head prepare let push imagine.\n"
     ]
    }
   ],
   "source": [
    "from faker import Faker\n",
    "\n",
    "fake = Faker()\n",
    "print(fake.name())\n",
    "print(fake.address())\n",
    "print(fake.text())"
   ]
  },
  {
   "cell_type": "code",
   "execution_count": 5,
   "id": "d545b246",
   "metadata": {
    "ExecuteTime": {
     "end_time": "2022-06-20T14:35:50.328215Z",
     "start_time": "2022-06-20T14:35:50.080501Z"
    }
   },
   "outputs": [
    {
     "data": {
      "text/html": [
       "<div>\n",
       "<style scoped>\n",
       "    .dataframe tbody tr th:only-of-type {\n",
       "        vertical-align: middle;\n",
       "    }\n",
       "\n",
       "    .dataframe tbody tr th {\n",
       "        vertical-align: top;\n",
       "    }\n",
       "\n",
       "    .dataframe thead th {\n",
       "        text-align: right;\n",
       "    }\n",
       "</style>\n",
       "<table border=\"1\" class=\"dataframe\">\n",
       "  <thead>\n",
       "    <tr style=\"text-align: right;\">\n",
       "      <th></th>\n",
       "      <th>job</th>\n",
       "      <th>company</th>\n",
       "      <th>ssn</th>\n",
       "      <th>residence</th>\n",
       "      <th>current_location</th>\n",
       "      <th>blood_group</th>\n",
       "      <th>website</th>\n",
       "      <th>username</th>\n",
       "      <th>name</th>\n",
       "      <th>sex</th>\n",
       "      <th>address</th>\n",
       "      <th>mail</th>\n",
       "      <th>birthdate</th>\n",
       "    </tr>\n",
       "  </thead>\n",
       "  <tbody>\n",
       "    <tr>\n",
       "      <th>0</th>\n",
       "      <td>Veterinary surgeon</td>\n",
       "      <td>Morris-Zavala</td>\n",
       "      <td>881-16-0229</td>\n",
       "      <td>34538 Bradley Prairie Apt. 971\\nSouth Adam, OR...</td>\n",
       "      <td>(-72.544088, -25.997201)</td>\n",
       "      <td>B+</td>\n",
       "      <td>[https://fox.com/]</td>\n",
       "      <td>stevencobb</td>\n",
       "      <td>Kathleen Shah</td>\n",
       "      <td>F</td>\n",
       "      <td>379 Myers Prairie Suite 308\\nFranklinstad, ID ...</td>\n",
       "      <td>nicholeaguilar@hotmail.com</td>\n",
       "      <td>1956-08-18</td>\n",
       "    </tr>\n",
       "    <tr>\n",
       "      <th>1</th>\n",
       "      <td>Education officer, environmental</td>\n",
       "      <td>Scott and Sons</td>\n",
       "      <td>134-65-1085</td>\n",
       "      <td>1181 Susan Islands\\nEricton, WA 52845</td>\n",
       "      <td>(-83.762725, -172.389242)</td>\n",
       "      <td>AB-</td>\n",
       "      <td>[http://www.clark-hayes.info/, http://williams...</td>\n",
       "      <td>obolton</td>\n",
       "      <td>Thomas Smith</td>\n",
       "      <td>M</td>\n",
       "      <td>666 Sullivan Bypass Suite 971\\nWilliamfurt, IA...</td>\n",
       "      <td>ashley95@gmail.com</td>\n",
       "      <td>2003-12-02</td>\n",
       "    </tr>\n",
       "    <tr>\n",
       "      <th>2</th>\n",
       "      <td>Sports development officer</td>\n",
       "      <td>Brown, Wells and Harris</td>\n",
       "      <td>847-58-0353</td>\n",
       "      <td>49477 Monica Plains\\nBarreratown, IN 44196</td>\n",
       "      <td>(-46.384772, -149.898315)</td>\n",
       "      <td>A+</td>\n",
       "      <td>[https://lawrence-martin.org/, http://hardin.c...</td>\n",
       "      <td>garrettlee</td>\n",
       "      <td>David Clark</td>\n",
       "      <td>M</td>\n",
       "      <td>399 Lucero Lane Apt. 305\\nNorth Robert, MA 39544</td>\n",
       "      <td>kevinbautista@yahoo.com</td>\n",
       "      <td>1928-08-12</td>\n",
       "    </tr>\n",
       "    <tr>\n",
       "      <th>3</th>\n",
       "      <td>Tax inspector</td>\n",
       "      <td>Ballard PLC</td>\n",
       "      <td>214-34-4412</td>\n",
       "      <td>USCGC Duncan\\nFPO AE 75541</td>\n",
       "      <td>(-14.831379, -102.237606)</td>\n",
       "      <td>O+</td>\n",
       "      <td>[http://www.webster.com/, https://www.gardner....</td>\n",
       "      <td>bonillapatricia</td>\n",
       "      <td>Jason Maldonado</td>\n",
       "      <td>M</td>\n",
       "      <td>3013 Cheryl Station Apt. 982\\nNew David, MT 87755</td>\n",
       "      <td>brettnash@hotmail.com</td>\n",
       "      <td>1968-09-11</td>\n",
       "    </tr>\n",
       "    <tr>\n",
       "      <th>4</th>\n",
       "      <td>Designer, graphic</td>\n",
       "      <td>Webb, Nichols and Phillips</td>\n",
       "      <td>567-40-5928</td>\n",
       "      <td>87706 Tyler Falls\\nLake Rachel, MD 81657</td>\n",
       "      <td>(62.399448, 87.652957)</td>\n",
       "      <td>A+</td>\n",
       "      <td>[http://wilson-mack.biz/, https://carlson.com/...</td>\n",
       "      <td>trevorjohnson</td>\n",
       "      <td>Joseph Cohen</td>\n",
       "      <td>M</td>\n",
       "      <td>822 Fowler Parkways\\nWest Michael, VA 24642</td>\n",
       "      <td>timothymclaughlin@yahoo.com</td>\n",
       "      <td>2015-05-10</td>\n",
       "    </tr>\n",
       "  </tbody>\n",
       "</table>\n",
       "</div>"
      ],
      "text/plain": [
       "                                job                     company          ssn  \\\n",
       "0                Veterinary surgeon               Morris-Zavala  881-16-0229   \n",
       "1  Education officer, environmental              Scott and Sons  134-65-1085   \n",
       "2        Sports development officer     Brown, Wells and Harris  847-58-0353   \n",
       "3                     Tax inspector                 Ballard PLC  214-34-4412   \n",
       "4                 Designer, graphic  Webb, Nichols and Phillips  567-40-5928   \n",
       "\n",
       "                                           residence  \\\n",
       "0  34538 Bradley Prairie Apt. 971\\nSouth Adam, OR...   \n",
       "1              1181 Susan Islands\\nEricton, WA 52845   \n",
       "2         49477 Monica Plains\\nBarreratown, IN 44196   \n",
       "3                         USCGC Duncan\\nFPO AE 75541   \n",
       "4           87706 Tyler Falls\\nLake Rachel, MD 81657   \n",
       "\n",
       "            current_location blood_group  \\\n",
       "0   (-72.544088, -25.997201)          B+   \n",
       "1  (-83.762725, -172.389242)         AB-   \n",
       "2  (-46.384772, -149.898315)          A+   \n",
       "3  (-14.831379, -102.237606)          O+   \n",
       "4     (62.399448, 87.652957)          A+   \n",
       "\n",
       "                                             website         username  \\\n",
       "0                                 [https://fox.com/]       stevencobb   \n",
       "1  [http://www.clark-hayes.info/, http://williams...          obolton   \n",
       "2  [https://lawrence-martin.org/, http://hardin.c...       garrettlee   \n",
       "3  [http://www.webster.com/, https://www.gardner....  bonillapatricia   \n",
       "4  [http://wilson-mack.biz/, https://carlson.com/...    trevorjohnson   \n",
       "\n",
       "              name sex                                            address  \\\n",
       "0    Kathleen Shah   F  379 Myers Prairie Suite 308\\nFranklinstad, ID ...   \n",
       "1     Thomas Smith   M  666 Sullivan Bypass Suite 971\\nWilliamfurt, IA...   \n",
       "2      David Clark   M   399 Lucero Lane Apt. 305\\nNorth Robert, MA 39544   \n",
       "3  Jason Maldonado   M  3013 Cheryl Station Apt. 982\\nNew David, MT 87755   \n",
       "4     Joseph Cohen   M        822 Fowler Parkways\\nWest Michael, VA 24642   \n",
       "\n",
       "                          mail   birthdate  \n",
       "0   nicholeaguilar@hotmail.com  1956-08-18  \n",
       "1           ashley95@gmail.com  2003-12-02  \n",
       "2      kevinbautista@yahoo.com  1928-08-12  \n",
       "3        brettnash@hotmail.com  1968-09-11  \n",
       "4  timothymclaughlin@yahoo.com  2015-05-10  "
      ]
     },
     "execution_count": 5,
     "metadata": {},
     "output_type": "execute_result"
    }
   ],
   "source": [
    "from faker import Faker\n",
    "import pandas as pd\n",
    "\n",
    "fake = Faker()\n",
    "data = [fake.profile() for i in range(50)]\n",
    "data = pd.DataFrame(data)\n",
    "data.head()"
   ]
  }
 ],
 "metadata": {
  "kernelspec": {
   "display_name": "Python 3 (ipykernel)",
   "language": "python",
   "name": "python3"
  },
  "language_info": {
   "codemirror_mode": {
    "name": "ipython",
    "version": 3
   },
   "file_extension": ".py",
   "mimetype": "text/x-python",
   "name": "python",
   "nbconvert_exporter": "python",
   "pygments_lexer": "ipython3",
   "version": "3.8.8"
  },
  "toc": {
   "base_numbering": 1,
   "nav_menu": {},
   "number_sections": true,
   "sideBar": true,
   "skip_h1_title": false,
   "title_cell": "Table of Contents",
   "title_sidebar": "Contents",
   "toc_cell": false,
   "toc_position": {},
   "toc_section_display": true,
   "toc_window_display": false
  },
  "varInspector": {
   "cols": {
    "lenName": 16,
    "lenType": 16,
    "lenVar": 40
   },
   "kernels_config": {
    "python": {
     "delete_cmd_postfix": "",
     "delete_cmd_prefix": "del ",
     "library": "var_list.py",
     "varRefreshCmd": "print(var_dic_list())"
    },
    "r": {
     "delete_cmd_postfix": ") ",
     "delete_cmd_prefix": "rm(",
     "library": "var_list.r",
     "varRefreshCmd": "cat(var_dic_list()) "
    }
   },
   "types_to_exclude": [
    "module",
    "function",
    "builtin_function_or_method",
    "instance",
    "_Feature"
   ],
   "window_display": false
  }
 },
 "nbformat": 4,
 "nbformat_minor": 5
}
