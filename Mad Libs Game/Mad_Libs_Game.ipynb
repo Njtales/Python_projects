{
 "cells": [
  {
   "cell_type": "markdown",
   "id": "44cd55ca",
   "metadata": {},
   "source": [
    "# Mad_Libs_Game"
   ]
  },
  {
   "cell_type": "code",
   "execution_count": 1,
   "id": "f29e69eb",
   "metadata": {
    "ExecuteTime": {
     "end_time": "2022-06-21T18:05:10.197748Z",
     "start_time": "2022-06-21T18:04:51.668985Z"
    }
   },
   "outputs": [
    {
     "name": "stdout",
     "output_type": "stream",
     "text": [
      "Enter a Color: pink\n",
      "Enter a Plural Noun: boys\n",
      "Enter the name of a celebrity: Rihanna\n",
      "Roses are  pink\n",
      "boys  is blue\n",
      "I like  Rihanna\n"
     ]
    }
   ],
   "source": [
    "color = input(\"Enter a Color: \")\n",
    "pluralNoun = input(\"Enter a Plural Noun: \")\n",
    "celebrity = input(\"Enter the name of a celebrity: \")\n",
    "print(\"\\n Roses are \", color)\n",
    "print(pluralNoun, \" is blue\")\n",
    "print(\"I like \", celebrity)"
   ]
  },
  {
   "cell_type": "code",
   "execution_count": null,
   "id": "40fe3b2f",
   "metadata": {},
   "outputs": [],
   "source": []
  }
 ],
 "metadata": {
  "kernelspec": {
   "display_name": "Python 3 (ipykernel)",
   "language": "python",
   "name": "python3"
  },
  "language_info": {
   "codemirror_mode": {
    "name": "ipython",
    "version": 3
   },
   "file_extension": ".py",
   "mimetype": "text/x-python",
   "name": "python",
   "nbconvert_exporter": "python",
   "pygments_lexer": "ipython3",
   "version": "3.8.8"
  },
  "toc": {
   "base_numbering": 1,
   "nav_menu": {},
   "number_sections": true,
   "sideBar": true,
   "skip_h1_title": false,
   "title_cell": "Table of Contents",
   "title_sidebar": "Contents",
   "toc_cell": false,
   "toc_position": {},
   "toc_section_display": true,
   "toc_window_display": false
  },
  "varInspector": {
   "cols": {
    "lenName": 16,
    "lenType": 16,
    "lenVar": 40
   },
   "kernels_config": {
    "python": {
     "delete_cmd_postfix": "",
     "delete_cmd_prefix": "del ",
     "library": "var_list.py",
     "varRefreshCmd": "print(var_dic_list())"
    },
    "r": {
     "delete_cmd_postfix": ") ",
     "delete_cmd_prefix": "rm(",
     "library": "var_list.r",
     "varRefreshCmd": "cat(var_dic_list()) "
    }
   },
   "types_to_exclude": [
    "module",
    "function",
    "builtin_function_or_method",
    "instance",
    "_Feature"
   ],
   "window_display": false
  }
 },
 "nbformat": 4,
 "nbformat_minor": 5
}
